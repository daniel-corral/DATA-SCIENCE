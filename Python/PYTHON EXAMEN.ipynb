{
 "cells": [
  {
   "cell_type": "markdown",
   "metadata": {},
   "source": [
    "# PYTHON"
   ]
  },
  {
   "cell_type": "markdown",
   "metadata": {},
   "source": [
    "__En Python, comenzamos a empezar a contar por 0__\n",
    "\n",
    "Puede ser interpretado como un lenguaje __interpretado, de alto nivel, multiplataforma, dinamico y multiparadigma.__\n",
    "- Posee reglas de estilo para tener un tipado más legible y estandarizado (definidas en PEP 8 o Python Enhacement Proposal)\n",
    "\n",
    "__GLOSARIO__\n",
    "- __Lenguaje informático__:es un idioma artificial, utilizado por ordenadores, cuyo fin es transmitir información de algo a alguien. Los lenguajes informáticos, pueden clasificarse en: a) lenguajes de programación (Python, PHP, Pearl, C, etc.); b) lenguajes de especificación (UML); c) lenguajes de consulta (SQL); d) lenguajes de marcas (HTML, XML); e) lenguajes de transformación (XSLT); f) protocolos de comunicaciones (HTTP, FTP); entre otros.\n",
    "- __Lenguaje de programación__: es un lenguaje informático, diseñado para expresar órdenes e instrucciones precisas, que deben ser llevadas a cabo por una computadora. El mismo puede utilizarse para crear programas que controlen el comportamiento físico o lógico de un ordenador. Está compuesto por una serie de símbolos, reglas sintácticas y semánticas que definen la estructura del lenguaje.\n",
    "- __Lenguajes de alto nivel__: son aquellos cuya característica principal, consiste en una estructura sintáctica y semántica legible, acorde a las capacidades cognitivas humanas. A diferencia de los lenguajes de bajo nivel, son independientes de la arquitectura del hardware, motivo por el cual, asumen mayor portabilidad.\n",
    "- __Lenguajes interpretados__: a diferencia de los compilados, no requieren de un compilador para ser ejecutados sino de un intérprete. Un intérprete, actúa de manera casi idéntica a un compilador, con la salvedad de que ejecuta el programa directamente, sin necesidad de generar previamente un ejecutable. Ejemplo de lenguajes de programación interpretado son Python, PHP, Ruby, Lisp, entre otros.\n",
    "- __Tipado dinámico__: un lenguaje de tipado dinámico es aquel cuyas variables, no requieren ser definidas asignando su tipo de datos, sino que éste, se auto-asigna en tiempo de ejecución, según el valor declarado.\n",
    "- __Multiplataforma__: significa que puede ser interpretado en diversos Sistemas Operativos como GNU/Linux, Windows, Mac OS, Solaris, entre otros.\n",
    "- Multiparadigma: acepta diferentes paradigmas (técnicas) de programación, tales como la orientación a objetos, aspectos, la programación imperativa y funcional.\n",
    "- __Código fuente__: es un conjunto de instrucciones y órdenes lógicas, compuestos de algoritmos que se encuentran escritos en un determinado lenguaje de programación, las cuales deben ser interpretadas o compiladas, para permitir la ejecución del programa informático."
   ]
  },
  {
   "cell_type": "markdown",
   "metadata": {},
   "source": [
    "## Elementos del lenguaje\n",
    "- Estos alimentan la estructura de PYTHON\n",
    "\n",
    "Entre ellos están: \n",
    "- __VARIABLES__\n",
    "- __TIPOS DE DATOS__\n",
    "- __OPERADORES ARITMETICOS__\n",
    "- __COMENTARIOS__\n",
    "- __TIPOS DE DATOS COMPLEJOS__\n",
    "    - Tuplas\n",
    "    - Diccionarios\n",
    "    - Listas"
   ]
  },
  {
   "cell_type": "markdown",
   "metadata": {},
   "source": [
    "### Variables"
   ]
  },
  {
   "cell_type": "markdown",
   "metadata": {},
   "source": [
    "Una variable es un espacio para almacenar __datos modificables__, en la memoria de un ordenador. Se definen de la siguiente forma:\n",
    "- __nombre_de_la_variable = valor_de_la_variable__"
   ]
  },
  {
   "cell_type": "code",
   "execution_count": 2,
   "metadata": {},
   "outputs": [],
   "source": [
    "# EJEMPLO: variable constante: definir valores fijos, no requiere modificacion\n",
    "a = 8"
   ]
  },
  {
   "cell_type": "markdown",
   "metadata": {},
   "source": [
    "PEP 8: variables\n",
    "- Utilizar nombres descriptivos y en minúsculas. Para nombres compuestos, separar las palabras por guiones bajos. Antes y después del signo =, debe haber uno (y solo un) espacio en blanco\n",
    "__Correcto__: mi_variable = 12\n",
    "\n",
    "PEP 8: constantes\n",
    "- Utilizar nombres descriptivos y en mayúsculas separando palabras por guiones bajos.\n",
    "__Ejemplo__: MI_CONSTANTE = 12"
   ]
  },
  {
   "cell_type": "code",
   "execution_count": 4,
   "metadata": {},
   "outputs": [
    {
     "name": "stdout",
     "output_type": "stream",
     "text": [
      "8\n"
     ]
    }
   ],
   "source": [
    "print (a)  # Imprimir el valor de la variable"
   ]
  },
  {
   "cell_type": "markdown",
   "metadata": {},
   "source": [
    "### Tipos de datos"
   ]
  },
  {
   "cell_type": "markdown",
   "metadata": {},
   "source": [
    "Una variable puede tener valores de diversos tipos:\n",
    "- Cadena de texto(string)"
   ]
  },
  {
   "cell_type": "code",
   "execution_count": 6,
   "metadata": {},
   "outputs": [
    {
     "name": "stdout",
     "output_type": "stream",
     "text": [
      "Hola Mundo\n"
     ]
    }
   ],
   "source": [
    "mi_cadena = 'Hola Mundo'\n",
    "print (mi_cadena)"
   ]
  },
  {
   "cell_type": "code",
   "execution_count": 9,
   "metadata": {},
   "outputs": [
    {
     "name": "stdout",
     "output_type": "stream",
     "text": [
      "\n",
      "Hola me llamo Marta,\n",
      "el máster de Data está acabando conmigo\n",
      "\n"
     ]
    }
   ],
   "source": [
    "mi_cadena_multilinea = \"\"\"\n",
    "Hola me llamo Marta,\n",
    "el máster de Data está acabando conmigo\n",
    "\"\"\"\n",
    "print(mi_cadena_multilinea)"
   ]
  },
  {
   "cell_type": "markdown",
   "metadata": {},
   "source": [
    "__Operaciones Matemáticas__"
   ]
  },
  {
   "cell_type": "code",
   "execution_count": 10,
   "metadata": {},
   "outputs": [
    {
     "name": "stdout",
     "output_type": "stream",
     "text": [
      "22\n"
     ]
    }
   ],
   "source": [
    "#Numero entero\n",
    "edad = 22\n",
    "print(edad)"
   ]
  },
  {
   "cell_type": "code",
   "execution_count": 17,
   "metadata": {},
   "outputs": [
    {
     "name": "stdout",
     "output_type": "stream",
     "text": [
      "35\n"
     ]
    }
   ],
   "source": [
    "# Numero entero octal\n",
    "# edad = 022\n",
    "\n",
    "# Numeor entero hexagonal\n",
    "edad = 0x23  # 0x24 da 35\n",
    "print(edad)"
   ]
  },
  {
   "cell_type": "code",
   "execution_count": 15,
   "metadata": {},
   "outputs": [
    {
     "name": "stdout",
     "output_type": "stream",
     "text": [
      "2345.45\n"
     ]
    }
   ],
   "source": [
    "# Numero Real\n",
    "precio = 2345.45\n",
    "print(precio)"
   ]
  },
  {
   "cell_type": "code",
   "execution_count": 18,
   "metadata": {},
   "outputs": [],
   "source": [
    "# Booleano: Verdadero/Falso\n",
    "verdadero = True\n",
    "falso = False"
   ]
  },
  {
   "cell_type": "markdown",
   "metadata": {},
   "source": [
    "Símbolo   Significado\n",
    "- Suma + \n",
    "- Resta -\n",
    "- Negación - \n",
    "- Multiplicación *\n",
    "- Exponente **\n",
    "- División /\n",
    "- División entera // \n",
    "- Módulo % \n",
    "\n",
    "Ejemplo\n",
    "- a = 10 + 5 : a es 15\n",
    "- a = 12 - 7 : a es 5\n",
    "- a = -5 : a es -5\n",
    "- a = 7* 5 : a es 35\n",
    "- a = 2 ** 3 : a es 8\n",
    "- a = 12.5 / 2 --> te devuelve el numero __exacto__ : a es 6.25\n",
    "- a = 12.5 // 2 --> te devuelve el __numero entero__ por el que se divide : a es 6.0\n",
    "- a = 27 % 4 --> esto devuelve el __RESTO de la division__ : a es 3"
   ]
  },
  {
   "cell_type": "markdown",
   "metadata": {},
   "source": [
    "                    PEP 8: operadores\n",
    "                    Siempre colocar un espacio en blanco, antes y después de un operador"
   ]
  },
  {
   "cell_type": "code",
   "execution_count": 21,
   "metadata": {},
   "outputs": [
    {
     "name": "stdout",
     "output_type": "stream",
     "text": [
      "187.25\n"
     ]
    }
   ],
   "source": [
    "# EJEMPLO DE OPERACIONES\n",
    "monto_bruto = 175\n",
    "tasa_interes = 12\n",
    "monto_interes = monto_bruto * tasa_interes / 100\n",
    "tasa_bonificacion = 5\n",
    "importe_bonificacion = monto_bruto * tasa_bonificacion / 100\n",
    "monto_neto = (monto_bruto - importe_bonificacion) + monto_interes\n",
    "print(monto_neto)"
   ]
  },
  {
   "cell_type": "code",
   "execution_count": 23,
   "metadata": {},
   "outputs": [],
   "source": [
    "# Esto es un comentario de una sola línea\n",
    "mi_variable = 15\n",
    "\"\"\"Y este es un comentario de varias líneas\"\"\"  # Otra forma de añadir comentarios \n",
    "mi_variable = 15\n",
    "mi_variable = 15 # Este comentario es de una línea también"
   ]
  },
  {
   "cell_type": "markdown",
   "metadata": {},
   "source": [
    "### Tipos de datos complejos"
   ]
  },
  {
   "cell_type": "markdown",
   "metadata": {},
   "source": [
    "Además de operaciones matematicas y cadenas de texto (string) definidas en una variable, se pueden generar:\n",
    "- Listas\n",
    "- Tuplas\n",
    "- Diccionarios\n",
    "\n",
    "Estos tres tipos, pueden almacenar colecciones de datos de diversos tipos y se diferencian por su sintaxis y por la forma en la cual los datos pueden ser manipulados."
   ]
  },
  {
   "cell_type": "markdown",
   "metadata": {},
   "source": [
    "#### Tuplas"
   ]
  },
  {
   "cell_type": "markdown",
   "metadata": {},
   "source": [
    "Es una variable que permite almacenar, varios datos __inmutables__ que no pueden ser modificados una vez creados y son de tipos diferentes:\n",
    "- Estas se identifican con los __parentesis ()__"
   ]
  },
  {
   "cell_type": "code",
   "execution_count": 32,
   "metadata": {},
   "outputs": [
    {
     "name": "stdout",
     "output_type": "stream",
     "text": [
      "15\n"
     ]
    }
   ],
   "source": [
    "# EJEMPLO\n",
    "mi_tupla = ('Hola guapa', 15, 2.5, 'Que tal', 45)\n",
    "print (mi_tupla[1])  # Imprime el segundo elemento de la TUPLA"
   ]
  },
  {
   "cell_type": "code",
   "execution_count": 33,
   "metadata": {},
   "outputs": [
    {
     "name": "stdout",
     "output_type": "stream",
     "text": [
      "Que tal\n"
     ]
    }
   ],
   "source": [
    "print (mi_tupla[3])  # Imprime el 4 elemento de la tupla"
   ]
  },
  {
   "cell_type": "code",
   "execution_count": 34,
   "metadata": {},
   "outputs": [
    {
     "name": "stdout",
     "output_type": "stream",
     "text": [
      "(15, 2.5)\n",
      "('Hola guapa', 15, 2.5)\n",
      "(2.5, 'Que tal', 45)\n"
     ]
    }
   ],
   "source": [
    "# Otras formas de acceder a una tupla\n",
    "print (mi_tupla[1:3])  # devuelve 15 y 2.5\n",
    "print (mi_tupla[:3])  # devuelve todos los datos antes de 3 sin incluir este\n",
    "print (mi_tupla[2:])  # devuelve todos los datos desde el 2 hasta el final"
   ]
  },
  {
   "cell_type": "code",
   "execution_count": 37,
   "metadata": {},
   "outputs": [
    {
     "name": "stdout",
     "output_type": "stream",
     "text": [
      "45\n",
      "('Que tal', 45)\n",
      "Que tal\n"
     ]
    }
   ],
   "source": [
    "# Acceder a una tupla de forma inversa, colocando indice negativo\n",
    "print (mi_tupla[-1])  # me devuelve el ultimo dato\n",
    "print (mi_tupla[-2:])  # me devuelve desde el penultimo hasta el final\n",
    "print (mi_tupla[-2])  # me devuelve el antepenultimo"
   ]
  },
  {
   "cell_type": "markdown",
   "metadata": {},
   "source": [
    "#### Listas"
   ]
  },
  {
   "cell_type": "markdown",
   "metadata": {},
   "source": [
    "Las listas son similares a las tuplas con la unica diferencia de que permiten __modificar__ los datos una vez creados.\n",
    "- Estas se identifican con los __corchetes []__"
   ]
  },
  {
   "cell_type": "code",
   "execution_count": 53,
   "metadata": {},
   "outputs": [
    {
     "name": "stdout",
     "output_type": "stream",
     "text": [
      "['Marta de España', 34, 56, 2.8, 'Llegó el fin']\n"
     ]
    }
   ],
   "source": [
    "mi_lista = ['Marta de España', 34, 56, 2.8, 'Llegó el fin']\n",
    "print (mi_lista)"
   ]
  },
  {
   "cell_type": "code",
   "execution_count": 54,
   "metadata": {},
   "outputs": [
    {
     "name": "stdout",
     "output_type": "stream",
     "text": [
      "34\n",
      "[34, 56, 2.8]\n",
      "2.8\n"
     ]
    }
   ],
   "source": [
    "# Acceder al primer elemento de la lista\n",
    "print (mi_lista[1])\n",
    "print (mi_lista[1:4])  # se cogen el 1, 2 y 3 elemento obviando el ultimo\n",
    "print (mi_lista[-2])"
   ]
  },
  {
   "cell_type": "code",
   "execution_count": 55,
   "metadata": {},
   "outputs": [
    {
     "name": "stdout",
     "output_type": "stream",
     "text": [
      "['Marta de España', 34, 'Siempre', 2.8, 'Llegó el fin']\n"
     ]
    }
   ],
   "source": [
    "# Modificar los datos: a diferencia de las tuplas\n",
    "mi_lista[2] = 'Siempre'\n",
    "print(mi_lista)  # Imprimimos de nuevo la lista, para comprobar la modificacion"
   ]
  },
  {
   "cell_type": "code",
   "execution_count": 56,
   "metadata": {},
   "outputs": [],
   "source": [
    "# O tambien podemos AGREGAR nuevos datos\n",
    "mi_lista.append('Princesa')  # Si corremos esto 4 veces, por tanto, se añade 4 veces"
   ]
  },
  {
   "cell_type": "code",
   "execution_count": 57,
   "metadata": {},
   "outputs": [
    {
     "name": "stdout",
     "output_type": "stream",
     "text": [
      "['Marta de España', 34, 'Siempre', 2.8, 'Llegó el fin', 'Princesa']\n"
     ]
    }
   ],
   "source": [
    "print (mi_lista)"
   ]
  },
  {
   "cell_type": "markdown",
   "metadata": {},
   "source": [
    "__A las tuplas () y listas [] de Python se accede unicamente por NÚMERO DE INDICE__"
   ]
  },
  {
   "cell_type": "markdown",
   "metadata": {},
   "source": [
    "#### Diccionarios"
   ]
  },
  {
   "cell_type": "markdown",
   "metadata": {},
   "source": [
    "Los diccionarios permiten utilizar una __clave para declarar__ y así __acceder a un valor__"
   ]
  },
  {
   "cell_type": "code",
   "execution_count": 62,
   "metadata": {},
   "outputs": [],
   "source": [
    " # SINTAXIS: definimos claves con valores y accedemos a partir de esas claves\n",
    "mi_diccionario = {'clave_1': valor_1, 'clave_2': valor_2, \\\n",
    "                  'clave_7': valor_7}\n",
    "print (mi_diccionario['clave_2'])  # Salida: valor_2"
   ]
  },
  {
   "cell_type": "code",
   "execution_count": null,
   "metadata": {},
   "outputs": [],
   "source": [
    "# Eliminar entradas de un diccionario\n",
    "del(mi_diccionario['clave_2'])\n",
    "\n",
    "# Modificar valores de un diccionario\n",
    "mi_diccionario['clave_1'] = 'Nuevo Valor'"
   ]
  },
  {
   "cell_type": "markdown",
   "metadata": {},
   "source": [
    "### Estructuras de control"
   ]
  },
  {
   "cell_type": "markdown",
   "metadata": {},
   "source": [
    "Permiten agrupar instrucciones de manera controlada para un flujo de código. Estas pueden ser:\n",
    "- Condicionales \n",
    "- Iterativas\n",
    "\n",
    "Identacion: es la sangria del lenguaje informatico, siempre debe ser respetada.\n",
    "- Una identacion de 4 espacios en blanco indicará que aquellas instrucciones que han sido identadas forman parte de una misma estructura de control\n"
   ]
  },
  {
   "cell_type": "code",
   "execution_count": null,
   "metadata": {},
   "outputs": [],
   "source": [
    "inicio de la estructura de control: \n",
    "    expresiones"
   ]
  },
  {
   "cell_type": "markdown",
   "metadata": {},
   "source": [
    "Encoding: una estructura que se coloca al principio de las estructuras en Python, para indicar al sistema la codificacion de caracteres utilizada en el archivo\n",
    "\n",
    "__-*- coding: utf-8 -*-__ : esto debe indicarse al principio del archivo para que respete, por ej, el uso de las Ñ"
   ]
  },
  {
   "cell_type": "markdown",
   "metadata": {},
   "source": [
    "### Asignación multiple"
   ]
  },
  {
   "cell_type": "markdown",
   "metadata": {},
   "source": [
    "- Poder asignar en una sola instruccion, múltiples variables"
   ]
  },
  {
   "cell_type": "code",
   "execution_count": 68,
   "metadata": {},
   "outputs": [
    {
     "name": "stdout",
     "output_type": "stream",
     "text": [
      "string\n",
      "15\n",
      "True\n"
     ]
    }
   ],
   "source": [
    "a, b, c = 'string', 15, True\n",
    "print (a)\n",
    "print (b)\n",
    "print (c)"
   ]
  },
  {
   "cell_type": "code",
   "execution_count": 74,
   "metadata": {},
   "outputs": [
    {
     "name": "stdout",
     "output_type": "stream",
     "text": [
      "Marta es texto\n",
      "22\n"
     ]
    }
   ],
   "source": [
    "# Tambien se pueden utilizar como valores el contenido de una TUPLA ()\n",
    "mi_tupla2 = ('Marta es texto', 22)  # defines una tupla\n",
    "texto, anio = mi_tupla2  # Importante la ASIGNACION va así ya que estas guardando en esos valores lo que contiene la tupla \"\"\"\n",
    "\n",
    "print (texto)\n",
    "print (anio)"
   ]
  },
  {
   "cell_type": "code",
   "execution_count": 75,
   "metadata": {},
   "outputs": [
    {
     "name": "stdout",
     "output_type": "stream",
     "text": [
      "Madrid es un paraiso\n",
      "28004\n"
     ]
    }
   ],
   "source": [
    "# Tambien se puede utilizar una lista\n",
    "mi_lista2 = ['Madrid es un paraiso', 28004]\n",
    "ciudad, codigopostal = mi_lista2\n",
    "\n",
    "print(ciudad)\n",
    "print (codigopostal)"
   ]
  },
  {
   "cell_type": "markdown",
   "metadata": {},
   "source": [
    "### Estructuras de flujo CONDICIONALES"
   ]
  },
  {
   "cell_type": "markdown",
   "metadata": {},
   "source": [
    "__EJEMPLO__: __Si__ el semáforo está en verde, cruzar la calle. __Sino__, esperar a que el semáforo se ponga en verde. A veces, también evaluamos más de una condición para ejecutar una determinada acción: __Si__ llega la factura de la luz __y  tengo dinero,  pagar__ la factura.\n",
    "\n",
    "Para describir la evaluacion que se va a hacer sobre estas condiciones, se utilizan __operadores relacionales o de comparación__:\n",
    "- Símbolo   Significado\n",
    "- ==        Igual que    5 == 7       Falso\n",
    "- !=        Distinto que  rojo != verde   Verdadero\n",
    "- <         Menor que   8 < 12  Verdadero\n",
    "-  >         Mayor que  23 > 3    Verdadero\n",
    "- <=        Menor o igual que 12 <= 12   Verdadero\n",
    "-  >=        Mayor o igual que 4 >= 5 Falso\n",
    "\n",
    "\n",
    "Luego están __los operadores lógicos__:\n",
    "- and (y)  5 == 7 and 7 < 12  0 y 0 Falso  9 < 12 and 12 > 7 Verdadero    9 < 12 and 12 > 15 Falso\n",
    "- or (o)  12 == 12 or 15 < 7 Verdadero     7 > 5 or 9 < 12   Verdadero\n",
    "- xor (o excluyente)  4 == 4 xor 9 > 3   Falso  4 == 4 xor 9 < 3   Verdadero\n",
    "    - Este tiene que ser exclusivo es decir tener 1 y 0 para ser Verdadero ,sino es falso\n",
    "\n",
    "** 1 indica Verdadero y 0 indica falso"
   ]
  },
  {
   "cell_type": "markdown",
   "metadata": {},
   "source": [
    "3 palabras claves reservadas: __if (si) , elif (sino, si) , else (sino)__"
   ]
  },
  {
   "cell_type": "code",
   "execution_count": 80,
   "metadata": {},
   "outputs": [],
   "source": [
    "# Si semáforo esta en verde, cruzar la calle. Sino, esperar.\n",
    "semaforo = 'verde'\n",
    "\n",
    "if semaforo == verde :\n",
    "    print (\"Cruzar la calle\")\n",
    "else: \n",
    "    print (\"Esperar\")"
   ]
  },
  {
   "cell_type": "code",
   "execution_count": null,
   "metadata": {},
   "outputs": [],
   "source": [
    "# Si gasto hasta $100, pago con dinero en efectivo. \n",
    "#Sino, si gasto más de $100 pero menos de $300, pago con tarjeta de débito. Sino, pago con tarjeta de crédito.\n",
    "\n",
    "if gastar <= 100:\n",
    "    print (\"Pago en efectivo\")\n",
    "elif gastar > 100 and gastar < 300:\n",
    "    print (\"Pago con tarjeta de debito\")\n",
    "else:\n",
    "    print(\"Pago con crédito\")"
   ]
  },
  {
   "cell_type": "code",
   "execution_count": 82,
   "metadata": {},
   "outputs": [
    {
     "name": "stdout",
     "output_type": "stream",
     "text": [
      "Descuentaxo\n"
     ]
    }
   ],
   "source": [
    "# Si la compra es mayor a $100, obtengo un descuento del 10%\n",
    "# importe_a_pagar = total_compra\n",
    "importe_a_pagar = 376.56\n",
    "\n",
    "if 376.56 > 100:\n",
    "    tasa_descuento = 10\n",
    "    importe_descuento = 376.56 * tasa_descuento / 100\n",
    "    importe_a_pagar = 376.56 - importe_descuento\n",
    "    print (\"Descuentaxo\")\n",
    "else:\n",
    "    print(\"Estas tieso\")"
   ]
  },
  {
   "cell_type": "markdown",
   "metadata": {},
   "source": [
    "### Estructuras de control ITERATIVAS"
   ]
  },
  {
   "cell_type": "markdown",
   "metadata": {},
   "source": [
    "- Son las estructuras cíclicas o en BUCLE que permiten ejecutar el MISMO codigo de manera repetida, __mientras se cumpla una condicion__\n",
    "2 estructuras cíclcicas: \n",
    "- Bucle __WHILE__\n",
    "- Bucle __FOR__"
   ]
  },
  {
   "cell_type": "markdown",
   "metadata": {},
   "source": [
    "#### BUCLE WHILE\n",
    "Esta ejecuta una misma accion __mientras que__ UNA condicion se cumpla\n",
    "\n"
   ]
  },
  {
   "cell_type": "code",
   "execution_count": 87,
   "metadata": {},
   "outputs": [
    {
     "name": "stdout",
     "output_type": "stream",
     "text": [
      "Informes del Año 2001\n",
      "Informes del Año 2002\n",
      "Informes del Año 2003\n",
      "Informes del Año 2004\n",
      "Informes del Año 2005\n",
      "Informes del Año 2006\n",
      "Informes del Año 2007\n",
      "Informes del Año 2008\n",
      "Informes del Año 2009\n",
      "Informes del Año 2010\n",
      "Informes del Año 2011\n",
      "Informes del Año 2012\n"
     ]
    }
   ],
   "source": [
    "# Mientras que año sea menor o igual a 2012, imprimir la frase “Informes del Año año”\n",
    "anio = 2001\n",
    "while anio <= 2012:\n",
    "    print (\"Informes del Año\", str(anio)) # str devuelve la forma bonita de representar un objeto\n",
    "    anio += 1  #   incrementamos el valor de la variable que condiciona el bucle (anio).\n",
    "    #Si no lo hiciéramos, esta variable siempre sería igual a 2001 y el bucle se ejecutaría de forma infinita"
   ]
  },
  {
   "cell_type": "markdown",
   "metadata": {},
   "source": [
    "Podremos utilizar una estructura de control condicional, anidada dentro del bucle, y frenar la ejecución cuando el condicional deje de cumplirse, con la palabra clave reservada __break__:"
   ]
  },
  {
   "cell_type": "code",
   "execution_count": null,
   "metadata": {},
   "outputs": [],
   "source": [
    "# Si el valor con el que queremos iterar no es numerico y no puede incrementarse en vez de poner anio += 1\n",
    "    #Ponemos la condicion 'break'\n",
    "while True:\n",
    "    nombre = raw_input(\"Indicar nombre: \")\n",
    "    if nombre:\n",
    "        break\n",
    "# es un condicional anidado que indica que la vriable nombre es verdadera, cuando se cumpla ese nombre, entonces deja\n",
    "    #de iterar"
   ]
  },
  {
   "cell_type": "markdown",
   "metadata": {},
   "source": [
    "#### BUCLE FOR"
   ]
  },
  {
   "cell_type": "markdown",
   "metadata": {},
   "source": [
    "El bucle for: nos __permitirá iterar__ sobre una variable compleja, del tipo LISTA o TUPLA:"
   ]
  },
  {
   "cell_type": "code",
   "execution_count": 94,
   "metadata": {},
   "outputs": [
    {
     "name": "stdout",
     "output_type": "stream",
     "text": [
      "Marta\n",
      "Marina\n",
      "Miguel\n",
      "Susana\n",
      "Pablo\n",
      "Guille\n"
     ]
    }
   ],
   "source": [
    "# Por cada nombre en mi_lista, imprimir nombre.\n",
    "mi_lista3 = ['Marta', 'Marina', 'Miguel', 'Susana', 'Pablo', 'Guille']\n",
    "for nombre in mi_lista3:\n",
    "    print(nombre)"
   ]
  },
  {
   "cell_type": "code",
   "execution_count": 96,
   "metadata": {},
   "outputs": [
    {
     "name": "stdout",
     "output_type": "stream",
     "text": [
      "verde\n",
      "rosa\n",
      "amarillo\n",
      "morado\n",
      "verde limon\n",
      "amarillo pollo\n"
     ]
    }
   ],
   "source": [
    "# Por cada color en mi_tupla, imprimir color\n",
    "mi_tupla3 = ('verde', 'rosa', 'amarillo', 'morado', 'verde limon', 'amarillo pollo')\n",
    "for nombre in mi_tupla3:\n",
    "    print(nombre)"
   ]
  },
  {
   "cell_type": "markdown",
   "metadata": {},
   "source": [
    "Estas ultimas son variables declaradas en __tiempo de ejecucion__ (es decir, de forma dinamica durante el bucle) y se asume como valor el de cada elemento de la lista o tupla en cada iteracion"
   ]
  },
  {
   "cell_type": "code",
   "execution_count": 101,
   "metadata": {},
   "outputs": [
    {
     "name": "stdout",
     "output_type": "stream",
     "text": [
      "Informes del Año 2001\n",
      "Informes del Año 2002\n",
      "Informes del Año 2003\n",
      "Informes del Año 2004\n",
      "Informes del Año 2005\n",
      "Informes del Año 2006\n",
      "Informes del Año 2007\n",
      "Informes del Año 2008\n",
      "Informes del Año 2009\n",
      "Informes del Año 2010\n",
      "Informes del Año 2011\n",
      "Informes del Año 2012\n"
     ]
    }
   ],
   "source": [
    "# Otra forma de iterar en el bucle for que puede asemejarse al bucle while\n",
    "# Por cada año en el rango 2001 a 2013, imprimir la frase “Informes del Año año”\n",
    "\n",
    "for anio in range(2001, 2013): \n",
    "    print (\"Informes del Año\", str(anio))"
   ]
  },
  {
   "cell_type": "markdown",
   "metadata": {},
   "source": [
    "## Modulos, paquetes y name spaces"
   ]
  },
  {
   "cell_type": "markdown",
   "metadata": {},
   "source": [
    "Cada uno de los archivos .py se denominan __modulos__ que a su vez pueden formar parte de __paquetes__. Un paquete es una carpeta que contiene archivos .py pero para que una carpeta se considere un __paquete__ debe contener un __archivo de inicio__ llamado (__init__.py ). Puede ser un archivo completamente vacio.\n",
    "\n",
    "└── paquete\n",
    "    ├── __init__.py \n",
    "        ├── modulo1.py \n",
    "        ├── modulo2.py \n",
    "        └── modulo3.py\n",
    "        \n",
    "        \n",
    " .\n",
    " ├── modulo1.py \n",
    "    └── paquete\n",
    "        ├── __init__.py \n",
    "        ├── modulo1.py \n",
    "        └── subpaquete\n",
    "            ├── __init__.py \n",
    "            ├── modulo1.py \n",
    "            └── modulo2.py"
   ]
  },
  {
   "cell_type": "markdown",
   "metadata": {},
   "source": [
    "### Importando módulos enteros"
   ]
  },
  {
   "cell_type": "markdown",
   "metadata": {},
   "source": [
    "El contenido de cada modulo puede ser utilizado a su vez por otros módulos. Para ello hay que importar aquellos modulos con los que se quiera trabajar. \n",
    "- Se hace: import + nombre paquete + nombre del modulo (sin el .py) que se desea importar"
   ]
  },
  {
   "cell_type": "code",
   "execution_count": null,
   "metadata": {},
   "outputs": [],
   "source": [
    "import modulo  # importar un modulo que no pertenece a un paquete\n",
    "import paquete.modulo1  # importar un modulo que esta dentro de un paquete\n",
    "import paquete.subpaquete.modulo1 \n",
    "\n",
    "#esto nos permitira usar el codigo dentro del modulo"
   ]
  },
  {
   "cell_type": "markdown",
   "metadata": {},
   "source": [
    "__Python tiene sus propios módulos__ , los cuales forman parte de su librería de módulos estándar, que también pueden ser importados."
   ]
  },
  {
   "cell_type": "markdown",
   "metadata": {},
   "source": [
    "### Namespaces "
   ]
  },
  {
   "cell_type": "markdown",
   "metadata": {},
   "source": [
    "Para acceder desde el modulo donde se realizó la importacion: se realiza desde el namespace seguido del . y el nombre del elemento que desea obtener\n",
    "- En Python, un namespace, es el nombre que se ha indicado luego de la palabra import, es decir la ruta (namespace) del módulo:\n",
    "\n",
    "- print (modulo.CONSTANTE_1)\n",
    "- print (paquete.modulo1.CONSTANTE_1)\n",
    "- print (paquete.subpaquete.modulo1.CONSTANTE_1)"
   ]
  },
  {
   "cell_type": "markdown",
   "metadata": {},
   "source": [
    "### Alias"
   ]
  },
  {
   "cell_type": "markdown",
   "metadata": {},
   "source": [
    "Abreviar los namespaces mediante un “alias”. Para ello, durante la importación, __se asigna la palabra clave as seguida del alias__ con el cuál nos referiremos en el futuro a ese namespace importado:\n",
    "- import modulo __as m__\n",
    "- import paquete.modulo1 __as pm__\n",
    "- import paquete.subpaquete.modulo1 __as psm__\n",
    "\n",
    "Luego para __ACCEDER__ tras haber sido importados\n",
    "- print m.CONSTANTE _1 \n",
    "- print pm.CONSTANTE _1\n",
    "- print psm.CONSTANTE_1"
   ]
  },
  {
   "cell_type": "markdown",
   "metadata": {},
   "source": [
    "###  Importar MÓDULOS sin utilizar NAMESPACES"
   ]
  },
  {
   "cell_type": "markdown",
   "metadata": {},
   "source": [
    "Es posible importar de un módulo solo los elementos que se desee utilizar. Para ello se utiliza __from__ seguida del __namespace__, __más__ la instrucción __import__ seguida del __elemento__ que se desee importar\n",
    "\n",
    "- __from__ paquete.modulo1 __import__ CONSTANTE_1\n",
    "\n",
    "Se ACCEDE al elemento\n",
    "- print (CONSTANTE_1)\n",
    "\n",
    "También se puede importar __mas de un elemento__\n",
    "- from paquete.modulo1 import CONSTANTE_1, CONSTANTE_2\n",
    "\n",
    "Pero ¿qué sucede si los elementos importados desde módulos diferentes __tienen los mismos nombres?__ En estos casos, habrá que prevenir fallos, utilizando alias para los elementos:\n",
    "\n",
    "- from paquete.modulo1 import CONSTANTE_1 __as C1__, CONSTANTE_2 __as C2__\n",
    "- from paquete.subpaquete.modulo1 import CONSTANTE_1 __as CS1__, CONSTANTE_2 __as CS2__\n",
    "\n",
    "ACCESO A LOS DATOS:\n",
    "- print C1\n",
    "- print C2\n",
    "- print CS1\n",
    "- print CS2\n",
    "\n",
    "De forma alternativa (pero muy poco recomendada), también es posible __importar todos los elementos de un módulo__, sin utilizar su namespace pero tampoco alias. Es decir, que todos los elementos importados se accederá con su nombre original:\n",
    "\n",
    "- from paquete.modulo1 __import *__\n",
    "\n",
    "- print CONSTANTE_1\n",
    "- print CONSTANTE_2"
   ]
  },
  {
   "cell_type": "markdown",
   "metadata": {},
   "source": [
    "## Funciones definidas por el usuario"
   ]
  },
  {
   "cell_type": "markdown",
   "metadata": {},
   "source": [
    "Funcion: forma de __agrupar expresiones y sentencias (algoritmos)__ que realicen determinadas __acciones__, pero que éstas, solo __se ejecuten cuando son llamadas__. Es decir, que al colocar un algoritmo dentro de una función, al correr el archivo, el algoritmo no será ejecutado si no se ha hecho una referencia a la función que lo contiene."
   ]
  },
  {
   "cell_type": "code",
   "execution_count": null,
   "metadata": {},
   "outputs": [],
   "source": [
    "def mi_funcion():\n",
    "# aquí el algoritmo\n",
    "\n",
    "def mi_funcion():\n",
    "    print \"Me gusta la playa\""
   ]
  },
  {
   "cell_type": "code",
   "execution_count": 110,
   "metadata": {},
   "outputs": [
    {
     "name": "stdout",
     "output_type": "stream",
     "text": [
      "Me gusta la playa MUCHO\n"
     ]
    }
   ],
   "source": [
    "# Instruccion para definir una funcion\n",
    "def funcion():\n",
    "    return \"Me gusta la playa MUCHO\"\n",
    "\n",
    "frase = funcion()\n",
    "print (frase)"
   ]
  },
  {
   "cell_type": "markdown",
   "metadata": {},
   "source": [
    "### Definir los parametros"
   ]
  },
  {
   "cell_type": "markdown",
   "metadata": {},
   "source": [
    "Es un __valor que la función espera recibir cuando sea llamada__ (invocada), a fin de ejecutar acciones en base al mismo. Una función puede esperar uno o más parámetros (que irán separados por una coma) o ninguno.\n",
    "- Los parámetros, se indican entre los paréntesis, a modo de variables, a fin de poder utilizarlos como tales, dentro de la misma función."
   ]
  },
  {
   "cell_type": "code",
   "execution_count": null,
   "metadata": {},
   "outputs": [],
   "source": [
    "def mi_funcion(nombre, apellido):  # los parametros son variables locales ya que solo la funcion ejecutará sobre ellos\n",
    "    # algoritmo"
   ]
  },
  {
   "cell_type": "code",
   "execution_count": 111,
   "metadata": {},
   "outputs": [],
   "source": [
    "def mi_funcion(nombre, apellido):\n",
    "    nombre_completo = nombre, apellido \n",
    "    print (nombre_completo)\n",
    "#no podemos acceder a los parametros, es decir, no podemos poner : print (nombre) ya que es una variable local"
   ]
  },
  {
   "cell_type": "markdown",
   "metadata": {},
   "source": [
    "Al llamar a una función, siempre se le deben __pasar sus argumentos en el mismo orden en el que los espera__. Pero esto __puede evitarse__, haciendo uso del paso de argumentos __como keywords__."
   ]
  },
  {
   "cell_type": "markdown",
   "metadata": {},
   "source": [
    "#### Parametros por omision"
   ]
  },
  {
   "cell_type": "markdown",
   "metadata": {},
   "source": [
    "La función podrá ser llamada __con menos argumentos__ de los que espera:"
   ]
  },
  {
   "cell_type": "code",
   "execution_count": 114,
   "metadata": {},
   "outputs": [
    {
     "name": "stdout",
     "output_type": "stream",
     "text": [
      "Hola pequenio Pepe Grillo\n"
     ]
    }
   ],
   "source": [
    "def saludar(nombre, mensaje = 'Hola pequenio'): \n",
    "    print (mensaje, nombre)\n",
    "saludar('Pepe Grillo') # Imprime pq esa es la funcion que le hemos dado: Hola Pepe Grillo"
   ]
  },
  {
   "cell_type": "markdown",
   "metadata": {},
   "source": [
    "#### Keywords como parametros"
   ]
  },
  {
   "cell_type": "markdown",
   "metadata": {},
   "source": [
    "También es posible llamar a una función, pasándole los argumentos esperados, como pares de claves=valor:"
   ]
  },
  {
   "cell_type": "code",
   "execution_count": 116,
   "metadata": {},
   "outputs": [
    {
     "name": "stdout",
     "output_type": "stream",
     "text": [
      "Buen día Juancho\n"
     ]
    }
   ],
   "source": [
    "def saludar(nombre, mensaje='Hola'):\n",
    "    print (mensaje, nombre)\n",
    "\n",
    "saludar(mensaje=\"Buen día\", nombre=\"Juancho\")"
   ]
  },
  {
   "cell_type": "markdown",
   "metadata": {},
   "source": [
    "#### Parametros arbitrarios"
   ]
  },
  {
   "cell_type": "markdown",
   "metadata": {},
   "source": [
    "Es posible que una función, espere recibir un número arbitrario -desconocido- de argumentos. Estos argumentos, llegarán a la función en forma de tupla.\n",
    "\n",
    "__Para definir argumentos arbitrarios en una función, se antecede al parámetro un asterisco (*):__"
   ]
  },
  {
   "cell_type": "code",
   "execution_count": null,
   "metadata": {},
   "outputs": [],
   "source": [
    "def recorrer_parametros_arbitrarios(parametro_fijo, *arbitrarios): \n",
    "    print (parametro_fijo)\n",
    "    \n",
    "# Los parámetros arbitrarios se corren como tuplas\n",
    "for argumento in arbitrarios:\n",
    "    print (argumento)\n",
    "recorrer_parametros_arbitrarios('Fixed', 'arbitrario 1', 'arbitrario 2', 'arbitrario 3')"
   ]
  },
  {
   "cell_type": "code",
   "execution_count": null,
   "metadata": {},
   "outputs": [],
   "source": [
    "#Es posible también, obtener parámetros arbitrarios como pares de clave=valor. \n",
    "    #En estos casos, al nombre del parámetro deben precederlo dos astericos (**):\n",
    "    \n",
    "def recorrer_parametros_arbitrarios(parametro_fijo, *arbitrarios, **kwords): \n",
    "    print (parametro_fijo)\n",
    "for argumento in arbitrarios:\n",
    "        print (argumento)\n",
    "\n",
    "# Los argumentos arbitrarios tipo clave, se recorren como los diccionarios\n",
    "for clave in kwords:\n",
    "    print (\"El valor de\", clave, \"es\", kwords[clave])\n",
    "\n",
    "recorrer_parametros_arbitrarios(\"Fixed\", \"arbitrario 1\", \"arbitrario 2\", \"arbitrario 3\", clave1=\"valor uno\",\n",
    "clave2=\"valor dos\")"
   ]
  },
  {
   "cell_type": "markdown",
   "metadata": {},
   "source": [
    "#### Desempaquetado de parametros"
   ]
  },
  {
   "cell_type": "markdown",
   "metadata": {},
   "source": [
    "Puede ocurrir __LO CONTRARIO__. función espere una lista fija de parámetros, pero que éstos, en vez de estar disponibles de forma separada, se encuentren contenidos en una lista o tupla.\n",
    "- el signo asterisco (*) deberá preceder al nombre de la lista o tupla que es pasada como parámetro durante la llamada a la función:"
   ]
  },
  {
   "cell_type": "code",
   "execution_count": 125,
   "metadata": {},
   "outputs": [
    {
     "name": "stdout",
     "output_type": "stream",
     "text": [
      "1350.0\n"
     ]
    }
   ],
   "source": [
    "def calcular(importe, descuento):\n",
    "    return importe - (importe * descuento / 100)\n",
    "datos = [1500, 10] \n",
    "print (calcular(*datos)) \n",
    "# cuando aplicas la funcion a una LISTA hay que ponerle un asterisco al dato"
   ]
  },
  {
   "cell_type": "markdown",
   "metadata": {},
   "source": [
    "El mismo caso puede darse cuando los valores a ser pasados como parámetros a una función, se encuentren disponibles en un diccionario. Aquí, deberán pasarse a la función, precedidos de dos asteriscos (**):\n"
   ]
  },
  {
   "cell_type": "code",
   "execution_count": 126,
   "metadata": {},
   "outputs": [
    {
     "name": "stdout",
     "output_type": "stream",
     "text": [
      "1350.0\n"
     ]
    }
   ],
   "source": [
    "def calcular(importe, descuento):\n",
    "    return importe - (importe * descuento / 100)\n",
    "\n",
    "datos = {\"descuento\": 10, \"importe\": 1500} \n",
    "print (calcular(**datos))"
   ]
  },
  {
   "cell_type": "markdown",
   "metadata": {},
   "source": [
    "## Llamadas de retorno"
   ]
  },
  {
   "cell_type": "markdown",
   "metadata": {},
   "source": [
    "Es posible, __llamar a una función dentro de otra__, de forma fija y de la misma manera que se la llamaría, __desde fuera de dicha función:__"
   ]
  },
  {
   "cell_type": "code",
   "execution_count": null,
   "metadata": {},
   "outputs": [],
   "source": [
    "def funcion():\n",
    "    return \"Hola Mundo\"\n",
    "def saludar(nombre, mensaje='Hola'): \n",
    "    print (mensaje, nombre)\n",
    "    print (mi_funcion())  # llamada de retorno\n",
    "    # no es posible realizar esta llamada sin conocer el nombre de la funcion al que se desea llamar"
   ]
  },
  {
   "cell_type": "markdown",
   "metadata": {},
   "source": [
    "Para conseguir llamar a una función de manera dinámica, Python dispone de dos funciones nativas: __locals() y globals()__\n",
    "- Ambas funciones devuelven un diccionario\n",
    "    - Locals(): diccionario se compone de todos los elementos de ambito local\n",
    "    - globals(): diccionarios de ambito global"
   ]
  },
  {
   "cell_type": "code",
   "execution_count": 129,
   "metadata": {},
   "outputs": [],
   "source": [
    "# FUNCION SIN ARGUMENTOS: llamada de retorno\n",
    "def funcion():\n",
    "    return \"Hola Martola\""
   ]
  },
  {
   "cell_type": "code",
   "execution_count": 134,
   "metadata": {},
   "outputs": [
    {
     "name": "stdout",
     "output_type": "stream",
     "text": [
      "Hola Martola\n",
      "Hola Martola\n"
     ]
    }
   ],
   "source": [
    "# Llamada de retorno a nivel global\n",
    "def llamada_de_retorno(func=\"\"):  \n",
    "    return globals()[func]()\n",
    "print (llamada_de_retorno(\"funcion\"))\n",
    "\n",
    "# Llamada de retorno a nivel local\n",
    "nombre_de_la_funcion = \"funcion\"\n",
    "print (locals()[nombre_de_la_funcion]())"
   ]
  },
  {
   "cell_type": "code",
   "execution_count": 135,
   "metadata": {},
   "outputs": [
    {
     "name": "stdout",
     "output_type": "stream",
     "text": [
      "Hola Laura\n",
      "Hola Facundo\n"
     ]
    }
   ],
   "source": [
    "# Si se tienen que pasar argumentos en una llamada retorno, se lo puede hacer normalmente:\n",
    "# Funcion con ARGUMENTOS llamada de retorno\n",
    "def funcion(nombre): \n",
    "    return \"Hola \" + nombre\n",
    "\n",
    "# Llamada de retorno a nivel global\n",
    "def llamada_de_retorno(func=\"\"):\n",
    "    return globals()[func](\"Laura\")\n",
    "print (llamada_de_retorno(\"funcion\"))\n",
    "\n",
    "# Llamada de retorno a nivel local nombre_de_la_funcion = \"funcion\"\n",
    "print (locals()[nombre_de_la_funcion](\"Facundo\"))"
   ]
  },
  {
   "cell_type": "markdown",
   "metadata": {},
   "source": [
    "### Saber si una funcion existe y puede ser llamada"
   ]
  },
  {
   "cell_type": "markdown",
   "metadata": {},
   "source": [
    "Necesario __comprobar que una llamada de retorno exista__ y pueda ser llamada"
   ]
  },
  {
   "cell_type": "code",
   "execution_count": 138,
   "metadata": {},
   "outputs": [
    {
     "name": "stdout",
     "output_type": "stream",
     "text": [
      "Hola Emilse\n"
     ]
    }
   ],
   "source": [
    "if nombre_de_la_funcion in locals():  # in: nos indica si un elemento se encuentra dentro de la coleccion\n",
    "    if callable(locals()[nombre_de_la_funcion]):  # callable: nos deja saber si esa funcion puede ser llamada\n",
    "        print (locals()[nombre_de_la_funcion](\"Emilse\"))"
   ]
  },
  {
   "cell_type": "code",
   "execution_count": 140,
   "metadata": {},
   "outputs": [
    {
     "name": "stdout",
     "output_type": "stream",
     "text": [
      "Hola Laura\n",
      "Hola Facundo\n"
     ]
    }
   ],
   "source": [
    "# Primero definimos la funcion\n",
    "def funcion(nombre):\n",
    "    return \"Hola \" + nombre\n",
    "# Comprobamos para las funciones globales\n",
    "def llamada_de_retorno(func=\"\"):\n",
    "    if func in globals():\n",
    "        if callable(globals()[func]):\n",
    "            return globals()[func](\"Laura\")\n",
    "    else:\n",
    "        return \"Función no encontrada\"\n",
    "print (llamada_de_retorno(\"funcion\"))\n",
    "nombre_de_la_funcion = \"funcion\"\n",
    "\n",
    "# Para las funciones locales\n",
    "if nombre_de_la_funcion in locals():\n",
    "    if callable(locals()[nombre_de_la_funcion]):\n",
    "        print (locals()[nombre_de_la_funcion](\"Facundo\"))\n",
    "else:\n",
    "    print (\"Función no encontrada\")\n",
    "    \n",
    "# la funcion ha sido encontrada, por tanto nos devuelve la solucion"
   ]
  },
  {
   "cell_type": "markdown",
   "metadata": {},
   "source": [
    "### Llamadas recursivas"
   ]
  },
  {
   "cell_type": "markdown",
   "metadata": {},
   "source": [
    "Son aquellas llamadas cuyo algoritmo __HACE REFERENCIA A SÍ MISMO__\n",
    "- ser muy útiles en casos muy puntuales, pero debido a su gran factibilidad de caer en __iteraciones infinitas__, deben extremarse las medidas preventivas adecuadas y, solo utilizarse cuando sea estrictamente necesario y no exista una forma alternativa viable, que resuelva el problema evitando la recursividad."
   ]
  },
  {
   "cell_type": "code",
   "execution_count": null,
   "metadata": {},
   "outputs": [],
   "source": [
    "def jugar(intento=1):\n",
    "    respuesta = raw_input(\"¿De qué color es una naranja? \")\n",
    "    if respuesta != \"naranja\":\n",
    "        if intento < 3:\n",
    "            print (\"\\nFallaste! Inténtalo de nuevo\")\n",
    "            intento += 1\n",
    "            jugar(intento) # Llamada recursiva\n",
    "        else:\n",
    "            print (\"\\nPerdiste!\")\n",
    "    else:\n",
    "        print (\"\\nGanaste!\")\n",
    "jugar()"
   ]
  },
  {
   "cell_type": "markdown",
   "metadata": {},
   "source": [
    "### Sobre la finalidad de las funciones"
   ]
  },
  {
   "cell_type": "markdown",
   "metadata": {},
   "source": [
    "- La finalidad de una funcion debe ser tener una __sola accion, reutilizable y por tanto, genérica__"
   ]
  },
  {
   "cell_type": "markdown",
   "metadata": {},
   "source": [
    "## Introduccion a la orientacion de objetos"
   ]
  },
  {
   "cell_type": "markdown",
   "metadata": {},
   "source": [
    "Un objeto es una cosa y una __cosa es un sustantivo__. Por tanto, un __objeto es un sustantivo__\n",
    "- describir un objeto: indicar sus cualidadades: ADJETIVOS\n",
    "- el objeto es de color feo: una cualidad es un atributo\n",
    "    - un objeto es un sustantivo que posee atributos, cuyas cualidades lo describen.\n",
    "    \n",
    "-->  Mas informacion: curso-python-para-principiantes.pdf"
   ]
  },
  {
   "cell_type": "markdown",
   "metadata": {},
   "source": [
    "## METODOS PRINCIPALES DEL OBJETO STRING O CADENA DE TEXTO"
   ]
  },
  {
   "cell_type": "markdown",
   "metadata": {},
   "source": [
    "Todo es un objeto y por tanto, cualquier variable cuyo valor sea de tipo string, podrá ser tratada como un subtipo del objeto string, el cuál dispone de métodos que son heredados por dicho subtipo.\n",
    "- Metodos mas frequentes del objeto STRING"
   ]
  },
  {
   "cell_type": "markdown",
   "metadata": {},
   "source": [
    "### Metodos de formato"
   ]
  },
  {
   "cell_type": "code",
   "execution_count": 143,
   "metadata": {},
   "outputs": [
    {
     "name": "stdout",
     "output_type": "stream",
     "text": [
      "Marta mola mazo\n"
     ]
    }
   ],
   "source": [
    "# CONVERTIR A MAYUSCULA LA PRIMERA LETRA: capitalize()\n",
    "\n",
    "mayuscula = 'marta mola mazo'\n",
    "print (mayuscula.capitalize())"
   ]
  },
  {
   "cell_type": "code",
   "execution_count": 144,
   "metadata": {},
   "outputs": [
    {
     "name": "stdout",
     "output_type": "stream",
     "text": [
      "churros con chocolate\n"
     ]
    }
   ],
   "source": [
    "# CONVERTIR UNA CADENA A MINUSCULAS: lower()\n",
    "\n",
    "minuscula = 'CHURROS CON CHOCOLATE'\n",
    "print (minuscula.lower())"
   ]
  },
  {
   "cell_type": "code",
   "execution_count": 146,
   "metadata": {},
   "outputs": [
    {
     "name": "stdout",
     "output_type": "stream",
     "text": [
      "CHURROS CON CHOCOLATE\n"
     ]
    }
   ],
   "source": [
    "# CONVERTIR UNA CADENA A MAYUSCULAS: upper()\n",
    "\n",
    "cadena_mayus = 'churros con chocolate'\n",
    "print (cadena_mayus.upper())"
   ]
  },
  {
   "cell_type": "code",
   "execution_count": 147,
   "metadata": {},
   "outputs": [
    {
     "name": "stdout",
     "output_type": "stream",
     "text": [
      "lOS CHURROS DE LA pLAZA mAYOR ESTÁN COMO QUIEREN\n"
     ]
    }
   ],
   "source": [
    "# CONVERTIR MAYUSCULAS A MINUSCULAS Y VICEVERSA: swapcase()\n",
    "\n",
    "mayusminus = 'Los churros de la Plaza Mayor están como quieren'\n",
    "print (mayusminus.swapcase())"
   ]
  },
  {
   "cell_type": "code",
   "execution_count": 148,
   "metadata": {},
   "outputs": [
    {
     "name": "stdout",
     "output_type": "stream",
     "text": [
      "Bienvenidos A Casa De Los Divassón\n"
     ]
    }
   ],
   "source": [
    "# CONVERTIR UNA CADENA EN FORMATO TITULO: title()\n",
    "\n",
    "titulin = 'bienvenidos a casa de los Divassón'\n",
    "print(titulin.title())"
   ]
  },
  {
   "cell_type": "code",
   "execution_count": 151,
   "metadata": {},
   "outputs": [
    {
     "name": "stdout",
     "output_type": "stream",
     "text": [
      "==============Bienvenidos a mi canal==============\n",
      "              Bienvenidos a mi canal              \n",
      "~~~~~~~~~~~~~~~~~~~~~~~~Bienvenidos a mi canal~~~~~~~~~~~~~~~~~~~~~~~~\n"
     ]
    }
   ],
   "source": [
    "# CENTRAR UN TEXTO: : center(longitud[, “caracter de relleno”])\n",
    "\n",
    "centrar = 'bienvenidos a mi canal'.capitalize()\n",
    "print(centrar.center(50, \"=\"))  # que sea de largo de 50 caracteres\n",
    "\n",
    "print(centrar.center(50, \" \"))\n",
    "print(centrar.center(70, \"~\"))"
   ]
  },
  {
   "cell_type": "code",
   "execution_count": 154,
   "metadata": {},
   "outputs": [
    {
     "name": "stdout",
     "output_type": "stream",
     "text": [
      "Marta vive en una piña debajo del mar-----------------------\n",
      "^^^^^^^^^^^^^^^^^^^^^^^Marta vive en una piña debajo del mar\n"
     ]
    }
   ],
   "source": [
    "# ALINEAR TEXTO A LA IZQUIERDA: ljust(longitud[, “caracter de relleno”])\n",
    "\n",
    "cadena = 'marta vive en una piña debajo del mar'.capitalize()\n",
    "print(cadena.ljust(60, \"-\"))\n",
    "\n",
    "\n",
    "# ALINEAR TEXTO A LA DERECHA:  rjust(longitud[, “caracter de relleno”])\n",
    "print(cadena.rjust(60, \"^\"))"
   ]
  },
  {
   "cell_type": "code",
   "execution_count": 161,
   "metadata": {},
   "outputs": [
    {
     "name": "stdout",
     "output_type": "stream",
     "text": [
      "00000000000000000000000000000000000000000000000000000000 y los ceros pa cuando\n",
      "000000012345\n"
     ]
    }
   ],
   "source": [
    "# RELLENAR UN TEXTO ANTEPONIENDO CEROS:  zfill(longitud)\n",
    "    # meter 0s a la izquierda hasta llegar a la longitud deseada\n",
    "cadena1 = ' y los ceros pa cuando'.capitalize()\n",
    "print(cadena1.zfill(78))\n",
    "\n",
    "# Mas coherente con este ejemplo\n",
    "factura = 12345\n",
    "print(str(factura).zfill(12))"
   ]
  },
  {
   "cell_type": "markdown",
   "metadata": {},
   "source": [
    "### Metodos de busqueda"
   ]
  },
  {
   "cell_type": "code",
   "execution_count": 177,
   "metadata": {},
   "outputs": [
    {
     "name": "stdout",
     "output_type": "stream",
     "text": [
      "3\n",
      "1\n"
     ]
    }
   ],
   "source": [
    "# CONTAR CANTIDAD DE APARCIONES DE UNA SUBCADENA : count(“subcadena”[, posicion_inicio, posicion_fin])\n",
    "\n",
    "subcadena = 'bienvenidos a oriente sus majestades'\n",
    "print (subcadena.count(\"a\"))\n",
    "print (subcadena.count(\"a\", 0, 18))  # contar el num de \"a\" de la posicion 0 a la 18\n",
    "\n",
    "\n",
    "# Ejemplo: si ponemos subcadena.title()  y queremos contabilizar las \"a\" tenemos que tener en cuenta que la \"a\" \n",
    "    # despues de \"bienvenidos\" ya esta en mayuscula por tanto no se cuenta"
   ]
  },
  {
   "cell_type": "code",
   "execution_count": 181,
   "metadata": {},
   "outputs": [
    {
     "name": "stdout",
     "output_type": "stream",
     "text": [
      "12\n",
      "15\n"
     ]
    }
   ],
   "source": [
    "# BUSCAR UNA SUBCADENA DENTRO DE UNA CADENA: find(“subcadena”[, posicion_inicio, posicion_fin])\n",
    "\n",
    "cadena = 'las cadenas se estan quedando sin argumentos'.capitalize()\n",
    "print (cadena.find(\"se\", 0, 20))  # esta se encuentra en la posicion 12\n",
    "print (cadena.find(\"est\", 0, 25)) # esta se encuentra en la posicion 15\n",
    "\n",
    "# si no la encuentra devuelve la -1"
   ]
  },
  {
   "cell_type": "markdown",
   "metadata": {},
   "source": [
    "### Metodos de validacion"
   ]
  },
  {
   "cell_type": "code",
   "execution_count": 212,
   "metadata": {},
   "outputs": [
    {
     "name": "stdout",
     "output_type": "stream",
     "text": [
      "True\n",
      "False\n",
      "False\n"
     ]
    }
   ],
   "source": [
    "# SABER SI UNA CADENA COMIENZA CON UNA SUBCADENA DETERMINADA: startswith(“subcadena”[, posicion_inicio, posicion_fin])\n",
    "\n",
    "comienzo = 'martola mola como una ola'.capitalize()\n",
    "print(comienzo.startswith(\"Martola\"))\n",
    "print(comienzo.startswith(\"martola\"))  # aunque en la cadena parece que empieza asi, se ha capitalizado, por tanto\n",
    "    # ya no empieza con minuscula\n",
    "print (comienzo.startswith(\"mola, 9\"))\n",
    "\n",
    "# Devuelve True o False"
   ]
  },
  {
   "cell_type": "code",
   "execution_count": 214,
   "metadata": {},
   "outputs": [
    {
     "name": "stdout",
     "output_type": "stream",
     "text": [
      "True\n",
      "False\n",
      "True\n"
     ]
    }
   ],
   "source": [
    "# SABER SI UNA CADENA FINALIZA CON UNA SUBCADENA DETERMINADA: endswith(“subcadena”[, posicion_inicio, posicion_fin])\n",
    "\n",
    "fin = 'tampoco nos pasemos'.capitalize()\n",
    "print(fin.endswith(\"pasemos\"))\n",
    "\n",
    "print(fin.endswith(\"tampoco\"))\n",
    "print(fin.endswith(\"nos\", 8, 11))\n"
   ]
  },
  {
   "cell_type": "code",
   "execution_count": 217,
   "metadata": {},
   "outputs": [
    {
     "name": "stdout",
     "output_type": "stream",
     "text": [
      "False\n",
      "True\n",
      "True\n"
     ]
    }
   ],
   "source": [
    "# SABER SI UNA CADENA ES ALFANUMERICA: isalnum()\n",
    "    # CUANDO NO HAY ESPACIOS Y TIENE LETRAS Y NUMEROS LA CADENA ES ALFANUMERICA\n",
    "\n",
    "alfanumer = 'Martola 22'\n",
    "print (alfanumer.isalnum())\n",
    "alfanumer = 'Martola22'\n",
    "print(alfanumer.isalnum())  # ES ALFANUMERICA\n",
    "alfanumer = 'MARTOLA'\n",
    "print(alfanumer.isalnum())  # ES ALFANUMERICA"
   ]
  },
  {
   "cell_type": "code",
   "execution_count": 221,
   "metadata": {},
   "outputs": [
    {
     "name": "stdout",
     "output_type": "stream",
     "text": [
      "False\n",
      "True\n",
      "False\n"
     ]
    }
   ],
   "source": [
    "# SABER SI UNA CADENA ES ALFABETICA: isalpha()\n",
    "\n",
    "cadena = 'no sabemos si es alfabetica'\n",
    "print(cadena.isalpha())\n",
    "\n",
    "cadena = 'alfabetica'\n",
    "print(cadena.isalpha())\n",
    "\n",
    "cadena ='no 75 alfabetica'\n",
    "print (cadena.isalpha())"
   ]
  },
  {
   "cell_type": "code",
   "execution_count": 227,
   "metadata": {},
   "outputs": [
    {
     "name": "stdout",
     "output_type": "stream",
     "text": [
      "True\n",
      "False\n",
      "True\n",
      "False\n"
     ]
    }
   ],
   "source": [
    "# SABER SI UNA CADENA ES NUMERICA:  isdigit()\n",
    "\n",
    "print (cadena.isdigit())\n",
    "\n",
    "cadena = \"75.84\"\n",
    "print(cadena.isdigit())\n",
    "\n",
    "cadena = \"876987\"\n",
    "print(cadena.isdigit())\n",
    "\n",
    "cadena = \"78 87\"\n",
    "print(cadena.isdigit())\n"
   ]
  },
  {
   "cell_type": "code",
   "execution_count": 229,
   "metadata": {},
   "outputs": [
    {
     "name": "stdout",
     "output_type": "stream",
     "text": [
      "False\n",
      "True\n"
     ]
    }
   ],
   "source": [
    "# SABER SI UNA CADENA CONTIENE SOLO MINUSCULAS: islower()\n",
    "\n",
    "solomin = 'maria y pedro son mis hermanos'.capitalize()\n",
    "print(solomin.islower())\n",
    "\n",
    "solomin = 'maria y pedro son mis hermanos'\n",
    "print(solomin.islower())\n"
   ]
  },
  {
   "cell_type": "code",
   "execution_count": 232,
   "metadata": {},
   "outputs": [
    {
     "name": "stdout",
     "output_type": "stream",
     "text": [
      "False\n",
      "True\n"
     ]
    }
   ],
   "source": [
    "# SABER SI UNA CADENA CONTIENE SOLO MAYUSCULAS: isupper ()\n",
    "\n",
    "solomayus = 'Maria y Pedro son mis hermanos'.title()\n",
    "print(solomayus.isupper())\n",
    "\n",
    "solomayus = 'MARIA Y PEDRO SON MIS HERMANOS'\n",
    "print(solomayus.isupper())\n",
    "\n",
    "# es indiferente si hay espacios, solo basta con que todas sean mayusculas"
   ]
  },
  {
   "cell_type": "code",
   "execution_count": 235,
   "metadata": {},
   "outputs": [
    {
     "name": "stdout",
     "output_type": "stream",
     "text": [
      "False\n",
      "False\n",
      "True\n"
     ]
    }
   ],
   "source": [
    "# SABER SI UNA CADENA CONTIENE SOLO ESPACIOS EN BLANCO: isspace()\n",
    "\n",
    "cadena = 'hay espacios'\n",
    "print(cadena.isspace())\n",
    "\n",
    "cadena = 'NoHayEspacio'\n",
    "print(cadena.isspace())\n",
    "\n",
    "cadena = \"         \"\n",
    "print(cadena.isspace())"
   ]
  },
  {
   "cell_type": "code",
   "execution_count": 238,
   "metadata": {},
   "outputs": [
    {
     "name": "stdout",
     "output_type": "stream",
     "text": [
      "True\n",
      "False\n",
      "True\n"
     ]
    }
   ],
   "source": [
    "# SABER SI UNA CADENA TIENE FORMATO DE TITULO: istitle()\n",
    "\n",
    "cadena_titulo = 'Bienvenidos A Mi Casa'\n",
    "print(cadena_titulo.istitle())\n",
    "\n",
    "cadena_titulo = 'Bienvenidos a Mi Casa'\n",
    "print(cadena_titulo.istitle())\n",
    "\n",
    "cadena_titulo = 'Bienvenidos'\n",
    "print(cadena_titulo.istitle())"
   ]
  },
  {
   "cell_type": "markdown",
   "metadata": {},
   "source": [
    "### Metodos de sustitucion"
   ]
  },
  {
   "cell_type": "code",
   "execution_count": 245,
   "metadata": {},
   "outputs": [
    {
     "name": "stdout",
     "output_type": "stream",
     "text": [
      "Marta es la caña obvio\n",
      "Importe bruto: $100 + IVA: $21 = Importe neto: 121\n",
      "Importe bruto: $100 + IVA: $21 = Importe neto: 121\n",
      "Importe bruto: $100 + IVA: $21.0 = Importe neto: 121.0\n"
     ]
    }
   ],
   "source": [
    "# DAR FORMATO A UNA CADENA, SUSTITUYENDO TEXTO DINAMICAMENTE: format(*args, **kwargs)\n",
    "\n",
    "cadena = 'Marta es {0}'\n",
    "print(cadena.format(\"la caña obvio\"))\n",
    "\n",
    "# 2 formas: o con POSICIONES o con NOMBRES \n",
    "cadena = \"Importe bruto: ${0} + IVA: ${1} = Importe neto: {2}\"\n",
    "print(cadena.format(100, 21, 121))\n",
    "\n",
    "cadena = \"Importe bruto: ${bruto} + IVA: ${iva} = Importe neto: {neto}\"\n",
    "print (cadena.format(bruto=100, iva=21, neto=121))\n",
    "\n",
    "# CON OPERACIONES\n",
    "print(cadena. format(bruto = 100, iva = 100*21/100, neto=100 * 21 / 100 + 100))\n",
    "\n",
    "# DEVUELVE LA CADENA FORMATEADA"
   ]
  },
  {
   "cell_type": "code",
   "execution_count": 246,
   "metadata": {},
   "outputs": [
    {
     "name": "stdout",
     "output_type": "stream",
     "text": [
      "Estimado Srita. MARTA DIVASSON:\n"
     ]
    }
   ],
   "source": [
    "# REEMPLAZAR TEXTO EN UNA CADENA: replace(“subcadena a buscar”, “subcadena por la cual reemplazar”)\n",
    "\n",
    "buscar = \"nombre apellido\"\n",
    "reemplazar_por = \"MARTA DIVASSON\"\n",
    "print (\"Estimado Srita. nombre apellido:\".replace(buscar, reemplazar_por))\n"
   ]
  },
  {
   "cell_type": "code",
   "execution_count": 248,
   "metadata": {},
   "outputs": [
    {
     "name": "stdout",
     "output_type": "stream",
     "text": [
      "ojala esto estuviera bien escrito\n",
      "ojala esto estuviera bien escrito\n"
     ]
    }
   ],
   "source": [
    "# ELIMINAR CARACTERES A LA IZQUIERDA Y LA DERECHA DE UNA CADENA: strip([“caracter”])\n",
    "\n",
    "cadena = \"    ojala esto estuviera bien escrito    \"\n",
    "print(cadena.strip())\n",
    "print(cadena.strip(' '))"
   ]
  },
  {
   "cell_type": "code",
   "execution_count": 257,
   "metadata": {},
   "outputs": [
    {
     "name": "stdout",
     "output_type": "stream",
     "text": [
      "ojala\n",
      "ala\n"
     ]
    }
   ],
   "source": [
    "# ELIMINAR CARACTERES A LA IZQUIERDA DE UNA CADENA: lstrip([“caracter”])\n",
    "\n",
    "cadena = \"    ojala\"\n",
    "print(cadena.lstrip())\n",
    "\n",
    "\n",
    "cadena = \"ojala\"  # Cuando no hay espacios pero queremos quitar una parte de la cadena\n",
    "print(cadena.lstrip(\"oj\"))\n",
    "\n",
    "# al seleccionar abajo los de la derecha queedan bien escritos"
   ]
  },
  {
   "cell_type": "code",
   "execution_count": 261,
   "metadata": {},
   "outputs": [
    {
     "name": "stdout",
     "output_type": "stream",
     "text": [
      "ojala\n",
      "oj\n"
     ]
    }
   ],
   "source": [
    "# ELIMINAR CARACTERES A LA DERECHA DE UNA CADENA: rstrip([“caracter”])\n",
    "\n",
    "cadena = \"ojala        \"\n",
    "print(cadena.rstrip())\n",
    "\n",
    "cadena =\"ojala\"\n",
    "print(cadena.rstrip(\"ala\"))\n"
   ]
  },
  {
   "cell_type": "markdown",
   "metadata": {},
   "source": [
    "### Metodos de union y division"
   ]
  },
  {
   "cell_type": "code",
   "execution_count": 262,
   "metadata": {},
   "outputs": [
    {
     "name": "stdout",
     "output_type": "stream",
     "text": [
      "No 0000-0256-0000 (ID: 256)\n"
     ]
    }
   ],
   "source": [
    "# UNIR UNA CADENA DE FORMA ITERATIVA: join(iterable)\n",
    "\n",
    "formato_numero_factura = (\"No 0000-0\", \"-0000 (ID: \", \")\")\n",
    "numero = \"256\"\n",
    "numero_factura = numero.join(formato_numero_factura)\n",
    "\n",
    "print(numero_factura)\n",
    "\n",
    "\n",
    "\n",
    "# Retorna: la cadena unida con el iterable (la cadena es separada por cada uno de los elementos del iterable)"
   ]
  },
  {
   "cell_type": "code",
   "execution_count": 267,
   "metadata": {},
   "outputs": [
    {
     "name": "stdout",
     "output_type": "stream",
     "text": [
      "('http://', 'www.', 'facebook.com/Inicio')\n",
      "Protocolo: http://\n",
      "Dominio: facebook.com/Inicio\n"
     ]
    }
   ],
   "source": [
    "# PARTIR UNA CADENA EN TRES PARTES, UTILIZANDO UN SEPARADOR: partition(\"separador\")\n",
    "\n",
    "tupla = \"http://www.facebook.com/Inicio\".partition(\"www.\")\n",
    "print (tupla)\n",
    "\n",
    "protocolo, separador, dominio = tupla\n",
    "\n",
    "print (\"Protocolo: {0}\\nDominio: {1}\".format(protocolo, dominio))\n",
    "\n",
    "# una tupla de tres elementos donde el primero es el contenido de la cadena previo al separador, \n",
    "    # el segundo, el separador mismo y el tercero, el contenido de la cadena posterior al separador"
   ]
  },
  {
   "cell_type": "code",
   "execution_count": 269,
   "metadata": {},
   "outputs": [
    {
     "name": "stdout",
     "output_type": "stream",
     "text": [
      "['python', 'guia', 'curso', 'tutorial']\n"
     ]
    }
   ],
   "source": [
    "# PARTIR UNA CADENA EN VARIAS PARTES UTILIZANDO UN SEPARADOR: split(\"separador\")\n",
    "\n",
    "keywords = \"python, guia, curso, tutorial\".split(\", \") # le hemos dicho que haga un split por comas\n",
    "print (keywords)\n",
    "\n",
    "# Devuelve: una lista con todos elementos encontrados al dividir la cadena por un separador"
   ]
  },
  {
   "cell_type": "code",
   "execution_count": 272,
   "metadata": {},
   "outputs": [
    {
     "name": "stdout",
     "output_type": "stream",
     "text": [
      "['Linea 1', 'Linea 2', 'Linea 3', 'Linea 4']\n",
      "['Linea 1', 'Linea 2', 'Linea 3']\n"
     ]
    }
   ],
   "source": [
    "# PARTIR UNA CADENA EN LINEAS: splitlines()\n",
    "\n",
    "texto = \"\"\"Linea 1\n",
    "Linea 2\n",
    "Linea 3\n",
    "Linea 4\n",
    "\"\"\"\n",
    "print (texto.splitlines())\n",
    "\n",
    "texto = \"Linea 1\\nLinea 2\\nLinea 3\"\n",
    "print(texto.splitlines())\n"
   ]
  },
  {
   "cell_type": "markdown",
   "metadata": {},
   "source": [
    "## METODOS PRINCIPALES DEL OBJETO LIST\n",
    "- Algunos de los metodos de lista tambien se encuentran disponibles para tuplas"
   ]
  },
  {
   "cell_type": "markdown",
   "metadata": {},
   "source": [
    "### Metodos de agregado"
   ]
  },
  {
   "cell_type": "code",
   "execution_count": 308,
   "metadata": {},
   "outputs": [
    {
     "name": "stdout",
     "output_type": "stream",
     "text": [
      "['Pablo', 'Juan', 'Enrique', 'Miguel', 'Alvaro', 'Borja']\n"
     ]
    }
   ],
   "source": [
    "# AGREGAR UN ELEMENTO AL FINAL DE LA LISTA: append(“nuevo elemento”)\n",
    "\n",
    "nombres_chico = ['Pablo', 'Juan', 'Enrique', 'Miguel', 'Alvaro']\n",
    "nombres_chico.append(\"Borja\")\n",
    "print (nombres_chico)"
   ]
  },
  {
   "cell_type": "code",
   "execution_count": 309,
   "metadata": {},
   "outputs": [
    {
     "name": "stdout",
     "output_type": "stream",
     "text": [
      "['Pablo', 'Juan', 'Enrique', 'Miguel', 'Alvaro', 'Borja', 'Miguelete', 'Pablo']\n"
     ]
    }
   ],
   "source": [
    "# AGREGAR VARIOS ELEMENTOS AL FINAL DE LA LISTA: extend(otra_lista)\n",
    "\n",
    "nombres_chico.extend([\"Miguelete\", \"Pablo\"])\n",
    "print(nombres_chico)"
   ]
  },
  {
   "cell_type": "code",
   "execution_count": 310,
   "metadata": {},
   "outputs": [
    {
     "name": "stdout",
     "output_type": "stream",
     "text": [
      "['Pablo', 'Juan', 'Enrique', 'Miguel', 'Alvaro', 'Guille', 'Borja', 'Miguelete', 'Pablo']\n"
     ]
    }
   ],
   "source": [
    "# AGREGAR UN ELEMENTO EN UNA POSICION DETERMINADA:  insert(posición, “nuevo elemento”)\n",
    "\n",
    "nombres_chico.insert(5, \"Guille\")  # se pone en la posicion 5 el nombre deseado\n",
    "print(nombres_chico)"
   ]
  },
  {
   "cell_type": "markdown",
   "metadata": {},
   "source": [
    "### Metodos de eliminacion"
   ]
  },
  {
   "cell_type": "code",
   "execution_count": 311,
   "metadata": {},
   "outputs": [
    {
     "name": "stdout",
     "output_type": "stream",
     "text": [
      "['Pablo', 'Juan', 'Enrique', 'Miguel', 'Alvaro', 'Guille', 'Borja', 'Miguelete']\n"
     ]
    }
   ],
   "source": [
    "# ELIMINAR EL ULTIMO ELEMENTO DE LA LISTA: pop()\n",
    "\n",
    "nombres_chico.pop()  # El nombre Pablo es el que se va a eliminar\n",
    "print(nombres_chico)"
   ]
  },
  {
   "cell_type": "code",
   "execution_count": 312,
   "metadata": {},
   "outputs": [
    {
     "name": "stdout",
     "output_type": "stream",
     "text": [
      "['Pablo', 'Juan', 'Miguel', 'Alvaro', 'Guille', 'Borja', 'Miguelete']\n"
     ]
    }
   ],
   "source": [
    "# ELIMINAR UN ELEMENTO POR SU INDICE: pop(indice)\n",
    "\n",
    "nombres_chico.pop(2)  # Enrique es el que se va a eliminar, hemos indicado ese\n",
    "print(nombres_chico)"
   ]
  },
  {
   "cell_type": "code",
   "execution_count": 313,
   "metadata": {},
   "outputs": [
    {
     "name": "stdout",
     "output_type": "stream",
     "text": [
      "['Pablo', 'Juan', 'Miguel', 'Alvaro', 'Borja', 'Miguelete']\n"
     ]
    }
   ],
   "source": [
    "# ELIMINAR UN ELEMENTO POR SU VALOR:  remove(“valor”)\n",
    "\n",
    "nombres_chico.remove(\"Guille\")\n",
    "print(nombres_chico)"
   ]
  },
  {
   "cell_type": "markdown",
   "metadata": {},
   "source": [
    "### Metodos de orden"
   ]
  },
  {
   "cell_type": "code",
   "execution_count": 314,
   "metadata": {},
   "outputs": [
    {
     "name": "stdout",
     "output_type": "stream",
     "text": [
      "['Miguelete', 'Borja', 'Alvaro', 'Miguel', 'Juan', 'Pablo']\n"
     ]
    }
   ],
   "source": [
    "# ORDENAR UNA LISTA A LA INVERSA O INVERTIR EL ORDEN: reverse()\n",
    "\n",
    "nombres_chico.reverse()\n",
    "print(nombres_chico)"
   ]
  },
  {
   "cell_type": "code",
   "execution_count": 315,
   "metadata": {},
   "outputs": [
    {
     "name": "stdout",
     "output_type": "stream",
     "text": [
      "['Alvaro', 'Borja', 'Juan', 'Miguel', 'Miguelete', 'Pablo']\n"
     ]
    }
   ],
   "source": [
    "# ORDENAR UNA LISTA EN FORMA ASCENDENTE: sort()\n",
    "\n",
    "nombres_chico.sort()\n",
    "print(nombres_chico)"
   ]
  },
  {
   "cell_type": "code",
   "execution_count": 316,
   "metadata": {},
   "outputs": [
    {
     "name": "stdout",
     "output_type": "stream",
     "text": [
      "['Pablo', 'Miguelete', 'Miguel', 'Juan', 'Borja', 'Alvaro']\n"
     ]
    }
   ],
   "source": [
    "# ORDENAR UNA LISTA DE FORMA DESCENTENTE: sort(reverse = True)\n",
    "\n",
    "nombres_chico.sort(reverse=True)\n",
    "print(nombres_chico)"
   ]
  },
  {
   "cell_type": "markdown",
   "metadata": {},
   "source": [
    "### Metodos de busqueda "
   ]
  },
  {
   "cell_type": "code",
   "execution_count": 324,
   "metadata": {},
   "outputs": [
    {
     "data": {
      "text/plain": [
       "2"
      ]
     },
     "execution_count": 324,
     "metadata": {},
     "output_type": "execute_result"
    }
   ],
   "source": [
    "# CONTAR CANTIDAD DE APARICIONES DE ELEMENTOS: count(elemento)\n",
    "nombres_chico = ['Pablo', 'Juan', 'Enrique', 'Miguel', 'Alvaro', 'Miguel', 'Juan', 'Pablo']\n",
    "nombres_chico.count(\"Miguel\")"
   ]
  },
  {
   "cell_type": "code",
   "execution_count": 328,
   "metadata": {},
   "outputs": [
    {
     "data": {
      "text/plain": [
       "3"
      ]
     },
     "execution_count": 328,
     "metadata": {},
     "output_type": "execute_result"
    }
   ],
   "source": [
    "# OBTENER NUMERO DE INDICE: index(elemento[, indice_inicio, indice_fin])\n",
    "\n",
    "nombres_chico.index(\"Miguel\", 0, 7)  # del 0 al 7 esta en la posicion 3 (hacerlo sin nombres repetidos)"
   ]
  },
  {
   "cell_type": "markdown",
   "metadata": {},
   "source": [
    "### Anexo sobre listas y tuplas"
   ]
  },
  {
   "cell_type": "markdown",
   "metadata": {},
   "source": [
    "#### Conversion de tipos : DE LISTAS A TUPLAS Y VICEVERSA"
   ]
  },
  {
   "cell_type": "markdown",
   "metadata": {},
   "source": [
    "Una variable declarada como tupla, necesita ser modificada en tiempo de ejecución, para lo cual, debe convertirse en una lista puesto que las tuplas, son inmutables. Lo mismo sucede en el caso contrario: una variable que haya sido declarada como lista y sea necesario convertirla en una colección inmutable."
   ]
  },
  {
   "cell_type": "code",
   "execution_count": 334,
   "metadata": {},
   "outputs": [
    {
     "name": "stdout",
     "output_type": "stream",
     "text": [
      "(1, 3, 5, 6)\n",
      "[1, 2, 3, 5, 6]\n"
     ]
    },
    {
     "data": {
      "text/plain": [
       "(1, 2, 3, 5, 6)"
      ]
     },
     "execution_count": 334,
     "metadata": {},
     "output_type": "execute_result"
    }
   ],
   "source": [
    "tupla = (1,3,5,6)\n",
    "print(tupla)\n",
    "list(tupla)  # conversion de tupla a lista\n",
    "\n",
    "lista = [1,2,3,5,6]\n",
    "print(lista)\n",
    "tuple(lista)  # conversion de tupla a lista\n"
   ]
  },
  {
   "cell_type": "markdown",
   "metadata": {},
   "source": [
    "#### Concatenación simple de colecciones"
   ]
  },
  {
   "cell_type": "markdown",
   "metadata": {},
   "source": [
    "Lo cual implica unir varias __colecciones de un mismo tipo__"
   ]
  },
  {
   "cell_type": "code",
   "execution_count": 343,
   "metadata": {},
   "outputs": [
    {
     "name": "stdout",
     "output_type": "stream",
     "text": [
      "[1, 3, 5, 7, 9, 11, 2, 4, 6, 8, 10]\n"
     ]
    }
   ],
   "source": [
    "lista1 = [1,3,5,7,9,11]  # Declaramos la primera lista\n",
    "lista2= [2,4,6,8,10]  # Declaramos la segunda lista\n",
    "lista3 = lista1 + lista2\n",
    "print(lista3)"
   ]
  },
  {
   "cell_type": "code",
   "execution_count": 342,
   "metadata": {},
   "outputs": [
    {
     "name": "stdout",
     "output_type": "stream",
     "text": [
      "(1, 2, 3, 4, 5, 4, 6, 8, 10, 3, 5, 7, 9)\n"
     ]
    }
   ],
   "source": [
    "tupla1 = (1, 2, 3, 4, 5)\n",
    "tupla2 = (4, 6, 8, 10)\n",
    "tupla3 = (3, 5, 7, 9)\n",
    "tupla4 = tupla1 + tupla2 + tupla3\n",
    "print(tupla4)"
   ]
  },
  {
   "cell_type": "markdown",
   "metadata": {},
   "source": [
    "#### Valor máximo y mínimo : TANTO DE LISTAS COMO DE TUPLAS"
   ]
  },
  {
   "cell_type": "code",
   "execution_count": 344,
   "metadata": {},
   "outputs": [
    {
     "data": {
      "text/plain": [
       "10"
      ]
     },
     "execution_count": 344,
     "metadata": {},
     "output_type": "execute_result"
    }
   ],
   "source": [
    "max(tupla4)"
   ]
  },
  {
   "cell_type": "code",
   "execution_count": 347,
   "metadata": {},
   "outputs": [
    {
     "data": {
      "text/plain": [
       "4"
      ]
     },
     "execution_count": 347,
     "metadata": {},
     "output_type": "execute_result"
    }
   ],
   "source": [
    "min(tupla2)"
   ]
  },
  {
   "cell_type": "code",
   "execution_count": 346,
   "metadata": {},
   "outputs": [
    {
     "data": {
      "text/plain": [
       "5"
      ]
     },
     "execution_count": 346,
     "metadata": {},
     "output_type": "execute_result"
    }
   ],
   "source": [
    "max(tupla1)"
   ]
  },
  {
   "cell_type": "code",
   "execution_count": 348,
   "metadata": {},
   "outputs": [
    {
     "data": {
      "text/plain": [
       "11"
      ]
     },
     "execution_count": 348,
     "metadata": {},
     "output_type": "execute_result"
    }
   ],
   "source": [
    "max(lista1)"
   ]
  },
  {
   "cell_type": "code",
   "execution_count": 350,
   "metadata": {},
   "outputs": [
    {
     "data": {
      "text/plain": [
       "1"
      ]
     },
     "execution_count": 350,
     "metadata": {},
     "output_type": "execute_result"
    }
   ],
   "source": [
    "min(lista3)"
   ]
  },
  {
   "cell_type": "markdown",
   "metadata": {},
   "source": [
    "#### Contar elementos"
   ]
  },
  {
   "cell_type": "markdown",
   "metadata": {},
   "source": [
    "Al igual que para contar caracteres en una string, disponemos de la función integrada len() para conocer la cantidad de elementos en una lista o en una tupla:"
   ]
  },
  {
   "cell_type": "code",
   "execution_count": 351,
   "metadata": {},
   "outputs": [
    {
     "data": {
      "text/plain": [
       "11"
      ]
     },
     "execution_count": 351,
     "metadata": {},
     "output_type": "execute_result"
    }
   ],
   "source": [
    "len(lista3)"
   ]
  },
  {
   "cell_type": "code",
   "execution_count": 352,
   "metadata": {},
   "outputs": [
    {
     "data": {
      "text/plain": [
       "5"
      ]
     },
     "execution_count": 352,
     "metadata": {},
     "output_type": "execute_result"
    }
   ],
   "source": [
    "len(lista2)"
   ]
  },
  {
   "cell_type": "code",
   "execution_count": 353,
   "metadata": {},
   "outputs": [
    {
     "data": {
      "text/plain": [
       "4"
      ]
     },
     "execution_count": 353,
     "metadata": {},
     "output_type": "execute_result"
    }
   ],
   "source": [
    "len(tupla3)"
   ]
  },
  {
   "cell_type": "code",
   "execution_count": 355,
   "metadata": {},
   "outputs": [
    {
     "data": {
      "text/plain": [
       "13"
      ]
     },
     "execution_count": 355,
     "metadata": {},
     "output_type": "execute_result"
    }
   ],
   "source": [
    "len(tupla4)"
   ]
  },
  {
   "cell_type": "markdown",
   "metadata": {},
   "source": [
    "##  METODOS PRINCIPALES DEL OBJETO DICT (DICCIONARIO)"
   ]
  },
  {
   "cell_type": "markdown",
   "metadata": {},
   "source": [
    "### Metodos de eliminacion"
   ]
  },
  {
   "cell_type": "code",
   "execution_count": 362,
   "metadata": {},
   "outputs": [
    {
     "name": "stdout",
     "output_type": "stream",
     "text": [
      "{'nombre': 'Marta', 'edad': 22, 'colorpelo': 'moreno'}\n",
      "{}\n"
     ]
    }
   ],
   "source": [
    "# VACIAR UN DICCIONARIO: clear()\n",
    "\n",
    "diccionario = {'nombre': 'Marta', 'edad': 22, 'colorpelo': 'moreno'} \n",
    "print(diccionario)\n",
    "\n",
    "diccionario.clear()\n",
    "print(diccionario)"
   ]
  },
  {
   "cell_type": "markdown",
   "metadata": {},
   "source": [
    "### Metodos de agregacion"
   ]
  },
  {
   "cell_type": "code",
   "execution_count": 373,
   "metadata": {},
   "outputs": [
    {
     "name": "stdout",
     "output_type": "stream",
     "text": [
      "{'nombre': 'Marta', 'edad': 22, 'colorpelo': 'moreno'}\n",
      "{'nombre': 'Marta', 'edad': 22, 'colorpelo': 'moreno'}\n",
      "{}\n",
      "{'nombre': 'Marta', 'edad': 22, 'colorpelo': 'moreno'}\n",
      "{}\n",
      "{}\n"
     ]
    }
   ],
   "source": [
    "# COPIAR UN DICCIONARIO: copy()\n",
    "\n",
    "diccionario = {'nombre': 'Marta', 'edad': 22, 'colorpelo': 'moreno'} \n",
    "copia = diccionario.copy()\n",
    "print(diccionario)\n",
    "print(copia)\n",
    "\n",
    "# Ahora puedes vaciar uno sin perder los datos\n",
    "diccionario.clear()\n",
    "print(diccionario)\n",
    "print(copia)\n",
    "copia_dos = copia\n",
    "copia.clear()\n",
    "print(copia)\n",
    "print(copia_dos)"
   ]
  },
  {
   "cell_type": "code",
   "execution_count": 375,
   "metadata": {},
   "outputs": [
    {
     "name": "stdout",
     "output_type": "stream",
     "text": [
      "{'color': None, 'talla': None, 'marca': None}\n"
     ]
    }
   ],
   "source": [
    "# Crear un nuevo diccionario desde las claves de una secuencia: dict.fromkeys(secuencia[, valor por defecto])\n",
    "secuencia = [\"color\", \"talla\", \"marca\"]  # esto es una lista\n",
    "diccionario1 = dict.fromkeys(secuencia)\n",
    "print(diccionario1)\n"
   ]
  },
  {
   "cell_type": "code",
   "execution_count": 376,
   "metadata": {},
   "outputs": [
    {
     "name": "stdout",
     "output_type": "stream",
     "text": [
      "{'color': 'valor x defecto', 'talla': 'valor x defecto', 'marca': 'valor x defecto'}\n"
     ]
    }
   ],
   "source": [
    "diccionario2 = dict.fromkeys(secuencia, 'valor x defecto')\n",
    "print(diccionario2)"
   ]
  },
  {
   "cell_type": "code",
   "execution_count": 379,
   "metadata": {},
   "outputs": [
    {
     "name": "stdout",
     "output_type": "stream",
     "text": [
      "{'color': 'verde', 'precio': 45, 'talla': 'M', 'marca': 'Lacoste'}\n"
     ]
    }
   ],
   "source": [
    "# CONCATENAR DICCIONARIOS: update(diccionario)\n",
    "\n",
    "diccionario1 = {\"color\": \"verde\", \"precio\": 45}\n",
    "diccionario2 = {\"talla\": \"M\", \"marca\": \"Lacoste\"}\n",
    "\n",
    "diccionario1.update(diccionario2)\n",
    "print(diccionario1)"
   ]
  },
  {
   "cell_type": "markdown",
   "metadata": {},
   "source": [
    "__Si la clave no existe, la crea con el valor por defecto. Siempre retorna el valor para la clave pasada como parámetro.__"
   ]
  },
  {
   "cell_type": "code",
   "execution_count": 388,
   "metadata": {},
   "outputs": [
    {
     "name": "stdout",
     "output_type": "stream",
     "text": [
      "U\n",
      "{'color': 'rosa', 'marca': 'Zara', 'talla': 'U'}\n",
      "{'color': 'rosa', 'marca': 'Zara', 'talla': 'U'}\n",
      "None\n",
      "{'color': 'rosa', 'marca': 'Zara', 'talla': 'U', 'estampado': None}\n",
      "Zara\n",
      "{'color': 'rosa', 'marca': 'Zara', 'talla': 'U', 'estampado': None}\n"
     ]
    }
   ],
   "source": [
    "# ESTABLECER UNA CLAVE Y UN VALOR POR DEFECTO:  setdefault(“clave”[, None|valor_por_defecto])\n",
    "\n",
    "jersey = {\"color\": \"rosa\", \"marca\": \"Zara\"}\n",
    "clave = jersey.setdefault(\"talla\", \"U\")\n",
    "print(clave)\n",
    "print(jersey)\n",
    "\n",
    "jersey2 = jersey\n",
    "print(jersey2)\n",
    "clave = jersey2.setdefault(\"estampado\")\n",
    "print(clave)\n",
    "print(jersey2)\n",
    "\n",
    "clave = jersey2.setdefault(\"marca\", \"Lacoste\")  # no se sobreescribe ya porque la clave es Zara\n",
    "print(clave)\n",
    "print(jersey2)"
   ]
  },
  {
   "cell_type": "markdown",
   "metadata": {},
   "source": [
    "### Metodos de retorno"
   ]
  },
  {
   "cell_type": "code",
   "execution_count": 391,
   "metadata": {},
   "outputs": [
    {
     "data": {
      "text/plain": [
       "'rosa'"
      ]
     },
     "execution_count": 391,
     "metadata": {},
     "output_type": "execute_result"
    }
   ],
   "source": [
    "# Obtener el valor de una clave: get(clave[, “valor x defecto si la clave no existe”])\n",
    "\n",
    "jersey2.get(\"color\")"
   ]
  },
  {
   "cell_type": "code",
   "execution_count": 394,
   "metadata": {},
   "outputs": [
    {
     "data": {
      "text/plain": [
       "'sin stock'"
      ]
     },
     "execution_count": 394,
     "metadata": {},
     "output_type": "execute_result"
    }
   ],
   "source": [
    "jersey2.get(\"stock\", \"sin stock\") # como no hay valor de stock, entonces el valor por defecto que devuelve es sin stock"
   ]
  },
  {
   "cell_type": "code",
   "execution_count": 397,
   "metadata": {},
   "outputs": [
    {
     "name": "stdout",
     "output_type": "stream",
     "text": [
      "False\n"
     ]
    }
   ],
   "source": [
    "# saber si una clave existe en el diccionario: has_key(clave)\n",
    "\n",
    "print (\"precio\" in jersey)\n",
    "\n",
    "#has_key no existe, se hace así"
   ]
  },
  {
   "cell_type": "code",
   "execution_count": 401,
   "metadata": {},
   "outputs": [
    {
     "name": "stdout",
     "output_type": "stream",
     "text": [
      "El valor de la clave color es rosa\n",
      "El valor de la clave marca es Zara\n",
      "El valor de la clave talle es U\n"
     ]
    }
   ],
   "source": [
    "# Obtener claves y valores de un diccionario: items()\n",
    "\n",
    "diccionario = {'color': 'rosa', 'marca': 'Zara', 'talle': 'U'}\n",
    "\n",
    "for clave, valor in diccionario.items():\n",
    "    print (\"El valor de la clave %s es %s\" % (clave, valor))"
   ]
  },
  {
   "cell_type": "code",
   "execution_count": 403,
   "metadata": {},
   "outputs": [
    {
     "name": "stdout",
     "output_type": "stream",
     "text": [
      "dict_keys(['color', 'marca', 'talle'])\n"
     ]
    }
   ],
   "source": [
    "# Obtener las claves de un diccionario: keys()\n",
    "\n",
    "diccionario = {'color': 'rosa', 'marca': 'Zara', 'talle': 'U'} \n",
    "claves = diccionario.keys()\n",
    "print(claves)"
   ]
  },
  {
   "cell_type": "code",
   "execution_count": 404,
   "metadata": {},
   "outputs": [
    {
     "name": "stdout",
     "output_type": "stream",
     "text": [
      "dict_values(['rosa', 'Zara', 'U'])\n"
     ]
    }
   ],
   "source": [
    "# Obtener los valores de un diccionario: values()\n",
    "diccionario = {'color': 'rosa', 'marca': 'Zara', 'talle': 'U'} \n",
    "valores = diccionario.values()\n",
    "print(valores)"
   ]
  },
  {
   "cell_type": "code",
   "execution_count": 405,
   "metadata": {},
   "outputs": [
    {
     "data": {
      "text/plain": [
       "3"
      ]
     },
     "execution_count": 405,
     "metadata": {},
     "output_type": "execute_result"
    }
   ],
   "source": [
    "# Obtener la cantidad de elementos de un diccionario\n",
    "# Para contar los elementos de un diccionario, al igual que con las listas y tuplas, \n",
    "    #se utiliza la función integrada len()\n",
    "\n",
    "len(diccionario)"
   ]
  },
  {
   "cell_type": "markdown",
   "metadata": {},
   "source": [
    "## EL OBJETO FILE: TRABAJANDO CON ARCHIVOS"
   ]
  },
  {
   "cell_type": "markdown",
   "metadata": {},
   "source": [
    "Para asignar a una variable un valor de tipo file, solo es necesario recurrir a la función integrada open(), la cuál está destinada a la apertura de un archivo.\n",
    "La función integrada open(), recibe dos parámetros:\n",
    "- El primero de ellos es la ruta hacia el archivo que se desea abrir\n",
    "- El segundo es el modo en el cual abrirlo\n",
    "\n",
    "\n",
    "El modo de apertura de un archivo, está relacionado con el objetivo final que responde a la pregunta “¿para qué estamos abriendo este archivo?”. Las respuestas a esta pregunta pueden ser varias. Por ejemplo, podemos querer abrir un archivo para leerlo, para escribirlo, para leerlo y escribirlo, para crearlo si no existe y luego escribir en él, etc.\n",
    "\n",
    "\n",
    "Es necesario saber, que cada vez que abrimos un archivo estamos creando un “puntero”, el cuál se posicionará dentro del archivo en un lugar determinado (al comienzo o al final) y este puntero podrá moverse dentro de ese archivo, eligiendo su nueva posición, mediante el número de byte correspondiente."
   ]
  },
  {
   "cell_type": "markdown",
   "metadata": {},
   "source": [
    "# ADICIONAL"
   ]
  },
  {
   "cell_type": "code",
   "execution_count": 166,
   "metadata": {},
   "outputs": [
    {
     "data": {
      "text/plain": [
       "'marta'"
      ]
     },
     "execution_count": 166,
     "metadata": {},
     "output_type": "execute_result"
    }
   ],
   "source": [
    "str('marta')"
   ]
  },
  {
   "cell_type": "code",
   "execution_count": null,
   "metadata": {},
   "outputs": [],
   "source": [
    "str(22)"
   ]
  },
  {
   "cell_type": "markdown",
   "metadata": {},
   "source": [
    "# APUNTES CLASE"
   ]
  },
  {
   "cell_type": "markdown",
   "metadata": {},
   "source": [
    "__ENTORNOS DE DESARROLLO:__\n",
    "Para escribir y desarrollar programas solo hace falta un editor de texto y un interprete en Python para probar y ejecutar. Python posee muchos IDE(Integrated Development Environment) o entornos de desarrollo como son Jupyter Noteobook, Spyder, PyCharm...\n",
    "\n",
    "- Definicion: un entorno de desarrollo es una __APLICACION__ informatica que proporciona servicios integrales para facilitar al desarrollador del progrmaa el desarrollo del software."
   ]
  },
  {
   "cell_type": "markdown",
   "metadata": {},
   "source": [
    "Jupyter Notebook: es una aplicacion web que contiene codigo vivo, texto, formula, figuras y medios audiovisuales.\n",
    "- Podemos usar este enetorno junto con Python para realizar las tareas tipicas del analisis de datos...\n",
    "- Tambien reune todas las herramientas cientificas de Python \n",
    "- Posee __KERNELS__ que son programas diseñados para ejecutar el codigo de un lenguaje de progrmacion.\n",
    "- A su vez posee extensiones que añaden funcionalidad."
   ]
  },
  {
   "cell_type": "markdown",
   "metadata": {},
   "source": [
    "Anaconda: es una distribucion de Python que recopila muchas de las bibliotecas del ambito de la computacion cientifica."
   ]
  },
  {
   "cell_type": "markdown",
   "metadata": {},
   "source": [
    "Inicializar Jupyter Notebook: TERMINAL - \n",
    "- comando: jupyter notebook:  realizar busqueda cmd entre aplicaciones y ejecutar ese comando\n",
    "- Actua como un explorador de archivos (en vez de una interfaz web) \n",
    "\n",
    "\n",
    "\n",
    "1. Se crea un directorio: mkdir cursoPython\n",
    "2. Nos movemos a ese directorio: cd cursoPython\n",
    "3. Ejecutamos: jupyter notebook"
   ]
  },
  {
   "cell_type": "markdown",
   "metadata": {},
   "source": [
    "__PYTHON__ : es uno de los lenguajes lideres a ni el mundial ya que es __Sencillo__ y su __curva de aprendizaje__ es muy __corta__. \n",
    "- Es una herramienta pdoderosa en el __analisis numerico__ debido a su eficiencia a la hora de analizar datos y porque se utiliza en casi todas las APIs de aplicaciones relacionadas con el dato.\n",
    "\n",
    "- API: es una interfaz de programacion de aplicacion. Todos los sistemas online tienen APIs para conectarse a ellas.\n",
    "ej: acceder a la API de Twitter. La API es una interfaz, es decir, un lenguaje de comunicacion entre ordenador y persona. Son conexiones entre 2 sistemas.\n",
    "\n",
    "\n",
    "\n",
    "1. Python es un lenguaje comun que sirve para\n",
    "- Estadistica o Machine Learning\n",
    "- Inteligencia Empresarial o BI: __pandas__\n",
    "- Desarrollo WEB: con Jupyter\n",
    "- Sistemas Distribuidos: uso de __Spark__\n",
    "- Computacion Cientifica: SciPy\n",
    "\n",
    "Con Python se puede desarrollar un proyecto completo o puede ser parte de un sistema\n",
    "- Contiene muchas funcionalidades que permiten realizar tareas habituales sin tener que programarlas desde 0 (ej: convertir una cadena de texto en mayusculas)"
   ]
  },
  {
   "cell_type": "markdown",
   "metadata": {},
   "source": [
    "##### Adicional"
   ]
  },
  {
   "cell_type": "markdown",
   "metadata": {},
   "source": [
    "Python es utilizado por el 42% de programadores, despues de R y SQL"
   ]
  },
  {
   "cell_type": "markdown",
   "metadata": {},
   "source": [
    "##### Caracteristicas del lenguaje"
   ]
  },
  {
   "cell_type": "markdown",
   "metadata": {},
   "source": [
    "Es __lenguaje interpretado__: es decir, que no se debe compilar el codigo antes de su ejecucion. COnvierte el codigo escrito al lenguaje de maquina y exige instalar un interpretador.\n",
    "- Aunque es mas lento que el lenguaje compilado\n",
    "- No esta optimizado en el momento de ejecucion\n",
    "- Es mas facil para el programador pero es una carga adicional para la maquina\n",
    "\n",
    "\n",
    "\n",
    "Es __multiparadigma__: es un lenguaje imperativo y orientado a objetos. Posee caracteristicas de los lenguajes funcionales.\n",
    "\n",
    "Es __multiplataforma__ : es un lenguaje disponible para muchos sistemas operativos\n",
    "\n",
    "Es de __tipado dinamico__ : el tipo de datos es inferido en tiempo de ejecucion"
   ]
  },
  {
   "cell_type": "markdown",
   "metadata": {},
   "source": [
    "##### Librerias basicas para el tratamiento de datos"
   ]
  },
  {
   "cell_type": "markdown",
   "metadata": {},
   "source": [
    "1. NumPy o NUMERICAL PYTHON: es el pilar fundamental de todo el ecosistema de python, proporciona un ovjeto de tipo array multidimensional (ndarray) que permite el almacenamiento de datos homogeneos y heterogeneos\n",
    "    - Proporciona funcione y metodos y herramientas de lectura\n",
    "    - Operaciones de algebra lineal, funciones financieras, numeros aleatorios...\n",
    "- Pero está pensado para un conjunto de datos de tamaño fijo (no optimizado para datos heterogeneos)\n",
    "\n",
    "SOLUCION: PANDAS o PANEL DATA SETS\n",
    "2. Pandas: libreria construida sobre NumPy que proporciona estructuras de datos de alto nivel y optimizada: DATAFRAMES\n",
    "    - Alamacenamiento de datos en su origen y se representan de forma tabular\n",
    "    - Herramientas para leer, escribir datos: CSV, texto, XML, JSON...\n",
    "    - Integrada con otras librerias: Matplotlib y Seaborn (represnetacion de datos de dforma grafica)\n",
    "3. SciPy: Sublibrerias y funciones a ciencias y finanzas, interpolacion e integracion numerica y regression. \n",
    "4. SciKit: se utiliza en Machine Learning para aprendizaje automatico\n",
    "5. Matplotlib: para hacer graficos a 2D o visualizaciones de datos asi como exploracion de datos\n",
    "    - Tambien es interactivo"
   ]
  },
  {
   "cell_type": "markdown",
   "metadata": {},
   "source": [
    "## Introduccion a Jupyter Notebook"
   ]
  },
  {
   "cell_type": "markdown",
   "metadata": {},
   "source": [
    "Los notebooks de Jupyter son ficheros con extension \"-ipyb\" que contienen codigo ejecutable. A su vez contiene conjunto de celdas que pueden ser de distintos tipos:\n",
    "- Markdown (escribir texto) al ejecutar da formato al texto\n",
    "- Code (escribir codigo ejecutable) y estan marcadas por la palabra In [] o Input y estan numeradas. El resultado de cada ejecucion se muestra en Out [numero]. \n",
    "    - Los comentarios se indican con el # o __simbolo de gato__.\n",
    "- Raw NBContent: permiten escribir fragmentos de __codigo sin que sean ejecutados__"
   ]
  },
  {
   "cell_type": "code",
   "execution_count": 408,
   "metadata": {},
   "outputs": [
    {
     "data": {
      "text/plain": [
       "7"
      ]
     },
     "execution_count": 408,
     "metadata": {},
     "output_type": "execute_result"
    }
   ],
   "source": [
    "3 + 4  # Codigo a ejecutar : ejecutará el codigo\n",
    "\n",
    "# Resultado de ejecucion: 7 : producirá una salida"
   ]
  },
  {
   "cell_type": "markdown",
   "metadata": {},
   "source": [
    "En un NB de Python se puede hacer lo siguiente: \n",
    "1. Dibujar gráficas\n",
    "2. Incrustar imagenes\n",
    "3. Incrustar videos\n",
    "4. Escribir y representar código HTML\n",
    "5. Escribir codigo cientifico (matematico)"
   ]
  },
  {
   "cell_type": "code",
   "execution_count": 409,
   "metadata": {},
   "outputs": [
    {
     "name": "stdout",
     "output_type": "stream",
     "text": [
      "Populating the interactive namespace from numpy and matplotlib\n"
     ]
    },
    {
     "data": {
      "text/plain": [
       "Text(0.5,1,'Bessel Functions are neat')"
      ]
     },
     "execution_count": 409,
     "metadata": {},
     "output_type": "execute_result"
    },
    {
     "data": {
      "image/png": "[encoded data removed]",
      "text/plain": [
       "<Figure size 432x288 with 1 Axes>"
      ]
     },
     "metadata": {
      "needs_background": "light"
     },
     "output_type": "display_data"
    }
   ],
   "source": [
    "# Dibujar gráficas ejemplo : MATPLOTLIB!!\n",
    "import scipy.special as spec\n",
    "%pylab inline\n",
    "x = np.linspace(0,20,200)\n",
    "for n in range(0,13,3):\n",
    "    plt.plot(x, spec.jn(n, x), label = r'$J_{%i}(x)$' % n)\n",
    "grid()\n",
    "legend()\n",
    "title('Bessel Functions are neat')"
   ]
  },
  {
   "cell_type": "raw",
   "metadata": {},
   "source": [
    "# Incrustar imagenes\n",
    "from IPython.display import Image\n",
    "Image(filename = './images/setas.jpg')"
   ]
  },
  {
   "cell_type": "code",
   "execution_count": 412,
   "metadata": {},
   "outputs": [
    {
     "data": {
      "image/jpeg": "[encoded data removed]",
      "text/html": [
       "\n",
       "        <iframe\n",
       "            width=\"400\"\n",
       "            height=\"300\"\n",
       "            src=\"https://www.youtube.com/embed/3gNOO_YlO8s\"\n",
       "            frameborder=\"0\"\n",
       "            allowfullscreen\n",
       "        ></iframe>\n",
       "        "
      ],
      "text/plain": [
       "<IPython.lib.display.YouTubeVideo at 0x112dd5c88>"
      ]
     },
     "execution_count": 412,
     "metadata": {},
     "output_type": "execute_result"
    }
   ],
   "source": [
    "# Incrustar videos\n",
    "from IPython.display import YouTubeVideo\n",
    "YouTubeVideo('3gNOO_YlO8s')"
   ]
  },
  {
   "cell_type": "raw",
   "metadata": {},
   "source": [
    "# Escribir e interpretar codigo en HTML\n",
    "from Ipython.display import HTML\n",
    "...."
   ]
  },
  {
   "cell_type": "code",
   "execution_count": 413,
   "metadata": {},
   "outputs": [
    {
     "data": {
      "text/latex": [
       "$$F(k) = \\int_{-\\infty}^{\\infty} f(x) e^{2\\pi i k} dx$$"
      ],
      "text/plain": [
       "<IPython.core.display.Math object>"
      ]
     },
     "execution_count": 413,
     "metadata": {},
     "output_type": "execute_result"
    }
   ],
   "source": [
    "# Escribir codigo cientifico\n",
    "from IPython.display import Math\n",
    "Math(r'F(k) = \\int_{-\\infty}^{\\infty} f(x) e^{2\\pi i k} dx')"
   ]
  },
  {
   "cell_type": "markdown",
   "metadata": {},
   "source": [
    "### Caracteristicas del entorno"
   ]
  },
  {
   "cell_type": "markdown",
   "metadata": {},
   "source": [
    "#### BUSQUEDA"
   ]
  },
  {
   "cell_type": "code",
   "execution_count": 417,
   "metadata": {},
   "outputs": [],
   "source": [
    "# INTROSPECCION: conocer informacion de un objeto\n",
    "b = [1,2,3]\n",
    "b?\n",
    "\n",
    "# indica que es una lista, de tamaño 3 y que es mutable (es una lista)"
   ]
  },
  {
   "cell_type": "code",
   "execution_count": 418,
   "metadata": {},
   "outputs": [],
   "source": [
    "b.append?\n",
    "b.append??  # codigo del metodo\n",
    "# indica que se añade un objeto al final de la lista y como se construye el append"
   ]
  },
  {
   "cell_type": "code",
   "execution_count": 425,
   "metadata": {},
   "outputs": [
    {
     "name": "stdout",
     "output_type": "stream",
     "text": [
      "[1, 2, 3, 2, 2]\n"
     ]
    }
   ],
   "source": [
    "b.append(2)  # la he ejecutado dos veces por lo que ha añadido 2 2s al final de la lista\n",
    "print (b)"
   ]
  },
  {
   "cell_type": "code",
   "execution_count": null,
   "metadata": {},
   "outputs": [],
   "source": [
    "b.*p.*?  # indica todas las combinaciones que se puede hacer con b y p"
   ]
  },
  {
   "cell_type": "code",
   "execution_count": 423,
   "metadata": {},
   "outputs": [],
   "source": [
    "b.remove?  # elimina valores"
   ]
  },
  {
   "cell_type": "markdown",
   "metadata": {},
   "source": [
    "- __USO DEL TABULADOR : para completar expresiones__"
   ]
  },
  {
   "cell_type": "markdown",
   "metadata": {},
   "source": [
    "#### COMANDOS MAGICOS"
   ]
  },
  {
   "cell_type": "markdown",
   "metadata": {},
   "source": [
    "- Comandos especiales que permiten al programador tener el control del comportamiento del sistema\n",
    "- Precedidos por el simbolo %\n",
    "- Para conocer la lista de los comando magicos: %magic"
   ]
  },
  {
   "cell_type": "code",
   "execution_count": 426,
   "metadata": {},
   "outputs": [],
   "source": [
    "%magic"
   ]
  },
  {
   "cell_type": "markdown",
   "metadata": {},
   "source": [
    "COMANDOS MAGICOS:\n",
    "- __%reset__: limpia el espacio actual y borra todos los nombres definidos por usuario \n",
    "- __%del__: igual aunque para ambos Jupyter los mantiene en memoria (no se libera)\n",
    "- __%time__: sirve para medir el __tiempo de ejecucion__ de una instruccion - util para comparar procesos que dan el mimso resultado pero que utilizan algoritmos diferentes.\n",
    "- __%timeit__: permite obtener una __medida mas precisa__ y se ejecuta la instruccion varias veces y se calcula la media de los tiempos.\n",
    "    - Con grandes volumenes de datos los __milisegundos son muy importantes__"
   ]
  },
  {
   "cell_type": "code",
   "execution_count": 427,
   "metadata": {},
   "outputs": [
    {
     "name": "stdout",
     "output_type": "stream",
     "text": [
      "Once deleted, variables cannot be recovered. Proceed (y/[n])? y\n"
     ]
    }
   ],
   "source": [
    "b\n",
    "%reset"
   ]
  },
  {
   "cell_type": "code",
   "execution_count": 428,
   "metadata": {},
   "outputs": [
    {
     "ename": "NameError",
     "evalue": "name 'b' is not defined",
     "output_type": "error",
     "traceback": [
      "\u001b[0;31m---------------------------------------------------------------------------\u001b[0m",
      "\u001b[0;31mNameError\u001b[0m                                 Traceback (most recent call last)",
      "\u001b[0;32m<ipython-input-428-67e500defa1b>\u001b[0m in \u001b[0;36m<module>\u001b[0;34m()\u001b[0m\n\u001b[0;32m----> 1\u001b[0;31m \u001b[0mprint\u001b[0m\u001b[0;34m(\u001b[0m\u001b[0mb\u001b[0m\u001b[0;34m)\u001b[0m\u001b[0;34m\u001b[0m\u001b[0m\n\u001b[0m",
      "\u001b[0;31mNameError\u001b[0m: name 'b' is not defined"
     ]
    }
   ],
   "source": [
    "print(b)  # b ya no está definida y no existe"
   ]
  },
  {
   "cell_type": "code",
   "execution_count": 429,
   "metadata": {},
   "outputs": [
    {
     "name": "stdout",
     "output_type": "stream",
     "text": [
      "13.4 ns ± 0.415 ns per loop (mean ± std. dev. of 7 runs, 100000000 loops each)\n"
     ]
    }
   ],
   "source": [
    "%timeit 6 + 2  # se ha tardado nanosegundos que es menos que microsegundos"
   ]
  },
  {
   "cell_type": "code",
   "execution_count": 430,
   "metadata": {},
   "outputs": [
    {
     "name": "stdout",
     "output_type": "stream",
     "text": [
      "CPU times: user 4 µs, sys: 1 µs, total: 5 µs\n",
      "Wall time: 11 µs\n"
     ]
    },
    {
     "data": {
      "text/plain": [
       "8"
      ]
     },
     "execution_count": 430,
     "metadata": {},
     "output_type": "execute_result"
    }
   ],
   "source": [
    "%time 6 + 2"
   ]
  },
  {
   "cell_type": "code",
   "execution_count": 431,
   "metadata": {},
   "outputs": [
    {
     "name": "stdout",
     "output_type": "stream",
     "text": [
      "CPU times: user 5 µs, sys: 1e+03 ns, total: 6 µs\n",
      "Wall time: 10 µs\n"
     ]
    },
    {
     "data": {
      "text/plain": [
       "8"
      ]
     },
     "execution_count": 431,
     "metadata": {},
     "output_type": "execute_result"
    }
   ],
   "source": [
    "time 6 + 2  # se han tardado microsegundos "
   ]
  },
  {
   "cell_type": "markdown",
   "metadata": {},
   "source": [
    "#### COMUNICACION CON EL SISTEMA OPERATIVO"
   ]
  },
  {
   "cell_type": "code",
   "execution_count": 432,
   "metadata": {},
   "outputs": [
    {
     "data": {
      "text/plain": [
       "'/Users/martadivasson/Desktop/EXAMENES'"
      ]
     },
     "execution_count": 432,
     "metadata": {},
     "output_type": "execute_result"
    }
   ],
   "source": [
    "%pwd  # Devuelve el nombre del directorio de trabajo"
   ]
  },
  {
   "cell_type": "code",
   "execution_count": 436,
   "metadata": {},
   "outputs": [
    {
     "name": "stdout",
     "output_type": "stream",
     "text": [
      "[Errno 2] No such file or directory: 'dir # Cambia el directorio actual de trabajo'\n",
      "/Users/martadivasson/Desktop/EXAMENES\n"
     ]
    }
   ],
   "source": [
    "%cd\\dir  # Cambia el directorio actual de trabajo"
   ]
  },
  {
   "cell_type": "code",
   "execution_count": 435,
   "metadata": {},
   "outputs": [
    {
     "name": "stdout",
     "output_type": "stream",
     "text": [
      "ETL examen .docx               Programacion en R examen.docx\r\n",
      "MACHINE LEARNING EXAMEN.docx   \u001b[34mR\u001b[m\u001b[m/\r\n",
      "PREDICCION EXAMEN.docx         SQL examen.docx\r\n",
      "PROGRAMACIONR_EXAMEN.R         TECNICAS DE AGRUPACION.docx\r\n",
      "PYTHON EXAMEN.ipynb            VISUALIZACION EXAMEN.docx\r\n",
      "\u001b[34mPYTHON_CAPTURAS\u001b[m\u001b[m/               sparklyr.pdf\r\n"
     ]
    }
   ],
   "source": [
    "%ls  # Indica el contenido del directorio actual\n",
    "# los que están en azul son CARPETAS"
   ]
  },
  {
   "cell_type": "markdown",
   "metadata": {},
   "source": [
    "## Definiendo funciones en Python"
   ]
  },
  {
   "cell_type": "markdown",
   "metadata": {},
   "source": [
    "Las funciones son el __metodo principal__ para organizar y reutilizar codigo"
   ]
  },
  {
   "cell_type": "code",
   "execution_count": 440,
   "metadata": {},
   "outputs": [
    {
     "name": "stdout",
     "output_type": "stream",
     "text": [
      "87\n"
     ]
    }
   ],
   "source": [
    "a = -87\n",
    "a = abs(a)  # Valor absoluto de una variables : funcion muy comun\n",
    "print(a)  # Enseñar la variable : funcion muy comun"
   ]
  },
  {
   "cell_type": "markdown",
   "metadata": {},
   "source": [
    "### Podemos definir nuestras PROPIAS funciones"
   ]
  },
  {
   "cell_type": "markdown",
   "metadata": {},
   "source": [
    "Las funciones tienen un nombre y se __declaran con def__ y devuelve un valor usando __return__ . Tienen una __lista de argumentos__ posicionales, por clave y argumentos agrupados."
   ]
  },
  {
   "cell_type": "code",
   "execution_count": 442,
   "metadata": {},
   "outputs": [
    {
     "data": {
      "text/plain": [
       "9"
      ]
     },
     "execution_count": 442,
     "metadata": {},
     "output_type": "execute_result"
    }
   ],
   "source": [
    "# 1.                                Argumentos Posicionales\n",
    "\n",
    "\n",
    "# Creamos una funcion que suma 3 numeros y devuelve el resultado y tienen 3 argumentos posicionales\n",
    "def funcion(x,y,z):\n",
    "    return x + y + z\n",
    "funcion(2,3,4)  # esta es la forma SIMPLE de hacerlo\n",
    "\n",
    "# Otra forma:\n",
    "def funcion(x,y,z):\n",
    "    m1 = x + y  # aqui lo estamos haciendo por partes, llamamos a la variable de una forma y luego lo sumamos\n",
    "    m2 = m1 + z\n",
    "    return m2\n",
    "funcion(2,3,4)  # Esto es LLAMADA a la FUNCION o INVOCAR a la FUNCION"
   ]
  },
  {
   "cell_type": "code",
   "execution_count": 443,
   "metadata": {},
   "outputs": [
    {
     "data": {
      "text/plain": [
       "53"
      ]
     },
     "execution_count": 443,
     "metadata": {},
     "output_type": "execute_result"
    }
   ],
   "source": [
    "# Si quiero SUSTITUIR VALORES\n",
    "\n",
    "a = 20\n",
    "b = 30\n",
    "\n",
    "funcion(a, 3, b)  # la funcion ya esta definida en el sistema, pero le estamos dando otros valores"
   ]
  },
  {
   "cell_type": "code",
   "execution_count": 450,
   "metadata": {},
   "outputs": [
    {
     "name": "stdout",
     "output_type": "stream",
     "text": [
      "5\n",
      "9\n",
      "54\n"
     ]
    }
   ],
   "source": [
    "# 1.                                Argumentos por CLAVE\n",
    "\n",
    "    # Indican valores POR DEFECTO y siempre se situan despues de los argumentos posicionales. Incluso podemos invocar\n",
    "        #una funcion con menos argumentos de los que pertmite\n",
    "        \n",
    "def funcion(x, y, z1 = 0, z2 = 0):\n",
    "    m = x + y + z1 + z2\n",
    "    return m\n",
    "\n",
    "resultado1 = funcion(2,3)  # aqui z1 y z2 si se consideran con sus valores por defecto aunque no se pongan\n",
    "print(resultado1)\n",
    "resultado2 = funcion (2,3, z1 = 4)  # z2 toma el valor por defecto\n",
    "print(resultado2)\n",
    "resultado3 = funcion(2,3, z1 = 40, z2 = 9)\n",
    "print(resultado3)"
   ]
  },
  {
   "cell_type": "markdown",
   "metadata": {},
   "source": [
    "### Valores devueltos por una funcion"
   ]
  },
  {
   "cell_type": "markdown",
   "metadata": {},
   "source": [
    "Una funcion puede tener __varias instrucciones return__\n",
    "- Si la funcion no alcanza ninguna instruccion return entonces Python __devuelve None (Nulo) que es de tipo NoneType.__"
   ]
  },
  {
   "cell_type": "code",
   "execution_count": 452,
   "metadata": {},
   "outputs": [
    {
     "name": "stdout",
     "output_type": "stream",
     "text": [
      "None\n"
     ]
    },
    {
     "data": {
      "text/plain": [
       "NoneType"
      ]
     },
     "execution_count": 452,
     "metadata": {},
     "output_type": "execute_result"
    }
   ],
   "source": [
    "def funcion(x, y, z, t):\n",
    "    res = x + y + z + t \n",
    "res1 = funcion(2,3,4,5)\n",
    "print(res1)  # devuelve none pq no hay instruccion RETURN\n",
    "type(res1)  # te dice que es de tipo NoneType"
   ]
  },
  {
   "cell_type": "code",
   "execution_count": 456,
   "metadata": {},
   "outputs": [
    {
     "name": "stdout",
     "output_type": "stream",
     "text": [
      "Marta\n",
      "Guapa\n"
     ]
    }
   ],
   "source": [
    "def funcion():\n",
    "    print('Marta')  # Python utiliza tabulaciones para dar formato al codigo\n",
    "    print('Guapa')\n",
    "    return('Fin de la historia')  # Aquí termina la funcion\n",
    "    print('Era broma')\n",
    "    print('Pero no tanto')\n",
    "resul = funcion()\n",
    "\n",
    "# Cuidado con los errores de sintaxis, es decir, las tabulaciones hay que ponerlas bien"
   ]
  },
  {
   "cell_type": "code",
   "execution_count": 459,
   "metadata": {},
   "outputs": [
    {
     "name": "stdout",
     "output_type": "stream",
     "text": [
      "Holi a todos\n",
      "None\n"
     ]
    }
   ],
   "source": [
    "# Utilizar llaves en las funciones\n",
    "def funcion():\n",
    "    {\n",
    "    print('Holi a todos')\n",
    "} \n",
    "funcion1 = funcion()\n",
    "print(funcion1)"
   ]
  },
  {
   "cell_type": "code",
   "execution_count": 465,
   "metadata": {},
   "outputs": [
    {
     "name": "stdout",
     "output_type": "stream",
     "text": [
      "(2, 4)\n",
      "(-2, 4)\n",
      "A es menor\n",
      "Hoy ha llegado el fin\n",
      "None\n"
     ]
    }
   ],
   "source": [
    "# Definir 2 valores\n",
    "def funcion(a,b):\n",
    "    if a <= b:\n",
    "        print('A es menor')\n",
    "    else:\n",
    "        return int(b), a  # devuelve una tupla con el numero entero de b primero y a despues\n",
    "    print('Hoy ha llegado el fin')\n",
    "    \n",
    "vamos = funcion(4,2)\n",
    "print(vamos)\n",
    "\n",
    "vamos = funcion(4, - 2)\n",
    "print(vamos)\n",
    "\n",
    "vamos = funcion(2, 4)\n",
    "print(vamos)"
   ]
  },
  {
   "cell_type": "markdown",
   "metadata": {},
   "source": [
    "### Definicion por comprension"
   ]
  },
  {
   "cell_type": "markdown",
   "metadata": {},
   "source": [
    "Una lista por comprension o __list comprehension__ es una expresion compacta para __definir listas, conjuntos y diccionarios__ en Python.\n",
    "- Se trata de definir cada uno de los elementos SIN TENER que nombrar cada uno de ellos.\n",
    "- La forma general : \n",
    "                    > [exp for val in < coleccion > if < condicion >]"
   ]
  },
  {
   "cell_type": "code",
   "execution_count": 473,
   "metadata": {},
   "outputs": [
    {
     "name": "stdout",
     "output_type": "stream",
     "text": [
      "[1, 3, 5]\n",
      "[1, 3, 5]\n",
      "[16, 36]\n"
     ]
    }
   ],
   "source": [
    "# Sacar las PRIMERAS COMPONENTES de las TUPLAS en las listas\n",
    "m = [ x for x,y in [(1,2), (3,4), (5,6)] ]\n",
    "print(m)\n",
    "\n",
    "s = [ f[0] for f in [(1,2), (3,4), (5,6)] ]\n",
    "print(s)\n",
    "\n",
    "# Operaciones con COMPONENTES de las TUPLAS en las listas\n",
    "\n",
    "    # Pide: cuadrado de las segundas componentes de la lista si la primera componente es mayor que 2\n",
    "lista_tupla = [y ** 2 for x,y in [(1,2), (3,4), (5,6)] if x > 2]\n",
    "print(lista_tupla)"
   ]
  },
  {
   "cell_type": "code",
   "execution_count": 476,
   "metadata": {},
   "outputs": [
    {
     "name": "stdout",
     "output_type": "stream",
     "text": [
      "['A', 'B', 'C', 'D']\n"
     ]
    }
   ],
   "source": [
    "# Construimos una lista MAYUSCULAS a partir de la lista LETRAS\n",
    "letras = ['a', 'b', 'c', 'd'] \n",
    "mayusculas = [a.upper() for a in letras]\n",
    "print(mayusculas)"
   ]
  },
  {
   "cell_type": "code",
   "execution_count": 477,
   "metadata": {},
   "outputs": [
    {
     "name": "stdout",
     "output_type": "stream",
     "text": [
      "{1: 'A', 2: 'B', 3: 'C', 4: 'D'}\n"
     ]
    }
   ],
   "source": [
    "# Convertimos un diccionario a MAYUSCULAS \n",
    "\n",
    "dicc_mayus = {i+1 : a.upper() for i,a in enumerate(letras)} # IMPORTANTE\n",
    "print(dicc_mayus)"
   ]
  },
  {
   "cell_type": "markdown",
   "metadata": {},
   "source": [
    "### Diccionarios"
   ]
  },
  {
   "cell_type": "markdown",
   "metadata": {},
   "source": [
    "Los diccionarios son una coleccion ordenada de pares clave-valor donde estos son objetos. La clave de cada diccionario es unica y no se puede repetir y el __ACCESO__ a un diccionario siempre se realiza a partir de la clave."
   ]
  },
  {
   "cell_type": "markdown",
   "metadata": {},
   "source": [
    "##### Crear un diccionario {} clave:valor, clave:valor..."
   ]
  },
  {
   "cell_type": "markdown",
   "metadata": {},
   "source": [
    "- Directamente con los miembros que va a contener\n",
    "- Inicializar un diccionario vacio y luego agregar valores. "
   ]
  },
  {
   "cell_type": "code",
   "execution_count": 480,
   "metadata": {},
   "outputs": [
    {
     "data": {
      "text/plain": [
       "False"
      ]
     },
     "execution_count": 480,
     "metadata": {},
     "output_type": "execute_result"
    }
   ],
   "source": [
    "diccionario = {}  # creacicon de un diccionario vacio\n",
    "bool(diccionario)  # Esta funcion devuelve TRUE: si el dicc tiene elementos y FALSE si nos los tiene"
   ]
  },
  {
   "cell_type": "code",
   "execution_count": 481,
   "metadata": {},
   "outputs": [
    {
     "name": "stdout",
     "output_type": "stream",
     "text": [
      "{1: 'Lunes', 2: 'Martes', 3: 'Miercoles'}\n"
     ]
    }
   ],
   "source": [
    "diccionario = {1:'Lunes', 2: 'Martes', 3:'Miercoles'}  # Creamos un diccionario con elementos\n",
    "print(diccionario)"
   ]
  },
  {
   "cell_type": "code",
   "execution_count": 482,
   "metadata": {},
   "outputs": [
    {
     "data": {
      "text/plain": [
       "2"
      ]
     },
     "execution_count": 482,
     "metadata": {},
     "output_type": "execute_result"
    }
   ],
   "source": [
    "diccionario2 = {'Hola' : ['Hi', 'Bonjour'],\n",
    "               'Adios': ['Bye', 'Au revoir']}\n",
    "len(diccionario2)  # el tamaño del diccionario es de 2 claves"
   ]
  },
  {
   "cell_type": "markdown",
   "metadata": {},
   "source": [
    "1. La __clave__ de un diccionario puede ser cualquier variable de tipo __inmutable : cadenas, enteros, tuplas__\n",
    "2. Los __valores__ de un diccionario puede ser de cualquier tipo: listas, cadenas, tuplas, otros dicc, objetos...."
   ]
  },
  {
   "cell_type": "code",
   "execution_count": 507,
   "metadata": {},
   "outputs": [
    {
     "name": "stdout",
     "output_type": "stream",
     "text": [
      "{'Lunes': 1, 'Martes': 2, 'Finde': (6, 7)}\n"
     ]
    }
   ],
   "source": [
    "diccionario1 = {'Lunes': 1, 'Martes':2, 'Finde': (6,7)}\n",
    "print(diccionario1)"
   ]
  },
  {
   "cell_type": "code",
   "execution_count": 508,
   "metadata": {},
   "outputs": [
    {
     "name": "stdout",
     "output_type": "stream",
     "text": [
      "{'Pepa': 643526284, 'Pipa': 639825384, 'Popa': 674563928}\n"
     ]
    }
   ],
   "source": [
    "dic_vacio = {}  # Diccionario Vacio en el eque se va asignando valores a las claves\n",
    "dic_vacio['Pepa'] = 643526284  # Le asignas valores a las claves \n",
    "dic_vacio['Pipa'] = 639825384\n",
    "dic_vacio['Popa'] = 674563928\n",
    "print(dic_vacio)"
   ]
  },
  {
   "cell_type": "markdown",
   "metadata": {},
   "source": [
    "##### Acceso a los elementos de un diccionario [ lugar del indice asociado a la clave]"
   ]
  },
  {
   "cell_type": "code",
   "execution_count": 509,
   "metadata": {},
   "outputs": [
    {
     "data": {
      "text/plain": [
       "674563928"
      ]
     },
     "execution_count": 509,
     "metadata": {},
     "output_type": "execute_result"
    }
   ],
   "source": [
    "dic_vacio['Popa']  \n",
    "\n",
    "# No puede haber una diccionario con la misma clave repetida pq sino se reemplaza el existente con el valor anterior"
   ]
  },
  {
   "cell_type": "code",
   "execution_count": 510,
   "metadata": {},
   "outputs": [
    {
     "name": "stdout",
     "output_type": "stream",
     "text": [
      "{'Pepa': ['87645637', '3987465'], 'Pipa': 639825384, 'Popa': 98765}\n"
     ]
    }
   ],
   "source": [
    "dic_vacio['Popa'] = 98765  # he sobreescrito valores \n",
    "dic_vacio['Pepa'] = ['87645637', '3987465']  # he asignado mas de un valor a Pepa\n",
    "print(dic_vacio)"
   ]
  },
  {
   "cell_type": "code",
   "execution_count": 511,
   "metadata": {},
   "outputs": [
    {
     "ename": "KeyError",
     "evalue": "'Juan'",
     "output_type": "error",
     "traceback": [
      "\u001b[0;31m---------------------------------------------------------------------------\u001b[0m",
      "\u001b[0;31mKeyError\u001b[0m                                  Traceback (most recent call last)",
      "\u001b[0;32m<ipython-input-511-7064f701bc32>\u001b[0m in \u001b[0;36m<module>\u001b[0;34m()\u001b[0m\n\u001b[0;32m----> 1\u001b[0;31m \u001b[0mdic_vacio\u001b[0m\u001b[0;34m[\u001b[0m\u001b[0;34m'Juan'\u001b[0m\u001b[0;34m]\u001b[0m  \u001b[0;31m# no hay una clave que se llame JUAN\u001b[0m\u001b[0;34m\u001b[0m\u001b[0m\n\u001b[0m",
      "\u001b[0;31mKeyError\u001b[0m: 'Juan'"
     ]
    }
   ],
   "source": [
    "dic_vacio['Juan']  # no hay una clave que se llame JUAN"
   ]
  },
  {
   "cell_type": "code",
   "execution_count": 512,
   "metadata": {},
   "outputs": [
    {
     "name": "stdout",
     "output_type": "stream",
     "text": [
      "False\n",
      "True\n"
     ]
    }
   ],
   "source": [
    "# Para evitar lo de arriba preguntamos \n",
    "\n",
    "print('Juan' in dic_vacio)  # Juan no esta en dic_vacio\n",
    "print('Pepa' in dic_vacio)"
   ]
  },
  {
   "cell_type": "code",
   "execution_count": 513,
   "metadata": {},
   "outputs": [
    {
     "data": {
      "text/plain": [
       "NoneType"
      ]
     },
     "execution_count": 513,
     "metadata": {},
     "output_type": "execute_result"
    }
   ],
   "source": [
    "m = dic_vacio.get('Carlota')  # estamos diciendo que meta la clave Carlota en m pero ocmo no esta el tipo es NoneType\n",
    "type(m)"
   ]
  },
  {
   "cell_type": "code",
   "execution_count": 514,
   "metadata": {},
   "outputs": [
    {
     "name": "stdout",
     "output_type": "stream",
     "text": [
      "{'Pepa': ['87645637', '3987465'], 'Pipa': 639825384, 'Popa': 98765}\n",
      "['87645637', '3987465']\n"
     ]
    }
   ],
   "source": [
    "# Eliminar elementos de un diccionario\n",
    "\n",
    "print(dic_vacio)\n",
    "e = dic_vacio.pop('Pepa')\n",
    "print(e)\n",
    "\n",
    "\n",
    "# si hacemos un pop de elementos que no existen devolverá un error OBVIO"
   ]
  },
  {
   "cell_type": "code",
   "execution_count": 515,
   "metadata": {},
   "outputs": [
    {
     "name": "stdout",
     "output_type": "stream",
     "text": [
      "{'Pipa': 639825384, 'Popa': 98765}\n"
     ]
    }
   ],
   "source": [
    "print(dic_vacio)  # ahora en dic_vacio ya no hay Pepa"
   ]
  },
  {
   "cell_type": "markdown",
   "metadata": {},
   "source": [
    "#### Metodos: keys, values, update"
   ]
  },
  {
   "cell_type": "markdown",
   "metadata": {},
   "source": [
    "1. __Metodo KEYS__: devuelve una LISTA con las claves de un diccionario\n",
    "2. __Metodo VALUES__: devuelve una LISTA con los valores de un diccionario"
   ]
  },
  {
   "cell_type": "code",
   "execution_count": 522,
   "metadata": {},
   "outputs": [
    {
     "data": {
      "text/plain": [
       "{'Pipa': 639825384, 'Popa': 98765}"
      ]
     },
     "execution_count": 522,
     "metadata": {},
     "output_type": "execute_result"
    }
   ],
   "source": [
    "dic_vacio"
   ]
  },
  {
   "cell_type": "code",
   "execution_count": 523,
   "metadata": {},
   "outputs": [
    {
     "name": "stdout",
     "output_type": "stream",
     "text": [
      "dict_keys(['Pipa', 'Popa'])\n",
      "dict_values([639825384, 98765])\n"
     ]
    }
   ],
   "source": [
    "print(dic_vacio.keys())  # Devuelve las claves en una lista\n",
    "print(dic_vacio.values())  # Devuelve los cvalores en una lista"
   ]
  },
  {
   "cell_type": "code",
   "execution_count": 524,
   "metadata": {},
   "outputs": [
    {
     "name": "stdout",
     "output_type": "stream",
     "text": [
      "{'Lunes': 1, 'Martes': 2, 'Finde': (6, 7), 'Pipa': 639825384, 'Popa': 98765}\n"
     ]
    }
   ],
   "source": [
    "# Fusionar o unir diccionarios: UPDATE()\n",
    "print(diccionario1)"
   ]
  },
  {
   "cell_type": "code",
   "execution_count": 525,
   "metadata": {},
   "outputs": [
    {
     "name": "stdout",
     "output_type": "stream",
     "text": [
      "{'Lunes': 1, 'Martes': 2, 'Finde': (6, 7), 'Pipa': 639825384, 'Popa': 98765}\n"
     ]
    }
   ],
   "source": [
    "diccionario1.update(dic_vacio)  # Metemos el dic_vacio dentro de dic1\n",
    "print(diccionario1)"
   ]
  },
  {
   "cell_type": "code",
   "execution_count": 526,
   "metadata": {},
   "outputs": [
    {
     "name": "stdout",
     "output_type": "stream",
     "text": [
      "<zip object at 0x112dc0688>\n"
     ]
    }
   ],
   "source": [
    "# La funcion zip: permite crear un objeto iterable a partir de los elementos de otras secuencias\n",
    "\n",
    "parte1 = [1,2,3,4]\n",
    "parte2 = ['primavera', 'verano', 'otoño', 'invierno']\n",
    "zz = zip(parte1, parte2)\n",
    "print(zz)\n"
   ]
  },
  {
   "cell_type": "code",
   "execution_count": 527,
   "metadata": {},
   "outputs": [
    {
     "data": {
      "text/plain": [
       "[(1, 'primavera'), (2, 'verano'), (3, 'otoño'), (4, 'invierno')]"
      ]
     },
     "execution_count": 527,
     "metadata": {},
     "output_type": "execute_result"
    }
   ],
   "source": [
    "list(zz)  # creamos una lista a partir del OBJETO ITERABLE"
   ]
  },
  {
   "cell_type": "code",
   "execution_count": 529,
   "metadata": {},
   "outputs": [
    {
     "name": "stdout",
     "output_type": "stream",
     "text": [
      "(1, 2, 3, 4) ('primavera', 'verano', 'otoño', 'invierno')\n"
     ]
    }
   ],
   "source": [
    "# podemos hacer UNZIP para separar una lista de tuplas de varias secuencias\n",
    "zz = zip(parte1, parte2)\n",
    "c1, c2 = zip(*zz)\n",
    "print(c1, c2)"
   ]
  },
  {
   "cell_type": "code",
   "execution_count": 530,
   "metadata": {},
   "outputs": [
    {
     "name": "stdout",
     "output_type": "stream",
     "text": [
      "{1: 'primavera', 2: 'verano', 3: 'otoño', 4: 'invierno'}\n"
     ]
    }
   ],
   "source": [
    "# a partir de secuencias tambien es posible crear diccionarios\n",
    "\n",
    "map = dict(zip(parte1, parte2))\n",
    "print(map)"
   ]
  },
  {
   "cell_type": "markdown",
   "metadata": {},
   "source": [
    "### Estructuras de control"
   ]
  },
  {
   "cell_type": "markdown",
   "metadata": {},
   "source": [
    "####  Instrucciones if, elif, else"
   ]
  },
  {
   "cell_type": "markdown",
   "metadata": {},
   "source": [
    "1. if: se utiliza para comprobar una condicion\n",
    "    - Si es VERDADERA: procesaremos un bloque de instrucciones\n",
    "    - Si es FALSA: ejecuta el bloque de instrucciones __alternativo__ : __else__ (clausula __OPCIONAL__)\n",
    "    \n",
    "                                > if < condicion >:  # a partir de aqui va todo dentro del condicional\n",
    "                                        <  instrucciones del bloque if > \n",
    "                                  else:  # hemos cerrado el primer condicional\n",
    "                                        < instrucciones del bloque else >\n",
    "    "
   ]
  },
  {
   "cell_type": "code",
   "execution_count": 532,
   "metadata": {},
   "outputs": [
    {
     "name": "stdout",
     "output_type": "stream",
     "text": [
      "x es mayor que y\n",
      "x sigue siendo mayor que y\n"
     ]
    }
   ],
   "source": [
    "x,y = 2, 0\n",
    "\n",
    "if x > y:\n",
    "    print(\"x es mayor que y\")\n",
    "    print(\"x sigue siendo mayor que y\")\n",
    "else:\n",
    "    pass     # esto indica que no se hace nada"
   ]
  },
  {
   "cell_type": "code",
   "execution_count": 533,
   "metadata": {},
   "outputs": [],
   "source": [
    "z , e = 3, 7\n",
    "if z > e:\n",
    "    print(\"z es mayor que e\")\n",
    "    print(\"z sigue siendo mayor que e\")\n",
    "else:\n",
    "    pass     # esto indica que no se hace nada; se debe poner aunque el progrma no exija 2 CONDICIONAL"
   ]
  },
  {
   "cell_type": "code",
   "execution_count": 534,
   "metadata": {},
   "outputs": [
    {
     "name": "stdout",
     "output_type": "stream",
     "text": [
      "Esto se ejecuta siempre\n"
     ]
    }
   ],
   "source": [
    "if 1 < 0:  # sabemos que esto siempre es falso\n",
    "    print(\"1 es menor que 0\")\n",
    "else:\n",
    "    pass\n",
    "print(\"Esto se ejecuta siempre\")  # Esto no esta dentro del condicional"
   ]
  },
  {
   "cell_type": "code",
   "execution_count": 535,
   "metadata": {},
   "outputs": [
    {
     "name": "stdout",
     "output_type": "stream",
     "text": [
      "Mas de uno\n"
     ]
    }
   ],
   "source": [
    "if x < 0:\n",
    "    x = 0\n",
    "    print('Negativo cambiado a cero')\n",
    "elif x == 0:\n",
    "    print(\"cero\")\n",
    "else: \n",
    "    print('Mas de uno')"
   ]
  },
  {
   "cell_type": "code",
   "execution_count": 537,
   "metadata": {},
   "outputs": [
    {
     "name": "stdout",
     "output_type": "stream",
     "text": [
      "x es mayor que y\n",
      "x es menor que y\n"
     ]
    }
   ],
   "source": [
    "x,y = 2, 0\n",
    "\n",
    "if x > y:\n",
    "    print(\"x es mayor que y\")\n",
    "else:\n",
    "    print(\"x es menor que y\")\n",
    "    \n",
    "x,y = 2, 5\n",
    "\n",
    "if x > y:\n",
    "    print(\"x es mayor que y\")\n",
    "else:\n",
    "    print(\"x es menor que y\")"
   ]
  },
  {
   "cell_type": "code",
   "execution_count": 538,
   "metadata": {},
   "outputs": [
    {
     "name": "stdout",
     "output_type": "stream",
     "text": [
      "x no es ni menor ni igual que y\n"
     ]
    }
   ],
   "source": [
    "# elif\n",
    "\n",
    "x,y = 2, 0\n",
    "\n",
    "if x < y:\n",
    "    print(\"x es menor que y\")\n",
    "elif x == y:\n",
    "    print(\"x es igual que y\")\n",
    "else:\n",
    "    print(\"x no es ni menor ni igual que y\")"
   ]
  },
  {
   "cell_type": "markdown",
   "metadata": {},
   "source": [
    "#### Expresiones ternarias"
   ]
  },
  {
   "cell_type": "markdown",
   "metadata": {},
   "source": [
    "> e = valorSiTrue if < condicion> else valorSiFalse\n",
    "\n",
    "- Equivalente: \n",
    "                            > if < condicion >:\n",
    "                                e = valorSitrue\n",
    "                              else: \n",
    "                                e = valorSiFalse"
   ]
  },
  {
   "cell_type": "markdown",
   "metadata": {},
   "source": [
    "### Bucles for y while"
   ]
  },
  {
   "cell_type": "markdown",
   "metadata": {},
   "source": [
    "El bucle  for itera sobre los elemetos de cualquier secuencia: tupla, lista o cadena de texto en el orden que aparecen en la secuencia.\n",
    "\n",
    "Recorre una coleccion completa de elementos, pasa a traves de cada elemento.\n",
    "\n",
    "\n",
    "\n",
    "- El bucle: Se repite un numero fijo de veces que es la longitud de la coleccion de elementos\n",
    "                          >  for < elemento > in < objeto iterable> (puede ser una lista, tupla, array) : \n",
    "                                                             < hacer algo>"
   ]
  },
  {
   "cell_type": "code",
   "execution_count": 539,
   "metadata": {},
   "outputs": [
    {
     "name": "stdout",
     "output_type": "stream",
     "text": [
      "1\n",
      "2\n",
      "3\n",
      "4\n",
      "5\n"
     ]
    }
   ],
   "source": [
    "for elemento in (1,2,3,4,5):  # itera sobre los elementos de la tupla\n",
    "    print(elemento)"
   ]
  },
  {
   "cell_type": "code",
   "execution_count": 540,
   "metadata": {},
   "outputs": [
    {
     "name": "stdout",
     "output_type": "stream",
     "text": [
      "0\n",
      "1\n",
      "3\n",
      "6\n",
      "10\n",
      "El bucle for ha terminado\n"
     ]
    }
   ],
   "source": [
    "suma = 0\n",
    "for elemento in (1,2,3,4,5):  # se han realizado 5 iteraciones: como elementos en la tupla (contando el 0)\n",
    "    print(suma)\n",
    "    suma = suma + elemento\n",
    "print(\"El bucle for ha terminado\")\n",
    "\n",
    "# no esta el valor 15 pq sino ya hubiesen sido 6 iteraciones"
   ]
  },
  {
   "cell_type": "code",
   "execution_count": 541,
   "metadata": {},
   "outputs": [
    {
     "name": "stdout",
     "output_type": "stream",
     "text": [
      "Lunes\n",
      "Martes\n",
      "Miercoles\n",
      "Jueves\n"
     ]
    }
   ],
   "source": [
    "dias = ['Lunes', 'Martes', 'Miercoles', 'Jueves']\n",
    "for nombre in dias:\n",
    "    print(nombre)"
   ]
  },
  {
   "cell_type": "code",
   "execution_count": 542,
   "metadata": {},
   "outputs": [
    {
     "name": "stdout",
     "output_type": "stream",
     "text": [
      "0\n",
      "1\n",
      "2\n"
     ]
    }
   ],
   "source": [
    "# objeto iterables (range(3)) susceptible de ser recorrido con un for\n",
    "    # for es un iterador\n",
    "for i in range(3):  # range (3) crea la lista de enteros de un intervalo [0,3)\n",
    "    print(i)"
   ]
  },
  {
   "cell_type": "code",
   "execution_count": 543,
   "metadata": {},
   "outputs": [
    {
     "name": "stdout",
     "output_type": "stream",
     "text": [
      "1\n",
      "3\n",
      "5\n",
      "7\n",
      "9\n"
     ]
    }
   ],
   "source": [
    "# Instruccion continue() permite saltar de una iteracion a otra\n",
    "\n",
    "for j in range(10):  # j corresponde a cad numero\n",
    "    if j % 2 == 0:\n",
    "        continue  # si el valor de j es par, con continue saltamos a la siguiente iteracion\n",
    "    print(j)   # no se ejecuta si j es un numero par"
   ]
  },
  {
   "cell_type": "code",
   "execution_count": 544,
   "metadata": {},
   "outputs": [
    {
     "name": "stdout",
     "output_type": "stream",
     "text": [
      "1\n",
      "3\n",
      "4\n"
     ]
    }
   ],
   "source": [
    "# tambien recorrer una tupla de elementos\n",
    "\n",
    "puntos = ((0,1), (1,2), (1, 3))  # (x,y) corresponde a cada tupla edntro de la tupla\n",
    "for (x,y) in puntos:\n",
    "    print(x + y)   # x es la pirmera componente de las tuplas e y es la segunda"
   ]
  },
  {
   "cell_type": "code",
   "execution_count": 547,
   "metadata": {},
   "outputs": [
    {
     "name": "stdout",
     "output_type": "stream",
     "text": [
      "('Lunes', 1)\n",
      "('Martes', 2)\n",
      "('Finde', (6, 7))\n"
     ]
    }
   ],
   "source": [
    "dic = {'Lunes': 1, 'Martes': 2, 'Finde': (6,7)}\n",
    "\n",
    "for i in dic.items():  # se va a coger cada par de items\n",
    "    print(i)"
   ]
  },
  {
   "cell_type": "code",
   "execution_count": 548,
   "metadata": {},
   "outputs": [
    {
     "name": "stdout",
     "output_type": "stream",
     "text": [
      "Lunes\n",
      "Martes\n",
      "Finde\n"
     ]
    }
   ],
   "source": [
    "# iterar sobre las claves y sobre los valores\n",
    "\n",
    "for i in dic.keys():\n",
    "    print(i)"
   ]
  },
  {
   "cell_type": "code",
   "execution_count": 549,
   "metadata": {},
   "outputs": [
    {
     "name": "stdout",
     "output_type": "stream",
     "text": [
      "1\n",
      "2\n",
      "(6, 7)\n"
     ]
    }
   ],
   "source": [
    "for i in dic.values():\n",
    "    print(i)"
   ]
  },
  {
   "cell_type": "markdown",
   "metadata": {},
   "source": [
    "#### El Bucle While"
   ]
  },
  {
   "cell_type": "markdown",
   "metadata": {},
   "source": [
    "Permite ejecutar una linea de codigo mientras que la condicion asociada al while sea verdadera\n",
    "- El numero de __iteraciones es VARIABLE y depende de la condicion.__\n",
    "\n",
    "                                                > while <codition>: \n",
    "                                                    <cuerpo del bucle>  # no se necesitan instr. tipo \"end\"\n",
    "                                            "
   ]
  },
  {
   "cell_type": "code",
   "execution_count": 550,
   "metadata": {},
   "outputs": [
    {
     "name": "stdout",
     "output_type": "stream",
     "text": [
      "-2\n",
      "-1\n",
      "0\n",
      "1\n",
      "2\n",
      "3\n",
      "4\n",
      "Estoy fuera del while\n"
     ]
    }
   ],
   "source": [
    "# Ejemplo: Cuerpo del bucle 2 instrucciones \n",
    "    # bucle se ejecuta siemple que while i < 5 sea cierta\n",
    "    \n",
    "i = -2\n",
    "while i < 5:\n",
    "    print(i)  # cuerpo\n",
    "    i = i + 1\n",
    "print(\"Estoy fuera del while\")"
   ]
  },
  {
   "cell_type": "code",
   "execution_count": 553,
   "metadata": {},
   "outputs": [
    {
     "name": "stdout",
     "output_type": "stream",
     "text": [
      "0\n",
      "1\n",
      "2\n"
     ]
    }
   ],
   "source": [
    "# Condicion que nos permite interrumpir el bucle antes de que la condicion se haga falsa: break\n",
    "\n",
    "i = 0\n",
    "while i < 5:\n",
    "    print(i)\n",
    "    i = i + 1\n",
    "    if i == 3:  # Cuando i sea 3 entonces se sale del bucle\n",
    "        break "
   ]
  },
  {
   "cell_type": "markdown",
   "metadata": {},
   "source": [
    "##### funcion enumerate\n",
    "\n",
    "- Resultar util conocer el indice de cada elemento\n",
    "- Enumerate devuelve una secuencia de tupla de la forma __(i, valor)__"
   ]
  },
  {
   "cell_type": "code",
   "execution_count": 554,
   "metadata": {},
   "outputs": [
    {
     "name": "stdout",
     "output_type": "stream",
     "text": [
      "1: Madrid\n",
      "2: Puerto\n",
      "3: Llanes\n",
      "4: Comillas\n"
     ]
    }
   ],
   "source": [
    "ciudades = ['Madrid', 'Puerto', 'Llanes', 'Comillas']\n",
    "\n",
    "for (i, valor) in enumerate(ciudades):\n",
    "    print('%d: %s' % (i + 1, valor))"
   ]
  },
  {
   "cell_type": "code",
   "execution_count": 555,
   "metadata": {},
   "outputs": [
    {
     "name": "stdout",
     "output_type": "stream",
     "text": [
      "4: Comillas\n",
      "3: Llanes\n",
      "2: Puerto\n",
      "1: Madrid\n"
     ]
    }
   ],
   "source": [
    "# Orden con enumerate al reves:\n",
    "\n",
    "ciudades = ['Madrid', 'Puerto', 'Llanes', 'Comillas']\n",
    "\n",
    "for (i, valor) in enumerate(reversed(ciudades)):\n",
    "    print('%d: %s' % (len(ciudades) -i, valor))"
   ]
  },
  {
   "cell_type": "markdown",
   "metadata": {},
   "source": [
    "### Estructuras de datos en Python"
   ]
  },
  {
   "cell_type": "markdown",
   "metadata": {},
   "source": [
    "Listas y tuplas\n",
    "- Una lista en una cadena ordenada con datos que pueden ser alterados o mutables y van entre corchetes\n",
    "- Una tupla es una cadena ordenada con datos inmutables y van entre parentesis"
   ]
  },
  {
   "cell_type": "code",
   "execution_count": 556,
   "metadata": {},
   "outputs": [
    {
     "name": "stdout",
     "output_type": "stream",
     "text": [
      "Tupla: ('Carabinero', 'Mar', 98)\n"
     ]
    }
   ],
   "source": [
    "t = ('Carabinero', 'Mar', 98)\n",
    "print(\"Tupla:\", t)"
   ]
  },
  {
   "cell_type": "code",
   "execution_count": 557,
   "metadata": {},
   "outputs": [
    {
     "name": "stdout",
     "output_type": "stream",
     "text": [
      "a\t b\t c1\t c2\t ciudades\t dias\t dic\t dic_vacio\t dicc_mayus\t \n",
      "diccionario\t diccionario1\t diccionario2\t e\t elemento\t funcion\t funcion1\t i\t j\t \n",
      "letras\t lista_tupla\t m\t map\t mayusculas\t nombre\t parte1\t parte2\t puntos\t \n",
      "res1\t resul\t resultado1\t resultado2\t resultado3\t s\t suma\t t\t valor\t \n",
      "vamos\t x\t y\t z\t zz\t \n"
     ]
    }
   ],
   "source": [
    "%who   # esto indica todas las variable sque tenemos declaradas en nuestro workspace"
   ]
  },
  {
   "cell_type": "code",
   "execution_count": 558,
   "metadata": {},
   "outputs": [
    {
     "name": "stdout",
     "output_type": "stream",
     "text": [
      "Lista: ['Carabinero', 'Mar', 'Playa', 'Sandwich', 456]\n"
     ]
    }
   ],
   "source": [
    "# Lista de 5 elementos\n",
    "l = ['Carabinero', 'Mar', 'Playa', 'Sandwich', 456]\n",
    "print(\"Lista:\", l)"
   ]
  },
  {
   "cell_type": "code",
   "execution_count": 560,
   "metadata": {},
   "outputs": [
    {
     "name": "stdout",
     "output_type": "stream",
     "text": [
      "Tipo:  <class 'list'>\n",
      "Tipo: <class 'tuple'>\n"
     ]
    }
   ],
   "source": [
    "print(\"Tipo: \", type(l))\n",
    "print(\"Tipo:\", type(t))"
   ]
  },
  {
   "cell_type": "code",
   "execution_count": 562,
   "metadata": {},
   "outputs": [
    {
     "name": "stdout",
     "output_type": "stream",
     "text": [
      "True\n",
      "True\n"
     ]
    }
   ],
   "source": [
    "## Tanto si son listas como tuplas se puede: LISTAS Y TUPLAS COMUN\n",
    "\n",
    "print('Carabinero' in l)\n",
    "print('Carabinero' in t)"
   ]
  },
  {
   "cell_type": "code",
   "execution_count": 564,
   "metadata": {},
   "outputs": [
    {
     "name": "stdout",
     "output_type": "stream",
     "text": [
      "5\n",
      "3\n"
     ]
    }
   ],
   "source": [
    "print(len(l))\n",
    "print(len(t))"
   ]
  },
  {
   "cell_type": "markdown",
   "metadata": {},
   "source": [
    "##### Acceso a los elementos de las secuencias"
   ]
  },
  {
   "cell_type": "code",
   "execution_count": null,
   "metadata": {},
   "outputs": [],
   "source": []
  },
  {
   "cell_type": "code",
   "execution_count": 570,
   "metadata": {},
   "outputs": [
    {
     "name": "stdout",
     "output_type": "stream",
     "text": [
      "Carabinero\n",
      "98\n",
      "('Carabinero', 'Mar')\n",
      "('Carabinero', 'Mar')\n",
      "['Carabinero', 'Mar', 'Playa', 'Sandwich', 456]\n",
      "['Carabinero', 'Playa', 456]\n"
     ]
    }
   ],
   "source": [
    "# [inicio : final: salto] y en Python la indexacion empieza por 0\n",
    "\n",
    "print(l[0])  # primer elemento de la lista\n",
    "print(t[2])\n",
    "print(t[0:2])  # se imprime el primer y segundo sin incluir el 3 que esta en la posicion 2\n",
    "print(t[:2])  # Desde el primero hasta el 2 sin incluir\n",
    "print(l[:])  # Desde el primero hasta el ultimo\n",
    "print(l[::2])  # Desde el primero hasta el ultimo SALTANDO 2 (de 2 en 2)"
   ]
  },
  {
   "cell_type": "code",
   "execution_count": 571,
   "metadata": {},
   "outputs": [
    {
     "name": "stdout",
     "output_type": "stream",
     "text": [
      "456\n",
      "Sandwich\n",
      "('Mar', 98)\n"
     ]
    }
   ],
   "source": [
    "# Acceder de forma inversa a los elementos\n",
    "\n",
    "print(l[-1])  # El ultimo elemento\n",
    "print(l[-2])  # El penultimo elememto\n",
    "print(t[-2:])  # Desde el penultimo elemento hasta el final"
   ]
  },
  {
   "cell_type": "markdown",
   "metadata": {},
   "source": [
    "Como los elementos de las listas son heterogeneos es posible definir __unas listas que contienen otras listas__"
   ]
  },
  {
   "cell_type": "code",
   "execution_count": 572,
   "metadata": {},
   "outputs": [
    {
     "name": "stdout",
     "output_type": "stream",
     "text": [
      "[[1, 2, 3], [4, 5, 6], [7, 8, 9]]\n"
     ]
    }
   ],
   "source": [
    "enero = [[1,2,3], [4,5,6], [7,8,9]]  # listas que contienen otras listas\n",
    "print(enero)"
   ]
  },
  {
   "cell_type": "code",
   "execution_count": 574,
   "metadata": {},
   "outputs": [
    {
     "name": "stdout",
     "output_type": "stream",
     "text": [
      "[[1, 2, 3], [0, 0, 0], [7, 8, 9]]\n"
     ]
    }
   ],
   "source": [
    "enero[1] = [0,0,0]  # a la posicion 1 (que es la 2 en Python) la renombramos\n",
    "print(enero)"
   ]
  },
  {
   "cell_type": "markdown",
   "metadata": {},
   "source": [
    "Añadir nuevos valores a las listas mediante append"
   ]
  },
  {
   "cell_type": "code",
   "execution_count": 575,
   "metadata": {},
   "outputs": [
    {
     "name": "stdout",
     "output_type": "stream",
     "text": [
      "[[1, 2, 3], [0, 0, 0], [7, 8, 9], 7]\n"
     ]
    }
   ],
   "source": [
    "enero.append(7)  # hemos añadido un 7 al final de la lista\n",
    "print(enero)"
   ]
  },
  {
   "cell_type": "markdown",
   "metadata": {},
   "source": [
    "Concatenar secuencias con el operador + o repeticion de secuencias x num de veces con * - estos operadores peromite __crear nuevas secuencias sin modificar las originales__"
   ]
  },
  {
   "cell_type": "code",
   "execution_count": 577,
   "metadata": {},
   "outputs": [
    {
     "name": "stdout",
     "output_type": "stream",
     "text": [
      "[1, 2, 3, 4]\n"
     ]
    }
   ],
   "source": [
    "n = [1,2] + [3,4]  # concatenacion de secuencias o union de listas\n",
    "print(n)"
   ]
  },
  {
   "cell_type": "code",
   "execution_count": 579,
   "metadata": {},
   "outputs": [
    {
     "name": "stdout",
     "output_type": "stream",
     "text": [
      "[1, 2, 3, 4, 1, 2, 3, 4, 1, 2, 3, 4, 1, 2, 3, 4]\n"
     ]
    }
   ],
   "source": [
    "resultadofinal = n * 4\n",
    "print(resultadofinal)"
   ]
  },
  {
   "cell_type": "markdown",
   "metadata": {},
   "source": [
    "##### Desempaquetar tuplas"
   ]
  },
  {
   "cell_type": "markdown",
   "metadata": {},
   "source": [
    "En muchos casos es interesante __asignar nombre a cada uno de los elementos de las secuencias__ para poder trabajar con esos elementos."
   ]
  },
  {
   "cell_type": "code",
   "execution_count": 581,
   "metadata": {},
   "outputs": [],
   "source": [
    "laborales = (1,2,3,4,5)  # tupla con 5 elementos"
   ]
  },
  {
   "cell_type": "code",
   "execution_count": 582,
   "metadata": {},
   "outputs": [],
   "source": [
    "lunes, martes, miercoles, jueves, viernes = laborales  # desempaquetado de secuencias \n",
    "    # requiere una gran cantidad de variables a la izq que coincida con el TAMAÑO de la secuencia"
   ]
  },
  {
   "cell_type": "code",
   "execution_count": 584,
   "metadata": {},
   "outputs": [
    {
     "name": "stdout",
     "output_type": "stream",
     "text": [
      "2\n"
     ]
    }
   ],
   "source": [
    "print(martes)  # acceso a las variables"
   ]
  },
  {
   "cell_type": "code",
   "execution_count": 585,
   "metadata": {},
   "outputs": [
    {
     "name": "stdout",
     "output_type": "stream",
     "text": [
      "5\n"
     ]
    }
   ],
   "source": [
    "print(viernes)"
   ]
  },
  {
   "cell_type": "markdown",
   "metadata": {},
   "source": [
    "##### Caso particular de las listas"
   ]
  },
  {
   "cell_type": "markdown",
   "metadata": {},
   "source": [
    "Las listas tienen longitud variable y son mutables y se definen mediante []. \n",
    "\n",
    "Tambien se pueden definir mediante la __funcion list__"
   ]
  },
  {
   "cell_type": "code",
   "execution_count": 587,
   "metadata": {},
   "outputs": [
    {
     "name": "stdout",
     "output_type": "stream",
     "text": [
      "[5, 6, 7]\n"
     ]
    }
   ],
   "source": [
    "t = 5,6,7  # definimos una tupla de 3 elemntos\n",
    "listita = list(t)  # transformamos la tupla en lista\n",
    "print(listita)"
   ]
  },
  {
   "cell_type": "code",
   "execution_count": 588,
   "metadata": {},
   "outputs": [
    {
     "name": "stdout",
     "output_type": "stream",
     "text": [
      "[None, 6, 7]\n"
     ]
    }
   ],
   "source": [
    "# Modificar el primer elemento de la lista asignando el valor nulo en python a la posicion 0\n",
    "listita[0] = None\n",
    "print(listita)"
   ]
  },
  {
   "cell_type": "markdown",
   "metadata": {},
   "source": [
    "##### añadiendo y eliminando elementos de una lista"
   ]
  },
  {
   "cell_type": "markdown",
   "metadata": {},
   "source": [
    "No solo mediante la funcion append (que añade elementos al final de la lista) sino mediante la __funcion insert__ que inserta elementos en una determinada posicion."
   ]
  },
  {
   "cell_type": "code",
   "execution_count": 590,
   "metadata": {},
   "outputs": [
    {
     "name": "stdout",
     "output_type": "stream",
     "text": [
      "['Lunes', 'Jueves', 'Viernes']\n"
     ]
    }
   ],
   "source": [
    "listita1 = ['Lunes', 'Jueves']\n",
    "listita1.append('Viernes')\n",
    "print(listita1)"
   ]
  },
  {
   "cell_type": "code",
   "execution_count": 591,
   "metadata": {},
   "outputs": [
    {
     "name": "stdout",
     "output_type": "stream",
     "text": [
      "['Lunes', 'Martes', 'Jueves', 'Viernes']\n"
     ]
    }
   ],
   "source": [
    "listita1.insert(1, 'Martes')\n",
    "print(listita1)"
   ]
  },
  {
   "cell_type": "code",
   "execution_count": 592,
   "metadata": {},
   "outputs": [
    {
     "name": "stdout",
     "output_type": "stream",
     "text": [
      "['Lunes', 'Martes', 'Miercoles', 'Jueves', 'Viernes']\n"
     ]
    }
   ],
   "source": [
    "listita1.insert(2, 'Miercoles')\n",
    "print(listita1)"
   ]
  },
  {
   "cell_type": "markdown",
   "metadata": {},
   "source": [
    "##### Añadir multiples elementos a una lista con + o con el metodo extends"
   ]
  },
  {
   "cell_type": "markdown",
   "metadata": {},
   "source": [
    "Si la lista es __muy larga__ se hace mediante __Extends__ ya que es mas eficiente. El + debe crear una nueva lista y copiar los elementos en una nueva lista."
   ]
  },
  {
   "cell_type": "code",
   "execution_count": 594,
   "metadata": {},
   "outputs": [
    {
     "name": "stdout",
     "output_type": "stream",
     "text": [
      "['Lunes', 'Martes', 'Miercoles', 'Jueves', 'Viernes', 1, 2, 3, 4, 5, 6, 7, 8, 9, 10]\n"
     ]
    }
   ],
   "source": [
    "listita1.extend([1,2,3,4,5,6,7,8,9,10])\n",
    "print(listita1)"
   ]
  },
  {
   "cell_type": "code",
   "execution_count": null,
   "metadata": {},
   "outputs": [],
   "source": [
    "# Eliminar elementos de una lista con pop y remove"
   ]
  },
  {
   "cell_type": "markdown",
   "metadata": {},
   "source": [
    "##### Eliminando por posicion: pop eliminar elemento en posicion"
   ]
  },
  {
   "cell_type": "code",
   "execution_count": 595,
   "metadata": {},
   "outputs": [
    {
     "name": "stdout",
     "output_type": "stream",
     "text": [
      "1\n"
     ]
    }
   ],
   "source": [
    "e = listita1.pop(5)  # elimino el elemento 5 que corresonde al 1\n",
    "print(e)"
   ]
  },
  {
   "cell_type": "code",
   "execution_count": 597,
   "metadata": {},
   "outputs": [
    {
     "name": "stdout",
     "output_type": "stream",
     "text": [
      "['Lunes', 'Martes', 'Miercoles', 'Jueves', 'Viernes', 2, 3, 4, 5, 6, 7, 8, 9, 10]\n"
     ]
    }
   ],
   "source": [
    "print(listita1)  # ahor ala lista no tiene el elemento llamado 1"
   ]
  },
  {
   "cell_type": "markdown",
   "metadata": {},
   "source": [
    "##### Eliminando por valor: remove - elimina con el nombre"
   ]
  },
  {
   "cell_type": "code",
   "execution_count": 598,
   "metadata": {},
   "outputs": [
    {
     "name": "stdout",
     "output_type": "stream",
     "text": [
      "['Martes', 'Miercoles', 'Jueves', 'Viernes', 2, 3, 4, 5, 6, 7, 8, 9, 10]\n"
     ]
    }
   ],
   "source": [
    "listita1.remove('Lunes')\n",
    "print(listita1)"
   ]
  },
  {
   "cell_type": "markdown",
   "metadata": {},
   "source": [
    "##### Ordenando una lista : sort, reversed"
   ]
  },
  {
   "cell_type": "markdown",
   "metadata": {},
   "source": [
    "Con el metodo __sort__ se ordena una lista sin tenenr que crear una lista nueva: es eficiente"
   ]
  },
  {
   "cell_type": "code",
   "execution_count": 599,
   "metadata": {},
   "outputs": [
    {
     "ename": "TypeError",
     "evalue": "'<' not supported between instances of 'int' and 'str'",
     "output_type": "error",
     "traceback": [
      "\u001b[0;31m---------------------------------------------------------------------------\u001b[0m",
      "\u001b[0;31mTypeError\u001b[0m                                 Traceback (most recent call last)",
      "\u001b[0;32m<ipython-input-599-cea6c2844d1e>\u001b[0m in \u001b[0;36m<module>\u001b[0;34m()\u001b[0m\n\u001b[0;32m----> 1\u001b[0;31m \u001b[0mlistita1\u001b[0m\u001b[0;34m.\u001b[0m\u001b[0msort\u001b[0m\u001b[0;34m(\u001b[0m\u001b[0;34m)\u001b[0m\u001b[0;34m\u001b[0m\u001b[0m\n\u001b[0m\u001b[1;32m      2\u001b[0m \u001b[0mprint\u001b[0m\u001b[0;34m(\u001b[0m\u001b[0mlistita1\u001b[0m\u001b[0;34m)\u001b[0m\u001b[0;34m\u001b[0m\u001b[0m\n",
      "\u001b[0;31mTypeError\u001b[0m: '<' not supported between instances of 'int' and 'str'"
     ]
    }
   ],
   "source": [
    "listita1.sort()\n",
    "print(listita1)  # Me da error pq hay cadenas de texto mezclados con enteros"
   ]
  },
  {
   "cell_type": "code",
   "execution_count": 600,
   "metadata": {},
   "outputs": [
    {
     "name": "stdout",
     "output_type": "stream",
     "text": [
      "[1, 3, 6, 8, 9, 22, 34, 43, 45]\n"
     ]
    }
   ],
   "source": [
    "listaorden = [22,45,1,34,9,3,6,8,43]\n",
    "listaorden.sort()\n",
    "print(listaorden)"
   ]
  },
  {
   "cell_type": "markdown",
   "metadata": {},
   "source": [
    "##### Generando listas"
   ]
  },
  {
   "cell_type": "markdown",
   "metadata": {},
   "source": [
    "Lo que se hace es que se genera un __OBJETO ITERABLE__. Esto es un bjeto que si se puede __RECORRER__ para recurperar cada uno de los elementos que contiene. Aqui, las __listas y tuplas__ son __ITERABLES__."
   ]
  },
  {
   "cell_type": "code",
   "execution_count": 601,
   "metadata": {},
   "outputs": [
    {
     "data": {
      "text/plain": [
       "range(0, 10)"
      ]
     },
     "execution_count": 601,
     "metadata": {},
     "output_type": "execute_result"
    }
   ],
   "source": [
    "range(10)  # crea un objeto iterable de 10 numeros enteros"
   ]
  },
  {
   "cell_type": "code",
   "execution_count": 602,
   "metadata": {},
   "outputs": [
    {
     "data": {
      "text/plain": [
       "[0, 1, 2, 3, 4, 5, 6, 7, 8, 9]"
      ]
     },
     "execution_count": 602,
     "metadata": {},
     "output_type": "execute_result"
    }
   ],
   "source": [
    "r = range(10)\n",
    "list(r)  # transformamos esto a una lista"
   ]
  },
  {
   "cell_type": "code",
   "execution_count": 603,
   "metadata": {},
   "outputs": [
    {
     "data": {
      "text/plain": [
       "[-5, -4, -3, -2, -1, 0, 1, 2, 3, 4]"
      ]
     },
     "execution_count": 603,
     "metadata": {},
     "output_type": "execute_result"
    }
   ],
   "source": [
    "r = range(-5, 5)  # objeto iterable de numeros enteros de entre el [-5, 5)\n",
    "list(r)"
   ]
  },
  {
   "cell_type": "markdown",
   "metadata": {},
   "source": [
    "##### Crear una lista a partir de otra lista"
   ]
  },
  {
   "cell_type": "code",
   "execution_count": 604,
   "metadata": {},
   "outputs": [
    {
     "name": "stdout",
     "output_type": "stream",
     "text": [
      "<range_iterator object at 0x1129b9180>\n"
     ]
    }
   ],
   "source": [
    "i = reversed(r)\n",
    "print(i)"
   ]
  },
  {
   "cell_type": "code",
   "execution_count": 605,
   "metadata": {},
   "outputs": [
    {
     "data": {
      "text/plain": [
       "[4, 3, 2, 1, 0, -1, -2, -3, -4, -5]"
      ]
     },
     "execution_count": 605,
     "metadata": {},
     "output_type": "execute_result"
    }
   ],
   "source": [
    "list(i)  # creamos una lista de orden inverso"
   ]
  },
  {
   "cell_type": "markdown",
   "metadata": {},
   "source": [
    "##### Caso particular en las secuencias: SECUENCIAS DE CARACTERES -str"
   ]
  },
  {
   "cell_type": "markdown",
   "metadata": {},
   "source": [
    "Las cadenas se consideran secuencias de caracteres y por tanto se __pueden tratar como otras secuencias (tuplas o listas).__"
   ]
  },
  {
   "cell_type": "code",
   "execution_count": null,
   "metadata": {},
   "outputs": [],
   "source": [
    "# Acceder a cada uno de los caracteres de una cadena"
   ]
  },
  {
   "cell_type": "code",
   "execution_count": 608,
   "metadata": {},
   "outputs": [
    {
     "data": {
      "text/plain": [
       "('Marta', 'M', 't')"
      ]
     },
     "execution_count": 608,
     "metadata": {},
     "output_type": "execute_result"
    }
   ],
   "source": [
    "m = 'Marta'\n",
    "m, m[0], m[3]  # aceder a cada elemento de la secuencia de caracteres"
   ]
  },
  {
   "cell_type": "code",
   "execution_count": 609,
   "metadata": {},
   "outputs": [
    {
     "data": {
      "text/plain": [
       "'N'"
      ]
     },
     "execution_count": 609,
     "metadata": {},
     "output_type": "execute_result"
    }
   ],
   "source": [
    "# Cadenas de Python: inmutables - no se puede modificar UNA sin crear una NUEVA\n",
    "\n",
    "mensaje = 'No modificar una sin crear otra cadena'\n",
    "mensaje[0]"
   ]
  },
  {
   "cell_type": "code",
   "execution_count": 612,
   "metadata": {},
   "outputs": [
    {
     "data": {
      "text/plain": [
       "('no modificar una sin crear otra cadena',\n",
       " 'No modificar una sin crear otra cadena')"
      ]
     },
     "execution_count": 612,
     "metadata": {},
     "output_type": "execute_result"
    }
   ],
   "source": [
    "b = mensaje.replace('N', 'n')\n",
    "b, mensaje  # contrastamos la b con el mensaje  -- AQUI NO PONER EL PRINT"
   ]
  },
  {
   "cell_type": "markdown",
   "metadata": {},
   "source": [
    "##### Ver todas las funciones que podemos utilizar con CADENAS"
   ]
  },
  {
   "cell_type": "code",
   "execution_count": 613,
   "metadata": {},
   "outputs": [
    {
     "data": {
      "text/plain": [
       "['__add__',\n",
       " '__class__',\n",
       " '__contains__',\n",
       " '__delattr__',\n",
       " '__dir__',\n",
       " '__doc__',\n",
       " '__eq__',\n",
       " '__format__',\n",
       " '__ge__',\n",
       " '__getattribute__',\n",
       " '__getitem__',\n",
       " '__getnewargs__',\n",
       " '__gt__',\n",
       " '__hash__',\n",
       " '__init__',\n",
       " '__init_subclass__',\n",
       " '__iter__',\n",
       " '__le__',\n",
       " '__len__',\n",
       " '__lt__',\n",
       " '__mod__',\n",
       " '__mul__',\n",
       " '__ne__',\n",
       " '__new__',\n",
       " '__reduce__',\n",
       " '__reduce_ex__',\n",
       " '__repr__',\n",
       " '__rmod__',\n",
       " '__rmul__',\n",
       " '__setattr__',\n",
       " '__sizeof__',\n",
       " '__str__',\n",
       " '__subclasshook__',\n",
       " 'capitalize',\n",
       " 'casefold',\n",
       " 'center',\n",
       " 'count',\n",
       " 'encode',\n",
       " 'endswith',\n",
       " 'expandtabs',\n",
       " 'find',\n",
       " 'format',\n",
       " 'format_map',\n",
       " 'index',\n",
       " 'isalnum',\n",
       " 'isalpha',\n",
       " 'isascii',\n",
       " 'isdecimal',\n",
       " 'isdigit',\n",
       " 'isidentifier',\n",
       " 'islower',\n",
       " 'isnumeric',\n",
       " 'isprintable',\n",
       " 'isspace',\n",
       " 'istitle',\n",
       " 'isupper',\n",
       " 'join',\n",
       " 'ljust',\n",
       " 'lower',\n",
       " 'lstrip',\n",
       " 'maketrans',\n",
       " 'partition',\n",
       " 'replace',\n",
       " 'rfind',\n",
       " 'rindex',\n",
       " 'rjust',\n",
       " 'rpartition',\n",
       " 'rsplit',\n",
       " 'rstrip',\n",
       " 'split',\n",
       " 'splitlines',\n",
       " 'startswith',\n",
       " 'strip',\n",
       " 'swapcase',\n",
       " 'title',\n",
       " 'translate',\n",
       " 'upper',\n",
       " 'zfill']"
      ]
     },
     "execution_count": 613,
     "metadata": {},
     "output_type": "execute_result"
    }
   ],
   "source": [
    "dir(str)"
   ]
  },
  {
   "cell_type": "code",
   "execution_count": 614,
   "metadata": {},
   "outputs": [
    {
     "data": {
      "text/plain": [
       "'NO MODIFICAR UNA SIN CREAR OTRA CADENA'"
      ]
     },
     "execution_count": 614,
     "metadata": {},
     "output_type": "execute_result"
    }
   ],
   "source": [
    "mensaje.upper()"
   ]
  },
  {
   "cell_type": "code",
   "execution_count": 615,
   "metadata": {},
   "outputs": [
    {
     "data": {
      "text/plain": [
       "'no modificar una sin crear otra cadena'"
      ]
     },
     "execution_count": 615,
     "metadata": {},
     "output_type": "execute_result"
    }
   ],
   "source": [
    "mensaje.lower()"
   ]
  },
  {
   "cell_type": "code",
   "execution_count": 616,
   "metadata": {},
   "outputs": [
    {
     "data": {
      "text/plain": [
       "'No Modificar Una Sin Crear Otra Cadena'"
      ]
     },
     "execution_count": 616,
     "metadata": {},
     "output_type": "execute_result"
    }
   ],
   "source": [
    "mensaje.title()"
   ]
  },
  {
   "cell_type": "markdown",
   "metadata": {},
   "source": [
    "### Ficheros"
   ]
  },
  {
   "cell_type": "markdown",
   "metadata": {},
   "source": [
    "##### Abrir un fichero: funcion open: MODO LECTURA"
   ]
  },
  {
   "cell_type": "code",
   "execution_count": null,
   "metadata": {},
   "outputs": [],
   "source": [
    "fichero = open(\"./datos/cuna.txt\")  # si no indicamos nada el fichero se abre en modo LECTURA\n",
    "\n",
    "# si esta funcion da error y no se abre el fichero, es pq dicho archivo no se encuentra en el directorio que se ha indicado"
   ]
  },
  {
   "cell_type": "code",
   "execution_count": 624,
   "metadata": {},
   "outputs": [
    {
     "data": {
      "text/plain": [
       "'/Users/martadivasson/Desktop/EXAMENES'"
      ]
     },
     "execution_count": 624,
     "metadata": {},
     "output_type": "execute_result"
    }
   ],
   "source": [
    "# Funciones de comunicacion con el sistema operativo\n",
    "\n",
    "%pwd  # funcion magica que devuelve el directorio actual"
   ]
  },
  {
   "cell_type": "code",
   "execution_count": 625,
   "metadata": {},
   "outputs": [
    {
     "name": "stdout",
     "output_type": "stream",
     "text": [
      "ETL examen .docx               Programacion en R examen.docx\r\n",
      "MACHINE LEARNING EXAMEN.docx   \u001b[34mR\u001b[m\u001b[m/\r\n",
      "PREDICCION EXAMEN.docx         SQL examen.docx\r\n",
      "PROGRAMACIONR_EXAMEN.R         TECNICAS DE AGRUPACION.docx\r\n",
      "PYTHON EXAMEN.ipynb            VISUALIZACION EXAMEN.docx\r\n",
      "\u001b[34mPYTHON_CAPTURAS\u001b[m\u001b[m/               sparklyr.pdf\r\n"
     ]
    }
   ],
   "source": [
    "%ls  # Permite explorar nuestro directorio para ver si esta lo que necesitamos"
   ]
  },
  {
   "cell_type": "code",
   "execution_count": null,
   "metadata": {},
   "outputs": [],
   "source": [
    "# Procesar un archivo por linea\n",
    "\n",
    "fichero = open(\"./datos/cuna.txt\")\n",
    "for linea in fichero:\n",
    "    print(linea)  # Va a sacar lo que tiene el fichero en forma de texto"
   ]
  },
  {
   "cell_type": "code",
   "execution_count": null,
   "metadata": {},
   "outputs": [],
   "source": [
    "# Obtener TODAS las lineas del archivo llamando a la funcion readlines : devuelve una lista de lineas\n",
    "\n",
    "fichero = open(\"./datos/cuna.txt\")\n",
    "lineas = fichero.readlines()\n",
    "lineas  # te devuelve una LISTA en el que indica el salto de cad linea con ./n'\n",
    "\n",
    "# Con readlines: se CARGA EN EMORIA EL FICHERO COMPLETO: se puede agotar la memoria si son ficheros muy grandes."
   ]
  },
  {
   "cell_type": "code",
   "execution_count": null,
   "metadata": {},
   "outputs": [],
   "source": [
    "# Acceder a la primera linea del fichero y se eliminan asi los saltos de linea con rstrip\n",
    "\n",
    "lineas[0].rstrip()  # elimina los saltos de linea"
   ]
  },
  {
   "cell_type": "markdown",
   "metadata": {},
   "source": [
    "##### Open en MODO ESCRITURA (w)"
   ]
  },
  {
   "cell_type": "code",
   "execution_count": null,
   "metadata": {},
   "outputs": [],
   "source": [
    "# indicarlo como segundo parametro de la funcion open\n",
    "\n",
    "fichero_escritura = open('./datos/nuevos.txt', 'w')"
   ]
  },
  {
   "cell_type": "code",
   "execution_count": null,
   "metadata": {},
   "outputs": [],
   "source": [
    "# copiar en el nuevo fichero SOLO las lineas partes del fichero_escritura\n",
    "\n",
    "for i, line in enumerate(lineas):\n",
    "    if i%%2 == 0:\n",
    "        fichero_escritura.write(str(i)+ ' ' + line)\n",
    "    else:\n",
    "        pass"
   ]
  },
  {
   "cell_type": "markdown",
   "metadata": {},
   "source": [
    "Al __terminar de trabajar con el fichero__ es RECOMENTABLE __cerrarlo__ ya que lo que se haya escrito NO se GUARDARA realmente hasta no cerrar el fichero. "
   ]
  },
  {
   "cell_type": "code",
   "execution_count": null,
   "metadata": {},
   "outputs": [],
   "source": [
    "fichero_escritura.close()  # cerramos el fichero"
   ]
  },
  {
   "cell_type": "code",
   "execution_count": null,
   "metadata": {},
   "outputs": [],
   "source": [
    "open('./datos/nuevos.txt').readlines()  # te devuelve las lineas pares del fichero de escritura"
   ]
  },
  {
   "cell_type": "markdown",
   "metadata": {},
   "source": [
    "##### OPEN en modo ESCRITURA posicionandose al FINAL DEL ARCHIVO (a)"
   ]
  },
  {
   "cell_type": "markdown",
   "metadata": {},
   "source": [
    "Se crear el fichero, si no existe, pero en caso de que SI exista se posicional al final, manteniendo el CONTENIDO ORIGINAL. "
   ]
  },
  {
   "cell_type": "code",
   "execution_count": null,
   "metadata": {},
   "outputs": [],
   "source": [
    "open('./datos/nuevos.txt', 'a').write('\\nEste es el final')  # Te devuelve un numero: 17"
   ]
  },
  {
   "cell_type": "code",
   "execution_count": null,
   "metadata": {},
   "outputs": [],
   "source": [
    "open('./datos/nuevos.txt').readlines()  # te devuelve las lineas pares y 'Este es el final'"
   ]
  },
  {
   "cell_type": "markdown",
   "metadata": {},
   "source": [
    "### Las funciones en Python"
   ]
  },
  {
   "cell_type": "markdown",
   "metadata": {},
   "source": [
    "Argumentos de las funciones (posicionales y por clave) y argumentos agrupados\n",
    "    - tupla de argumentos posicionales (*args)\n",
    "    - diccionario de argumentos accedidos por clave (**kwargs) \n",
    "    \n",
    "Usamos * args para representar una tupla __arbitraria__ de argumentos agrupados (no necesario este nomnbre)"
   ]
  },
  {
   "cell_type": "code",
   "execution_count": 626,
   "metadata": {},
   "outputs": [
    {
     "name": "stdout",
     "output_type": "stream",
     "text": [
      "x: 1\n",
      "y: 2\n",
      "otros: (4, 5, 6, 7, 3)\n"
     ]
    }
   ],
   "source": [
    "def suma_varios(x, y, *otros):   # otros indica a el resto a partir de la posicion 3... \n",
    "    print('x:', x)\n",
    "    print('y:', y)\n",
    "    print('otros:', otros)\n",
    "suma_varios(1,2,4,5,6,7,3)"
   ]
  },
  {
   "cell_type": "markdown",
   "metadata": {},
   "source": [
    "Se pueden def los argumentos agrupados(otros) despies de los argumentos posiciones(x,y) representada como un __diccionario__. Tampoco es necesario que el nombre sea kwargs"
   ]
  },
  {
   "cell_type": "code",
   "execution_count": 627,
   "metadata": {},
   "outputs": [
    {
     "name": "stdout",
     "output_type": "stream",
     "text": [
      "x: 1\n",
      "y: 2\n",
      "otros: (4, 5, 6, 7, 3, 8, 9, 3)\n",
      "mas: {'cien': 100, 'mil': 1000}\n"
     ]
    }
   ],
   "source": [
    "def suma_varios(x, y, *otros, **mas):   # mas hace referencia a un diccionario: clave, valor\n",
    "    print('x:', x)\n",
    "    print('y:', y)\n",
    "    print('otros:', otros)\n",
    "    print('mas:', mas)\n",
    "suma_varios(1,2,4,5,6,7,3,8,9,3, cien = 100, mil = 1000)"
   ]
  },
  {
   "cell_type": "markdown",
   "metadata": {},
   "source": [
    "##### Funciones como argumentos de otras funciones: caract. de lenguajes funcionales"
   ]
  },
  {
   "cell_type": "code",
   "execution_count": 653,
   "metadata": {},
   "outputs": [],
   "source": [
    "# Tenemos una lista de ciudades que deseamos 'limpiar' o 'formatear'\n",
    "\n",
    "lista_ciudades = ['     Madrid', '  BARcelona', 'SeVILLA      ']"
   ]
  },
  {
   "cell_type": "code",
   "execution_count": 654,
   "metadata": {},
   "outputs": [
    {
     "ename": "TypeError",
     "evalue": "'dict' object is not callable",
     "output_type": "error",
     "traceback": [
      "\u001b[0;31m---------------------------------------------------------------------------\u001b[0m",
      "\u001b[0;31mTypeError\u001b[0m                                 Traceback (most recent call last)",
      "\u001b[0;32m<ipython-input-654-012a9e905d29>\u001b[0m in \u001b[0;36m<module>\u001b[0;34m()\u001b[0m\n\u001b[1;32m      1\u001b[0m \u001b[0;31m# FUNCION MAP: aplica una FUNCION a una coleccion de objetos\u001b[0m\u001b[0;34m\u001b[0m\u001b[0;34m\u001b[0m\u001b[0m\n\u001b[0;32m----> 2\u001b[0;31m \u001b[0mlista1\u001b[0m \u001b[0;34m=\u001b[0m \u001b[0mmap\u001b[0m\u001b[0;34m(\u001b[0m\u001b[0mstr\u001b[0m\u001b[0;34m.\u001b[0m\u001b[0mupper\u001b[0m\u001b[0;34m,\u001b[0m \u001b[0mlista_ciudades\u001b[0m\u001b[0;34m)\u001b[0m\u001b[0;34m\u001b[0m\u001b[0m\n\u001b[0m\u001b[1;32m      3\u001b[0m \u001b[0mlist\u001b[0m\u001b[0;34m(\u001b[0m\u001b[0mlista1\u001b[0m\u001b[0;34m)\u001b[0m\u001b[0;34m\u001b[0m\u001b[0m\n",
      "\u001b[0;31mTypeError\u001b[0m: 'dict' object is not callable"
     ]
    }
   ],
   "source": [
    "# FUNCION MAP: aplica una FUNCION a una coleccion de objetos\n",
    "lista1 = map(str.upper, lista_ciudades)\n",
    "list(lista1)"
   ]
  },
  {
   "cell_type": "code",
   "execution_count": 646,
   "metadata": {},
   "outputs": [
    {
     "ename": "TypeError",
     "evalue": "'dict' object is not callable",
     "output_type": "error",
     "traceback": [
      "\u001b[0;31m---------------------------------------------------------------------------\u001b[0m",
      "\u001b[0;31mTypeError\u001b[0m                                 Traceback (most recent call last)",
      "\u001b[0;32m<ipython-input-646-d80a51c06ce8>\u001b[0m in \u001b[0;36m<module>\u001b[0;34m()\u001b[0m\n\u001b[0;32m----> 1\u001b[0;31m \u001b[0mlista2\u001b[0m \u001b[0;34m=\u001b[0m \u001b[0mmap\u001b[0m\u001b[0;34m(\u001b[0m\u001b[0mstr\u001b[0m\u001b[0;34m.\u001b[0m\u001b[0mtitle\u001b[0m\u001b[0;34m,\u001b[0m \u001b[0mmap\u001b[0m\u001b[0;34m(\u001b[0m\u001b[0mstr\u001b[0m\u001b[0;34m.\u001b[0m\u001b[0mstrip\u001b[0m\u001b[0;34m,\u001b[0m \u001b[0mlista_ciudades\u001b[0m\u001b[0;34m)\u001b[0m\u001b[0;34m)\u001b[0m  \u001b[0;31m# aplicar varias funciones a la vez con map\u001b[0m\u001b[0;34m\u001b[0m\u001b[0m\n\u001b[0m\u001b[1;32m      2\u001b[0m \u001b[0mlist\u001b[0m\u001b[0;34m(\u001b[0m\u001b[0mlista2\u001b[0m\u001b[0;34m)\u001b[0m\u001b[0;34m\u001b[0m\u001b[0m\n",
      "\u001b[0;31mTypeError\u001b[0m: 'dict' object is not callable"
     ]
    }
   ],
   "source": [
    "lista2 = map(str.title, map(str.strip, lista_ciudades))  # aplicar varias funciones a la vez con map\n",
    "list(lista2)"
   ]
  },
  {
   "cell_type": "code",
   "execution_count": 647,
   "metadata": {},
   "outputs": [
    {
     "ename": "TypeError",
     "evalue": "'dict' object is not callable",
     "output_type": "error",
     "traceback": [
      "\u001b[0;31m---------------------------------------------------------------------------\u001b[0m",
      "\u001b[0;31mTypeError\u001b[0m                                 Traceback (most recent call last)",
      "\u001b[0;32m<ipython-input-647-fdea21c495c0>\u001b[0m in \u001b[0;36m<module>\u001b[0;34m()\u001b[0m\n\u001b[1;32m      6\u001b[0m         \u001b[0;32mreturn\u001b[0m \u001b[0mlist\u001b[0m\u001b[0;34m(\u001b[0m\u001b[0mlista\u001b[0m\u001b[0;34m)\u001b[0m\u001b[0;34m\u001b[0m\u001b[0m\n\u001b[1;32m      7\u001b[0m \u001b[0;34m\u001b[0m\u001b[0m\n\u001b[0;32m----> 8\u001b[0;31m \u001b[0mformatear\u001b[0m\u001b[0;34m(\u001b[0m\u001b[0;34m[\u001b[0m\u001b[0mstr\u001b[0m\u001b[0;34m.\u001b[0m\u001b[0mtitle\u001b[0m\u001b[0;34m,\u001b[0m \u001b[0mstr\u001b[0m\u001b[0;34m.\u001b[0m\u001b[0mstrip\u001b[0m\u001b[0;34m]\u001b[0m\u001b[0;34m,\u001b[0m \u001b[0mlista_ciudades\u001b[0m\u001b[0;34m)\u001b[0m  \u001b[0;31m# lo ponemos todo en title y le quitamos los 0\u001b[0m\u001b[0;34m\u001b[0m\u001b[0m\n\u001b[0m",
      "\u001b[0;32m<ipython-input-647-fdea21c495c0>\u001b[0m in \u001b[0;36mformatear\u001b[0;34m(funciones, lista)\u001b[0m\n\u001b[1;32m      3\u001b[0m \u001b[0;32mdef\u001b[0m \u001b[0mformatear\u001b[0m\u001b[0;34m(\u001b[0m\u001b[0mfunciones\u001b[0m\u001b[0;34m,\u001b[0m \u001b[0mlista\u001b[0m\u001b[0;34m)\u001b[0m\u001b[0;34m:\u001b[0m\u001b[0;34m\u001b[0m\u001b[0m\n\u001b[1;32m      4\u001b[0m     \u001b[0;32mfor\u001b[0m \u001b[0mfun\u001b[0m \u001b[0;32min\u001b[0m \u001b[0mfunciones\u001b[0m\u001b[0;34m:\u001b[0m\u001b[0;34m\u001b[0m\u001b[0m\n\u001b[0;32m----> 5\u001b[0;31m         \u001b[0mlista\u001b[0m \u001b[0;34m=\u001b[0m \u001b[0mmap\u001b[0m\u001b[0;34m(\u001b[0m\u001b[0mfun\u001b[0m\u001b[0;34m,\u001b[0m \u001b[0mlista\u001b[0m\u001b[0;34m)\u001b[0m\u001b[0;34m\u001b[0m\u001b[0m\n\u001b[0m\u001b[1;32m      6\u001b[0m         \u001b[0;32mreturn\u001b[0m \u001b[0mlist\u001b[0m\u001b[0;34m(\u001b[0m\u001b[0mlista\u001b[0m\u001b[0;34m)\u001b[0m\u001b[0;34m\u001b[0m\u001b[0m\n\u001b[1;32m      7\u001b[0m \u001b[0;34m\u001b[0m\u001b[0m\n",
      "\u001b[0;31mTypeError\u001b[0m: 'dict' object is not callable"
     ]
    }
   ],
   "source": [
    "# crear una funcion que RECIBA como PARAMETROS una lista de funciones a aplicar\n",
    "\n",
    "def formatear(funciones, lista):\n",
    "    for fun in funciones:\n",
    "        lista = map(fun, lista)\n",
    "        return list(lista)\n",
    "    \n",
    "formatear([str.title, str.strip], lista_ciudades)  # lo ponemos todo en title y le quitamos los 0"
   ]
  },
  {
   "cell_type": "markdown",
   "metadata": {},
   "source": [
    "##### Funciones anonimas o lambda funciones"
   ]
  },
  {
   "cell_type": "markdown",
   "metadata": {},
   "source": [
    "Son quellas que ni tienen nombre pero se refieren a una unica instruccion y se declaran con el nombre __lambda__. \n",
    "- son funciones cortas y reestringidas por una sola expresion\n",
    "\n",
    "- Las funciones Lambda pueden usarse en cualquier lugar con objeto de tipo funcion.  \" Son solo azucar sintactica\" \n",
    "- Al igual que las funciones anidadas, las lambda pueden __hacer referencia a variables desde el ambito que la contiene.__"
   ]
  },
  {
   "cell_type": "code",
   "execution_count": 655,
   "metadata": {},
   "outputs": [],
   "source": [
    "def producto(a):  # FUNCION NORMAL\n",
    "    return a*2 \n",
    "\n",
    "funcion = lambda x: x *2   # FUNCION ANONIMA"
   ]
  },
  {
   "cell_type": "code",
   "execution_count": 657,
   "metadata": {},
   "outputs": [
    {
     "ename": "TypeError",
     "evalue": "'dict' object is not callable",
     "output_type": "error",
     "traceback": [
      "\u001b[0;31m---------------------------------------------------------------------------\u001b[0m",
      "\u001b[0;31mTypeError\u001b[0m                                 Traceback (most recent call last)",
      "\u001b[0;32m<ipython-input-657-d3f64130deee>\u001b[0m in \u001b[0;36m<module>\u001b[0;34m()\u001b[0m\n\u001b[0;32m----> 1\u001b[0;31m \u001b[0mresultado\u001b[0m \u001b[0;34m=\u001b[0m \u001b[0mmap\u001b[0m\u001b[0;34m(\u001b[0m\u001b[0mfuncion\u001b[0m\u001b[0;34m,\u001b[0m \u001b[0;34m[\u001b[0m\u001b[0;36m4\u001b[0m\u001b[0;34m,\u001b[0m\u001b[0;36m7\u001b[0m\u001b[0;34m]\u001b[0m\u001b[0;34m)\u001b[0m\u001b[0;34m\u001b[0m\u001b[0m\n\u001b[0m\u001b[1;32m      2\u001b[0m \u001b[0mprint\u001b[0m\u001b[0;34m(\u001b[0m\u001b[0mlist\u001b[0m\u001b[0;34m(\u001b[0m\u001b[0mresultado\u001b[0m\u001b[0;34m)\u001b[0m\u001b[0;34m)\u001b[0m\u001b[0;34m\u001b[0m\u001b[0m\n",
      "\u001b[0;31mTypeError\u001b[0m: 'dict' object is not callable"
     ]
    }
   ],
   "source": [
    "resultado = map(funcion, [4,7])  # me tiene que devolver [8,14]\n",
    "print(list(resultado))"
   ]
  },
  {
   "cell_type": "code",
   "execution_count": 660,
   "metadata": {},
   "outputs": [
    {
     "ename": "TypeError",
     "evalue": "'dict' object is not callable",
     "output_type": "error",
     "traceback": [
      "\u001b[0;31m---------------------------------------------------------------------------\u001b[0m",
      "\u001b[0;31mTypeError\u001b[0m                                 Traceback (most recent call last)",
      "\u001b[0;32m<ipython-input-660-ed0f224b4773>\u001b[0m in \u001b[0;36m<module>\u001b[0;34m()\u001b[0m\n\u001b[1;32m      1\u001b[0m \u001b[0;31m# de igual forma lo podemos hacer directamente\u001b[0m\u001b[0;34m\u001b[0m\u001b[0;34m\u001b[0m\u001b[0m\n\u001b[1;32m      2\u001b[0m \u001b[0;34m\u001b[0m\u001b[0m\n\u001b[0;32m----> 3\u001b[0;31m \u001b[0mresultado\u001b[0m \u001b[0;34m=\u001b[0m \u001b[0mmap\u001b[0m\u001b[0;34m(\u001b[0m\u001b[0;32mlambda\u001b[0m \u001b[0mx\u001b[0m\u001b[0;34m:\u001b[0m \u001b[0mx\u001b[0m\u001b[0;34m*\u001b[0m\u001b[0;36m2\u001b[0m\u001b[0;34m,\u001b[0m \u001b[0;34m[\u001b[0m\u001b[0;36m4\u001b[0m\u001b[0;34m,\u001b[0m\u001b[0;36m7\u001b[0m\u001b[0;34m]\u001b[0m\u001b[0;34m)\u001b[0m  \u001b[0;31m# sale el mismo resultado\u001b[0m\u001b[0;34m\u001b[0m\u001b[0m\n\u001b[0m\u001b[1;32m      4\u001b[0m \u001b[0mlist\u001b[0m\u001b[0;34m(\u001b[0m\u001b[0mresultado\u001b[0m\u001b[0;34m)\u001b[0m\u001b[0;34m\u001b[0m\u001b[0m\n",
      "\u001b[0;31mTypeError\u001b[0m: 'dict' object is not callable"
     ]
    }
   ],
   "source": [
    "# de igual forma lo podemos hacer directamente\n",
    "\n",
    "resultado = map(lambda x: x*2, [4,7])  # sale el mismo resultado\n",
    "list(resultado)"
   ]
  },
  {
   "cell_type": "markdown",
   "metadata": {},
   "source": [
    "Ls funciones lambda: se utilzan mucho en analisis de datos para transformar datos mediante funciones que tienen a otras funciones en sus argumentos\n",
    "- Se usan en lugar de escrubir las normales para hacer el codigo mas corto y mas claro"
   ]
  },
  {
   "cell_type": "markdown",
   "metadata": {},
   "source": [
    "### Importar MODULOS"
   ]
  },
  {
   "cell_type": "markdown",
   "metadata": {},
   "source": [
    "Modulos: son programas que amplian funcionalidad de Pyhton y que almacenan funciones para al crear aplicaciones no tener que repetir las cosas varias veces. \n",
    "- Tienen extension __py__ y contienen definicion de funciones, datos, definicion de clases..."
   ]
  },
  {
   "cell_type": "markdown",
   "metadata": {},
   "source": [
    "#### Módulos Estándar"
   ]
  },
  {
   "cell_type": "code",
   "execution_count": 661,
   "metadata": {},
   "outputs": [
    {
     "name": "stdout",
     "output_type": "stream",
     "text": [
      "# packages in environment at /Users/martadivasson/anaconda3:\n",
      "#\n",
      "# Name                    Version                   Build  Channel\n",
      "_ipyw_jlab_nb_ext_conf    0.1.0                    py37_0  \n",
      "alabaster                 0.7.11                   py37_0  \n",
      "anaconda                  5.3.0                    py37_0  \n",
      "anaconda-client           1.7.2                    py37_0  \n",
      "anaconda-navigator        1.9.2                    py37_0  \n",
      "anaconda-project          0.8.2                    py37_0  \n",
      "appdirs                   1.4.3            py37h28b3542_0  \n",
      "appnope                   0.1.0                    py37_0  \n",
      "appscript                 1.0.1            py37h1de35cc_1  \n",
      "asn1crypto                0.24.0                   py37_0  \n",
      "astroid                   2.0.4                    py37_0  \n",
      "astropy                   3.0.4            py37h1de35cc_0  \n",
      "atomicwrites              1.2.1                    py37_0  \n",
      "attrs                     18.2.0           py37h28b3542_0  \n",
      "automat                   0.7.0                    py37_0  \n",
      "babel                     2.6.0                    py37_0  \n",
      "backcall                  0.1.0                    py37_0  \n",
      "backports                 1.0                      py37_1  \n",
      "backports.shutil_get_terminal_size 1.0.0                    py37_2  \n",
      "beautifulsoup4            4.6.3                    py37_0  \n",
      "bitarray                  0.8.3            py37h1de35cc_0  \n",
      "bkcharts                  0.2                      py37_0  \n",
      "blas                      1.0                         mkl  \n",
      "blaze                     0.11.3                   py37_0  \n",
      "bleach                    2.1.4                    py37_0  \n",
      "blosc                     1.14.4               hd9629dc_0  \n",
      "bokeh                     0.13.0                   py37_0  \n",
      "boto                      2.49.0                   py37_0  \n",
      "bottleneck                1.2.1            py37h1d22016_1  \n",
      "bzip2                     1.0.6                h1de35cc_5  \n",
      "ca-certificates           2018.03.07                    0  \n",
      "certifi                   2018.8.24                py37_1  \n",
      "cffi                      1.11.5           py37h6174b99_1  \n",
      "chardet                   3.0.4                    py37_1  \n",
      "click                     6.7                      py37_0  \n",
      "cloudpickle               0.5.5                    py37_0  \n",
      "clyent                    1.2.2                    py37_1  \n",
      "colorama                  0.3.9                    py37_0  \n",
      "conda                     4.5.11                py37_1000    conda-forge\n",
      "conda-build               3.15.1                   py37_0  \n",
      "conda-env                 2.6.0                         1  \n",
      "constantly                15.1.0           py37h28b3542_0  \n",
      "contextlib2               0.5.5                    py37_0  \n",
      "cryptography              2.3.1            py37hdbc3d79_0  \n",
      "curl                      7.61.0               ha441bb4_0  \n",
      "cycler                    0.10.0                   py37_0  \n",
      "cython                    0.28.5           py37h0a44026_0  \n",
      "cytoolz                   0.9.0.1          py37h1de35cc_1  \n",
      "dask                      0.19.1                   py37_0  \n",
      "dask-core                 0.19.1                   py37_0  \n",
      "datashape                 0.5.4                    py37_1  \n",
      "dbus                      1.13.2               h760590f_1  \n",
      "decorator                 4.3.0                    py37_0  \n",
      "defusedxml                0.5.0                    py37_1  \n",
      "distributed               1.23.1                   py37_0  \n",
      "docutils                  0.14                     py37_0  \n",
      "entrypoints               0.2.3                    py37_2  \n",
      "et_xmlfile                1.0.1                    py37_0  \n",
      "expat                     2.2.6                h0a44026_0  \n",
      "fastcache                 1.0.2            py37h1de35cc_2  \n",
      "filelock                  3.0.8                    py37_0  \n",
      "flask                     1.0.2                    py37_1  \n",
      "flask-cors                3.0.6                    py37_0  \n",
      "freetype                  2.9.1                hb4e5f40_0  \n",
      "get_terminal_size         1.0.0                h7520d66_0  \n",
      "gettext                   0.19.8.1             h15daf44_3  \n",
      "gevent                    1.3.6            py37h1de35cc_0  \n",
      "glib                      2.56.2               hd9629dc_0  \n",
      "glob2                     0.6                      py37_0  \n",
      "gmp                       6.1.2                hb37e062_1  \n",
      "gmpy2                     2.0.8            py37h6ef4df4_2  \n",
      "greenlet                  0.4.15           py37h1de35cc_0  \n",
      "h5py                      2.8.0            py37h878fce3_3  \n",
      "hdf5                      1.10.2               hfa1e0ec_1  \n",
      "heapdict                  1.0.0                    py37_2  \n",
      "html5lib                  1.0.1                    py37_0  \n",
      "hyperlink                 18.0.0                   py37_0  \n",
      "icu                       58.2                 h4b95b61_1  \n",
      "idna                      2.7                      py37_0  \n",
      "imageio                   2.4.1                    py37_0  \n",
      "imagesize                 1.1.0                    py37_0  \n",
      "incremental               17.5.0                   py37_0  \n",
      "intel-openmp              2019.0                      118  \n",
      "ipykernel                 4.9.0                    py37_1  \n",
      "ipython                   6.5.0                    py37_0  \n",
      "ipython_genutils          0.2.0                    py37_0  \n",
      "ipywidgets                7.4.1                    py37_0  \n",
      "isort                     4.3.4                    py37_0  \n",
      "itsdangerous              0.24                     py37_1  \n",
      "jbig                      2.1                  h4d881f8_0  \n",
      "jdcal                     1.4                      py37_0  \n",
      "jedi                      0.12.1                   py37_0  \n",
      "jinja2                    2.10                     py37_0  \n",
      "jpeg                      9b                   he5867d9_2  \n",
      "jsonschema                2.6.0                    py37_0  \n",
      "jupyter                   1.0.0                    py37_7  \n",
      "jupyter_client            5.2.3                    py37_0  \n",
      "jupyter_console           5.2.0                    py37_1  \n",
      "jupyter_contrib_core      0.3.3                      py_2    conda-forge\n",
      "jupyter_contrib_nbextensions 0.5.0                 py37_1000    conda-forge\n",
      "jupyter_core              4.4.0                    py37_0  \n",
      "jupyter_highlight_selected_word 0.2.0                 py37_1000    conda-forge\n",
      "jupyter_latex_envs        1.4.4                 py37_1000    conda-forge\n",
      "jupyter_nbextensions_configurator 0.4.0                 py37_1000    conda-forge\n",
      "jupyterlab                0.34.9                   py37_0  \n",
      "jupyterlab_launcher       0.13.1                   py37_0  \n",
      "keyring                   13.2.1                   py37_0  \n",
      "kiwisolver                1.0.1            py37h0a44026_0  \n",
      "lazy-object-proxy         1.3.1            py37h1de35cc_2  \n",
      "libcurl                   7.61.0               hf30b1f0_0  \n",
      "libcxx                    4.0.1                h579ed51_0  \n",
      "libcxxabi                 4.0.1                hebd6815_0  \n",
      "libedit                   3.1.20170329         hb402a30_2  \n",
      "libffi                    3.2.1                h475c297_4  \n",
      "libgfortran               3.0.1                h93005f0_2  \n",
      "libiconv                  1.15                 hdd342a3_7  \n",
      "libpng                    1.6.34               he12f830_0  \n",
      "libsodium                 1.0.16               h3efe00b_0  \n",
      "libssh2                   1.8.0                h322a93b_4  \n",
      "libtiff                   4.0.9                hcb84e12_2  \n",
      "libxml2                   2.9.8                hab757c2_1  \n",
      "libxslt                   1.1.32               hb819dd2_0  \n",
      "llvmlite                  0.24.0           py37hc454e04_0  \n",
      "locket                    0.2.0                    py37_1  \n",
      "lxml                      4.2.5            py37hef8c89e_0  \n",
      "lzo                       2.10                 h362108e_2  \n",
      "markupsafe                1.0              py37h1de35cc_1  \n",
      "matplotlib                2.2.3            py37h54f8f79_0  \n",
      "mccabe                    0.6.1                    py37_1  \n",
      "mistune                   0.8.3            py37h1de35cc_1  \n",
      "mkl                       2019.0                      118  \n",
      "mkl-service               1.1.2            py37h6b9c3cc_5  \n",
      "mkl_fft                   1.0.4            py37h5d10147_1  \n",
      "mkl_random                1.0.1            py37h5d10147_1  \n",
      "more-itertools            4.3.0                    py37_0  \n",
      "mpc                       1.1.0                h6ef4df4_1  \n",
      "mpfr                      4.0.1                h3018a27_3  \n",
      "mpmath                    1.0.0                    py37_2  \n",
      "msgpack-python            0.5.6            py37h04f5b5a_1  \n",
      "multipledispatch          0.6.0                    py37_0  \n",
      "navigator-updater         0.2.1                    py37_0  \n",
      "nbconvert                 5.4.0                    py37_1  \n",
      "nbformat                  4.4.0                    py37_0  \n",
      "ncurses                   6.1                  h0a44026_0  \n",
      "networkx                  2.1                      py37_0  \n",
      "nltk                      3.3.0                    py37_0  \n",
      "nose                      1.3.7                    py37_2  \n",
      "notebook                  5.6.0                    py37_0  \n",
      "numba                     0.39.0           py37h6440ff4_0  \n",
      "numexpr                   2.6.8            py37h1dc9127_0  \n",
      "numpy                     1.15.1           py37h6a91979_0  \n",
      "numpy-base                1.15.1           py37h8a80b8c_0  \n",
      "numpydoc                  0.8.0                    py37_0  \n",
      "odo                       0.5.1                    py37_0  \n",
      "olefile                   0.46                     py37_0  \n",
      "openpyxl                  2.5.6                    py37_0  \n",
      "openssl                   1.0.2p               h1de35cc_0  \n",
      "packaging                 17.1                     py37_0  \n",
      "pandas                    0.23.4           py37h6440ff4_0  \n",
      "pandoc                    1.19.2.1             ha5e8f32_1  \n",
      "pandocfilters             1.4.2                    py37_1  \n",
      "parso                     0.3.1                    py37_0  \n",
      "partd                     0.3.8                    py37_0  \n",
      "path.py                   11.1.0                   py37_0  \n",
      "pathlib2                  2.3.2                    py37_0  \n",
      "patsy                     0.5.0                    py37_0  \n",
      "pcre                      8.42                 h378b8a2_0  \n",
      "pep8                      1.7.1                    py37_0  \n",
      "pexpect                   4.6.0                    py37_0  \n",
      "pickleshare               0.7.4                    py37_0  \n",
      "pillow                    5.2.0            py37hb68e598_0  \n",
      "pip                       18.1                      <pip>\n",
      "pip                       10.0.1                   py37_0  \n",
      "pkginfo                   1.4.2                    py37_1  \n",
      "pluggy                    0.7.1            py37h28b3542_0  \n",
      "ply                       3.11                     py37_0  \n",
      "prometheus_client         0.3.1            py37h28b3542_0  \n",
      "prompt_toolkit            1.0.15                   py37_0  \n",
      "psutil                    5.4.7            py37h1de35cc_0  \n",
      "ptyprocess                0.6.0                    py37_0  \n",
      "py                        1.6.0                    py37_0  \n",
      "py4j                      0.10.7                    <pip>\n",
      "pyasn1                    0.4.4            py37h28b3542_0  \n",
      "pyasn1-modules            0.2.2                    py37_0  \n",
      "pycodestyle               2.4.0                    py37_0  \n",
      "pycosat                   0.6.3            py37h1de35cc_0  \n",
      "pycparser                 2.18                     py37_1  \n",
      "pycrypto                  2.6.1            py37h1de35cc_9  \n",
      "pycurl                    7.43.0.2         py37hdbc3d79_0  \n",
      "pyflakes                  2.0.0                    py37_0  \n",
      "pygments                  2.2.0                    py37_0  \n",
      "pylint                    2.1.1                    py37_0  \n",
      "pyodbc                    4.0.24           py37h0a44026_0  \n",
      "pyopenssl                 18.0.0                   py37_0  \n",
      "pyparsing                 2.2.0                    py37_1  \n",
      "pyqt                      5.9.2            py37h655552a_2  \n",
      "pysocks                   1.6.8                    py37_0  \n",
      "pyspark                   2.4.0                     <pip>\n",
      "pytables                  3.4.4            py37h13cba08_0  \n",
      "pytest                    3.8.0                    py37_0  \n",
      "pytest-arraydiff          0.2              py37h39e3cac_0  \n",
      "pytest-astropy            0.4.0                    py37_0  \n",
      "pytest-doctestplus        0.1.3                    py37_0  \n",
      "pytest-openfiles          0.3.0                    py37_0  \n",
      "pytest-remotedata         0.3.0                    py37_0  \n",
      "python                    3.7.0                hc167b69_0  \n",
      "python-dateutil           2.7.3                    py37_0  \n",
      "python.app                2                        py37_8  \n",
      "pytz                      2018.5                   py37_0  \n",
      "pywavelets                1.0.0            py37h1d22016_0  \n",
      "pyyaml                    3.13             py37h1de35cc_0  \n",
      "pyzmq                     17.1.2           py37h1de35cc_0  \n",
      "qt                        5.9.6                h45cd832_2  \n",
      "qtawesome                 0.4.4                    py37_0  \n",
      "qtconsole                 4.4.1                    py37_0  \n",
      "qtpy                      1.5.0                    py37_0  \n",
      "readline                  7.0                  h1de35cc_5  \n",
      "requests                  2.19.1                   py37_0  \n",
      "rope                      0.11.0                   py37_0  \n",
      "ruamel_yaml               0.15.46          py37h1de35cc_0  \n",
      "scikit-image              0.14.0           py37h0a44026_1  \n",
      "scikit-learn              0.19.2           py37h4f467ca_0  \n",
      "scipy                     1.1.0            py37h28f7352_1  \n",
      "seaborn                   0.9.0                    py37_0  \n",
      "send2trash                1.5.0                    py37_0  \n",
      "service_identity          17.0.0           py37h28b3542_0  \n",
      "setuptools                40.2.0                   py37_0  \n",
      "simplegeneric             0.8.1                    py37_2  \n",
      "singledispatch            3.4.0.3                  py37_0  \n",
      "sip                       4.19.8           py37h0a44026_0  \n",
      "six                       1.11.0                   py37_1  \n",
      "snappy                    1.1.7                he62c110_3  \n",
      "snowballstemmer           1.2.1                    py37_0  \n",
      "sortedcollections         1.0.1                    py37_0  \n",
      "sortedcontainers          2.0.5                    py37_0  \n",
      "sphinx                    1.7.9                    py37_0  \n",
      "sphinxcontrib             1.0                      py37_1  \n",
      "sphinxcontrib-websupport  1.1.0                    py37_1  \n",
      "spyder                    3.3.1                    py37_1  \n",
      "spyder-kernels            0.2.6                    py37_0  \n",
      "sqlalchemy                1.2.11           py37h1de35cc_0  \n",
      "sqlite                    3.24.0               ha441bb4_0  \n",
      "statsmodels               0.9.0            py37h1d22016_0  \n",
      "sympy                     1.2                      py37_0  \n",
      "tblib                     1.3.2                    py37_0  \n",
      "terminado                 0.8.1                    py37_1  \n",
      "testpath                  0.3.1                    py37_0  \n",
      "tk                        8.6.8                ha441bb4_0  \n",
      "toolz                     0.9.0                    py37_0  \n",
      "tornado                   5.1              py37h1de35cc_0  \n",
      "tqdm                      4.26.0           py37h28b3542_0  \n",
      "traitlets                 4.3.2                    py37_0  \n",
      "twisted                   18.7.0           py37h1de35cc_1  \n",
      "unicodecsv                0.14.1                   py37_0  \n",
      "unixodbc                  2.3.7                h1de35cc_0  \n",
      "urllib3                   1.23                     py37_0  \n",
      "wcwidth                   0.1.7                    py37_0  \n",
      "webencodings              0.5.1                    py37_1  \n",
      "werkzeug                  0.14.1                   py37_0  \n",
      "wheel                     0.31.1                   py37_0  \n",
      "widgetsnbextension        3.4.1                    py37_0  \n",
      "wrapt                     1.10.11          py37h1de35cc_2  \n",
      "xlrd                      1.1.0                    py37_1  \n",
      "xlsxwriter                1.1.0                    py37_0  \n",
      "xlwings                   0.11.8                   py37_0  \n",
      "xlwt                      1.3.0                    py37_0  \n",
      "xz                        5.2.4                h1de35cc_4  \n",
      "yaml                      0.1.7                hc338f04_2  \n",
      "zeromq                    4.2.5                h0a44026_1  \n",
      "zict                      0.1.3                    py37_0  \n",
      "zlib                      1.2.11               hf3cbc9b_2  \n",
      "zope                      1.0                      py37_1  \n",
      "zope.interface            4.5.0            py37h1de35cc_0  \n"
     ]
    }
   ],
   "source": [
    "!conda list  # lista de todos los modulos instalados que podemos utilizar en nuestro programa"
   ]
  },
  {
   "cell_type": "code",
   "execution_count": 668,
   "metadata": {},
   "outputs": [],
   "source": [
    "# Para utilizar un modulo que no esté en la lista, tenemeos que INSTALARLO.\n",
    "\n",
    "# conda install pymysql en la terminal"
   ]
  },
  {
   "cell_type": "markdown",
   "metadata": {},
   "source": [
    "Los modulos disponibles se pueden importar:\n",
    "   -  from modulo import *\n",
    "   - import modulo\n",
    "   - import modulo as alias"
   ]
  },
  {
   "cell_type": "code",
   "execution_count": 671,
   "metadata": {},
   "outputs": [
    {
     "data": {
      "text/plain": [
       "array([1, 2, 3])"
      ]
     },
     "execution_count": 671,
     "metadata": {},
     "output_type": "execute_result"
    }
   ],
   "source": [
    "from numpy import array  # importamos solo la funcion array de numpy\n",
    "a = array( [1,2,3] )\n",
    "a\n",
    "\n",
    "# si ponemos print(a) sale diferente"
   ]
  },
  {
   "cell_type": "markdown",
   "metadata": {},
   "source": [
    "##### DATOS  ARRAYS\n",
    "- Un array es el termino que traslada el concepto matemático de __vector o matriz a la programación añadiéndole la noción de almacenamiento en memoria__. Los arrays disponen en su interior de una serie de elementos dispuestos en filas y/o columnas dependiendo de la dimensión.\n",
    "\n",
    "El desarrollo y la principal finalidad del módulo Numpy es la __creación y modificación de arrays multidimensionales__. Para este fin utilizaremos las clase __ndarray del ingles N-dimensional array__ o usando su alias simplemente array (no confundir con la clase array.array que ofrece menos funcionalidad). En Python cada clase puede tener atributos que se pueden llamar con el método visto anteriormente o simplemente escribiendo a continuación de la clase un punto y el atributo. En la mayoría de los IDEs al cargar la clase y escribir el punto aparecen todos los atributos disponibles en orden alfabético por lo que en caso de dudar siempre podemos utilizar este método para escribir el comando. En el caso de __ndarray los principales atributos__ son los siguientes:\n",
    "\n",
    "ndarray.ndim –> Proporciona el número de dimensiones de nuestro array. El array identidad es un array cuadrado con una diagonal principal unitaria.\n",
    "ndarray.shape –> Devuelve la dimensión del array, es decir, una tupla de enteros indicando el tamaño del array en cada dimensión. Para una matriz de n filas y m columnas obtendremos (n,m).\n",
    "ndarray.size –> Es el número total de elementos del array.\n",
    "ndarray.dtype –> Es un objeto que describe el tipo de elementos del array.\n",
    "ndarray.itemsize –> devuelve el tamaño del array en bytes.\n",
    "ndarray.data –> El buffer contiene los elementos actuales del array.\n",
    "\n",
    "EJEMPLO:\n",
    "\n",
    "1. import numpy as np # Importamos numpy como el alias np\n",
    "2. miArray = np.arange(10) # Creamos un array de 0 a 9 separados de uno en uno\n",
    "3. miArray # Presentamos en pantalla el array creado\n",
    "    array([0, 1, 2, 3, 4, 5, 6, 7, 8, 9])\n",
    "4. type(miArray)   #Comprobamos que es un ndarray\n",
    "<type 'numpy.ndarray'>\n",
    "5. miArray.ndim    # Consultamos el número de dimensiones\n",
    "1\n",
    "6.miArray.shape   # Consultamos la dimensión\n",
    "(10,)\n",
    "7. miArray.size   # Consultamos la dimensión\n",
    "10\n",
    "8. miArray.dtype   # Consultamos el tipo de elementos del array\n",
    "dtype('int64')\n",
    "9. miArray.itemsize   # tamaño en bytes\n",
    "8\n",
    "10. miArray.data   # Consultamos el buffer de memoria.\n",
    "<read-write buffer for 0x2fb57a0, size 80, offset 0 at 0x2f664b0>\n",
    "\n",
    "\n",
    "EJEMPLO 2:\n",
    "1. from numpy import * # Importamos todo el módulo numpy.\n",
    "2.zeros( (3,4) )      # Creamos un array nulo de 3 filas y 4 columnas.\n",
    "array([[0.,  0.,  0.,  0.],\n",
    "       [0.,  0.,  0.,  0.],\n",
    "       [0.,  0.,  0.,  0.]])\n",
    "3.  ones(9)            #  Creamos un array unitario de 1 fila y 9 columnas,\n",
    "array([ 1.,  1.,  1.,  1.,  1.,  1.,  1.,  1.,  1.])\n",
    "4. empty( (2,3) )     # Creamos un array sin entradas de  2x3.\n",
    "array([[  3.73603959e-262,   6.02658058e-154,   6.55490914e-260],\n",
    "    [  5.30498948e-313,   3.14673309e-307,   1.00000000e+000]])\n",
    "5. arange( 10, 30, 5 )  # Creamos un array con inicio en 10 final en 30 y paso de 5.\n",
    "array([10, 15, 20, 25])\n",
    "6.linspace( 0, 2, 9 )                 # Array de 9 elementos de 0 a 2\n",
    "array([ 0.  ,  0.25,  0.5 ,  0.75,  1.  ,  1.25,  1.5 ,  1.75,  2.  ])\n",
    "7. x = linspace( 0, 2*pi, 100 )    # Para gráficas conviene tener muchos puntos, en este caso 100 puntos entre 0 y 2*pi.\n",
    "8. X, Y = np.meshgrid([1,2,3], [4,5,6,7]) # Generamos una matriz de coordenadas.\n",
    "9. X\n",
    "array([[1, 2, 3],\n",
    "       [1, 2, 3],\n",
    "       [1, 2, 3],\n",
    "       [1, 2, 3]])\n",
    "10. Y\n",
    "array([[4, 4, 4],\n",
    "       [5, 5, 5],\n",
    "       [6, 6, 6],\n",
    "       [7, 7, 7]])"
   ]
  },
  {
   "cell_type": "code",
   "execution_count": 672,
   "metadata": {},
   "outputs": [
    {
     "data": {
      "text/plain": [
       "array([2, 3, 4])"
      ]
     },
     "execution_count": 672,
     "metadata": {},
     "output_type": "execute_result"
    }
   ],
   "source": [
    "import numpy  # importamos todo el modulo\n",
    "a = numpy.array( [2,3,4] )\n",
    "a"
   ]
  },
  {
   "cell_type": "code",
   "execution_count": 673,
   "metadata": {},
   "outputs": [
    {
     "data": {
      "text/plain": [
       "array([2, 3, 4])"
      ]
     },
     "execution_count": 673,
     "metadata": {},
     "output_type": "execute_result"
    }
   ],
   "source": [
    "import numpy as np  # importamos con un alias\n",
    "a = numpy.array( [2,3,4] )\n",
    "a"
   ]
  },
  {
   "cell_type": "markdown",
   "metadata": {},
   "source": [
    "##### Operaciones disponibles en un modulo : dir() - encontrar qué nombres define un modulo y devuelve una lista ordenada de cadenas"
   ]
  },
  {
   "cell_type": "code",
   "execution_count": 674,
   "metadata": {},
   "outputs": [
    {
     "data": {
      "text/plain": [
       "['ALLOW_THREADS',\n",
       " 'AxisError',\n",
       " 'BUFSIZE',\n",
       " 'CLIP',\n",
       " 'ComplexWarning',\n",
       " 'DataSource',\n",
       " 'ERR_CALL',\n",
       " 'ERR_DEFAULT',\n",
       " 'ERR_IGNORE',\n",
       " 'ERR_LOG',\n",
       " 'ERR_PRINT',\n",
       " 'ERR_RAISE',\n",
       " 'ERR_WARN',\n",
       " 'FLOATING_POINT_SUPPORT',\n",
       " 'FPE_DIVIDEBYZERO',\n",
       " 'FPE_INVALID',\n",
       " 'FPE_OVERFLOW',\n",
       " 'FPE_UNDERFLOW',\n",
       " 'False_',\n",
       " 'Inf',\n",
       " 'Infinity',\n",
       " 'MAXDIMS',\n",
       " 'MAY_SHARE_BOUNDS',\n",
       " 'MAY_SHARE_EXACT',\n",
       " 'MachAr',\n",
       " 'ModuleDeprecationWarning',\n",
       " 'NAN',\n",
       " 'NINF',\n",
       " 'NZERO',\n",
       " 'NaN',\n",
       " 'PINF',\n",
       " 'PZERO',\n",
       " 'PackageLoader',\n",
       " 'RAISE',\n",
       " 'RankWarning',\n",
       " 'SHIFT_DIVIDEBYZERO',\n",
       " 'SHIFT_INVALID',\n",
       " 'SHIFT_OVERFLOW',\n",
       " 'SHIFT_UNDERFLOW',\n",
       " 'ScalarType',\n",
       " 'Tester',\n",
       " 'TooHardError',\n",
       " 'True_',\n",
       " 'UFUNC_BUFSIZE_DEFAULT',\n",
       " 'UFUNC_PYVALS_NAME',\n",
       " 'VisibleDeprecationWarning',\n",
       " 'WRAP',\n",
       " '_NoValue',\n",
       " '__NUMPY_SETUP__',\n",
       " '__all__',\n",
       " '__builtins__',\n",
       " '__cached__',\n",
       " '__config__',\n",
       " '__doc__',\n",
       " '__file__',\n",
       " '__git_revision__',\n",
       " '__loader__',\n",
       " '__mkl_version__',\n",
       " '__name__',\n",
       " '__package__',\n",
       " '__path__',\n",
       " '__spec__',\n",
       " '__version__',\n",
       " '_distributor_init',\n",
       " '_globals',\n",
       " '_import_tools',\n",
       " '_mat',\n",
       " '_mklinit',\n",
       " 'abs',\n",
       " 'absolute',\n",
       " 'absolute_import',\n",
       " 'add',\n",
       " 'add_docstring',\n",
       " 'add_newdoc',\n",
       " 'add_newdoc_ufunc',\n",
       " 'add_newdocs',\n",
       " 'alen',\n",
       " 'all',\n",
       " 'allclose',\n",
       " 'alltrue',\n",
       " 'amax',\n",
       " 'amin',\n",
       " 'angle',\n",
       " 'any',\n",
       " 'append',\n",
       " 'apply_along_axis',\n",
       " 'apply_over_axes',\n",
       " 'arange',\n",
       " 'arccos',\n",
       " 'arccosh',\n",
       " 'arcsin',\n",
       " 'arcsinh',\n",
       " 'arctan',\n",
       " 'arctan2',\n",
       " 'arctanh',\n",
       " 'argmax',\n",
       " 'argmin',\n",
       " 'argpartition',\n",
       " 'argsort',\n",
       " 'argwhere',\n",
       " 'around',\n",
       " 'array',\n",
       " 'array2string',\n",
       " 'array_equal',\n",
       " 'array_equiv',\n",
       " 'array_repr',\n",
       " 'array_split',\n",
       " 'array_str',\n",
       " 'asanyarray',\n",
       " 'asarray',\n",
       " 'asarray_chkfinite',\n",
       " 'ascontiguousarray',\n",
       " 'asfarray',\n",
       " 'asfortranarray',\n",
       " 'asmatrix',\n",
       " 'asscalar',\n",
       " 'atleast_1d',\n",
       " 'atleast_2d',\n",
       " 'atleast_3d',\n",
       " 'average',\n",
       " 'bartlett',\n",
       " 'base_repr',\n",
       " 'binary_repr',\n",
       " 'bincount',\n",
       " 'bitwise_and',\n",
       " 'bitwise_not',\n",
       " 'bitwise_or',\n",
       " 'bitwise_xor',\n",
       " 'blackman',\n",
       " 'block',\n",
       " 'bmat',\n",
       " 'bool',\n",
       " 'bool8',\n",
       " 'bool_',\n",
       " 'broadcast',\n",
       " 'broadcast_arrays',\n",
       " 'broadcast_to',\n",
       " 'busday_count',\n",
       " 'busday_offset',\n",
       " 'busdaycalendar',\n",
       " 'byte',\n",
       " 'byte_bounds',\n",
       " 'bytes0',\n",
       " 'bytes_',\n",
       " 'c_',\n",
       " 'can_cast',\n",
       " 'cast',\n",
       " 'cbrt',\n",
       " 'cdouble',\n",
       " 'ceil',\n",
       " 'cfloat',\n",
       " 'char',\n",
       " 'character',\n",
       " 'chararray',\n",
       " 'choose',\n",
       " 'clip',\n",
       " 'clongdouble',\n",
       " 'clongfloat',\n",
       " 'column_stack',\n",
       " 'common_type',\n",
       " 'compare_chararrays',\n",
       " 'compat',\n",
       " 'complex',\n",
       " 'complex128',\n",
       " 'complex256',\n",
       " 'complex64',\n",
       " 'complex_',\n",
       " 'complexfloating',\n",
       " 'compress',\n",
       " 'concatenate',\n",
       " 'conj',\n",
       " 'conjugate',\n",
       " 'convolve',\n",
       " 'copy',\n",
       " 'copysign',\n",
       " 'copyto',\n",
       " 'core',\n",
       " 'corrcoef',\n",
       " 'correlate',\n",
       " 'cos',\n",
       " 'cosh',\n",
       " 'count_nonzero',\n",
       " 'cov',\n",
       " 'cross',\n",
       " 'csingle',\n",
       " 'ctypeslib',\n",
       " 'cumprod',\n",
       " 'cumproduct',\n",
       " 'cumsum',\n",
       " 'datetime64',\n",
       " 'datetime_as_string',\n",
       " 'datetime_data',\n",
       " 'deg2rad',\n",
       " 'degrees',\n",
       " 'delete',\n",
       " 'deprecate',\n",
       " 'deprecate_with_doc',\n",
       " 'diag',\n",
       " 'diag_indices',\n",
       " 'diag_indices_from',\n",
       " 'diagflat',\n",
       " 'diagonal',\n",
       " 'diff',\n",
       " 'digitize',\n",
       " 'disp',\n",
       " 'divide',\n",
       " 'division',\n",
       " 'divmod',\n",
       " 'dot',\n",
       " 'double',\n",
       " 'dsplit',\n",
       " 'dstack',\n",
       " 'dtype',\n",
       " 'dual',\n",
       " 'e',\n",
       " 'ediff1d',\n",
       " 'einsum',\n",
       " 'einsum_path',\n",
       " 'emath',\n",
       " 'empty',\n",
       " 'empty_like',\n",
       " 'equal',\n",
       " 'erf',\n",
       " 'errstate',\n",
       " 'euler_gamma',\n",
       " 'exp',\n",
       " 'exp2',\n",
       " 'expand_dims',\n",
       " 'expm1',\n",
       " 'extract',\n",
       " 'eye',\n",
       " 'fabs',\n",
       " 'fastCopyAndTranspose',\n",
       " 'fft',\n",
       " 'fill_diagonal',\n",
       " 'find_common_type',\n",
       " 'finfo',\n",
       " 'fix',\n",
       " 'flatiter',\n",
       " 'flatnonzero',\n",
       " 'flexible',\n",
       " 'flip',\n",
       " 'fliplr',\n",
       " 'flipud',\n",
       " 'float',\n",
       " 'float128',\n",
       " 'float16',\n",
       " 'float32',\n",
       " 'float64',\n",
       " 'float_',\n",
       " 'float_power',\n",
       " 'floating',\n",
       " 'floor',\n",
       " 'floor_divide',\n",
       " 'fmax',\n",
       " 'fmin',\n",
       " 'fmod',\n",
       " 'format_float_positional',\n",
       " 'format_float_scientific',\n",
       " 'format_parser',\n",
       " 'frexp',\n",
       " 'frombuffer',\n",
       " 'fromfile',\n",
       " 'fromfunction',\n",
       " 'fromiter',\n",
       " 'frompyfunc',\n",
       " 'fromregex',\n",
       " 'fromstring',\n",
       " 'full',\n",
       " 'full_like',\n",
       " 'fv',\n",
       " 'gcd',\n",
       " 'generic',\n",
       " 'genfromtxt',\n",
       " 'geomspace',\n",
       " 'get_array_wrap',\n",
       " 'get_include',\n",
       " 'get_printoptions',\n",
       " 'getbufsize',\n",
       " 'geterr',\n",
       " 'geterrcall',\n",
       " 'geterrobj',\n",
       " 'gradient',\n",
       " 'greater',\n",
       " 'greater_equal',\n",
       " 'half',\n",
       " 'hamming',\n",
       " 'hanning',\n",
       " 'heaviside',\n",
       " 'histogram',\n",
       " 'histogram2d',\n",
       " 'histogram_bin_edges',\n",
       " 'histogramdd',\n",
       " 'hsplit',\n",
       " 'hstack',\n",
       " 'hypot',\n",
       " 'i0',\n",
       " 'identity',\n",
       " 'iinfo',\n",
       " 'imag',\n",
       " 'in1d',\n",
       " 'index_exp',\n",
       " 'indices',\n",
       " 'inexact',\n",
       " 'inf',\n",
       " 'info',\n",
       " 'infty',\n",
       " 'inner',\n",
       " 'insert',\n",
       " 'int',\n",
       " 'int0',\n",
       " 'int16',\n",
       " 'int32',\n",
       " 'int64',\n",
       " 'int8',\n",
       " 'int_',\n",
       " 'int_asbuffer',\n",
       " 'intc',\n",
       " 'integer',\n",
       " 'interp',\n",
       " 'intersect1d',\n",
       " 'intp',\n",
       " 'invert',\n",
       " 'ipmt',\n",
       " 'irr',\n",
       " 'is_busday',\n",
       " 'isclose',\n",
       " 'iscomplex',\n",
       " 'iscomplexobj',\n",
       " 'isfinite',\n",
       " 'isfortran',\n",
       " 'isin',\n",
       " 'isinf',\n",
       " 'isnan',\n",
       " 'isnat',\n",
       " 'isneginf',\n",
       " 'isposinf',\n",
       " 'isreal',\n",
       " 'isrealobj',\n",
       " 'isscalar',\n",
       " 'issctype',\n",
       " 'issubclass_',\n",
       " 'issubdtype',\n",
       " 'issubsctype',\n",
       " 'iterable',\n",
       " 'ix_',\n",
       " 'kaiser',\n",
       " 'kron',\n",
       " 'lcm',\n",
       " 'ldexp',\n",
       " 'left_shift',\n",
       " 'less',\n",
       " 'less_equal',\n",
       " 'lexsort',\n",
       " 'lib',\n",
       " 'linalg',\n",
       " 'linspace',\n",
       " 'little_endian',\n",
       " 'load',\n",
       " 'loads',\n",
       " 'loadtxt',\n",
       " 'log',\n",
       " 'log10',\n",
       " 'log1p',\n",
       " 'log2',\n",
       " 'logaddexp',\n",
       " 'logaddexp2',\n",
       " 'logical_and',\n",
       " 'logical_not',\n",
       " 'logical_or',\n",
       " 'logical_xor',\n",
       " 'logspace',\n",
       " 'long',\n",
       " 'longcomplex',\n",
       " 'longdouble',\n",
       " 'longfloat',\n",
       " 'longlong',\n",
       " 'lookfor',\n",
       " 'ma',\n",
       " 'mafromtxt',\n",
       " 'mask_indices',\n",
       " 'mat',\n",
       " 'math',\n",
       " 'matmul',\n",
       " 'matrix',\n",
       " 'matrixlib',\n",
       " 'max',\n",
       " 'maximum',\n",
       " 'maximum_sctype',\n",
       " 'may_share_memory',\n",
       " 'mean',\n",
       " 'median',\n",
       " 'memmap',\n",
       " 'meshgrid',\n",
       " 'mgrid',\n",
       " 'min',\n",
       " 'min_scalar_type',\n",
       " 'minimum',\n",
       " 'mintypecode',\n",
       " 'mirr',\n",
       " 'mod',\n",
       " 'modf',\n",
       " 'moveaxis',\n",
       " 'msort',\n",
       " 'multiply',\n",
       " 'nan',\n",
       " 'nan_to_num',\n",
       " 'nanargmax',\n",
       " 'nanargmin',\n",
       " 'nancumprod',\n",
       " 'nancumsum',\n",
       " 'nanmax',\n",
       " 'nanmean',\n",
       " 'nanmedian',\n",
       " 'nanmin',\n",
       " 'nanpercentile',\n",
       " 'nanprod',\n",
       " 'nanquantile',\n",
       " 'nanstd',\n",
       " 'nansum',\n",
       " 'nanvar',\n",
       " 'nbytes',\n",
       " 'ndarray',\n",
       " 'ndenumerate',\n",
       " 'ndfromtxt',\n",
       " 'ndim',\n",
       " 'ndindex',\n",
       " 'nditer',\n",
       " 'negative',\n",
       " 'nested_iters',\n",
       " 'newaxis',\n",
       " 'nextafter',\n",
       " 'nonzero',\n",
       " 'not_equal',\n",
       " 'nper',\n",
       " 'npv',\n",
       " 'numarray',\n",
       " 'number',\n",
       " 'obj2sctype',\n",
       " 'object',\n",
       " 'object0',\n",
       " 'object_',\n",
       " 'ogrid',\n",
       " 'oldnumeric',\n",
       " 'ones',\n",
       " 'ones_like',\n",
       " 'outer',\n",
       " 'packbits',\n",
       " 'pad',\n",
       " 'partition',\n",
       " 'percentile',\n",
       " 'pi',\n",
       " 'piecewise',\n",
       " 'pkgload',\n",
       " 'place',\n",
       " 'pmt',\n",
       " 'poly',\n",
       " 'poly1d',\n",
       " 'polyadd',\n",
       " 'polyder',\n",
       " 'polydiv',\n",
       " 'polyfit',\n",
       " 'polyint',\n",
       " 'polymul',\n",
       " 'polynomial',\n",
       " 'polysub',\n",
       " 'polyval',\n",
       " 'positive',\n",
       " 'power',\n",
       " 'ppmt',\n",
       " 'print_function',\n",
       " 'printoptions',\n",
       " 'prod',\n",
       " 'product',\n",
       " 'promote_types',\n",
       " 'ptp',\n",
       " 'put',\n",
       " 'put_along_axis',\n",
       " 'putmask',\n",
       " 'pv',\n",
       " 'quantile',\n",
       " 'r_',\n",
       " 'rad2deg',\n",
       " 'radians',\n",
       " 'random',\n",
       " 'rank',\n",
       " 'rate',\n",
       " 'ravel',\n",
       " 'ravel_multi_index',\n",
       " 'real',\n",
       " 'real_if_close',\n",
       " 'rec',\n",
       " 'recarray',\n",
       " 'recfromcsv',\n",
       " 'recfromtxt',\n",
       " 'reciprocal',\n",
       " 'record',\n",
       " 'remainder',\n",
       " 'repeat',\n",
       " 'require',\n",
       " 'reshape',\n",
       " 'resize',\n",
       " 'result_type',\n",
       " 'right_shift',\n",
       " 'rint',\n",
       " 'roll',\n",
       " 'rollaxis',\n",
       " 'roots',\n",
       " 'rot90',\n",
       " 'round',\n",
       " 'round_',\n",
       " 'row_stack',\n",
       " 's_',\n",
       " 'safe_eval',\n",
       " 'save',\n",
       " 'savetxt',\n",
       " 'savez',\n",
       " 'savez_compressed',\n",
       " 'sctype2char',\n",
       " 'sctypeDict',\n",
       " 'sctypeNA',\n",
       " 'sctypes',\n",
       " 'searchsorted',\n",
       " 'select',\n",
       " 'set_numeric_ops',\n",
       " 'set_printoptions',\n",
       " 'set_string_function',\n",
       " 'setbufsize',\n",
       " 'setdiff1d',\n",
       " 'seterr',\n",
       " 'seterrcall',\n",
       " 'seterrobj',\n",
       " 'setxor1d',\n",
       " 'shape',\n",
       " 'shares_memory',\n",
       " 'short',\n",
       " 'show_config',\n",
       " 'sign',\n",
       " 'signbit',\n",
       " 'signedinteger',\n",
       " 'sin',\n",
       " 'sinc',\n",
       " 'single',\n",
       " 'singlecomplex',\n",
       " 'sinh',\n",
       " 'size',\n",
       " 'sometrue',\n",
       " 'sort',\n",
       " 'sort_complex',\n",
       " 'source',\n",
       " 'spacing',\n",
       " 'split',\n",
       " 'sqrt',\n",
       " 'square',\n",
       " 'squeeze',\n",
       " 'stack',\n",
       " 'std',\n",
       " 'str',\n",
       " 'str0',\n",
       " 'str_',\n",
       " 'string_',\n",
       " 'subtract',\n",
       " 'sum',\n",
       " 'swapaxes',\n",
       " 'sys',\n",
       " 'take',\n",
       " 'take_along_axis',\n",
       " 'tan',\n",
       " 'tanh',\n",
       " 'tensordot',\n",
       " 'test',\n",
       " 'testing',\n",
       " 'tile',\n",
       " 'timedelta64',\n",
       " 'trace',\n",
       " 'tracemalloc_domain',\n",
       " 'transpose',\n",
       " 'trapz',\n",
       " 'tri',\n",
       " 'tril',\n",
       " 'tril_indices',\n",
       " 'tril_indices_from',\n",
       " 'trim_zeros',\n",
       " 'triu',\n",
       " 'triu_indices',\n",
       " 'triu_indices_from',\n",
       " 'true_divide',\n",
       " 'trunc',\n",
       " 'typeDict',\n",
       " 'typeNA',\n",
       " 'typecodes',\n",
       " 'typename',\n",
       " 'ubyte',\n",
       " 'ufunc',\n",
       " 'uint',\n",
       " 'uint0',\n",
       " 'uint16',\n",
       " 'uint32',\n",
       " 'uint64',\n",
       " 'uint8',\n",
       " 'uintc',\n",
       " 'uintp',\n",
       " 'ulonglong',\n",
       " 'unicode',\n",
       " 'unicode_',\n",
       " 'union1d',\n",
       " 'unique',\n",
       " 'unpackbits',\n",
       " 'unravel_index',\n",
       " 'unsignedinteger',\n",
       " 'unwrap',\n",
       " 'ushort',\n",
       " 'vander',\n",
       " 'var',\n",
       " 'vdot',\n",
       " 'vectorize',\n",
       " 'version',\n",
       " 'void',\n",
       " 'void0',\n",
       " 'vsplit',\n",
       " 'vstack',\n",
       " 'warnings',\n",
       " 'where',\n",
       " 'who',\n",
       " 'zeros',\n",
       " 'zeros_like']"
      ]
     },
     "execution_count": 674,
     "metadata": {},
     "output_type": "execute_result"
    }
   ],
   "source": [
    "import numpy\n",
    "dir(numpy)"
   ]
  },
  {
   "cell_type": "code",
   "execution_count": 675,
   "metadata": {},
   "outputs": [
    {
     "data": {
      "text/plain": [
       "['__doc__',\n",
       " '__file__',\n",
       " '__loader__',\n",
       " '__name__',\n",
       " '__package__',\n",
       " '__spec__',\n",
       " 'acos',\n",
       " 'acosh',\n",
       " 'asin',\n",
       " 'asinh',\n",
       " 'atan',\n",
       " 'atan2',\n",
       " 'atanh',\n",
       " 'ceil',\n",
       " 'copysign',\n",
       " 'cos',\n",
       " 'cosh',\n",
       " 'degrees',\n",
       " 'e',\n",
       " 'erf',\n",
       " 'erfc',\n",
       " 'exp',\n",
       " 'expm1',\n",
       " 'fabs',\n",
       " 'factorial',\n",
       " 'floor',\n",
       " 'fmod',\n",
       " 'frexp',\n",
       " 'fsum',\n",
       " 'gamma',\n",
       " 'gcd',\n",
       " 'hypot',\n",
       " 'inf',\n",
       " 'isclose',\n",
       " 'isfinite',\n",
       " 'isinf',\n",
       " 'isnan',\n",
       " 'ldexp',\n",
       " 'lgamma',\n",
       " 'log',\n",
       " 'log10',\n",
       " 'log1p',\n",
       " 'log2',\n",
       " 'modf',\n",
       " 'nan',\n",
       " 'pi',\n",
       " 'pow',\n",
       " 'radians',\n",
       " 'remainder',\n",
       " 'sin',\n",
       " 'sinh',\n",
       " 'sqrt',\n",
       " 'tan',\n",
       " 'tanh',\n",
       " 'tau',\n",
       " 'trunc']"
      ]
     },
     "execution_count": 675,
     "metadata": {},
     "output_type": "execute_result"
    }
   ],
   "source": [
    "import math\n",
    "# tbb: import math as mt\n",
    "dir(math)"
   ]
  },
  {
   "cell_type": "code",
   "execution_count": 676,
   "metadata": {},
   "outputs": [
    {
     "data": {
      "text/plain": [
       "0.5290826861200238"
      ]
     },
     "execution_count": 676,
     "metadata": {},
     "output_type": "execute_result"
    }
   ],
   "source": [
    "import math as mt\n",
    "mt.sin(34)  # operacion que calcula el seno de la libreria math"
   ]
  },
  {
   "cell_type": "code",
   "execution_count": 677,
   "metadata": {},
   "outputs": [
    {
     "data": {
      "text/plain": [
       "3.141592653589793"
      ]
     },
     "execution_count": 677,
     "metadata": {},
     "output_type": "execute_result"
    }
   ],
   "source": [
    "mt.pi # operacion que calcula el numero pi de la libreria math"
   ]
  },
  {
   "cell_type": "code",
   "execution_count": 678,
   "metadata": {},
   "outputs": [
    {
     "data": {
      "text/plain": [
       "4.898979485566356"
      ]
     },
     "execution_count": 678,
     "metadata": {},
     "output_type": "execute_result"
    }
   ],
   "source": [
    "mt.sqrt(24)  # operacion que calcula el cuadrado "
   ]
  },
  {
   "cell_type": "code",
   "execution_count": 679,
   "metadata": {},
   "outputs": [
    {
     "name": "stdout",
     "output_type": "stream",
     "text": [
      "Help on built-in function pow in module math:\n",
      "\n",
      "pow(x, y, /)\n",
      "    Return x**y (x to the power of y).\n",
      "\n"
     ]
    }
   ],
   "source": [
    "help(mt.pow)  # cuando no sabemos que hace la funcion, accede a su documentacion"
   ]
  },
  {
   "cell_type": "code",
   "execution_count": 681,
   "metadata": {},
   "outputs": [
    {
     "data": {
      "text/plain": [
       "8.0"
      ]
     },
     "execution_count": 681,
     "metadata": {},
     "output_type": "execute_result"
    }
   ],
   "source": [
    "mt.pow(2,3)  # 2 elevado a 3 es 8"
   ]
  },
  {
   "cell_type": "markdown",
   "metadata": {},
   "source": [
    "## Operaciones entre arrays y escalares "
   ]
  },
  {
   "cell_type": "markdown",
   "metadata": {},
   "source": [
    "Un array es el termino que traslada el concepto matemático de __vector o matriz a la programación añadiéndole la noción de almacenamiento en memoria__. Los arrays disponen en su interior de una serie de elementos dispuestos en filas y/o columnas dependiendo de la dimensión."
   ]
  },
  {
   "cell_type": "markdown",
   "metadata": {},
   "source": [
    "__MODULO NUMPY__: contiene todos los operadores aritmeticos entre arrays como operaciones de suma, resta, multiplicacion... y operadores logicos (and, or, xor, etc)"
   ]
  },
  {
   "cell_type": "markdown",
   "metadata": {},
   "source": [
    "##### Operadores aritmeticos: EN ARRAYS SE APLICAN ELEMENTO  A ELEMENTO"
   ]
  },
  {
   "cell_type": "markdown",
   "metadata": {},
   "source": [
    "Importante:\n",
    "- Los arrays (en operaciones) __deben tener la misma dimension__\n",
    "- Resultado es un array cuyos datos dependen de la operacion realizada"
   ]
  },
  {
   "cell_type": "code",
   "execution_count": 682,
   "metadata": {},
   "outputs": [
    {
     "name": "stdout",
     "output_type": "stream",
     "text": [
      "[6. 4. 9.]\n",
      "[-4.  0. -3.]\n",
      "[ 5.  4. 18.]\n",
      "[5. 1. 2.]\n",
      "[1. 0. 3.]\n",
      "[  5.   4. 216.]\n"
     ]
    }
   ],
   "source": [
    "import numpy as np # importacion del modulo\n",
    "a = np.array([1,2,3], float)  # se crea un array tipo float\n",
    "b = np.array([5,2,6], float)  # igual\n",
    "\n",
    "#Operciones entre ARRAYS\n",
    "suma = print(a+b)\n",
    "resta =print(a-b)\n",
    "producto = print(a*b)\n",
    "division = print(b/a)\n",
    "modulo = print(a % b)\n",
    "potencia = print(b ** a)"
   ]
  },
  {
   "cell_type": "code",
   "execution_count": 683,
   "metadata": {},
   "outputs": [
    {
     "data": {
      "text/plain": [
       "array([1., 2., 3.])"
      ]
     },
     "execution_count": 683,
     "metadata": {},
     "output_type": "execute_result"
    }
   ],
   "source": [
    "a"
   ]
  },
  {
   "cell_type": "code",
   "execution_count": 686,
   "metadata": {},
   "outputs": [
    {
     "name": "stdout",
     "output_type": "stream",
     "text": [
      "multi: [10. 20. 30.]\n",
      "div: [inf inf inf]\n"
     ]
    },
    {
     "name": "stderr",
     "output_type": "stream",
     "text": [
      "/Users/martadivasson/anaconda3/lib/python3.7/site-packages/ipykernel_launcher.py:3: RuntimeWarning: divide by zero encountered in true_divide\n",
      "  This is separate from the ipykernel package so we can avoid doing imports until\n"
     ]
    }
   ],
   "source": [
    "# OPERACIONES ENTRE ARRAYS Y ESCALARES\n",
    "print(\"multi:\", a * 10)\n",
    "print(\"div:\", a/0)  # La division por 0 no da error sino que el resultado es infinito"
   ]
  },
  {
   "cell_type": "code",
   "execution_count": 687,
   "metadata": {},
   "outputs": [
    {
     "name": "stdout",
     "output_type": "stream",
     "text": [
      "[[1. 2.]\n",
      " [3. 4.]]\n",
      "[[2. 0.]\n",
      " [1. 3.]]\n"
     ]
    }
   ],
   "source": [
    "c = np.array([[1,2], [3,4]], float)\n",
    "d = np.array([[2,0], [1,3]], float)\n",
    "\n",
    "print(c)\n",
    "print(d)"
   ]
  },
  {
   "cell_type": "code",
   "execution_count": 689,
   "metadata": {},
   "outputs": [
    {
     "name": "stdout",
     "output_type": "stream",
     "text": [
      "[[ 2.  0.]\n",
      " [ 3. 12.]]\n"
     ]
    }
   ],
   "source": [
    "# Producto ELEMENTO a ELEMENTO (no es producto matricial)\n",
    "p = c*d\n",
    "print(p)"
   ]
  },
  {
   "cell_type": "markdown",
   "metadata": {},
   "source": [
    "##### Funciones universales"
   ]
  },
  {
   "cell_type": "markdown",
   "metadata": {},
   "source": [
    "Funciones que actuan sobre __CADA UNO DE LOS ELEMENTOS__ de un array."
   ]
  },
  {
   "cell_type": "code",
   "execution_count": 690,
   "metadata": {},
   "outputs": [
    {
     "data": {
      "text/plain": [
       "array([ 2.32994003, -5.78654898,  5.59702846,  2.46948259, -3.25930826,\n",
       "        7.21057307])"
      ]
     },
     "execution_count": 690,
     "metadata": {},
     "output_type": "execute_result"
    }
   ],
   "source": [
    "# Creacion de un array con valores aleatorios.\n",
    "a = np.random.randn(6) * 10  # randn sign. distribucion normal\n",
    "a"
   ]
  },
  {
   "cell_type": "code",
   "execution_count": 691,
   "metadata": {},
   "outputs": [
    {
     "data": {
      "text/plain": [
       "array([2.32994003, 5.78654898, 5.59702846, 2.46948259, 3.25930826,\n",
       "       7.21057307])"
      ]
     },
     "execution_count": 691,
     "metadata": {},
     "output_type": "execute_result"
    }
   ],
   "source": [
    "b = abs(a)  # imprimo b como el array a con valores absolutos \n",
    "b"
   ]
  },
  {
   "cell_type": "code",
   "execution_count": 692,
   "metadata": {},
   "outputs": [
    {
     "data": {
      "text/plain": [
       "7.210573066566343"
      ]
     },
     "execution_count": 692,
     "metadata": {},
     "output_type": "execute_result"
    }
   ],
   "source": [
    "# Funcion max()\n",
    "a.max() # el maximo de los elementos del array"
   ]
  },
  {
   "cell_type": "code",
   "execution_count": 693,
   "metadata": {},
   "outputs": [
    {
     "data": {
      "text/plain": [
       "7.210573066566343"
      ]
     },
     "execution_count": 693,
     "metadata": {},
     "output_type": "execute_result"
    }
   ],
   "source": [
    "max(a)  # que es lo mismo"
   ]
  },
  {
   "cell_type": "code",
   "execution_count": 694,
   "metadata": {},
   "outputs": [
    {
     "data": {
      "text/plain": [
       "7.210573066566343"
      ]
     },
     "execution_count": 694,
     "metadata": {},
     "output_type": "execute_result"
    }
   ],
   "source": [
    "np.max(a)  # igual a"
   ]
  },
  {
   "cell_type": "code",
   "execution_count": 696,
   "metadata": {},
   "outputs": [
    {
     "data": {
      "text/plain": [
       "array([ 5.42862057, 33.48414906, 31.32672754,  6.09834427, 10.62309034,\n",
       "       51.99236395])"
      ]
     },
     "execution_count": 696,
     "metadata": {},
     "output_type": "execute_result"
    }
   ],
   "source": [
    "b = np.square(a)  # guardamos en b el cuadrado de los elementos de a\n",
    "b"
   ]
  },
  {
   "cell_type": "code",
   "execution_count": 697,
   "metadata": {},
   "outputs": [
    {
     "data": {
      "text/plain": [
       "array([ 7.37917782, 10.42558656,  7.13932401,  9.46186742, 22.86387672,\n",
       "        6.8695786 ])"
      ]
     },
     "execution_count": 697,
     "metadata": {},
     "output_type": "execute_result"
    }
   ],
   "source": [
    "b = abs(np.random.randn(6) * 10)\n",
    "b  # estamos calculando el valor absoluto de los cuadrados de a "
   ]
  },
  {
   "cell_type": "code",
   "execution_count": 698,
   "metadata": {},
   "outputs": [
    {
     "data": {
      "text/plain": [
       "array([ 7.37917782, 10.42558656,  7.13932401,  9.46186742, 22.86387672,\n",
       "        7.21057307])"
      ]
     },
     "execution_count": 698,
     "metadata": {},
     "output_type": "execute_result"
    }
   ],
   "source": [
    "np.maximum(a,b)  # maximo entre a y b elemento a elemento\n",
    "\n",
    "# maximo entre 2 arrays elemento a elemento"
   ]
  },
  {
   "cell_type": "markdown",
   "metadata": {},
   "source": [
    "##### Operadores lógicos y funciones relacionales y lógicas de numpy"
   ]
  },
  {
   "cell_type": "code",
   "execution_count": 699,
   "metadata": {},
   "outputs": [
    {
     "data": {
      "text/plain": [
       "array([ 2.32994003, -5.78654898,  5.59702846,  2.46948259, -3.25930826,\n",
       "        7.21057307])"
      ]
     },
     "execution_count": 699,
     "metadata": {},
     "output_type": "execute_result"
    }
   ],
   "source": [
    "a"
   ]
  },
  {
   "cell_type": "code",
   "execution_count": 700,
   "metadata": {},
   "outputs": [
    {
     "data": {
      "text/plain": [
       "array([ 7.37917782, 10.42558656,  7.13932401,  9.46186742, 22.86387672,\n",
       "        6.8695786 ])"
      ]
     },
     "execution_count": 700,
     "metadata": {},
     "output_type": "execute_result"
    }
   ],
   "source": [
    "b"
   ]
  },
  {
   "cell_type": "code",
   "execution_count": 701,
   "metadata": {},
   "outputs": [
    {
     "data": {
      "text/plain": [
       "array([ True,  True,  True,  True,  True,  True])"
      ]
     },
     "execution_count": 701,
     "metadata": {},
     "output_type": "execute_result"
    }
   ],
   "source": [
    "a < 12  # devuelve un array de booleanos; se compara el valor con cada elemento del array a"
   ]
  },
  {
   "cell_type": "code",
   "execution_count": 702,
   "metadata": {},
   "outputs": [
    {
     "data": {
      "text/plain": [
       "array([False, False, False, False, False,  True])"
      ]
     },
     "execution_count": 702,
     "metadata": {},
     "output_type": "execute_result"
    }
   ],
   "source": [
    "np.greater_equal(a,b)  # devuelve la comparacion (x1 >= x2) elemento a elemento\n",
    "\n",
    "# el ultimo es el unico que es mayor que el otro elemento del array"
   ]
  },
  {
   "cell_type": "code",
   "execution_count": 704,
   "metadata": {},
   "outputs": [
    {
     "data": {
      "text/plain": [
       "array([ True,  True,  True,  True,  True, False])"
      ]
     },
     "execution_count": 704,
     "metadata": {},
     "output_type": "execute_result"
    }
   ],
   "source": [
    "np.less(a,b)  # Devuelve el valor de la comparacion (x1 < x2 ) elemento a elemento\n",
    "\n",
    "# tiene que ser contrario a no.greater_equal(a,b)"
   ]
  },
  {
   "cell_type": "markdown",
   "metadata": {},
   "source": [
    "## Acceso y recorrido de Arrays"
   ]
  },
  {
   "cell_type": "markdown",
   "metadata": {},
   "source": [
    "Al trabajar con arrays __de una dimension__, el acceso a los elekmtnos se realiza de forma similar a  como se hace con las __tuplas y listas__."
   ]
  },
  {
   "cell_type": "code",
   "execution_count": 706,
   "metadata": {},
   "outputs": [
    {
     "data": {
      "text/plain": [
       "array([  0,   1,   8,  27,  64, 125, 216, 343, 512, 729])"
      ]
     },
     "execution_count": 706,
     "metadata": {},
     "output_type": "execute_result"
    }
   ],
   "source": [
    "import numpy as np \n",
    "\n",
    "a = np.arange(10) ** 3  # arange: arithmetic progression\n",
    "a"
   ]
  },
  {
   "cell_type": "code",
   "execution_count": 707,
   "metadata": {},
   "outputs": [
    {
     "data": {
      "text/plain": [
       "8"
      ]
     },
     "execution_count": 707,
     "metadata": {},
     "output_type": "execute_result"
    }
   ],
   "source": [
    "a[2]  #acceso al tercer elemento del array a"
   ]
  },
  {
   "cell_type": "code",
   "execution_count": 708,
   "metadata": {},
   "outputs": [
    {
     "data": {
      "text/plain": [
       "array([ 8, 27, 64])"
      ]
     },
     "execution_count": 708,
     "metadata": {},
     "output_type": "execute_result"
    }
   ],
   "source": [
    "a[2:5]  # acceso a los elementos que ocupn las posiciones [2,5)"
   ]
  },
  {
   "cell_type": "markdown",
   "metadata": {},
   "source": [
    "__Diferencia importante con las listas__ : \n",
    "- Las particiones de un __ndarray__ mediante la notacion [inicio:fin:paso] son vistas del array original. Todos los cambios que se realizan en las vistas se reflejan en en __array original__.\n",
    "\n",
    "> Particiones realizadas: Cambios en __ARRAY ORIGINAL__"
   ]
  },
  {
   "cell_type": "code",
   "execution_count": 710,
   "metadata": {},
   "outputs": [
    {
     "data": {
      "text/plain": [
       "array([  0,   0,   0,   0,   0, 125, 216, 343, 512, 729])"
      ]
     },
     "execution_count": 710,
     "metadata": {},
     "output_type": "execute_result"
    }
   ],
   "source": [
    "# Ejemplo\n",
    "\n",
    "b = a[0:5]  # vista de a - no se esta definiendo un nuevo array\n",
    "b[::] = 0  # accedemos a todos los elementos de b y los actualizmos a 0\n",
    "a  # veos como en el array original a cambian los 5 primeros elementos definidos como b \n",
    "\n",
    "# La copia y el original comparten memoria: esto se llama :COPIA POR REFERENCIA"
   ]
  },
  {
   "cell_type": "markdown",
   "metadata": {},
   "source": [
    "Este comportamiento evita __PROBLEMAS DE MEMORIA__ debido a que __Numpy__ se ha diseñado para manejar grandes cantidades de datos. \n",
    "- Para la copia de arrays: uno y otro so objetos diferente pero podemos utiliza la funcion __copy()__\n",
    "    - Esto se conoce como __COPIA POR VALOR__"
   ]
  },
  {
   "cell_type": "code",
   "execution_count": 711,
   "metadata": {},
   "outputs": [
    {
     "data": {
      "text/plain": [
       "array([  0,   0,   0,   0,   0, 125, 216, 343, 512, 729])"
      ]
     },
     "execution_count": 711,
     "metadata": {},
     "output_type": "execute_result"
    }
   ],
   "source": [
    "c = a.copy ()  # c es una copia del array a\n",
    "c  # observamos que tenemos lo mismo que arriba"
   ]
  },
  {
   "cell_type": "code",
   "execution_count": 714,
   "metadata": {},
   "outputs": [
    {
     "data": {
      "text/plain": [
       "(array([0, 0, 0, 0, 0, 0, 0, 0, 0, 0]),\n",
       " array([  0,   0,   0,   0,   0, 125, 216, 343, 512, 729]))"
      ]
     },
     "execution_count": 714,
     "metadata": {},
     "output_type": "execute_result"
    }
   ],
   "source": [
    "c[:] = 0\n",
    "c,a  # los cambios en C (al ser una copia) no afectan al array a"
   ]
  },
  {
   "cell_type": "markdown",
   "metadata": {},
   "source": [
    "##### ARRAY BIDIMENSIONAL : acceso a elementos mediante indices separados por una coma"
   ]
  },
  {
   "cell_type": "code",
   "execution_count": 715,
   "metadata": {},
   "outputs": [
    {
     "data": {
      "text/plain": [
       "array([[2, 4, 6],\n",
       "       [1, 2, 3]])"
      ]
     },
     "execution_count": 715,
     "metadata": {},
     "output_type": "execute_result"
    }
   ],
   "source": [
    "m = np.array([[2,4,6], [1,2,3]], dtype= 'int')\n",
    "m"
   ]
  },
  {
   "cell_type": "code",
   "execution_count": 716,
   "metadata": {},
   "outputs": [
    {
     "data": {
      "text/plain": [
       "2"
      ]
     },
     "execution_count": 716,
     "metadata": {},
     "output_type": "execute_result"
    }
   ],
   "source": [
    "m[1,1]  # accedemos a fila 2 columna 2 (recordar indexacion en Python)"
   ]
  },
  {
   "cell_type": "code",
   "execution_count": 718,
   "metadata": {},
   "outputs": [
    {
     "data": {
      "text/plain": [
       "6"
      ]
     },
     "execution_count": 718,
     "metadata": {},
     "output_type": "execute_result"
    }
   ],
   "source": [
    "m[0,2]  # fila 1 elemento tercero que corresponde al 2"
   ]
  },
  {
   "cell_type": "code",
   "execution_count": 722,
   "metadata": {},
   "outputs": [
    {
     "data": {
      "text/plain": [
       "array([[ 0,  1,  2,  3],\n",
       "       [10, 11, 12, 13],\n",
       "       [20, 21, 22, 23],\n",
       "       [30, 31, 32, 33],\n",
       "       [40, 41, 42, 43]])"
      ]
     },
     "execution_count": 722,
     "metadata": {},
     "output_type": "execute_result"
    }
   ],
   "source": [
    "b = np.array([[0,1,2,3],\n",
    "             [10,11,12,13],\n",
    "             [20,21,22,23],\n",
    "             [30,31,32,33],\n",
    "             [40,41,42,43]])\n",
    "b"
   ]
  },
  {
   "cell_type": "code",
   "execution_count": 723,
   "metadata": {},
   "outputs": [
    {
     "data": {
      "text/plain": [
       "array([ 1, 11, 21, 31, 41])"
      ]
     },
     "execution_count": 723,
     "metadata": {},
     "output_type": "execute_result"
    }
   ],
   "source": [
    "b[:,1]  # De todas las filas, accedemos a la segunda columna (se incluyen todos los elementos)"
   ]
  },
  {
   "cell_type": "code",
   "execution_count": 724,
   "metadata": {},
   "outputs": [
    {
     "data": {
      "text/plain": [
       "array([[10, 11, 12, 13],\n",
       "       [20, 21, 22, 23]])"
      ]
     },
     "execution_count": 724,
     "metadata": {},
     "output_type": "execute_result"
    }
   ],
   "source": [
    "b[1:3, :]  # acceso a las filas 2 y 3 de todas las columnas"
   ]
  },
  {
   "cell_type": "markdown",
   "metadata": {},
   "source": [
    "##### Uso de mascaras para SELECCION DE PARTES de un array"
   ]
  },
  {
   "cell_type": "markdown",
   "metadata": {},
   "source": [
    "Otra forma de acceso a las partes de un ndarry es median un __array de bool__ que actua como una mascara.\n"
   ]
  },
  {
   "cell_type": "code",
   "execution_count": 725,
   "metadata": {},
   "outputs": [
    {
     "data": {
      "text/plain": [
       "array([[False,  True],\n",
       "       [ True, False]])"
      ]
     },
     "execution_count": 725,
     "metadata": {},
     "output_type": "execute_result"
    }
   ],
   "source": [
    "# Ejemplo: Supongamos que queremos poner a 0 todos los elementos del array m que son menores que 7\n",
    "\n",
    "m = np.array([[22,0], [1,10]], np.float)\n",
    "mascara = m < 7    # seleccionamos los que son menores que 7\n",
    "mascara     # matriz booleana"
   ]
  },
  {
   "cell_type": "markdown",
   "metadata": {},
   "source": [
    "Ahora ponemos a 0 todos los valores menores que 7"
   ]
  },
  {
   "cell_type": "code",
   "execution_count": 726,
   "metadata": {},
   "outputs": [
    {
     "data": {
      "text/plain": [
       "array([[22.,  0.],\n",
       "       [ 0., 10.]])"
      ]
     },
     "execution_count": 726,
     "metadata": {},
     "output_type": "execute_result"
    }
   ],
   "source": [
    "m[m<7] = 0\n",
    "m  # hemos puesto a 0 todos los valores que cumplen la mascara"
   ]
  },
  {
   "cell_type": "markdown",
   "metadata": {},
   "source": [
    "## Proceso de datos usando arrays"
   ]
  },
  {
   "cell_type": "markdown",
   "metadata": {},
   "source": [
    "##### Lectura y escritura de arrays en ficheros"
   ]
  },
  {
   "cell_type": "markdown",
   "metadata": {},
   "source": [
    "Con los arrays se mejora el rendimiento (mejor gestion de la memoria)\n",
    "- se realizan muchas operaciones, mediante expresiones sobre arrays que en otros casos se requieren multiples y costosos loops : __VECTORIZACION__\n",
    "- Funciones de __numpy__ se ejecutan eficientemente"
   ]
  },
  {
   "cell_type": "code",
   "execution_count": 727,
   "metadata": {},
   "outputs": [],
   "source": [
    "import numpy as np"
   ]
  },
  {
   "cell_type": "markdown",
   "metadata": {},
   "source": [
    "##### Metodos matemáticos y estadisticos"
   ]
  },
  {
   "cell_type": "code",
   "execution_count": 728,
   "metadata": {},
   "outputs": [
    {
     "name": "stdout",
     "output_type": "stream",
     "text": [
      "a: [0.2886183  0.81117241 0.94395793 0.26718264 0.4173138  0.97911263]\n"
     ]
    }
   ],
   "source": [
    "# Ejemplos:\n",
    "a = np.random.rand(6)  # 6 valores aleatorios en el INTERVALO [0,1)\n",
    "print(\"a:\", a)"
   ]
  },
  {
   "cell_type": "code",
   "execution_count": 730,
   "metadata": {},
   "outputs": [
    {
     "data": {
      "text/plain": [
       "3.707357712827541"
      ]
     },
     "execution_count": 730,
     "metadata": {},
     "output_type": "execute_result"
    }
   ],
   "source": [
    "a.sum()  # suma TODOS los elementos"
   ]
  },
  {
   "cell_type": "code",
   "execution_count": 731,
   "metadata": {},
   "outputs": [
    {
     "data": {
      "text/plain": [
       "0.2671826375885531"
      ]
     },
     "execution_count": 731,
     "metadata": {},
     "output_type": "execute_result"
    }
   ],
   "source": [
    "a.min()  # calcula el elemento minimo del array a"
   ]
  },
  {
   "cell_type": "code",
   "execution_count": 732,
   "metadata": {},
   "outputs": [
    {
     "data": {
      "text/plain": [
       "0.979112634662737"
      ]
     },
     "execution_count": 732,
     "metadata": {},
     "output_type": "execute_result"
    }
   ],
   "source": [
    "a.max()  # Calcula el elemento maximo del array a"
   ]
  },
  {
   "cell_type": "code",
   "execution_count": 734,
   "metadata": {},
   "outputs": [
    {
     "data": {
      "text/plain": [
       "3"
      ]
     },
     "execution_count": 734,
     "metadata": {},
     "output_type": "execute_result"
    }
   ],
   "source": [
    "a.argmin()  # Devuelve los indices de los valores iguales al valor minimo \n",
    "\n",
    "# El valor minimo esta en la posicion 3(indexacion)"
   ]
  },
  {
   "cell_type": "code",
   "execution_count": 735,
   "metadata": {},
   "outputs": [
    {
     "data": {
      "text/plain": [
       "0.6178929521379235"
      ]
     },
     "execution_count": 735,
     "metadata": {},
     "output_type": "execute_result"
    }
   ],
   "source": [
    "a.mean()  # calcula la media de los elementos del array a"
   ]
  },
  {
   "cell_type": "markdown",
   "metadata": {},
   "source": [
    "__OPERACIONES ANTERIORES PARA TODOS LOS VALORES DEL ARRAY, INDEPEPENDIENTEMENTE DE SU FORMA__\n",
    "- Si teneos un array __BIDIMENSIONAL__ : podemos calcular la suma de las columnas o de las filas\n",
    "    - Lo calculameos mediante el parametor __axis__ del metodo"
   ]
  },
  {
   "cell_type": "code",
   "execution_count": 736,
   "metadata": {},
   "outputs": [
    {
     "name": "stdout",
     "output_type": "stream",
     "text": [
      "a: [0 1 2 3 4 5]\n",
      "b: [[0 1 2]\n",
      " [3 4 5]]\n"
     ]
    }
   ],
   "source": [
    "a = np.arange (6)  # 6 valores\n",
    "print(\"a:\", a)\n",
    "b = a.reshape(2,3)  # b se define a partir de los valores de a: distribuyendo valores en 2 filas y 3 columnas\n",
    "print(\"b:\", b)"
   ]
  },
  {
   "cell_type": "code",
   "execution_count": 737,
   "metadata": {},
   "outputs": [
    {
     "name": "stdout",
     "output_type": "stream",
     "text": [
      "[3 5 7]\n",
      "[ 3 12]\n"
     ]
    }
   ],
   "source": [
    "print(b.sum(axis = 0)) # suma por COLUMNAS de los arrays\n",
    "print(b.sum(axis = 1)) # suma por FILAS de los arrays"
   ]
  },
  {
   "cell_type": "code",
   "execution_count": 738,
   "metadata": {},
   "outputs": [
    {
     "name": "stdout",
     "output_type": "stream",
     "text": [
      "[1.5 2.5 3.5]\n"
     ]
    }
   ],
   "source": [
    "print(b.mean(axis = 0))  # media de las COLUMNAS"
   ]
  },
  {
   "cell_type": "code",
   "execution_count": 739,
   "metadata": {},
   "outputs": [
    {
     "name": "stdout",
     "output_type": "stream",
     "text": [
      "[[0 1 2]\n",
      " [3 5 7]]\n"
     ]
    }
   ],
   "source": [
    "print(b.cumsum(axis = 0))  # suma acumulada por COLUMNAS"
   ]
  },
  {
   "cell_type": "code",
   "execution_count": 740,
   "metadata": {},
   "outputs": [
    {
     "name": "stdout",
     "output_type": "stream",
     "text": [
      "[[0 1 2]\n",
      " [3 4 5]]\n",
      "[[ 0  0  0]\n",
      " [ 3 12 60]]\n"
     ]
    }
   ],
   "source": [
    "print(b)\n",
    "print(b.cumprod(axis = 1))  # producto acumulado por FILAS"
   ]
  },
  {
   "cell_type": "code",
   "execution_count": null,
   "metadata": {},
   "outputs": [],
   "source": [
    "# existen mas funciones estadisticas, consultar utilizando dir(numpy)\n",
    "# mirar el resto de argumentos en la ayuda"
   ]
  },
  {
   "cell_type": "markdown",
   "metadata": {},
   "source": [
    "##### Operaciones lógicas"
   ]
  },
  {
   "cell_type": "code",
   "execution_count": 741,
   "metadata": {},
   "outputs": [
    {
     "data": {
      "text/plain": [
       "array([[0.12734115, 0.6748206 , 0.92299904, 0.91440268, 0.43497923],\n",
       "       [0.83484057, 0.28309728, 0.2112065 , 0.34798217, 0.12241799],\n",
       "       [0.09031373, 0.38780954, 0.66248599, 0.91633186, 0.50449353],\n",
       "       [0.65062206, 0.40612122, 0.48031342, 0.82930778, 0.6492427 ]])"
      ]
     },
     "execution_count": 741,
     "metadata": {},
     "output_type": "execute_result"
    }
   ],
   "source": [
    "# supomgamos que queremos contar el numero de elementos positivos en un ARRAY MULTIDIMENSIONAL\n",
    "a = np.random.rand(4,5)  # 4 filas y5 columnas\n",
    "a"
   ]
  },
  {
   "cell_type": "code",
   "execution_count": 742,
   "metadata": {},
   "outputs": [
    {
     "data": {
      "text/plain": [
       "array([[ True,  True,  True,  True,  True],\n",
       "       [ True,  True,  True,  True,  True],\n",
       "       [ True,  True,  True,  True,  True],\n",
       "       [ True,  True,  True,  True,  True]])"
      ]
     },
     "execution_count": 742,
     "metadata": {},
     "output_type": "execute_result"
    }
   ],
   "source": [
    "(a > 0)  # devuelve un booleano"
   ]
  },
  {
   "cell_type": "code",
   "execution_count": 743,
   "metadata": {},
   "outputs": [
    {
     "data": {
      "text/plain": [
       "20"
      ]
     },
     "execution_count": 743,
     "metadata": {},
     "output_type": "execute_result"
    }
   ],
   "source": [
    "(a > 0). sum()  # sumar aquellos valores que cumplan la condicion"
   ]
  },
  {
   "cell_type": "markdown",
   "metadata": {},
   "source": [
    "###### Operaciones sobre conjuntos"
   ]
  },
  {
   "cell_type": "markdown",
   "metadata": {},
   "source": [
    "La operacion unique aplicado a un array devuelve un array ordenado de valor en a, sin repetiion:\n",
    "    "
   ]
  },
  {
   "cell_type": "code",
   "execution_count": 745,
   "metadata": {},
   "outputs": [
    {
     "data": {
      "text/plain": [
       "array([0, 1, 2, 3, 4, 5, 7, 8, 9])"
      ]
     },
     "execution_count": 745,
     "metadata": {},
     "output_type": "execute_result"
    }
   ],
   "source": [
    "a = np.array([1,5,3,3,7,7,4,2,2,7,8,3,2,7,9,2,0])\n",
    "np.unique(a)"
   ]
  },
  {
   "cell_type": "markdown",
   "metadata": {},
   "source": [
    "#### Lectura y escritura de arrays en ficheros: Formato binario"
   ]
  },
  {
   "cell_type": "markdown",
   "metadata": {},
   "source": [
    "Numpy dispone de las funciones save y load para grabar y cargar arrays en disco en formato binario"
   ]
  },
  {
   "cell_type": "code",
   "execution_count": 2,
   "metadata": {},
   "outputs": [
    {
     "name": "stdout",
     "output_type": "stream",
     "text": [
      "[2. 4. 6. 8.]\n"
     ]
    }
   ],
   "source": [
    "import numpy as np\n",
    "y = np.array([2.,4.,6.,8.])  # Creamos un array unidimensional\n",
    "print(y)"
   ]
  },
  {
   "cell_type": "code",
   "execution_count": 3,
   "metadata": {},
   "outputs": [],
   "source": [
    "np.save('mi_array', y)  # se guarda en formato binario con extension .npy"
   ]
  },
  {
   "cell_type": "code",
   "execution_count": 4,
   "metadata": {},
   "outputs": [
    {
     "data": {
      "text/plain": [
       "array([2., 4., 6., 8.])"
      ]
     },
     "execution_count": 4,
     "metadata": {},
     "output_type": "execute_result"
    }
   ],
   "source": [
    "a = np.load('mi_array.npy')  # cargar el array en memoria con funcion load\n",
    "a"
   ]
  },
  {
   "cell_type": "markdown",
   "metadata": {},
   "source": [
    "#### Lectura y escritura de arrays en ficheros: Formato txt"
   ]
  },
  {
   "cell_type": "code",
   "execution_count": 5,
   "metadata": {},
   "outputs": [],
   "source": [
    "b = a.reshape(2,2)\n",
    "np.savetxt(\"mi_otro_array\", b, delimiter = ',')"
   ]
  },
  {
   "cell_type": "code",
   "execution_count": 6,
   "metadata": {},
   "outputs": [
    {
     "data": {
      "text/plain": [
       "array([[2., 4.],\n",
       "       [6., 8.]])"
      ]
     },
     "execution_count": 6,
     "metadata": {},
     "output_type": "execute_result"
    }
   ],
   "source": [
    "c = np.loadtxt('mi_otro_array', delimiter = ',')\n",
    "c"
   ]
  },
  {
   "cell_type": "markdown",
   "metadata": {},
   "source": [
    "                         ------- FIN ---------"
   ]
  }
 ],
 "metadata": {
  "kernelspec": {
   "display_name": "Python 3",
   "language": "python",
   "name": "python3"
  },
  "language_info": {
   "codemirror_mode": {
    "name": "ipython",
    "version": 3
   },
   "file_extension": ".py",
   "mimetype": "text/x-python",
   "name": "python",
   "nbconvert_exporter": "python",
   "pygments_lexer": "ipython3",
   "version": "3.7.0"
  },
  "toc": {
   "base_numbering": 1,
   "nav_menu": {},
   "number_sections": true,
   "sideBar": true,
   "skip_h1_title": false,
   "title_cell": "Table of Contents",
   "title_sidebar": "Contents",
   "toc_cell": false,
   "toc_position": {},
   "toc_section_display": true,
   "toc_window_display": false
  }
 },
 "nbformat": 4,
 "nbformat_minor": 2
}
