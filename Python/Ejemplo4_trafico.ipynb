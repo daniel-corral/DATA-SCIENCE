{
 "cells": [
  {
   "cell_type": "markdown",
   "metadata": {},
   "source": [
    "#  Tráfico de Madrid"
   ]
  },
  {
   "cell_type": "markdown",
   "metadata": {},
   "source": [
    "El dataset ['trafico_madrid.csv'](./datos/trafico_madrid.csv) contiene datos de tráfico. Distintos sensores de control de tráfico de la Comunidad de Madrid proporcionan datos sobre la intensidad de tráfico cada 15 minutos.\n",
    "\n",
    "\n",
    "\n",
    "__Descripción de los datos de tráfico__\n",
    "\n",
    "\n",
    "* `idelem`: Identificación  única  del  Punto  de  Medida  en  los  sistemas  de  control  del tráfico del Ayuntamiento de Madrid. \n",
    "* `fecha`: fecha en formato Año, mes, día, hora, minutos, segundos\n",
    "* `intensidad`: Intensidad   del   Punto   de   Medida   en\n",
    "   el   periodo   de   15   minutos  (vehículos/hora). \n",
    "* `vmed`: Velocidad  media  de  los  vehículos  en  el periodo  de  15  minutos  (Km./h). Sólo para puntos de medida interurbanos M30. \n",
    "* `error`: Indicación de si ha habido al menos una\n",
    " muestra errónea o sustituida en el periodo de 15 minutos. \n",
    "    * `N`: no ha habido errores ni sustituciones \n",
    "    * `E`: los parámetros de calidad de alguna de las muestras integradas no son óptimos. \n",
    "* `periodo_integracion`: Número   de   muestras   recibidas   y   consideradas"
   ]
  },
  {
   "cell_type": "markdown",
   "metadata": {},
   "source": [
    "__1. Crea un dataframe con los datos del fichero  ['trafico_madrid.csv'](trafico_madrid.csv).__"
   ]
  },
  {
   "cell_type": "code",
   "execution_count": 1,
   "metadata": {
    "ExecuteTime": {
     "end_time": "2018-10-18T08:36:20.996500Z",
     "start_time": "2018-10-18T08:36:20.980891Z"
    }
   },
   "outputs": [],
   "source": [
    "# Sol:\n",
    "import pandas as pd\n",
    "import numpy as np\n"
   ]
  },
  {
   "cell_type": "code",
   "execution_count": 2,
   "metadata": {},
   "outputs": [
    {
     "data": {
      "text/html": [
       "<div>\n",
       "<style scoped>\n",
       "    .dataframe tbody tr th:only-of-type {\n",
       "        vertical-align: middle;\n",
       "    }\n",
       "\n",
       "    .dataframe tbody tr th {\n",
       "        vertical-align: top;\n",
       "    }\n",
       "\n",
       "    .dataframe thead th {\n",
       "        text-align: right;\n",
       "    }\n",
       "</style>\n",
       "<table border=\"1\" class=\"dataframe\">\n",
       "  <thead>\n",
       "    <tr style=\"text-align: right;\">\n",
       "      <th></th>\n",
       "      <th>idelem</th>\n",
       "      <th>fecha</th>\n",
       "      <th>identif</th>\n",
       "      <th>tipo_elem</th>\n",
       "      <th>intensidad</th>\n",
       "      <th>ocupacion</th>\n",
       "      <th>carga</th>\n",
       "      <th>vmed</th>\n",
       "      <th>error</th>\n",
       "      <th>periodo_integracion</th>\n",
       "    </tr>\n",
       "  </thead>\n",
       "  <tbody>\n",
       "    <tr>\n",
       "      <th>0</th>\n",
       "      <td>3621</td>\n",
       "      <td>2017-02-18 07:30:00</td>\n",
       "      <td>17016</td>\n",
       "      <td>PUNTOS MEDIDA URBANOS</td>\n",
       "      <td>207</td>\n",
       "      <td>0</td>\n",
       "      <td>8.0</td>\n",
       "      <td>0</td>\n",
       "      <td>N</td>\n",
       "      <td>15</td>\n",
       "    </tr>\n",
       "    <tr>\n",
       "      <th>1</th>\n",
       "      <td>3973</td>\n",
       "      <td>2017-02-07 00:00:00</td>\n",
       "      <td>06033</td>\n",
       "      <td>PUNTOS MEDIDA URBANOS</td>\n",
       "      <td>134</td>\n",
       "      <td>1</td>\n",
       "      <td>6.0</td>\n",
       "      <td>0</td>\n",
       "      <td>N</td>\n",
       "      <td>13</td>\n",
       "    </tr>\n",
       "    <tr>\n",
       "      <th>2</th>\n",
       "      <td>4064</td>\n",
       "      <td>2017-02-11 22:45:00</td>\n",
       "      <td>10018</td>\n",
       "      <td>PUNTOS MEDIDA URBANOS</td>\n",
       "      <td>169</td>\n",
       "      <td>3</td>\n",
       "      <td>NaN</td>\n",
       "      <td>0</td>\n",
       "      <td>NaN</td>\n",
       "      <td>15</td>\n",
       "    </tr>\n",
       "    <tr>\n",
       "      <th>3</th>\n",
       "      <td>6375</td>\n",
       "      <td>2017-02-08 00:00:00</td>\n",
       "      <td>59021</td>\n",
       "      <td>PUNTOS MEDIDA URBANOS</td>\n",
       "      <td>53</td>\n",
       "      <td>1</td>\n",
       "      <td>7.0</td>\n",
       "      <td>0</td>\n",
       "      <td>N</td>\n",
       "      <td>14</td>\n",
       "    </tr>\n",
       "    <tr>\n",
       "      <th>4</th>\n",
       "      <td>6691</td>\n",
       "      <td>2017-02-23 20:45:00</td>\n",
       "      <td>PM12121</td>\n",
       "      <td>--</td>\n",
       "      <td>2428</td>\n",
       "      <td>5</td>\n",
       "      <td>37.0</td>\n",
       "      <td>81</td>\n",
       "      <td>NaN</td>\n",
       "      <td>15</td>\n",
       "    </tr>\n",
       "  </tbody>\n",
       "</table>\n",
       "</div>"
      ],
      "text/plain": [
       "   idelem                fecha  identif              tipo_elem  intensidad  \\\n",
       "0    3621  2017-02-18 07:30:00    17016  PUNTOS MEDIDA URBANOS         207   \n",
       "1    3973  2017-02-07 00:00:00    06033  PUNTOS MEDIDA URBANOS         134   \n",
       "2    4064  2017-02-11 22:45:00    10018  PUNTOS MEDIDA URBANOS         169   \n",
       "3    6375  2017-02-08 00:00:00    59021  PUNTOS MEDIDA URBANOS          53   \n",
       "4    6691  2017-02-23 20:45:00  PM12121                     --        2428   \n",
       "\n",
       "   ocupacion  carga  vmed error  periodo_integracion  \n",
       "0          0    8.0     0     N                   15  \n",
       "1          1    6.0     0     N                   13  \n",
       "2          3    NaN     0   NaN                   15  \n",
       "3          1    7.0     0     N                   14  \n",
       "4          5   37.0    81   NaN                   15  "
      ]
     },
     "execution_count": 2,
     "metadata": {},
     "output_type": "execute_result"
    }
   ],
   "source": [
    "df=pd.read_csv('./datos/trafico_madrid.csv')\n",
    "df\n",
    "df.head()"
   ]
  },
  {
   "cell_type": "markdown",
   "metadata": {},
   "source": [
    "__2.__ Cada estación de tráfico tiene unas coordenadas. Dicha información se encuentra en el fichero [./datos/pmed_trafico_coord.csv](./datos/pmed_trafico_coord.csv). __Abre dicho fichero para ver los datos que contiene. Usa la función `read_csv` para leer los datos y crear un dataframe.__ Solo nos interesan las columnas `['idelem', 'cod_cent', 'Xcoord', 'Ycoord']`. Visualiza las 5 primeras filas."
   ]
  },
  {
   "cell_type": "code",
   "execution_count": 3,
   "metadata": {
    "ExecuteTime": {
     "end_time": "2018-10-18T08:57:26.863472Z",
     "start_time": "2018-10-18T08:57:26.847850Z"
    }
   },
   "outputs": [
    {
     "data": {
      "text/html": [
       "<div>\n",
       "<style scoped>\n",
       "    .dataframe tbody tr th:only-of-type {\n",
       "        vertical-align: middle;\n",
       "    }\n",
       "\n",
       "    .dataframe tbody tr th {\n",
       "        vertical-align: top;\n",
       "    }\n",
       "\n",
       "    .dataframe thead th {\n",
       "        text-align: right;\n",
       "    }\n",
       "</style>\n",
       "<table border=\"1\" class=\"dataframe\">\n",
       "  <thead>\n",
       "    <tr style=\"text-align: right;\">\n",
       "      <th></th>\n",
       "      <th>idelem</th>\n",
       "      <th>cod_cent</th>\n",
       "      <th>Xcoord</th>\n",
       "      <th>Ycoord</th>\n",
       "    </tr>\n",
       "  </thead>\n",
       "  <tbody>\n",
       "    <tr>\n",
       "      <th>0</th>\n",
       "      <td>1044</td>\n",
       "      <td>03FT08PM01</td>\n",
       "      <td>-3.720754</td>\n",
       "      <td>40.419125</td>\n",
       "    </tr>\n",
       "    <tr>\n",
       "      <th>1</th>\n",
       "      <td>3600</td>\n",
       "      <td>PM30901</td>\n",
       "      <td>-3.664409</td>\n",
       "      <td>40.406252</td>\n",
       "    </tr>\n",
       "    <tr>\n",
       "      <th>2</th>\n",
       "      <td>3705</td>\n",
       "      <td>PM41451</td>\n",
       "      <td>-3.709906</td>\n",
       "      <td>40.390721</td>\n",
       "    </tr>\n",
       "    <tr>\n",
       "      <th>3</th>\n",
       "      <td>6823</td>\n",
       "      <td>PM41453</td>\n",
       "      <td>-3.717737</td>\n",
       "      <td>40.384554</td>\n",
       "    </tr>\n",
       "    <tr>\n",
       "      <th>4</th>\n",
       "      <td>7033</td>\n",
       "      <td>1015</td>\n",
       "      <td>-3.690105</td>\n",
       "      <td>40.426231</td>\n",
       "    </tr>\n",
       "  </tbody>\n",
       "</table>\n",
       "</div>"
      ],
      "text/plain": [
       "   idelem    cod_cent    Xcoord     Ycoord\n",
       "0    1044  03FT08PM01 -3.720754  40.419125\n",
       "1    3600     PM30901 -3.664409  40.406252\n",
       "2    3705     PM41451 -3.709906  40.390721\n",
       "3    6823     PM41453 -3.717737  40.384554\n",
       "4    7033        1015 -3.690105  40.426231"
      ]
     },
     "execution_count": 3,
     "metadata": {},
     "output_type": "execute_result"
    }
   ],
   "source": [
    "# Sol: \n",
    "coord=pd.read_table('./datos/pmed_trafico_coord.csv',\n",
    "                   sep=';', \n",
    "                   usecols=['idelem','cod_cent', 'Xcoord', 'Ycoord'],\n",
    "                   decimal=',')\n",
    "\n",
    "coord\n",
    "coord.head()"
   ]
  },
  {
   "cell_type": "markdown",
   "metadata": {},
   "source": [
    "__3. Añadir las columnas de las coordenadas de cada estación a los datos de tráfico del mes de Enero. Usa la función `merge`.__"
   ]
  },
  {
   "cell_type": "code",
   "execution_count": 4,
   "metadata": {
    "ExecuteTime": {
     "end_time": "2018-10-18T08:57:27.979364Z",
     "start_time": "2018-10-18T08:57:27.963737Z"
    }
   },
   "outputs": [
    {
     "data": {
      "text/html": [
       "<div>\n",
       "<style scoped>\n",
       "    .dataframe tbody tr th:only-of-type {\n",
       "        vertical-align: middle;\n",
       "    }\n",
       "\n",
       "    .dataframe tbody tr th {\n",
       "        vertical-align: top;\n",
       "    }\n",
       "\n",
       "    .dataframe thead th {\n",
       "        text-align: right;\n",
       "    }\n",
       "</style>\n",
       "<table border=\"1\" class=\"dataframe\">\n",
       "  <thead>\n",
       "    <tr style=\"text-align: right;\">\n",
       "      <th></th>\n",
       "      <th>fecha</th>\n",
       "      <th>identif</th>\n",
       "      <th>tipo_elem</th>\n",
       "      <th>intensidad</th>\n",
       "      <th>ocupacion</th>\n",
       "      <th>carga</th>\n",
       "      <th>vmed</th>\n",
       "      <th>error</th>\n",
       "      <th>periodo_integracion</th>\n",
       "      <th>idelem</th>\n",
       "      <th>Xcoord</th>\n",
       "      <th>Ycoord</th>\n",
       "    </tr>\n",
       "  </thead>\n",
       "  <tbody>\n",
       "  </tbody>\n",
       "</table>\n",
       "</div>"
      ],
      "text/plain": [
       "Empty DataFrame\n",
       "Columns: [fecha, identif, tipo_elem, intensidad, ocupacion, carga, vmed, error, periodo_integracion, idelem, Xcoord, Ycoord]\n",
       "Index: []"
      ]
     },
     "execution_count": 4,
     "metadata": {},
     "output_type": "execute_result"
    }
   ],
   "source": [
    "# Sol: la columna de fechas hay que trabajarla\n",
    "fichero=\"./datos/pmed_trafico_coord.csv\"\n",
    "\n",
    "import datetime as dt\n",
    "df2=pd.read_csv(fichero,\n",
    "                   usecols= [2,5,6],\n",
    "                   sep= ';', decimal= ',')\n",
    "df['fecha']=pd.to_datetime(df['fecha'])\n",
    "                           \n",
    "##convertimos a mes de enero y le damos el valor 1 (mes 1)\n",
    "enero=df['fecha'].dt.month\n",
    "mesdf=enero == 1\n",
    "dfcoord=df[mesdf].merge(df2, on='idelem')\n",
    "dfcoord\n",
    "\n",
    "##sale un DF vacio pero todo está unido"
   ]
  },
  {
   "cell_type": "code",
   "execution_count": 5,
   "metadata": {},
   "outputs": [
    {
     "data": {
      "text/plain": [
       "fecha                  datetime64[ns]\n",
       "identif                        object\n",
       "tipo_elem                      object\n",
       "intensidad                      int64\n",
       "ocupacion                       int64\n",
       "carga                         float64\n",
       "vmed                            int64\n",
       "error                          object\n",
       "periodo_integracion             int64\n",
       "idelem                          int64\n",
       "Xcoord                        float64\n",
       "Ycoord                        float64\n",
       "dtype: object"
      ]
     },
     "execution_count": 5,
     "metadata": {},
     "output_type": "execute_result"
    }
   ],
   "source": [
    "dfcoord.dtypes\n",
    "\n",
    "#Xcoord y Ycoord son de tipo string"
   ]
  },
  {
   "cell_type": "markdown",
   "metadata": {},
   "source": [
    "__4. Añadir una hora a la columna fecha. La función `to_timedelta` permite crear unidades de tiempo. Crear una hora y súmala a la columna fecha.__"
   ]
  },
  {
   "cell_type": "code",
   "execution_count": 6,
   "metadata": {
    "ExecuteTime": {
     "end_time": "2018-10-18T08:57:49.094755Z",
     "start_time": "2018-10-18T08:57:49.079132Z"
    }
   },
   "outputs": [
    {
     "data": {
      "text/plain": [
       "0   2017-02-18 08:30:00\n",
       "1   2017-02-07 01:00:00\n",
       "2   2017-02-11 23:45:00\n",
       "3   2017-02-08 01:00:00\n",
       "4   2017-02-23 21:45:00\n",
       "Name: fecha, dtype: datetime64[ns]"
      ]
     },
     "execution_count": 6,
     "metadata": {},
     "output_type": "execute_result"
    }
   ],
   "source": [
    "# Sol: \n",
    "hora=pd.to_timedelta(1,'h')\n",
    "hora\n",
    "df['fecha']=pd.to_datetime(df['fecha'])\n",
    "\n",
    "df['fecha']=df['fecha'] + hora\n",
    "\n",
    "df['fecha'].head() #ver solo las 5 primeras entradas\n"
   ]
  },
  {
   "cell_type": "markdown",
   "metadata": {},
   "source": [
    "__5.__ Los datos de tráfico se recogen cada 15 minutos. Pero a nosotros __nos interesa agrupar los datos para tener una observación por estación de tráfico y hora__. En realidad queremos calcular la media de intensidad por hora. Usa el método `resample`.\n"
   ]
  },
  {
   "cell_type": "code",
   "execution_count": 7,
   "metadata": {
    "ExecuteTime": {
     "end_time": "2018-10-18T08:58:07.024554Z",
     "start_time": "2018-10-18T08:58:07.008934Z"
    }
   },
   "outputs": [
    {
     "data": {
      "text/plain": [
       "fecha\n",
       "2017-02-01 01:00:00    163.430894\n",
       "2017-02-01 02:00:00     84.253521\n",
       "2017-02-01 03:00:00     49.172414\n",
       "2017-02-01 04:00:00     41.034483\n",
       "2017-02-01 05:00:00     39.702479\n",
       "Freq: H, Name: intensidad, dtype: float64"
      ]
     },
     "execution_count": 7,
     "metadata": {},
     "output_type": "execute_result"
    }
   ],
   "source": [
    "# Sol: ##resample para calcular la media de intensidad por hora\n",
    "\n",
    "observacion=df.reset_index().set_index('fecha').intensidad.resample('H').mean()\n",
    "observacion.head()\n",
    "#solucion=df.intensidad.resample('H').mean()\n",
    "#sol\n"
   ]
  },
  {
   "cell_type": "markdown",
   "metadata": {},
   "source": [
    "__6. Calcula el número de centros asociados a cada `idelem`.__"
   ]
  },
  {
   "cell_type": "code",
   "execution_count": 8,
   "metadata": {
    "ExecuteTime": {
     "end_time": "2018-10-18T08:58:15.727744Z",
     "start_time": "2018-10-18T08:58:15.712124Z"
    }
   },
   "outputs": [
    {
     "data": {
      "text/plain": [
       "idelem\n",
       "1001    15\n",
       "1002    32\n",
       "1003    34\n",
       "1006    26\n",
       "1009    27\n",
       "Name: cod_cent, dtype: int64"
      ]
     },
     "execution_count": 8,
     "metadata": {},
     "output_type": "execute_result"
    }
   ],
   "source": [
    "# Sol: \n",
    "##primero combinar las tablas\n",
    "df_coord=pd.merge(df,coord, on='idelem')\n",
    "centros=df_coord.groupby('idelem').count() ##primero hacemos un groupby para tener los datos correctos de idelem y sobre esto \n",
    "centros['cod_cent'].head()\n",
    "\n",
    "##es decir, en este caso, hay 15 centros en 1001.. etc"
   ]
  },
  {
   "cell_type": "markdown",
   "metadata": {},
   "source": [
    "__7. Para cada `idelem`, calcula el `identif` que registra la intensidad máxima.__"
   ]
  },
  {
   "cell_type": "code",
   "execution_count": 9,
   "metadata": {},
   "outputs": [
    {
     "data": {
      "text/html": [
       "<div>\n",
       "<style scoped>\n",
       "    .dataframe tbody tr th:only-of-type {\n",
       "        vertical-align: middle;\n",
       "    }\n",
       "\n",
       "    .dataframe tbody tr th {\n",
       "        vertical-align: top;\n",
       "    }\n",
       "\n",
       "    .dataframe thead th {\n",
       "        text-align: right;\n",
       "    }\n",
       "</style>\n",
       "<table border=\"1\" class=\"dataframe\">\n",
       "  <thead>\n",
       "    <tr style=\"text-align: right;\">\n",
       "      <th></th>\n",
       "      <th>idelem</th>\n",
       "      <th>identif</th>\n",
       "      <th>tipo_elem</th>\n",
       "      <th>intensidad</th>\n",
       "      <th>ocupacion</th>\n",
       "      <th>carga</th>\n",
       "      <th>vmed</th>\n",
       "      <th>error</th>\n",
       "      <th>periodo_integracion</th>\n",
       "    </tr>\n",
       "    <tr>\n",
       "      <th>fecha</th>\n",
       "      <th></th>\n",
       "      <th></th>\n",
       "      <th></th>\n",
       "      <th></th>\n",
       "      <th></th>\n",
       "      <th></th>\n",
       "      <th></th>\n",
       "      <th></th>\n",
       "      <th></th>\n",
       "    </tr>\n",
       "  </thead>\n",
       "  <tbody>\n",
       "    <tr>\n",
       "      <th>2017-02-18 07:30:00</th>\n",
       "      <td>3621</td>\n",
       "      <td>17016</td>\n",
       "      <td>PUNTOS MEDIDA URBANOS</td>\n",
       "      <td>207</td>\n",
       "      <td>0</td>\n",
       "      <td>8.0</td>\n",
       "      <td>0</td>\n",
       "      <td>N</td>\n",
       "      <td>15</td>\n",
       "    </tr>\n",
       "    <tr>\n",
       "      <th>2017-02-07 00:00:00</th>\n",
       "      <td>3973</td>\n",
       "      <td>06033</td>\n",
       "      <td>PUNTOS MEDIDA URBANOS</td>\n",
       "      <td>134</td>\n",
       "      <td>1</td>\n",
       "      <td>6.0</td>\n",
       "      <td>0</td>\n",
       "      <td>N</td>\n",
       "      <td>13</td>\n",
       "    </tr>\n",
       "    <tr>\n",
       "      <th>2017-02-11 22:45:00</th>\n",
       "      <td>4064</td>\n",
       "      <td>10018</td>\n",
       "      <td>PUNTOS MEDIDA URBANOS</td>\n",
       "      <td>169</td>\n",
       "      <td>3</td>\n",
       "      <td>NaN</td>\n",
       "      <td>0</td>\n",
       "      <td>NaN</td>\n",
       "      <td>15</td>\n",
       "    </tr>\n",
       "    <tr>\n",
       "      <th>2017-02-08 00:00:00</th>\n",
       "      <td>6375</td>\n",
       "      <td>59021</td>\n",
       "      <td>PUNTOS MEDIDA URBANOS</td>\n",
       "      <td>53</td>\n",
       "      <td>1</td>\n",
       "      <td>7.0</td>\n",
       "      <td>0</td>\n",
       "      <td>N</td>\n",
       "      <td>14</td>\n",
       "    </tr>\n",
       "    <tr>\n",
       "      <th>2017-02-23 20:45:00</th>\n",
       "      <td>6691</td>\n",
       "      <td>PM12121</td>\n",
       "      <td>--</td>\n",
       "      <td>2428</td>\n",
       "      <td>5</td>\n",
       "      <td>37.0</td>\n",
       "      <td>81</td>\n",
       "      <td>NaN</td>\n",
       "      <td>15</td>\n",
       "    </tr>\n",
       "  </tbody>\n",
       "</table>\n",
       "</div>"
      ],
      "text/plain": [
       "                     idelem  identif              tipo_elem  intensidad  \\\n",
       "fecha                                                                     \n",
       "2017-02-18 07:30:00    3621    17016  PUNTOS MEDIDA URBANOS         207   \n",
       "2017-02-07 00:00:00    3973    06033  PUNTOS MEDIDA URBANOS         134   \n",
       "2017-02-11 22:45:00    4064    10018  PUNTOS MEDIDA URBANOS         169   \n",
       "2017-02-08 00:00:00    6375    59021  PUNTOS MEDIDA URBANOS          53   \n",
       "2017-02-23 20:45:00    6691  PM12121                     --        2428   \n",
       "\n",
       "                     ocupacion  carga  vmed error  periodo_integracion  \n",
       "fecha                                                                   \n",
       "2017-02-18 07:30:00          0    8.0     0     N                   15  \n",
       "2017-02-07 00:00:00          1    6.0     0     N                   13  \n",
       "2017-02-11 22:45:00          3    NaN     0   NaN                   15  \n",
       "2017-02-08 00:00:00          1    7.0     0     N                   14  \n",
       "2017-02-23 20:45:00          5   37.0    81   NaN                   15  "
      ]
     },
     "execution_count": 9,
     "metadata": {},
     "output_type": "execute_result"
    }
   ],
   "source": [
    "df=pd.read_csv('./datos/trafico_madrid.csv', parse_dates=[1], index_col=[1])\n",
    "df.head()"
   ]
  },
  {
   "cell_type": "code",
   "execution_count": 12,
   "metadata": {
    "ExecuteTime": {
     "end_time": "2018-10-18T08:58:14.420049Z",
     "start_time": "2018-10-18T08:58:14.404390Z"
    }
   },
   "outputs": [
    {
     "data": {
      "text/html": [
       "<div>\n",
       "<style scoped>\n",
       "    .dataframe tbody tr th:only-of-type {\n",
       "        vertical-align: middle;\n",
       "    }\n",
       "\n",
       "    .dataframe tbody tr th {\n",
       "        vertical-align: top;\n",
       "    }\n",
       "\n",
       "    .dataframe thead th {\n",
       "        text-align: right;\n",
       "    }\n",
       "</style>\n",
       "<table border=\"1\" class=\"dataframe\">\n",
       "  <thead>\n",
       "    <tr style=\"text-align: right;\">\n",
       "      <th></th>\n",
       "      <th>idelem</th>\n",
       "      <th>identif</th>\n",
       "    </tr>\n",
       "    <tr>\n",
       "      <th>fecha</th>\n",
       "      <th></th>\n",
       "      <th></th>\n",
       "    </tr>\n",
       "  </thead>\n",
       "  <tbody>\n",
       "    <tr>\n",
       "      <th>2017-02-16 11:00:00</th>\n",
       "      <td>5784</td>\n",
       "      <td>40002</td>\n",
       "    </tr>\n",
       "    <tr>\n",
       "      <th>2017-02-02 13:00:00</th>\n",
       "      <td>3528</td>\n",
       "      <td>44402</td>\n",
       "    </tr>\n",
       "    <tr>\n",
       "      <th>2017-02-15 08:45:00</th>\n",
       "      <td>4659</td>\n",
       "      <td>35022</td>\n",
       "    </tr>\n",
       "    <tr>\n",
       "      <th>2017-02-06 19:30:00</th>\n",
       "      <td>5959</td>\n",
       "      <td>45013</td>\n",
       "    </tr>\n",
       "    <tr>\n",
       "      <th>2017-02-01 17:30:00</th>\n",
       "      <td>3789</td>\n",
       "      <td>76007</td>\n",
       "    </tr>\n",
       "  </tbody>\n",
       "</table>\n",
       "</div>"
      ],
      "text/plain": [
       "                     idelem identif\n",
       "fecha                              \n",
       "2017-02-16 11:00:00    5784   40002\n",
       "2017-02-02 13:00:00    3528   44402\n",
       "2017-02-15 08:45:00    4659   35022\n",
       "2017-02-06 19:30:00    5959   45013\n",
       "2017-02-01 17:30:00    3789   76007"
      ]
     },
     "execution_count": 12,
     "metadata": {},
     "output_type": "execute_result"
    }
   ],
   "source": [
    "# Sol: aquí piden que se devuelva un valor x(identif) segun el max del valor y(idelem) de una columna\n",
    "df['maximo'] = df.groupby(['idelem'])['intensidad'].transform(max)\n",
    "res1 = df['intensidad'] == df['maximo']\n",
    "df[res1][['idelem','identif']].head()\n",
    "\n",
    "##otra forma\n",
    "#m={'intensidad': max}\n",
    "#dfnuevo=df.groupby('idelem')\n",
    "#dfnuevo['intensidad', 'identif'].agg(m).head()\n"
   ]
  },
  {
   "cell_type": "markdown",
   "metadata": {},
   "source": [
    "__8. Modifica las columnas de coordenadas para que aparezcan solo con 2 decimales.__"
   ]
  },
  {
   "cell_type": "code",
   "execution_count": 13,
   "metadata": {
    "ExecuteTime": {
     "end_time": "2018-10-18T08:58:15.727744Z",
     "start_time": "2018-10-18T08:58:15.712124Z"
    }
   },
   "outputs": [
    {
     "data": {
      "text/html": [
       "<div>\n",
       "<style scoped>\n",
       "    .dataframe tbody tr th:only-of-type {\n",
       "        vertical-align: middle;\n",
       "    }\n",
       "\n",
       "    .dataframe tbody tr th {\n",
       "        vertical-align: top;\n",
       "    }\n",
       "\n",
       "    .dataframe thead th {\n",
       "        text-align: right;\n",
       "    }\n",
       "</style>\n",
       "<table border=\"1\" class=\"dataframe\">\n",
       "  <thead>\n",
       "    <tr style=\"text-align: right;\">\n",
       "      <th></th>\n",
       "      <th>idelem</th>\n",
       "      <th>cod_cent</th>\n",
       "      <th>Xcoord</th>\n",
       "      <th>Ycoord</th>\n",
       "    </tr>\n",
       "  </thead>\n",
       "  <tbody>\n",
       "    <tr>\n",
       "      <th>0</th>\n",
       "      <td>1044</td>\n",
       "      <td>03FT08PM01</td>\n",
       "      <td>-3.72</td>\n",
       "      <td>40.42</td>\n",
       "    </tr>\n",
       "    <tr>\n",
       "      <th>1</th>\n",
       "      <td>3600</td>\n",
       "      <td>PM30901</td>\n",
       "      <td>-3.66</td>\n",
       "      <td>40.41</td>\n",
       "    </tr>\n",
       "    <tr>\n",
       "      <th>2</th>\n",
       "      <td>3705</td>\n",
       "      <td>PM41451</td>\n",
       "      <td>-3.71</td>\n",
       "      <td>40.39</td>\n",
       "    </tr>\n",
       "    <tr>\n",
       "      <th>3</th>\n",
       "      <td>6823</td>\n",
       "      <td>PM41453</td>\n",
       "      <td>-3.72</td>\n",
       "      <td>40.38</td>\n",
       "    </tr>\n",
       "    <tr>\n",
       "      <th>4</th>\n",
       "      <td>7033</td>\n",
       "      <td>1015</td>\n",
       "      <td>-3.69</td>\n",
       "      <td>40.43</td>\n",
       "    </tr>\n",
       "  </tbody>\n",
       "</table>\n",
       "</div>"
      ],
      "text/plain": [
       "   idelem    cod_cent  Xcoord  Ycoord\n",
       "0    1044  03FT08PM01   -3.72   40.42\n",
       "1    3600     PM30901   -3.66   40.41\n",
       "2    3705     PM41451   -3.71   40.39\n",
       "3    6823     PM41453   -3.72   40.38\n",
       "4    7033        1015   -3.69   40.43"
      ]
     },
     "execution_count": 13,
     "metadata": {},
     "output_type": "execute_result"
    }
   ],
   "source": [
    "# Sol: #Formateamos 'Xcoord' y 'Ycoord'\n",
    "\n",
    "##quitar los decimales \n",
    "coord['Xcoord']=coord['Xcoord'].round(2)\n",
    "coord['Ycoord']=coord['Ycoord'].round(2)\n",
    "coord.head()\n",
    "\n",
    "#Otro método\n",
    "#coord['Ycoord']=dfcoord['Ycoord'].astype(float) esto seria la conversion a float en otro caso\n",
    "#tablita = t4.applymap(lambda x : round(x,2) if type(x) == float else x)\n",
    "#tablita"
   ]
  },
  {
   "cell_type": "code",
   "execution_count": 14,
   "metadata": {},
   "outputs": [
    {
     "data": {
      "text/plain": [
       "idelem        int64\n",
       "cod_cent     object\n",
       "Xcoord      float64\n",
       "Ycoord      float64\n",
       "dtype: object"
      ]
     },
     "execution_count": 14,
     "metadata": {},
     "output_type": "execute_result"
    }
   ],
   "source": [
    "coord.dtypes"
   ]
  },
  {
   "cell_type": "markdown",
   "metadata": {},
   "source": [
    "__9. ¿En qué centro se ha registrado la mayor intensidad de tráfico?.__"
   ]
  },
  {
   "cell_type": "code",
   "execution_count": 15,
   "metadata": {
    "ExecuteTime": {
     "end_time": "2018-10-18T08:58:17.113031Z",
     "start_time": "2018-10-18T08:58:17.095475Z"
    }
   },
   "outputs": [
    {
     "data": {
      "text/plain": [
       "46031    Entrada M-30 N-S  - M-30 - Mindez rlvaro\n",
       "Name: nombre, dtype: object"
      ]
     },
     "execution_count": 15,
     "metadata": {},
     "output_type": "execute_result"
    }
   ],
   "source": [
    "# Sol: aquí piden que se devuelva un valor x(centro) segun el max del valor y(intensidad) de una columna\n",
    "##vamos a simplificar las tablas\n",
    "\n",
    "info=pd.read_csv(fichero, usecols=[1,2,3,4], sep=';',\n",
    "                decimal=',')\n",
    "df_centros=pd.merge(df, info, on='idelem')\n",
    "\n",
    "info_centro=df_centros['intensidad'] == df['intensidad'].max()\n",
    "df_centros[info_centro].nombre\n",
    "\n",
    "##La mayor intensidad de trafico se ha registrado en entrada de la M20 en Menendez Alvaro num 46031 (en la tabla)"
   ]
  },
  {
   "cell_type": "code",
   "execution_count": null,
   "metadata": {},
   "outputs": [],
   "source": []
  }
 ],
 "metadata": {
  "anaconda-cloud": {},
  "kernelspec": {
   "display_name": "Python 3",
   "language": "python",
   "name": "python3"
  },
  "language_info": {
   "codemirror_mode": {
    "name": "ipython",
    "version": 3
   },
   "file_extension": ".py",
   "mimetype": "text/x-python",
   "name": "python",
   "nbconvert_exporter": "python",
   "pygments_lexer": "ipython3",
   "version": "3.7.0"
  },
  "nbTranslate": {
   "displayLangs": [
    "en",
    "es"
   ],
   "hotkey": "alt-t",
   "langInMainMenu": true,
   "sourceLang": "es",
   "targetLang": "en",
   "useGoogleTranslate": true
  },
  "toc": {
   "nav_menu": {
    "height": "12px",
    "width": "252px"
   },
   "number_sections": true,
   "sideBar": true,
   "skip_h1_title": false,
   "title_cell": "Table of Contents",
   "title_sidebar": "Contents",
   "toc_cell": false,
   "toc_position": {
    "height": "485px",
    "left": "0px",
    "right": "20px",
    "top": "121px",
    "width": "231px"
   },
   "toc_section_display": "block",
   "toc_window_display": true
  }
 },
 "nbformat": 4,
 "nbformat_minor": 1
}
