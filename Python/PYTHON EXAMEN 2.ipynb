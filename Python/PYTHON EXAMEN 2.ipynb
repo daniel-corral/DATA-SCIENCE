{
 "cells": [
  {
   "cell_type": "markdown",
   "metadata": {},
   "source": [
    "# PYTHON PARTE 2"
   ]
  },
  {
   "cell_type": "markdown",
   "metadata": {},
   "source": [
    "## LAS SERIES Y LOS DATAFRAMES"
   ]
  },
  {
   "cell_type": "markdown",
   "metadata": {},
   "source": [
    "Pandas: libreria de alto nivel que permite representar __series y tablas__ de datos y herramientas para el tratamiento de datos __sencillo__. \n",
    "- Desarrollo __2008__\n",
    "- Construida sobre los fundamentos de NumPy: operaciones sobre arrays a nuevas estructuras\n",
    "- UTIL: __datos heterogeneos representados de FORMA TABULAR__\n",
    "\n",
    "\n",
    "- Una de las librerias __MAS UTILIZADAS__ en las primeras etapas del proceso de __ANALISIS DE DATOS__, esp. en __Aplicaciones Estadisticas__. "
   ]
  },
  {
   "cell_type": "markdown",
   "metadata": {},
   "source": [
    "### Importar librerias"
   ]
  },
  {
   "cell_type": "code",
   "execution_count": 116,
   "metadata": {},
   "outputs": [],
   "source": [
    "# Trabajar con datos \n",
    "import numpy as np \n",
    "import pandas as pd\n",
    "\n",
    "# Visualización\n",
    "import matplotlib.pyplot as plt\n",
    "%matplotlib inline"
   ]
  },
  {
   "cell_type": "markdown",
   "metadata": {},
   "source": [
    "### Estructuras de datos en PANDAS: Series y DataFrames"
   ]
  },
  {
   "cell_type": "markdown",
   "metadata": {},
   "source": [
    "Son capaces de representar __series de datos__ y __datos en forma TABULAR__ (df)."
   ]
  },
  {
   "cell_type": "markdown",
   "metadata": {},
   "source": [
    "#### SERIES"
   ]
  },
  {
   "cell_type": "markdown",
   "metadata": {},
   "source": [
    "- Un __objeto__ tipo SERIES puede verse como un __objeto tipo array__ de __UNA DIMENSION__ que contiene __datos de un cierto tipo__ y tiene asociado __un indice__ (__este indice es un array de etiquetas__ cuyo __tamaño__ coincide con el del __array de datos__)\n",
    "\n",
    "https://pandas.pydata.org/pandas-docs/stable/api.html#series\n"
   ]
  },
  {
   "cell_type": "code",
   "execution_count": 117,
   "metadata": {},
   "outputs": [
    {
     "data": {
      "text/plain": [
       "0    10\n",
       "1    20\n",
       "2    30\n",
       "3    40\n",
       "4   -10\n",
       "dtype: int64"
      ]
     },
     "execution_count": 117,
     "metadata": {},
     "output_type": "execute_result"
    }
   ],
   "source": [
    "# Creamos un objeto tipo SERIE con pd.Series y una LISTA de elementos\n",
    "serie = pd.Series([10, 20, 30, 40, -10])\n",
    "serie\n",
    "\n",
    "# de tipo int64 (columna derecha), indexados con array de enteros comenzando desde el 0"
   ]
  },
  {
   "cell_type": "code",
   "execution_count": 120,
   "metadata": {},
   "outputs": [
    {
     "name": "stdout",
     "output_type": "stream",
     "text": [
      "RangeIndex(start=0, stop=5, step=1)\n",
      "[ 10  20  30  40 -10]\n"
     ]
    }
   ],
   "source": [
    "# PROPIEDADES DE LAS SERIES: objetos tipo INDEX y tipo VALUES (representan el indice y elementos de la serie)\n",
    "print(serie.index)  # para en 5 sin coger ese numero, son 5 nums en total\n",
    "print(serie.values)  # devuelve los valores de la serie"
   ]
  },
  {
   "cell_type": "markdown",
   "metadata": {},
   "source": [
    "__VENTAJAS SERIES__: Permiten indexar cada elemento de la serie con un valor descriptivo o etiqueta.\n",
    "1. Ejemplo: nuestros datos: TASA DE NATALIDAD DE DISTINTAS CIUDADES ESPAÑOLAS (ciudades españolas como etiquetas del indice) \n",
    "    - No etiquetas de tipo int64 (es decir, nums del 0 al 4)\n",
    "    \n",
    "- Las series poseen __mayor claridad a los datos que contienen y es mas facil acceder a los datos__ : ya que estos datos se podrian haber representado mediante un array."
   ]
  },
  {
   "cell_type": "code",
   "execution_count": 121,
   "metadata": {},
   "outputs": [
    {
     "data": {
      "text/plain": [
       "Murcia       10.7\n",
       "Cantabria     7.5\n",
       "Murcia        7.1\n",
       "Melilla      17.8\n",
       "Navarra       7.9\n",
       "Name: Tasa de Natalidad, dtype: float64"
      ]
     },
     "execution_count": 121,
     "metadata": {},
     "output_type": "execute_result"
    }
   ],
   "source": [
    "nat = pd.Series([10.7,7.5,7.1,17.8,7.9],\n",
    "               index = ['Murcia', 'Cantabria', 'Murcia', 'Melilla', 'Navarra'],\n",
    "               name = 'Tasa de Natalidad')  # permite asignar NOMBRE a la serie creada\n",
    "nat"
   ]
  },
  {
   "cell_type": "code",
   "execution_count": 122,
   "metadata": {},
   "outputs": [
    {
     "data": {
      "text/plain": [
       "'Tasa de Natalidad'"
      ]
     },
     "execution_count": 122,
     "metadata": {},
     "output_type": "execute_result"
    }
   ],
   "source": [
    "nat.name  # te devuelve el nombre que has asignado o que tiene"
   ]
  },
  {
   "cell_type": "markdown",
   "metadata": {},
   "source": [
    "##### acceder a los datos de una serie"
   ]
  },
  {
   "cell_type": "markdown",
   "metadata": {},
   "source": [
    "1. Mediante la etiqueta __INDICE__ y __CORCHETES__ como en el caso de __listas o arrays__"
   ]
  },
  {
   "cell_type": "code",
   "execution_count": 123,
   "metadata": {},
   "outputs": [
    {
     "data": {
      "text/plain": [
       "Murcia    10.7\n",
       "Murcia     7.1\n",
       "Name: Tasa de Natalidad, dtype: float64"
      ]
     },
     "execution_count": 123,
     "metadata": {},
     "output_type": "execute_result"
    }
   ],
   "source": [
    "nat['Murcia']"
   ]
  },
  {
   "cell_type": "markdown",
   "metadata": {},
   "source": [
    "2. Mediante la etiqueta __INDICE__ siempre que sea nombre valido en Python como si __fuera una propiedad de la serie__. "
   ]
  },
  {
   "cell_type": "code",
   "execution_count": 125,
   "metadata": {},
   "outputs": [
    {
     "data": {
      "text/plain": [
       "Murcia    10.7\n",
       "Murcia     7.1\n",
       "Name: Tasa de Natalidad, dtype: float64"
      ]
     },
     "execution_count": 125,
     "metadata": {},
     "output_type": "execute_result"
    }
   ],
   "source": [
    "nat.Murcia"
   ]
  },
  {
   "cell_type": "markdown",
   "metadata": {},
   "source": [
    "### Operaciones con SERIES\n",
    "- Se mantienen muchas de las utilizadas con ARRAYS\n",
    "    - Ej: las operaciones aritmeticas (+,-,*,/) que son vectorizadas, __manteniendose el valor del indice de la serie__"
   ]
  },
  {
   "cell_type": "code",
   "execution_count": 126,
   "metadata": {},
   "outputs": [
    {
     "data": {
      "text/plain": [
       "Murcia       1070.0\n",
       "Cantabria     750.0\n",
       "Murcia        710.0\n",
       "Melilla      1780.0\n",
       "Navarra       790.0\n",
       "Name: Tasa de Natalidad, dtype: float64"
      ]
     },
     "execution_count": 126,
     "metadata": {},
     "output_type": "execute_result"
    }
   ],
   "source": [
    "nat * 100  # multiplica los datos de la serie por 100 elemento a elemento"
   ]
  },
  {
   "cell_type": "code",
   "execution_count": 127,
   "metadata": {},
   "outputs": [
    {
     "data": {
      "text/plain": [
       "Murcia       3.271085\n",
       "Cantabria    2.738613\n",
       "Murcia       2.664583\n",
       "Melilla      4.219005\n",
       "Navarra      2.810694\n",
       "Name: Tasa de Natalidad, dtype: float64"
      ]
     },
     "execution_count": 127,
     "metadata": {},
     "output_type": "execute_result"
    }
   ],
   "source": [
    "# Las funciones \"previamente definidas\" en NumPy se pueden utilizar con Pandas sobre una SERIE O UN ARRAY\n",
    "np.sqrt(nat)  # se calcula el cuadrado sobre cada elemento de las series"
   ]
  },
  {
   "cell_type": "code",
   "execution_count": 128,
   "metadata": {},
   "outputs": [
    {
     "data": {
      "text/plain": [
       "Murcia       False\n",
       "Cantabria     True\n",
       "Murcia        True\n",
       "Melilla      False\n",
       "Navarra       True\n",
       "Name: Tasa de Natalidad, dtype: bool"
      ]
     },
     "execution_count": 128,
     "metadata": {},
     "output_type": "execute_result"
    }
   ],
   "source": [
    "# Seleccion de elementos usando arrays de tipo booleano\n",
    "\n",
    "nat < 10  # cuales son menores que y devuelve un booleano"
   ]
  },
  {
   "cell_type": "code",
   "execution_count": 129,
   "metadata": {},
   "outputs": [
    {
     "data": {
      "text/plain": [
       "Cantabria    7.5\n",
       "Murcia       7.1\n",
       "Navarra      7.9\n",
       "Name: Tasa de Natalidad, dtype: float64"
      ]
     },
     "execution_count": 129,
     "metadata": {},
     "output_type": "execute_result"
    }
   ],
   "source": [
    "nat[nat < 10]  # de los datos de nat, indicar aquellos que sean menores que "
   ]
  },
  {
   "cell_type": "markdown",
   "metadata": {},
   "source": [
    "__CARACTERISTICA ESTRELLA DE LAS SERIES__ :\n",
    "- ALINEAMIENTO DE DATOS en base al valor de los __INDICES__ en las __OPERACIONES__ entre 2 series"
   ]
  },
  {
   "cell_type": "code",
   "execution_count": 131,
   "metadata": {},
   "outputs": [
    {
     "data": {
      "text/plain": [
       "Cantabria     2154\n",
       "Canarias      8184\n",
       "Galicia      10032\n",
       "Melilla        780\n",
       "Murcia        8177\n",
       "Name: Nacidos Hombres, dtype: int64"
      ]
     },
     "execution_count": 131,
     "metadata": {},
     "output_type": "execute_result"
    }
   ],
   "source": [
    "# SERIE 1: creacion de serie 1: diferencia HOMBRES Y MUJERES\n",
    "nach = pd.Series([2154, 8184, 10032, 780, 8177],\n",
    "                index = ['Cantabria', 'Canarias', 'Galicia', 'Melilla', 'Murcia'],\n",
    "                name = 'Nacidos Hombres')\n",
    "nach"
   ]
  },
  {
   "cell_type": "code",
   "execution_count": 132,
   "metadata": {},
   "outputs": [
    {
     "data": {
      "text/plain": [
       "Canarias     7962\n",
       "Cantabria    2221\n",
       "Melilla       730\n",
       "Galicia      9395\n",
       "Name: Nacidas Mujeres, dtype: int64"
      ]
     },
     "execution_count": 132,
     "metadata": {},
     "output_type": "execute_result"
    }
   ],
   "source": [
    "# SERIE 2: alusion a las mujeres\n",
    "nacm = pd.Series([7962, 2221, 730, 9395],\n",
    "                index = ['Canarias', 'Cantabria', 'Melilla', 'Galicia'],\n",
    "                name = 'Nacidas Mujeres')\n",
    "nacm"
   ]
  },
  {
   "cell_type": "code",
   "execution_count": 133,
   "metadata": {},
   "outputs": [
    {
     "data": {
      "text/plain": [
       "Canarias     16146.0\n",
       "Cantabria     4375.0\n",
       "Galicia      19427.0\n",
       "Melilla       1510.0\n",
       "Murcia           NaN\n",
       "dtype: float64"
      ]
     },
     "execution_count": 133,
     "metadata": {},
     "output_type": "execute_result"
    }
   ],
   "source": [
    "nach + nacm  # Sumamos 2 series\n",
    "\n",
    "# Murcia devuelve NaN: se usa para representar un campo VACIO o desconocido.\n",
    "# sucede porque nach tiene una etiqueta para el valor murcia pero nacm no tiene dicha etiqueta : suma de ambos Nan\n",
    "\n",
    "# cuando hay NaN es pq uno si tiene una etiqueta con valor y en la otra serie no existe esa etiqueta"
   ]
  },
  {
   "cell_type": "markdown",
   "metadata": {},
   "source": [
    "##### isnull y notnull"
   ]
  },
  {
   "cell_type": "markdown",
   "metadata": {},
   "source": [
    "Estos metodos permiten a las series identificas las etiquetas en el INDICE ASOCIADAS a un valor NaN. \n",
    "- resultado: una nueva serie con valores Booleanos"
   ]
  },
  {
   "cell_type": "code",
   "execution_count": 134,
   "metadata": {},
   "outputs": [
    {
     "data": {
      "text/plain": [
       "Cantabria    False\n",
       "Canarias     False\n",
       "Galicia      False\n",
       "Melilla      False\n",
       "Murcia       False\n",
       "Name: Nacidos Hombres, dtype: bool"
      ]
     },
     "execution_count": 134,
     "metadata": {},
     "output_type": "execute_result"
    }
   ],
   "source": [
    "nach.isnull()  # ver si hay elementos vacios"
   ]
  },
  {
   "cell_type": "code",
   "execution_count": 136,
   "metadata": {},
   "outputs": [
    {
     "data": {
      "text/plain": [
       "Canarias     True\n",
       "Cantabria    True\n",
       "Melilla      True\n",
       "Galicia      True\n",
       "Name: Nacidas Mujeres, dtype: bool"
      ]
     },
     "execution_count": 136,
     "metadata": {},
     "output_type": "execute_result"
    }
   ],
   "source": [
    "nacm.notnull()  # no hay nulos?"
   ]
  },
  {
   "cell_type": "markdown",
   "metadata": {},
   "source": [
    "##### Analisis descriptivo: mean, median, std, min, max, quantile, describe"
   ]
  },
  {
   "cell_type": "markdown",
   "metadata": {},
   "source": [
    "En el __analisis descriptivo__ de los datos representados mediante una __serie__ se puede realizar con los metodos __mean, median, std, min, max y quantile o usando metodo describe__ de la clase SERIE:"
   ]
  },
  {
   "cell_type": "code",
   "execution_count": 138,
   "metadata": {},
   "outputs": [
    {
     "data": {
      "text/plain": [
       "(5865.4, 8177.0, 4114.478679006613)"
      ]
     },
     "execution_count": 138,
     "metadata": {},
     "output_type": "execute_result"
    }
   ],
   "source": [
    "nach.mean(), nach.median(), nach.std()  # devuelve una tupla con la media, mediana y desviacion estandar "
   ]
  },
  {
   "cell_type": "code",
   "execution_count": 139,
   "metadata": {},
   "outputs": [
    {
     "data": {
      "text/plain": [
       "count        5.000000\n",
       "mean      5865.400000\n",
       "std       4114.478679\n",
       "min        780.000000\n",
       "25%       2154.000000\n",
       "50%       8177.000000\n",
       "75%       8184.000000\n",
       "max      10032.000000\n",
       "Name: Nacidos Hombres, dtype: float64"
      ]
     },
     "execution_count": 139,
     "metadata": {},
     "output_type": "execute_result"
    }
   ],
   "source": [
    "nach.describe()  # describe todas las operaciones con los resultados de la serie"
   ]
  },
  {
   "cell_type": "code",
   "execution_count": 140,
   "metadata": {},
   "outputs": [
    {
     "data": {
      "text/plain": [
       "count       4.000000\n",
       "mean     5077.000000\n",
       "std      4243.484967\n",
       "min       730.000000\n",
       "25%      1848.250000\n",
       "50%      5091.500000\n",
       "75%      8320.250000\n",
       "max      9395.000000\n",
       "Name: Nacidas Mujeres, dtype: float64"
      ]
     },
     "execution_count": 140,
     "metadata": {},
     "output_type": "execute_result"
    }
   ],
   "source": [
    "nacm.describe()"
   ]
  },
  {
   "cell_type": "code",
   "execution_count": 141,
   "metadata": {},
   "outputs": [
    {
     "data": {
      "image/png": "[encoded data removed]",
      "text/plain": [
       "<Figure size 648x216 with 1 Axes>"
      ]
     },
     "metadata": {
      "needs_background": "light"
     },
     "output_type": "display_data"
    }
   ],
   "source": [
    "# creacion de graficos mas comunes en estadistica descriptiva: DIAGRAMA DE BARRAS\n",
    "figura, ax1 = plt.subplots(1, figsize = (9,3))\n",
    "nach.plot(ax=ax1, kind = 'bar', title = 'Diagrama de barras - Hombres');    "
   ]
  },
  {
   "cell_type": "markdown",
   "metadata": {},
   "source": [
    "##### unique y value_counts: gestion de valores duplicados para SERIES\n",
    "- unique devuelve un ARRAY con valores de la serie SIN DUPLICAR"
   ]
  },
  {
   "cell_type": "code",
   "execution_count": 145,
   "metadata": {},
   "outputs": [
    {
     "data": {
      "text/plain": [
       "Cádiz          Sur\n",
       "Cantabria    Norte\n",
       "Melilla        Sur\n",
       "Galicia      Norte\n",
       "Valencia      Este\n",
       "Name: Ciudades Españolas, dtype: object"
      ]
     },
     "execution_count": 145,
     "metadata": {},
     "output_type": "execute_result"
    }
   ],
   "source": [
    "pos = pd.Series(['Sur', 'Norte', 'Sur', 'Norte', 'Este'],\n",
    "               index = ['Cádiz', 'Cantabria', 'Melilla', 'Galicia', 'Valencia'], \n",
    "               name = 'Ciudades Españolas')\n",
    "pos"
   ]
  },
  {
   "cell_type": "code",
   "execution_count": 147,
   "metadata": {},
   "outputs": [
    {
     "data": {
      "text/plain": [
       "array(['Sur', 'Norte', 'Este'], dtype=object)"
      ]
     },
     "execution_count": 147,
     "metadata": {},
     "output_type": "execute_result"
    }
   ],
   "source": [
    "pos.unique()  # vemos cuales son los valores unicos (si hay duplicados salen menos) y devuelve un array"
   ]
  },
  {
   "cell_type": "code",
   "execution_count": 148,
   "metadata": {},
   "outputs": [
    {
     "data": {
      "text/plain": [
       "Sur      2\n",
       "Norte    2\n",
       "Este     1\n",
       "Name: Ciudades Españolas, dtype: int64"
      ]
     },
     "execution_count": 148,
     "metadata": {},
     "output_type": "execute_result"
    }
   ],
   "source": [
    "pos.value_counts()  # devuelve la FRECUENCIA de cada uno de los valores de la SERIE"
   ]
  },
  {
   "cell_type": "markdown",
   "metadata": {},
   "source": [
    "### La clase DATAFRAME"
   ]
  },
  {
   "cell_type": "markdown",
   "metadata": {},
   "source": [
    "Esta diseñada para __manejar datos representados en forma de TABLA__ donde las FILAS y las COLUMNAS estan indexadas.\n",
    "- Objetos de tipo DF: son una __coleccion ordenada de columnas__ cada una ed las cuelaes viene representada por un objeto de tipo __SERIE__ con su nombre y su indice.\n",
    "\n",
    "Hay varias formas de __CREAR OBJETOS__ dataframe dependiendo de la __PROCEDENCIA__ de los datos:\n",
    "1. Usar la funcion __pd.DataFrame__ si datos estan representados MEDIANTE una __LISTA o un DICCIONARIO (de listas o arrays)__, una __SERIE__ o incluso otro __DF__. \n",
    "2. Si los fatos se encuentran en un __FICHERO__, pandas proporciona: \n",
    "    - pd.read_csv, pd.read_excel o pd.read_table : PARA CREAR UN __DF__"
   ]
  },
  {
   "cell_type": "code",
   "execution_count": 151,
   "metadata": {},
   "outputs": [
    {
     "data": {
      "text/html": [
       "<div>\n",
       "<style scoped>\n",
       "    .dataframe tbody tr th:only-of-type {\n",
       "        vertical-align: middle;\n",
       "    }\n",
       "\n",
       "    .dataframe tbody tr th {\n",
       "        vertical-align: top;\n",
       "    }\n",
       "\n",
       "    .dataframe thead th {\n",
       "        text-align: right;\n",
       "    }\n",
       "</style>\n",
       "<table border=\"1\" class=\"dataframe\">\n",
       "  <thead>\n",
       "    <tr style=\"text-align: right;\">\n",
       "      <th></th>\n",
       "      <th>Ciudades</th>\n",
       "      <th>Nacidos H</th>\n",
       "    </tr>\n",
       "  </thead>\n",
       "  <tbody>\n",
       "    <tr>\n",
       "      <th>0</th>\n",
       "      <td>Melilla</td>\n",
       "      <td>780</td>\n",
       "    </tr>\n",
       "    <tr>\n",
       "      <th>1</th>\n",
       "      <td>Canarias</td>\n",
       "      <td>8184</td>\n",
       "    </tr>\n",
       "    <tr>\n",
       "      <th>2</th>\n",
       "      <td>Galicia</td>\n",
       "      <td>10032</td>\n",
       "    </tr>\n",
       "    <tr>\n",
       "      <th>3</th>\n",
       "      <td>Cantabria</td>\n",
       "      <td>2154</td>\n",
       "    </tr>\n",
       "    <tr>\n",
       "      <th>4</th>\n",
       "      <td>Murcia</td>\n",
       "      <td>8177</td>\n",
       "    </tr>\n",
       "  </tbody>\n",
       "</table>\n",
       "</div>"
      ],
      "text/plain": [
       "    Ciudades  Nacidos H\n",
       "0    Melilla        780\n",
       "1   Canarias       8184\n",
       "2    Galicia      10032\n",
       "3  Cantabria       2154\n",
       "4     Murcia       8177"
      ]
     },
     "execution_count": 151,
     "metadata": {},
     "output_type": "execute_result"
    }
   ],
   "source": [
    "# Creacion de un DF a partir de un DICCIONARIO\n",
    "\n",
    "d = {'Ciudades': ['Melilla', 'Canarias', 'Galicia', 'Cantabria', 'Murcia'],\n",
    "    'Nacidos H': [780,8184, 10032, 2154, 8177]}  # diccionario de datos\n",
    "\n",
    "# claves forman los INDICES DE LAS COLUMNAS\n",
    "# valores: lista u objeto tipo ndarray de igual longitud\n",
    "\n",
    "tabla = pd.DataFrame(data= d)\n",
    "tabla"
   ]
  },
  {
   "cell_type": "code",
   "execution_count": 153,
   "metadata": {},
   "outputs": [
    {
     "data": {
      "text/plain": [
       "RangeIndex(start=0, stop=5, step=1)"
      ]
     },
     "execution_count": 153,
     "metadata": {},
     "output_type": "execute_result"
    }
   ],
   "source": [
    "tabla.index  # atributos que representan los valores del indice"
   ]
  },
  {
   "cell_type": "code",
   "execution_count": 154,
   "metadata": {},
   "outputs": [
    {
     "data": {
      "text/plain": [
       "array([['Melilla', 780],\n",
       "       ['Canarias', 8184],\n",
       "       ['Galicia', 10032],\n",
       "       ['Cantabria', 2154],\n",
       "       ['Murcia', 8177]], dtype=object)"
      ]
     },
     "execution_count": 154,
     "metadata": {},
     "output_type": "execute_result"
    }
   ],
   "source": [
    "tabla.values  # atributos que representan los valores del DF"
   ]
  },
  {
   "cell_type": "markdown",
   "metadata": {},
   "source": [
    "> Los DataFrames tienen 2 indices (a diferencia de las Series que tienen 1)\n",
    "- El primero es un indice comun asociado a todas las columnas y a cada una de las filas\n",
    "- El segundo contiene un array de etiquetas o nombres de columnas "
   ]
  },
  {
   "cell_type": "code",
   "execution_count": 155,
   "metadata": {},
   "outputs": [
    {
     "data": {
      "text/plain": [
       "Index(['Ciudades', 'Nacidos H'], dtype='object')"
      ]
     },
     "execution_count": 155,
     "metadata": {},
     "output_type": "execute_result"
    }
   ],
   "source": [
    "tabla.columns  # representa el indice de las columnas"
   ]
  },
  {
   "cell_type": "code",
   "execution_count": 197,
   "metadata": {},
   "outputs": [
    {
     "data": {
      "text/html": [
       "<div>\n",
       "<style scoped>\n",
       "    .dataframe tbody tr th:only-of-type {\n",
       "        vertical-align: middle;\n",
       "    }\n",
       "\n",
       "    .dataframe tbody tr th {\n",
       "        vertical-align: top;\n",
       "    }\n",
       "\n",
       "    .dataframe thead th {\n",
       "        text-align: right;\n",
       "    }\n",
       "</style>\n",
       "<table border=\"1\" class=\"dataframe\">\n",
       "  <thead>\n",
       "    <tr style=\"text-align: right;\">\n",
       "      <th></th>\n",
       "      <th>Desc</th>\n",
       "      <th>2004</th>\n",
       "      <th>2005</th>\n",
       "      <th>2006</th>\n",
       "      <th>Tipo</th>\n",
       "    </tr>\n",
       "  </thead>\n",
       "  <tbody>\n",
       "    <tr>\n",
       "      <th>EE</th>\n",
       "      <td>Estonia</td>\n",
       "      <td>8.40</td>\n",
       "      <td>7.70</td>\n",
       "      <td>6.70</td>\n",
       "      <td>A</td>\n",
       "    </tr>\n",
       "    <tr>\n",
       "      <th>IE</th>\n",
       "      <td>Ireland</td>\n",
       "      <td>193.50</td>\n",
       "      <td>227.76</td>\n",
       "      <td>221.05</td>\n",
       "      <td>B</td>\n",
       "    </tr>\n",
       "    <tr>\n",
       "      <th>EL</th>\n",
       "      <td>Greece</td>\n",
       "      <td>1.40</td>\n",
       "      <td>1.60</td>\n",
       "      <td>1.50</td>\n",
       "      <td>A</td>\n",
       "    </tr>\n",
       "    <tr>\n",
       "      <th>ES</th>\n",
       "      <td>Spain</td>\n",
       "      <td>50.52</td>\n",
       "      <td>58.90</td>\n",
       "      <td>46.72</td>\n",
       "      <td>C</td>\n",
       "    </tr>\n",
       "    <tr>\n",
       "      <th>FR</th>\n",
       "      <td>France</td>\n",
       "      <td>415.09</td>\n",
       "      <td>423.10</td>\n",
       "      <td>400.52</td>\n",
       "      <td>A</td>\n",
       "    </tr>\n",
       "  </tbody>\n",
       "</table>\n",
       "</div>"
      ],
      "text/plain": [
       "       Desc    2004    2005    2006 Tipo\n",
       "EE  Estonia    8.40    7.70    6.70    A\n",
       "IE  Ireland  193.50  227.76  221.05    B\n",
       "EL   Greece    1.40    1.60    1.50    A\n",
       "ES    Spain   50.52   58.90   46.72    C\n",
       "FR   France  415.09  423.10  400.52    A"
      ]
     },
     "execution_count": 197,
     "metadata": {},
     "output_type": "execute_result"
    }
   ],
   "source": [
    "# Mas argumentos para crear un DF, se puede hacer directamente \n",
    "    # Produccion de mantequilla en miles de toneladas\n",
    "tabla3 = pd.DataFrame( data = [ ('Estonia', 8.4, 7.7, 6.7, 'A'), \n",
    "                                ('Ireland',193.5, 227.76, 221.05, 'B'),\n",
    "                                ('Greece',1.4,1.6,1.5, 'A'),\n",
    "                                ('Spain',50.52,58.9,46.72, 'C'),\n",
    "                                ('France',415.09,423.1,400.52, 'A') ],\n",
    "                       columns =  ['Desc', '2004', '2005', '2006', 'Tipo'], \n",
    "                       index = [ 'EE', 'IE', 'EL', 'ES', 'FR'])\n",
    "tabla3"
   ]
  },
  {
   "cell_type": "markdown",
   "metadata": {},
   "source": [
    "##### info\n",
    "- Muestra info acerca del objeto DF (num de cols, num de filas, memoria usada..) e info relativa a cada una de las cols (nombre, tipo y numero de valores distintos de NaN)"
   ]
  },
  {
   "cell_type": "code",
   "execution_count": 198,
   "metadata": {},
   "outputs": [
    {
     "name": "stdout",
     "output_type": "stream",
     "text": [
      "<class 'pandas.core.frame.DataFrame'>\n",
      "Index: 5 entries, EE to FR\n",
      "Data columns (total 5 columns):\n",
      "Desc    5 non-null object\n",
      "2004    5 non-null float64\n",
      "2005    5 non-null float64\n",
      "2006    5 non-null float64\n",
      "Tipo    5 non-null object\n",
      "dtypes: float64(3), object(2)\n",
      "memory usage: 240.0+ bytes\n"
     ]
    }
   ],
   "source": [
    "tabla3.info()"
   ]
  },
  {
   "cell_type": "code",
   "execution_count": 199,
   "metadata": {},
   "outputs": [
    {
     "data": {
      "text/html": [
       "<div>\n",
       "<style scoped>\n",
       "    .dataframe tbody tr th:only-of-type {\n",
       "        vertical-align: middle;\n",
       "    }\n",
       "\n",
       "    .dataframe tbody tr th {\n",
       "        vertical-align: top;\n",
       "    }\n",
       "\n",
       "    .dataframe thead th {\n",
       "        text-align: right;\n",
       "    }\n",
       "</style>\n",
       "<table border=\"1\" class=\"dataframe\">\n",
       "  <thead>\n",
       "    <tr style=\"text-align: right;\">\n",
       "      <th></th>\n",
       "      <th>Desc</th>\n",
       "      <th>2004</th>\n",
       "      <th>2005</th>\n",
       "      <th>2006</th>\n",
       "      <th>Tipo</th>\n",
       "    </tr>\n",
       "  </thead>\n",
       "  <tbody>\n",
       "    <tr>\n",
       "      <th>count</th>\n",
       "      <td>5</td>\n",
       "      <td>5.000000</td>\n",
       "      <td>5.000000</td>\n",
       "      <td>5.000000</td>\n",
       "      <td>5</td>\n",
       "    </tr>\n",
       "    <tr>\n",
       "      <th>unique</th>\n",
       "      <td>5</td>\n",
       "      <td>NaN</td>\n",
       "      <td>NaN</td>\n",
       "      <td>NaN</td>\n",
       "      <td>3</td>\n",
       "    </tr>\n",
       "    <tr>\n",
       "      <th>top</th>\n",
       "      <td>Greece</td>\n",
       "      <td>NaN</td>\n",
       "      <td>NaN</td>\n",
       "      <td>NaN</td>\n",
       "      <td>A</td>\n",
       "    </tr>\n",
       "    <tr>\n",
       "      <th>freq</th>\n",
       "      <td>1</td>\n",
       "      <td>NaN</td>\n",
       "      <td>NaN</td>\n",
       "      <td>NaN</td>\n",
       "      <td>3</td>\n",
       "    </tr>\n",
       "    <tr>\n",
       "      <th>mean</th>\n",
       "      <td>NaN</td>\n",
       "      <td>133.782000</td>\n",
       "      <td>143.812000</td>\n",
       "      <td>135.298000</td>\n",
       "      <td>NaN</td>\n",
       "    </tr>\n",
       "    <tr>\n",
       "      <th>std</th>\n",
       "      <td>NaN</td>\n",
       "      <td>175.270242</td>\n",
       "      <td>180.976401</td>\n",
       "      <td>173.191749</td>\n",
       "      <td>NaN</td>\n",
       "    </tr>\n",
       "    <tr>\n",
       "      <th>min</th>\n",
       "      <td>NaN</td>\n",
       "      <td>1.400000</td>\n",
       "      <td>1.600000</td>\n",
       "      <td>1.500000</td>\n",
       "      <td>NaN</td>\n",
       "    </tr>\n",
       "    <tr>\n",
       "      <th>25%</th>\n",
       "      <td>NaN</td>\n",
       "      <td>8.400000</td>\n",
       "      <td>7.700000</td>\n",
       "      <td>6.700000</td>\n",
       "      <td>NaN</td>\n",
       "    </tr>\n",
       "    <tr>\n",
       "      <th>50%</th>\n",
       "      <td>NaN</td>\n",
       "      <td>50.520000</td>\n",
       "      <td>58.900000</td>\n",
       "      <td>46.720000</td>\n",
       "      <td>NaN</td>\n",
       "    </tr>\n",
       "    <tr>\n",
       "      <th>75%</th>\n",
       "      <td>NaN</td>\n",
       "      <td>193.500000</td>\n",
       "      <td>227.760000</td>\n",
       "      <td>221.050000</td>\n",
       "      <td>NaN</td>\n",
       "    </tr>\n",
       "    <tr>\n",
       "      <th>max</th>\n",
       "      <td>NaN</td>\n",
       "      <td>415.090000</td>\n",
       "      <td>423.100000</td>\n",
       "      <td>400.520000</td>\n",
       "      <td>NaN</td>\n",
       "    </tr>\n",
       "  </tbody>\n",
       "</table>\n",
       "</div>"
      ],
      "text/plain": [
       "          Desc        2004        2005        2006 Tipo\n",
       "count        5    5.000000    5.000000    5.000000    5\n",
       "unique       5         NaN         NaN         NaN    3\n",
       "top     Greece         NaN         NaN         NaN    A\n",
       "freq         1         NaN         NaN         NaN    3\n",
       "mean       NaN  133.782000  143.812000  135.298000  NaN\n",
       "std        NaN  175.270242  180.976401  173.191749  NaN\n",
       "min        NaN    1.400000    1.600000    1.500000  NaN\n",
       "25%        NaN    8.400000    7.700000    6.700000  NaN\n",
       "50%        NaN   50.520000   58.900000   46.720000  NaN\n",
       "75%        NaN  193.500000  227.760000  221.050000  NaN\n",
       "max        NaN  415.090000  423.100000  400.520000  NaN"
      ]
     },
     "execution_count": 199,
     "metadata": {},
     "output_type": "execute_result"
    }
   ],
   "source": [
    "# Metodo describe disponible DF mostrando primeros estadisticos y permite hacer analisis en cada una de las cols num\n",
    "tabla3.describe(include='all')  # devuelve todos los estadisticos.\n",
    "\n",
    "# media, mediana, std dv, quantiles, min y max, frequencia, datos unicos..."
   ]
  },
  {
   "cell_type": "code",
   "execution_count": 200,
   "metadata": {},
   "outputs": [
    {
     "data": {
      "image/png": "[encoded data removed]",
      "text/plain": [
       "<Figure size 648x216 with 1 Axes>"
      ]
     },
     "metadata": {
      "needs_background": "light"
     },
     "output_type": "display_data"
    }
   ],
   "source": [
    "figura, ax1 = plt.subplots(1, figsize = (9,3))\n",
    "\n",
    "tabla3.plot(ax=ax1, kind = 'bar', title = 'Producción de mantequilla')\n",
    "\n",
    "ax1.set_xlabel('Países de la UE')\n",
    "ax1.set_ylabel('Producción (x 1000 Toneladas)')\n",
    "\n",
    "ax1.set_xticklabels(tabla3.Desc);"
   ]
  },
  {
   "cell_type": "code",
   "execution_count": 201,
   "metadata": {},
   "outputs": [
    {
     "data": {
      "text/plain": [
       "Desc    Estonia\n",
       "2004        1.4\n",
       "2005        1.6\n",
       "2006        1.5\n",
       "Tipo          A\n",
       "dtype: object"
      ]
     },
     "execution_count": 201,
     "metadata": {},
     "output_type": "execute_result"
    }
   ],
   "source": [
    "tabla3.min()  # sacamos valores unicos que necesitamos, el minimo que devuelve una SERIE"
   ]
  },
  {
   "cell_type": "code",
   "execution_count": 202,
   "metadata": {},
   "outputs": [
    {
     "data": {
      "text/plain": [
       "2004    175.270242\n",
       "2005    180.976401\n",
       "2006    173.191749\n",
       "dtype: float64"
      ]
     },
     "execution_count": 202,
     "metadata": {},
     "output_type": "execute_result"
    }
   ],
   "source": [
    "tabla3.std()  # desviacion estandar del df"
   ]
  },
  {
   "cell_type": "markdown",
   "metadata": {},
   "source": [
    "Todas las operaciones estadisticas: admiten __axis__ para operar bien sobre los datos de las columnas o bien sobre los datos de las filas."
   ]
  },
  {
   "cell_type": "code",
   "execution_count": 203,
   "metadata": {},
   "outputs": [
    {
     "data": {
      "text/plain": [
       "EE      22.80\n",
       "IE     642.31\n",
       "EL       4.50\n",
       "ES     156.14\n",
       "FR    1238.71\n",
       "dtype: float64"
      ]
     },
     "execution_count": 203,
     "metadata": {},
     "output_type": "execute_result"
    }
   ],
   "source": [
    "tabla3.sum(axis=1)  # suma de todas las filas"
   ]
  },
  {
   "cell_type": "markdown",
   "metadata": {},
   "source": [
    "Una operacion muy interesante cuando tratamos con __datos represnetados mediante DF__, es la de trasponer, CAMBIAR FILAS POR COLUMNAS O COLUMNAS POR FILAS. Para trasponer un DF es necesario utilizar el atributo T"
   ]
  },
  {
   "cell_type": "code",
   "execution_count": 204,
   "metadata": {},
   "outputs": [
    {
     "data": {
      "text/html": [
       "<div>\n",
       "<style scoped>\n",
       "    .dataframe tbody tr th:only-of-type {\n",
       "        vertical-align: middle;\n",
       "    }\n",
       "\n",
       "    .dataframe tbody tr th {\n",
       "        vertical-align: top;\n",
       "    }\n",
       "\n",
       "    .dataframe thead th {\n",
       "        text-align: right;\n",
       "    }\n",
       "</style>\n",
       "<table border=\"1\" class=\"dataframe\">\n",
       "  <thead>\n",
       "    <tr style=\"text-align: right;\">\n",
       "      <th></th>\n",
       "      <th>EE</th>\n",
       "      <th>IE</th>\n",
       "      <th>EL</th>\n",
       "      <th>ES</th>\n",
       "      <th>FR</th>\n",
       "    </tr>\n",
       "  </thead>\n",
       "  <tbody>\n",
       "    <tr>\n",
       "      <th>Desc</th>\n",
       "      <td>Estonia</td>\n",
       "      <td>Ireland</td>\n",
       "      <td>Greece</td>\n",
       "      <td>Spain</td>\n",
       "      <td>France</td>\n",
       "    </tr>\n",
       "    <tr>\n",
       "      <th>2004</th>\n",
       "      <td>8.4</td>\n",
       "      <td>193.5</td>\n",
       "      <td>1.4</td>\n",
       "      <td>50.52</td>\n",
       "      <td>415.09</td>\n",
       "    </tr>\n",
       "    <tr>\n",
       "      <th>2005</th>\n",
       "      <td>7.7</td>\n",
       "      <td>227.76</td>\n",
       "      <td>1.6</td>\n",
       "      <td>58.9</td>\n",
       "      <td>423.1</td>\n",
       "    </tr>\n",
       "    <tr>\n",
       "      <th>2006</th>\n",
       "      <td>6.7</td>\n",
       "      <td>221.05</td>\n",
       "      <td>1.5</td>\n",
       "      <td>46.72</td>\n",
       "      <td>400.52</td>\n",
       "    </tr>\n",
       "    <tr>\n",
       "      <th>Tipo</th>\n",
       "      <td>A</td>\n",
       "      <td>B</td>\n",
       "      <td>A</td>\n",
       "      <td>C</td>\n",
       "      <td>A</td>\n",
       "    </tr>\n",
       "  </tbody>\n",
       "</table>\n",
       "</div>"
      ],
      "text/plain": [
       "           EE       IE      EL     ES      FR\n",
       "Desc  Estonia  Ireland  Greece  Spain  France\n",
       "2004      8.4    193.5     1.4  50.52  415.09\n",
       "2005      7.7   227.76     1.6   58.9   423.1\n",
       "2006      6.7   221.05     1.5  46.72  400.52\n",
       "Tipo        A        B       A      C       A"
      ]
     },
     "execution_count": 204,
     "metadata": {},
     "output_type": "execute_result"
    }
   ],
   "source": [
    "tabla3.T  # trasponer un DF o cambiar los indices"
   ]
  },
  {
   "cell_type": "markdown",
   "metadata": {},
   "source": [
    "## OPERACIONES CON SERIES Y DATAFRAMES"
   ]
  },
  {
   "cell_type": "markdown",
   "metadata": {},
   "source": [
    "- una de las caracteristicas mas importantes de los indices de estructuras de datos en __PANDAS__ es el alineamiento. Es capaz de __alinear 2 estructuras (series o DATAFRAMES)__ en base a las etiquetas de sus indices. Es especialemnte interesanete cuando se realizan operaciones aritmenticas, ya que pueden involucrar estructuras con etiquetas comunes en sus indices, indices no ordenador, e incluso tener etietas en solo uno de sus indices. \n",
    "- mostraremos ejempplos de operaciones"
   ]
  },
  {
   "cell_type": "code",
   "execution_count": 205,
   "metadata": {},
   "outputs": [],
   "source": [
    "import numpy as np \n",
    "import pandas as pd"
   ]
  },
  {
   "cell_type": "code",
   "execution_count": 206,
   "metadata": {},
   "outputs": [
    {
     "data": {
      "text/html": [
       "<div>\n",
       "<style scoped>\n",
       "    .dataframe tbody tr th:only-of-type {\n",
       "        vertical-align: middle;\n",
       "    }\n",
       "\n",
       "    .dataframe tbody tr th {\n",
       "        vertical-align: top;\n",
       "    }\n",
       "\n",
       "    .dataframe thead th {\n",
       "        text-align: right;\n",
       "    }\n",
       "</style>\n",
       "<table border=\"1\" class=\"dataframe\">\n",
       "  <thead>\n",
       "    <tr style=\"text-align: right;\">\n",
       "      <th></th>\n",
       "      <th>Gastos</th>\n",
       "      <th>Ingresos</th>\n",
       "    </tr>\n",
       "  </thead>\n",
       "  <tbody>\n",
       "    <tr>\n",
       "      <th>2006</th>\n",
       "      <td>1000</td>\n",
       "      <td>3000</td>\n",
       "    </tr>\n",
       "    <tr>\n",
       "      <th>2002</th>\n",
       "      <td>5000</td>\n",
       "      <td>1000</td>\n",
       "    </tr>\n",
       "    <tr>\n",
       "      <th>2005</th>\n",
       "      <td>4200</td>\n",
       "      <td>6000</td>\n",
       "    </tr>\n",
       "    <tr>\n",
       "      <th>2007</th>\n",
       "      <td>5000</td>\n",
       "      <td>5500</td>\n",
       "    </tr>\n",
       "  </tbody>\n",
       "</table>\n",
       "</div>"
      ],
      "text/plain": [
       "      Gastos  Ingresos\n",
       "2006    1000      3000\n",
       "2002    5000      1000\n",
       "2005    4200      6000\n",
       "2007    5000      5500"
      ]
     },
     "execution_count": 206,
     "metadata": {},
     "output_type": "execute_result"
    }
   ],
   "source": [
    "# Creamos 2 dataframes con distintas etiquetas para sus indices\n",
    "\n",
    "datos_1 = np.array([[1000,3000],\n",
    "                   [5000, 1000],\n",
    "                   [4200, 6000],\n",
    "                   [5000, 5500]])\n",
    "\n",
    "tabla_1 = pd.DataFrame(datos_1, columns = ('Gastos', 'Ingresos'),\n",
    "                      index = [2006, 2002, 2005, 2007])\n",
    "tabla_1"
   ]
  },
  {
   "cell_type": "code",
   "execution_count": 207,
   "metadata": {},
   "outputs": [
    {
     "data": {
      "text/html": [
       "<div>\n",
       "<style scoped>\n",
       "    .dataframe tbody tr th:only-of-type {\n",
       "        vertical-align: middle;\n",
       "    }\n",
       "\n",
       "    .dataframe tbody tr th {\n",
       "        vertical-align: top;\n",
       "    }\n",
       "\n",
       "    .dataframe thead th {\n",
       "        text-align: right;\n",
       "    }\n",
       "</style>\n",
       "<table border=\"1\" class=\"dataframe\">\n",
       "  <thead>\n",
       "    <tr style=\"text-align: right;\">\n",
       "      <th></th>\n",
       "      <th>Gastos</th>\n",
       "      <th>Ingresos</th>\n",
       "    </tr>\n",
       "  </thead>\n",
       "  <tbody>\n",
       "    <tr>\n",
       "      <th>2002</th>\n",
       "      <td>1000</td>\n",
       "      <td>5000</td>\n",
       "    </tr>\n",
       "    <tr>\n",
       "      <th>2006</th>\n",
       "      <td>5000</td>\n",
       "      <td>5000</td>\n",
       "    </tr>\n",
       "    <tr>\n",
       "      <th>2007</th>\n",
       "      <td>2500</td>\n",
       "      <td>3000</td>\n",
       "    </tr>\n",
       "    <tr>\n",
       "      <th>2008</th>\n",
       "      <td>2500</td>\n",
       "      <td>1500</td>\n",
       "    </tr>\n",
       "  </tbody>\n",
       "</table>\n",
       "</div>"
      ],
      "text/plain": [
       "      Gastos  Ingresos\n",
       "2002    1000      5000\n",
       "2006    5000      5000\n",
       "2007    2500      3000\n",
       "2008    2500      1500"
      ]
     },
     "execution_count": 207,
     "metadata": {},
     "output_type": "execute_result"
    }
   ],
   "source": [
    "# DataFrame 2\n",
    "\n",
    "datos_2 = np.array([[1000, 5000],\n",
    "                   [5000, 5000],\n",
    "                   [2500, 3000],\n",
    "                   [2500, 1500]])\n",
    "tabla_2 = pd.DataFrame(datos_2, columns = ('Gastos', 'Ingresos'),\n",
    "                      index = [2002, 2006, 2007, 2008])\n",
    "tabla_2"
   ]
  },
  {
   "cell_type": "markdown",
   "metadata": {},
   "source": [
    "### Ordenacion de indices y valores"
   ]
  },
  {
   "cell_type": "markdown",
   "metadata": {},
   "source": [
    "Ordenar los datos por __algun criterio__ es muy habitual cuando se trata de analizar los datos. El metodo __sort_index__ de la clase __DataFrame__ ordena lexicograficamente los indices de un df en base a cualquiera de sus indices. "
   ]
  },
  {
   "cell_type": "code",
   "execution_count": 208,
   "metadata": {},
   "outputs": [
    {
     "data": {
      "text/html": [
       "<div>\n",
       "<style scoped>\n",
       "    .dataframe tbody tr th:only-of-type {\n",
       "        vertical-align: middle;\n",
       "    }\n",
       "\n",
       "    .dataframe tbody tr th {\n",
       "        vertical-align: top;\n",
       "    }\n",
       "\n",
       "    .dataframe thead th {\n",
       "        text-align: right;\n",
       "    }\n",
       "</style>\n",
       "<table border=\"1\" class=\"dataframe\">\n",
       "  <thead>\n",
       "    <tr style=\"text-align: right;\">\n",
       "      <th></th>\n",
       "      <th>Gastos</th>\n",
       "      <th>Ingresos</th>\n",
       "    </tr>\n",
       "  </thead>\n",
       "  <tbody>\n",
       "    <tr>\n",
       "      <th>2006</th>\n",
       "      <td>1000</td>\n",
       "      <td>3000</td>\n",
       "    </tr>\n",
       "    <tr>\n",
       "      <th>2002</th>\n",
       "      <td>5000</td>\n",
       "      <td>1000</td>\n",
       "    </tr>\n",
       "    <tr>\n",
       "      <th>2005</th>\n",
       "      <td>4200</td>\n",
       "      <td>6000</td>\n",
       "    </tr>\n",
       "    <tr>\n",
       "      <th>2007</th>\n",
       "      <td>5000</td>\n",
       "      <td>5500</td>\n",
       "    </tr>\n",
       "  </tbody>\n",
       "</table>\n",
       "</div>"
      ],
      "text/plain": [
       "      Gastos  Ingresos\n",
       "2006    1000      3000\n",
       "2002    5000      1000\n",
       "2005    4200      6000\n",
       "2007    5000      5500"
      ]
     },
     "execution_count": 208,
     "metadata": {},
     "output_type": "execute_result"
    }
   ],
   "source": [
    "tabla_1"
   ]
  },
  {
   "cell_type": "code",
   "execution_count": 209,
   "metadata": {},
   "outputs": [
    {
     "data": {
      "text/html": [
       "<div>\n",
       "<style scoped>\n",
       "    .dataframe tbody tr th:only-of-type {\n",
       "        vertical-align: middle;\n",
       "    }\n",
       "\n",
       "    .dataframe tbody tr th {\n",
       "        vertical-align: top;\n",
       "    }\n",
       "\n",
       "    .dataframe thead th {\n",
       "        text-align: right;\n",
       "    }\n",
       "</style>\n",
       "<table border=\"1\" class=\"dataframe\">\n",
       "  <thead>\n",
       "    <tr style=\"text-align: right;\">\n",
       "      <th></th>\n",
       "      <th>Gastos</th>\n",
       "      <th>Ingresos</th>\n",
       "    </tr>\n",
       "  </thead>\n",
       "  <tbody>\n",
       "    <tr>\n",
       "      <th>2002</th>\n",
       "      <td>5000</td>\n",
       "      <td>1000</td>\n",
       "    </tr>\n",
       "    <tr>\n",
       "      <th>2005</th>\n",
       "      <td>4200</td>\n",
       "      <td>6000</td>\n",
       "    </tr>\n",
       "    <tr>\n",
       "      <th>2006</th>\n",
       "      <td>1000</td>\n",
       "      <td>3000</td>\n",
       "    </tr>\n",
       "    <tr>\n",
       "      <th>2007</th>\n",
       "      <td>5000</td>\n",
       "      <td>5500</td>\n",
       "    </tr>\n",
       "  </tbody>\n",
       "</table>\n",
       "</div>"
      ],
      "text/plain": [
       "      Gastos  Ingresos\n",
       "2002    5000      1000\n",
       "2005    4200      6000\n",
       "2006    1000      3000\n",
       "2007    5000      5500"
      ]
     },
     "execution_count": 209,
     "metadata": {},
     "output_type": "execute_result"
    }
   ],
   "source": [
    "tabla_1.sort_index()  # ordena el indice de menor a mayor"
   ]
  },
  {
   "cell_type": "code",
   "execution_count": 210,
   "metadata": {},
   "outputs": [
    {
     "data": {
      "text/html": [
       "<div>\n",
       "<style scoped>\n",
       "    .dataframe tbody tr th:only-of-type {\n",
       "        vertical-align: middle;\n",
       "    }\n",
       "\n",
       "    .dataframe tbody tr th {\n",
       "        vertical-align: top;\n",
       "    }\n",
       "\n",
       "    .dataframe thead th {\n",
       "        text-align: right;\n",
       "    }\n",
       "</style>\n",
       "<table border=\"1\" class=\"dataframe\">\n",
       "  <thead>\n",
       "    <tr style=\"text-align: right;\">\n",
       "      <th></th>\n",
       "      <th>Gastos</th>\n",
       "      <th>Ingresos</th>\n",
       "    </tr>\n",
       "  </thead>\n",
       "  <tbody>\n",
       "    <tr>\n",
       "      <th>2007</th>\n",
       "      <td>5000</td>\n",
       "      <td>5500</td>\n",
       "    </tr>\n",
       "    <tr>\n",
       "      <th>2006</th>\n",
       "      <td>1000</td>\n",
       "      <td>3000</td>\n",
       "    </tr>\n",
       "    <tr>\n",
       "      <th>2005</th>\n",
       "      <td>4200</td>\n",
       "      <td>6000</td>\n",
       "    </tr>\n",
       "    <tr>\n",
       "      <th>2002</th>\n",
       "      <td>5000</td>\n",
       "      <td>1000</td>\n",
       "    </tr>\n",
       "  </tbody>\n",
       "</table>\n",
       "</div>"
      ],
      "text/plain": [
       "      Gastos  Ingresos\n",
       "2007    5000      5500\n",
       "2006    1000      3000\n",
       "2005    4200      6000\n",
       "2002    5000      1000"
      ]
     },
     "execution_count": 210,
     "metadata": {},
     "output_type": "execute_result"
    }
   ],
   "source": [
    "tabla_1.sort_index(ascending=False)  # ordena el indice de mayor a menor"
   ]
  },
  {
   "cell_type": "code",
   "execution_count": 211,
   "metadata": {},
   "outputs": [
    {
     "ename": "SyntaxError",
     "evalue": "invalid syntax (<ipython-input-211-d71217034ffb>, line 1)",
     "output_type": "error",
     "traceback": [
      "\u001b[0;36m  File \u001b[0;32m\"<ipython-input-211-d71217034ffb>\"\u001b[0;36m, line \u001b[0;32m1\u001b[0m\n\u001b[0;31m    tabla_1.sort_index?  # para saber que hace el comando\u001b[0m\n\u001b[0m                      ^\u001b[0m\n\u001b[0;31mSyntaxError\u001b[0m\u001b[0;31m:\u001b[0m invalid syntax\n"
     ]
    }
   ],
   "source": [
    "tabla_1.sort_index?  # para saber que hace el comando"
   ]
  },
  {
   "cell_type": "code",
   "execution_count": 212,
   "metadata": {},
   "outputs": [
    {
     "data": {
      "text/html": [
       "<div>\n",
       "<style scoped>\n",
       "    .dataframe tbody tr th:only-of-type {\n",
       "        vertical-align: middle;\n",
       "    }\n",
       "\n",
       "    .dataframe tbody tr th {\n",
       "        vertical-align: top;\n",
       "    }\n",
       "\n",
       "    .dataframe thead th {\n",
       "        text-align: right;\n",
       "    }\n",
       "</style>\n",
       "<table border=\"1\" class=\"dataframe\">\n",
       "  <thead>\n",
       "    <tr style=\"text-align: right;\">\n",
       "      <th></th>\n",
       "      <th>Ingresos</th>\n",
       "      <th>Gastos</th>\n",
       "    </tr>\n",
       "  </thead>\n",
       "  <tbody>\n",
       "    <tr>\n",
       "      <th>2006</th>\n",
       "      <td>3000</td>\n",
       "      <td>1000</td>\n",
       "    </tr>\n",
       "    <tr>\n",
       "      <th>2002</th>\n",
       "      <td>1000</td>\n",
       "      <td>5000</td>\n",
       "    </tr>\n",
       "    <tr>\n",
       "      <th>2005</th>\n",
       "      <td>6000</td>\n",
       "      <td>4200</td>\n",
       "    </tr>\n",
       "    <tr>\n",
       "      <th>2007</th>\n",
       "      <td>5500</td>\n",
       "      <td>5000</td>\n",
       "    </tr>\n",
       "  </tbody>\n",
       "</table>\n",
       "</div>"
      ],
      "text/plain": [
       "      Ingresos  Gastos\n",
       "2006      3000    1000\n",
       "2002      1000    5000\n",
       "2005      6000    4200\n",
       "2007      5500    5000"
      ]
     },
     "execution_count": 212,
     "metadata": {},
     "output_type": "execute_result"
    }
   ],
   "source": [
    "# Para ordenar el indice asociado a las COLUMNAS, utilizamos axis = 1\n",
    "\n",
    "tabla_1.sort_index(axis=1, ascending=False)  # ha ordenado las columnas y ha cogido el conjunto de datos mas pequeño"
   ]
  },
  {
   "cell_type": "markdown",
   "metadata": {},
   "source": [
    "Para __ordenar los valores__ de una serie o un df usamos el metodo __sort_values__ . \n",
    "- Cuando es un __DF__ es necesario __indicar las columnas (mediante una lista)__ por la que queremos ordenar en el argumento __by__."
   ]
  },
  {
   "cell_type": "code",
   "execution_count": 213,
   "metadata": {},
   "outputs": [
    {
     "data": {
      "text/html": [
       "<div>\n",
       "<style scoped>\n",
       "    .dataframe tbody tr th:only-of-type {\n",
       "        vertical-align: middle;\n",
       "    }\n",
       "\n",
       "    .dataframe tbody tr th {\n",
       "        vertical-align: top;\n",
       "    }\n",
       "\n",
       "    .dataframe thead th {\n",
       "        text-align: right;\n",
       "    }\n",
       "</style>\n",
       "<table border=\"1\" class=\"dataframe\">\n",
       "  <thead>\n",
       "    <tr style=\"text-align: right;\">\n",
       "      <th></th>\n",
       "      <th>Gastos</th>\n",
       "      <th>Ingresos</th>\n",
       "    </tr>\n",
       "  </thead>\n",
       "  <tbody>\n",
       "    <tr>\n",
       "      <th>2002</th>\n",
       "      <td>5000</td>\n",
       "      <td>1000</td>\n",
       "    </tr>\n",
       "    <tr>\n",
       "      <th>2007</th>\n",
       "      <td>5000</td>\n",
       "      <td>5500</td>\n",
       "    </tr>\n",
       "    <tr>\n",
       "      <th>2005</th>\n",
       "      <td>4200</td>\n",
       "      <td>6000</td>\n",
       "    </tr>\n",
       "    <tr>\n",
       "      <th>2006</th>\n",
       "      <td>1000</td>\n",
       "      <td>3000</td>\n",
       "    </tr>\n",
       "  </tbody>\n",
       "</table>\n",
       "</div>"
      ],
      "text/plain": [
       "      Gastos  Ingresos\n",
       "2002    5000      1000\n",
       "2007    5000      5500\n",
       "2005    4200      6000\n",
       "2006    1000      3000"
      ]
     },
     "execution_count": 213,
     "metadata": {},
     "output_type": "execute_result"
    }
   ],
   "source": [
    "tabla_1.sort_values(by = ['Gastos'])  # ordenamos el df por valores de la columna e indicamos en la lista \n",
    "    # el valor por el que queremos ordenar\n",
    "    \n",
    "# por defecto, ordenacion ascendente, si queremos hacerla descendente \n",
    "tabla_1.sort_values(by=['Gastos'], ascending= False)"
   ]
  },
  {
   "cell_type": "code",
   "execution_count": 214,
   "metadata": {},
   "outputs": [
    {
     "data": {
      "text/html": [
       "<div>\n",
       "<style scoped>\n",
       "    .dataframe tbody tr th:only-of-type {\n",
       "        vertical-align: middle;\n",
       "    }\n",
       "\n",
       "    .dataframe tbody tr th {\n",
       "        vertical-align: top;\n",
       "    }\n",
       "\n",
       "    .dataframe thead th {\n",
       "        text-align: right;\n",
       "    }\n",
       "</style>\n",
       "<table border=\"1\" class=\"dataframe\">\n",
       "  <thead>\n",
       "    <tr style=\"text-align: right;\">\n",
       "      <th></th>\n",
       "      <th>Gastos</th>\n",
       "      <th>Ingresos</th>\n",
       "    </tr>\n",
       "  </thead>\n",
       "  <tbody>\n",
       "    <tr>\n",
       "      <th>2002</th>\n",
       "      <td>5000</td>\n",
       "      <td>1000</td>\n",
       "    </tr>\n",
       "    <tr>\n",
       "      <th>2007</th>\n",
       "      <td>5000</td>\n",
       "      <td>5500</td>\n",
       "    </tr>\n",
       "    <tr>\n",
       "      <th>2005</th>\n",
       "      <td>4200</td>\n",
       "      <td>6000</td>\n",
       "    </tr>\n",
       "    <tr>\n",
       "      <th>2006</th>\n",
       "      <td>1000</td>\n",
       "      <td>3000</td>\n",
       "    </tr>\n",
       "  </tbody>\n",
       "</table>\n",
       "</div>"
      ],
      "text/plain": [
       "      Gastos  Ingresos\n",
       "2002    5000      1000\n",
       "2007    5000      5500\n",
       "2005    4200      6000\n",
       "2006    1000      3000"
      ]
     },
     "execution_count": 214,
     "metadata": {},
     "output_type": "execute_result"
    }
   ],
   "source": [
    "tabla_1.sort_values(by=['Gastos', 'Ingresos'], ascending=[False, True])  \n",
    "# queremos que una columna sea en orden descendente y otra en orden ascendente\n",
    "# el argumento ascending es de tipo booleano\n",
    "\n",
    "# fijese: en el de ingresos no esta del todo ascendente, ya que prima el orden del primero"
   ]
  },
  {
   "cell_type": "markdown",
   "metadata": {},
   "source": [
    "### Tratamiento de los valores NaN"
   ]
  },
  {
   "cell_type": "markdown",
   "metadata": {},
   "source": [
    "Cuando hay __valores vacios o valores desconocidos__ se identifican con Not A Number (NaN). \n",
    "- Pandas es capaz de tratar con estos valores de forma __implicita__ , hay que conocer todas las heramientas de manejo."
   ]
  },
  {
   "cell_type": "code",
   "execution_count": 215,
   "metadata": {},
   "outputs": [
    {
     "data": {
      "text/plain": [
       "A    1.0\n",
       "B    NaN\n",
       "C    2.0\n",
       "dtype: float64"
      ]
     },
     "execution_count": 215,
     "metadata": {},
     "output_type": "execute_result"
    }
   ],
   "source": [
    "# Se puede asignar valores NaN de forma explicita usando np.nan de Numpy\n",
    "\n",
    "serie3 = pd.Series([1, np.nan, 2], index=['A', 'B', 'C'])\n",
    "serie3"
   ]
  },
  {
   "cell_type": "code",
   "execution_count": 216,
   "metadata": {},
   "outputs": [
    {
     "data": {
      "text/plain": [
       "A    1.0\n",
       "C    2.0\n",
       "dtype: float64"
      ]
     },
     "execution_count": 216,
     "metadata": {},
     "output_type": "execute_result"
    }
   ],
   "source": [
    "# Eliminar masivamente los NaN es con dropna en series --> Resultado: nueva estructura sin valores NaN\n",
    "\n",
    "serie3.dropna()  # elimina de la serie el valor NaN"
   ]
  },
  {
   "cell_type": "code",
   "execution_count": 217,
   "metadata": {},
   "outputs": [
    {
     "data": {
      "text/html": [
       "<div>\n",
       "<style scoped>\n",
       "    .dataframe tbody tr th:only-of-type {\n",
       "        vertical-align: middle;\n",
       "    }\n",
       "\n",
       "    .dataframe tbody tr th {\n",
       "        vertical-align: top;\n",
       "    }\n",
       "\n",
       "    .dataframe thead th {\n",
       "        text-align: right;\n",
       "    }\n",
       "</style>\n",
       "<table border=\"1\" class=\"dataframe\">\n",
       "  <thead>\n",
       "    <tr style=\"text-align: right;\">\n",
       "      <th></th>\n",
       "      <th>País</th>\n",
       "      <th>Código</th>\n",
       "      <th>Pob.</th>\n",
       "      <th>Año</th>\n",
       "    </tr>\n",
       "  </thead>\n",
       "  <tbody>\n",
       "    <tr>\n",
       "      <th>0</th>\n",
       "      <td>NaN</td>\n",
       "      <td>ES</td>\n",
       "      <td>46449.0</td>\n",
       "      <td>NaN</td>\n",
       "    </tr>\n",
       "    <tr>\n",
       "      <th>1</th>\n",
       "      <td>Alemania</td>\n",
       "      <td>NaN</td>\n",
       "      <td>NaN</td>\n",
       "      <td>NaN</td>\n",
       "    </tr>\n",
       "    <tr>\n",
       "      <th>2</th>\n",
       "      <td>Japón</td>\n",
       "      <td>JP</td>\n",
       "      <td>NaN</td>\n",
       "      <td>2005</td>\n",
       "    </tr>\n",
       "  </tbody>\n",
       "</table>\n",
       "</div>"
      ],
      "text/plain": [
       "       País Código     Pob.   Año\n",
       "0       NaN     ES  46449.0   NaN\n",
       "1  Alemania    NaN      NaN   NaN\n",
       "2     Japón     JP      NaN  2005"
      ]
     },
     "execution_count": 217,
     "metadata": {},
     "output_type": "execute_result"
    }
   ],
   "source": [
    "# En df los Nan pueden estar en varias columnas \n",
    "\n",
    "tabla_3 = pd.DataFrame(data = [(np.nan, 'ES', 46449, np.nan),\n",
    "                              ('Alemania', np.nan, np.nan, np.nan),\n",
    "                              ('Japón', 'JP', np.nan, '2005')],\n",
    "                      columns = ['País', 'Código', 'Pob.', 'Año'])\n",
    "tabla_3"
   ]
  },
  {
   "cell_type": "code",
   "execution_count": 218,
   "metadata": {},
   "outputs": [
    {
     "data": {
      "text/html": [
       "<div>\n",
       "<style scoped>\n",
       "    .dataframe tbody tr th:only-of-type {\n",
       "        vertical-align: middle;\n",
       "    }\n",
       "\n",
       "    .dataframe tbody tr th {\n",
       "        vertical-align: top;\n",
       "    }\n",
       "\n",
       "    .dataframe thead th {\n",
       "        text-align: right;\n",
       "    }\n",
       "</style>\n",
       "<table border=\"1\" class=\"dataframe\">\n",
       "  <thead>\n",
       "    <tr style=\"text-align: right;\">\n",
       "      <th></th>\n",
       "      <th>País</th>\n",
       "      <th>Código</th>\n",
       "      <th>Pob.</th>\n",
       "      <th>Año</th>\n",
       "    </tr>\n",
       "  </thead>\n",
       "  <tbody>\n",
       "  </tbody>\n",
       "</table>\n",
       "</div>"
      ],
      "text/plain": [
       "Empty DataFrame\n",
       "Columns: [País, Código, Pob., Año]\n",
       "Index: []"
      ]
     },
     "execution_count": 218,
     "metadata": {},
     "output_type": "execute_result"
    }
   ],
   "source": [
    "# si hacemos un dropna en un df: \n",
    "tabla_3.dropna()  # nos quedamos sin datos pq cada columna tiene un Nan"
   ]
  },
  {
   "cell_type": "markdown",
   "metadata": {},
   "source": [
    "__Solucion : eliminar filas con valores NaN de un DF__\n",
    "- __axis = 0__\n",
    "- __how = all__"
   ]
  },
  {
   "cell_type": "code",
   "execution_count": 219,
   "metadata": {},
   "outputs": [
    {
     "data": {
      "text/html": [
       "<div>\n",
       "<style scoped>\n",
       "    .dataframe tbody tr th:only-of-type {\n",
       "        vertical-align: middle;\n",
       "    }\n",
       "\n",
       "    .dataframe tbody tr th {\n",
       "        vertical-align: top;\n",
       "    }\n",
       "\n",
       "    .dataframe thead th {\n",
       "        text-align: right;\n",
       "    }\n",
       "</style>\n",
       "<table border=\"1\" class=\"dataframe\">\n",
       "  <thead>\n",
       "    <tr style=\"text-align: right;\">\n",
       "      <th></th>\n",
       "      <th>País</th>\n",
       "      <th>Código</th>\n",
       "      <th>Pob.</th>\n",
       "      <th>Año</th>\n",
       "    </tr>\n",
       "  </thead>\n",
       "  <tbody>\n",
       "    <tr>\n",
       "      <th>0</th>\n",
       "      <td>NaN</td>\n",
       "      <td>ES</td>\n",
       "      <td>46449.0</td>\n",
       "      <td>NaN</td>\n",
       "    </tr>\n",
       "    <tr>\n",
       "      <th>1</th>\n",
       "      <td>Alemania</td>\n",
       "      <td>NaN</td>\n",
       "      <td>NaN</td>\n",
       "      <td>NaN</td>\n",
       "    </tr>\n",
       "    <tr>\n",
       "      <th>2</th>\n",
       "      <td>Japón</td>\n",
       "      <td>JP</td>\n",
       "      <td>NaN</td>\n",
       "      <td>2005</td>\n",
       "    </tr>\n",
       "  </tbody>\n",
       "</table>\n",
       "</div>"
      ],
      "text/plain": [
       "       País Código     Pob.   Año\n",
       "0       NaN     ES  46449.0   NaN\n",
       "1  Alemania    NaN      NaN   NaN\n",
       "2     Japón     JP      NaN  2005"
      ]
     },
     "execution_count": 219,
     "metadata": {},
     "output_type": "execute_result"
    }
   ],
   "source": [
    "tabla_3.dropna(how='all', axis= 0)"
   ]
  },
  {
   "cell_type": "markdown",
   "metadata": {},
   "source": [
    "Eliminar __filas o columnas__ que no alcanan un __num determinado de valores distinto de NaN__, usamos:\n",
    "- __thresh__\n",
    "\n",
    "Ejemplo: Eliminar aquellas filas __que no tienen al menos 3 valores distintos de Nan__, escribimos:\n",
    "thresh = 2"
   ]
  },
  {
   "cell_type": "code",
   "execution_count": 220,
   "metadata": {},
   "outputs": [
    {
     "data": {
      "text/html": [
       "<div>\n",
       "<style scoped>\n",
       "    .dataframe tbody tr th:only-of-type {\n",
       "        vertical-align: middle;\n",
       "    }\n",
       "\n",
       "    .dataframe tbody tr th {\n",
       "        vertical-align: top;\n",
       "    }\n",
       "\n",
       "    .dataframe thead th {\n",
       "        text-align: right;\n",
       "    }\n",
       "</style>\n",
       "<table border=\"1\" class=\"dataframe\">\n",
       "  <thead>\n",
       "    <tr style=\"text-align: right;\">\n",
       "      <th></th>\n",
       "      <th>País</th>\n",
       "      <th>Código</th>\n",
       "      <th>Pob.</th>\n",
       "      <th>Año</th>\n",
       "    </tr>\n",
       "  </thead>\n",
       "  <tbody>\n",
       "    <tr>\n",
       "      <th>0</th>\n",
       "      <td>NaN</td>\n",
       "      <td>ES</td>\n",
       "      <td>46449.0</td>\n",
       "      <td>NaN</td>\n",
       "    </tr>\n",
       "    <tr>\n",
       "      <th>2</th>\n",
       "      <td>Japón</td>\n",
       "      <td>JP</td>\n",
       "      <td>NaN</td>\n",
       "      <td>2005</td>\n",
       "    </tr>\n",
       "  </tbody>\n",
       "</table>\n",
       "</div>"
      ],
      "text/plain": [
       "    País Código     Pob.   Año\n",
       "0    NaN     ES  46449.0   NaN\n",
       "2  Japón     JP      NaN  2005"
      ]
     },
     "execution_count": 220,
     "metadata": {},
     "output_type": "execute_result"
    }
   ],
   "source": [
    "tabla_3.dropna(thresh= 2, axis= 0)  # tener hasta 2 NaN como mucho\n",
    "\n",
    "#thresh: Te dice que al menos tiene que haber ESA cantidad de valores distintos de NaN"
   ]
  },
  {
   "cell_type": "code",
   "execution_count": 221,
   "metadata": {},
   "outputs": [
    {
     "data": {
      "text/html": [
       "<div>\n",
       "<style scoped>\n",
       "    .dataframe tbody tr th:only-of-type {\n",
       "        vertical-align: middle;\n",
       "    }\n",
       "\n",
       "    .dataframe tbody tr th {\n",
       "        vertical-align: top;\n",
       "    }\n",
       "\n",
       "    .dataframe thead th {\n",
       "        text-align: right;\n",
       "    }\n",
       "</style>\n",
       "<table border=\"1\" class=\"dataframe\">\n",
       "  <thead>\n",
       "    <tr style=\"text-align: right;\">\n",
       "      <th></th>\n",
       "      <th>País</th>\n",
       "      <th>Código</th>\n",
       "      <th>Pob.</th>\n",
       "      <th>Año</th>\n",
       "    </tr>\n",
       "  </thead>\n",
       "  <tbody>\n",
       "    <tr>\n",
       "      <th>0</th>\n",
       "      <td>0</td>\n",
       "      <td>ES</td>\n",
       "      <td>46449.0</td>\n",
       "      <td>0</td>\n",
       "    </tr>\n",
       "    <tr>\n",
       "      <th>1</th>\n",
       "      <td>Alemania</td>\n",
       "      <td>0</td>\n",
       "      <td>0.0</td>\n",
       "      <td>0</td>\n",
       "    </tr>\n",
       "    <tr>\n",
       "      <th>2</th>\n",
       "      <td>Japón</td>\n",
       "      <td>JP</td>\n",
       "      <td>0.0</td>\n",
       "      <td>2005</td>\n",
       "    </tr>\n",
       "  </tbody>\n",
       "</table>\n",
       "</div>"
      ],
      "text/plain": [
       "       País Código     Pob.   Año\n",
       "0         0     ES  46449.0     0\n",
       "1  Alemania      0      0.0     0\n",
       "2     Japón     JP      0.0  2005"
      ]
     },
     "execution_count": 221,
     "metadata": {},
     "output_type": "execute_result"
    }
   ],
   "source": [
    "tabla_3.fillna(0)  # no queremos eliminar Nan pero queremos sustituir NA por un valor por defecto"
   ]
  },
  {
   "cell_type": "markdown",
   "metadata": {},
   "source": [
    "Podemos indicar un valor por defecto para __CADA COLUMNA__\n",
    "- Usar un diccionario como __argumento__ para fillna\n",
    "    - Las claves son las etiquetas del indice de las __COLUMNAS AFECTADAS__ y el valor asociado a las claves el aquel que sustiruye por defecto a los NaN"
   ]
  },
  {
   "cell_type": "code",
   "execution_count": 222,
   "metadata": {},
   "outputs": [
    {
     "data": {
      "text/html": [
       "<div>\n",
       "<style scoped>\n",
       "    .dataframe tbody tr th:only-of-type {\n",
       "        vertical-align: middle;\n",
       "    }\n",
       "\n",
       "    .dataframe tbody tr th {\n",
       "        vertical-align: top;\n",
       "    }\n",
       "\n",
       "    .dataframe thead th {\n",
       "        text-align: right;\n",
       "    }\n",
       "</style>\n",
       "<table border=\"1\" class=\"dataframe\">\n",
       "  <thead>\n",
       "    <tr style=\"text-align: right;\">\n",
       "      <th></th>\n",
       "      <th>País</th>\n",
       "      <th>Código</th>\n",
       "      <th>Pob.</th>\n",
       "      <th>Año</th>\n",
       "    </tr>\n",
       "  </thead>\n",
       "  <tbody>\n",
       "    <tr>\n",
       "      <th>0</th>\n",
       "      <td>ZZ</td>\n",
       "      <td>ES</td>\n",
       "      <td>46449.0</td>\n",
       "      <td>NaN</td>\n",
       "    </tr>\n",
       "    <tr>\n",
       "      <th>1</th>\n",
       "      <td>Alemania</td>\n",
       "      <td>------</td>\n",
       "      <td>0.0</td>\n",
       "      <td>NaN</td>\n",
       "    </tr>\n",
       "    <tr>\n",
       "      <th>2</th>\n",
       "      <td>Japón</td>\n",
       "      <td>JP</td>\n",
       "      <td>0.0</td>\n",
       "      <td>2005</td>\n",
       "    </tr>\n",
       "  </tbody>\n",
       "</table>\n",
       "</div>"
      ],
      "text/plain": [
       "       País  Código     Pob.   Año\n",
       "0        ZZ      ES  46449.0   NaN\n",
       "1  Alemania  ------      0.0   NaN\n",
       "2     Japón      JP      0.0  2005"
      ]
     },
     "execution_count": 222,
     "metadata": {},
     "output_type": "execute_result"
    }
   ],
   "source": [
    "d = {'País': 'ZZ', \n",
    "    'Código': '------',\n",
    "    'Pob.': 0}\n",
    "tabla_3.fillna(d)  # relleno de los valores NA en un df con valores que he dado a partir de un diccionario"
   ]
  },
  {
   "cell_type": "markdown",
   "metadata": {},
   "source": [
    "En operaciones estadisticas, PANDAS ignora los valores NaN, pero __si no queremos ignorar los NA__, __utilizar skipna__"
   ]
  },
  {
   "cell_type": "code",
   "execution_count": 223,
   "metadata": {},
   "outputs": [
    {
     "data": {
      "text/html": [
       "<div>\n",
       "<style scoped>\n",
       "    .dataframe tbody tr th:only-of-type {\n",
       "        vertical-align: middle;\n",
       "    }\n",
       "\n",
       "    .dataframe tbody tr th {\n",
       "        vertical-align: top;\n",
       "    }\n",
       "\n",
       "    .dataframe thead th {\n",
       "        text-align: right;\n",
       "    }\n",
       "</style>\n",
       "<table border=\"1\" class=\"dataframe\">\n",
       "  <thead>\n",
       "    <tr style=\"text-align: right;\">\n",
       "      <th></th>\n",
       "      <th>2004</th>\n",
       "      <th>2005</th>\n",
       "      <th>2006</th>\n",
       "    </tr>\n",
       "  </thead>\n",
       "  <tbody>\n",
       "    <tr>\n",
       "      <th>EE</th>\n",
       "      <td>8</td>\n",
       "      <td>7.0</td>\n",
       "      <td>6.0</td>\n",
       "    </tr>\n",
       "    <tr>\n",
       "      <th>IE</th>\n",
       "      <td>19</td>\n",
       "      <td>NaN</td>\n",
       "      <td>221.0</td>\n",
       "    </tr>\n",
       "    <tr>\n",
       "      <th>EL</th>\n",
       "      <td>1</td>\n",
       "      <td>1.0</td>\n",
       "      <td>NaN</td>\n",
       "    </tr>\n",
       "  </tbody>\n",
       "</table>\n",
       "</div>"
      ],
      "text/plain": [
       "    2004  2005   2006\n",
       "EE     8   7.0    6.0\n",
       "IE    19   NaN  221.0\n",
       "EL     1   1.0    NaN"
      ]
     },
     "execution_count": 223,
     "metadata": {},
     "output_type": "execute_result"
    }
   ],
   "source": [
    "tabla_4 = pd.DataFrame(data = [ (8,7,6), \n",
    "                                   (19, np.nan, 221), \n",
    "                                   (1,1,np.nan)],\n",
    "                           columns = ['2004', '2005','2006'],\n",
    "                           index = ['EE', 'IE', 'EL'])\n",
    "\n",
    "tabla_4"
   ]
  },
  {
   "cell_type": "code",
   "execution_count": 224,
   "metadata": {},
   "outputs": [
    {
     "data": {
      "text/plain": [
       "2004      9.333333\n",
       "2005      4.000000\n",
       "2006    113.500000\n",
       "dtype: float64"
      ]
     },
     "execution_count": 224,
     "metadata": {},
     "output_type": "execute_result"
    }
   ],
   "source": [
    "tabla_4.mean()  # cuando se calcula la media, por defecto, se ifnoran los valores NaN"
   ]
  },
  {
   "cell_type": "code",
   "execution_count": 225,
   "metadata": {},
   "outputs": [
    {
     "data": {
      "text/plain": [
       "2004    9.333333\n",
       "2005         NaN\n",
       "2006         NaN\n",
       "dtype: float64"
      ]
     },
     "execution_count": 225,
     "metadata": {},
     "output_type": "execute_result"
    }
   ],
   "source": [
    "# si no queremos ignorar los valores NaN al calcular la media skipna = False\n",
    "tabla_4.mean(skipna=False)  # devuelve resultados con Nan"
   ]
  },
  {
   "cell_type": "markdown",
   "metadata": {},
   "source": [
    "### Relacion entre variables: correlacion y varianza"
   ]
  },
  {
   "cell_type": "markdown",
   "metadata": {},
   "source": [
    "Operaciones estadisticas: __CORRELACION Y COVARIANZA__\n",
    "- Representados en pandas: __corr y cov__ \n",
    "- Definidos tanto en Series como en Dataframes\n",
    "\n",
    "> Cuando se calcula __correlacion entre un par de variables__ de un DF obtenemos una __MATRIZ DE CORRELACION__"
   ]
  },
  {
   "cell_type": "code",
   "execution_count": 226,
   "metadata": {},
   "outputs": [
    {
     "data": {
      "text/html": [
       "<div>\n",
       "<style scoped>\n",
       "    .dataframe tbody tr th:only-of-type {\n",
       "        vertical-align: middle;\n",
       "    }\n",
       "\n",
       "    .dataframe tbody tr th {\n",
       "        vertical-align: top;\n",
       "    }\n",
       "\n",
       "    .dataframe thead th {\n",
       "        text-align: right;\n",
       "    }\n",
       "</style>\n",
       "<table border=\"1\" class=\"dataframe\">\n",
       "  <thead>\n",
       "    <tr style=\"text-align: right;\">\n",
       "      <th></th>\n",
       "      <th>Edad</th>\n",
       "      <th>Peso</th>\n",
       "      <th>Altura</th>\n",
       "    </tr>\n",
       "  </thead>\n",
       "  <tbody>\n",
       "    <tr>\n",
       "      <th>Persona 1</th>\n",
       "      <td>40</td>\n",
       "      <td>58</td>\n",
       "      <td>119</td>\n",
       "    </tr>\n",
       "    <tr>\n",
       "      <th>Persona 2</th>\n",
       "      <td>43</td>\n",
       "      <td>59</td>\n",
       "      <td>117</td>\n",
       "    </tr>\n",
       "    <tr>\n",
       "      <th>Persona 3</th>\n",
       "      <td>41</td>\n",
       "      <td>60</td>\n",
       "      <td>120</td>\n",
       "    </tr>\n",
       "    <tr>\n",
       "      <th>Persona 4</th>\n",
       "      <td>38</td>\n",
       "      <td>61</td>\n",
       "      <td>120</td>\n",
       "    </tr>\n",
       "    <tr>\n",
       "      <th>Persona 5</th>\n",
       "      <td>36</td>\n",
       "      <td>62</td>\n",
       "      <td>126</td>\n",
       "    </tr>\n",
       "    <tr>\n",
       "      <th>Persona 6</th>\n",
       "      <td>40</td>\n",
       "      <td>63</td>\n",
       "      <td>122</td>\n",
       "    </tr>\n",
       "  </tbody>\n",
       "</table>\n",
       "</div>"
      ],
      "text/plain": [
       "           Edad  Peso  Altura\n",
       "Persona 1    40    58     119\n",
       "Persona 2    43    59     117\n",
       "Persona 3    41    60     120\n",
       "Persona 4    38    61     120\n",
       "Persona 5    36    62     126\n",
       "Persona 6    40    63     122"
      ]
     },
     "execution_count": 226,
     "metadata": {},
     "output_type": "execute_result"
    }
   ],
   "source": [
    "datos_5 = [[40, 58, 119],\n",
    "        [43, 59, 117],\n",
    "        [41, 60, 120],\n",
    "        [38, 61, 120],\n",
    "        [36, 62, 126],\n",
    "        [40, 63, 122]]  # definimos una lista de listas que vamos a convertir en un dataframe\n",
    "\n",
    "tabla_5 = pd.DataFrame(datos_5, columns=['Edad', 'Peso', 'Altura'],\n",
    "                      index = ['Persona 1', 'Persona 2', 'Persona 3', 'Persona 4', 'Persona 5', 'Persona 6'])\n",
    "tabla_5"
   ]
  },
  {
   "cell_type": "code",
   "execution_count": 227,
   "metadata": {},
   "outputs": [
    {
     "data": {
      "text/html": [
       "<div>\n",
       "<style scoped>\n",
       "    .dataframe tbody tr th:only-of-type {\n",
       "        vertical-align: middle;\n",
       "    }\n",
       "\n",
       "    .dataframe tbody tr th {\n",
       "        vertical-align: top;\n",
       "    }\n",
       "\n",
       "    .dataframe thead th {\n",
       "        text-align: right;\n",
       "    }\n",
       "</style>\n",
       "<table border=\"1\" class=\"dataframe\">\n",
       "  <thead>\n",
       "    <tr style=\"text-align: right;\">\n",
       "      <th></th>\n",
       "      <th>Edad</th>\n",
       "      <th>Peso</th>\n",
       "      <th>Altura</th>\n",
       "    </tr>\n",
       "  </thead>\n",
       "  <tbody>\n",
       "    <tr>\n",
       "      <th>Edad</th>\n",
       "      <td>1.000000</td>\n",
       "      <td>-0.529641</td>\n",
       "      <td>-0.849842</td>\n",
       "    </tr>\n",
       "    <tr>\n",
       "      <th>Peso</th>\n",
       "      <td>-0.529641</td>\n",
       "      <td>1.000000</td>\n",
       "      <td>0.729654</td>\n",
       "    </tr>\n",
       "    <tr>\n",
       "      <th>Altura</th>\n",
       "      <td>-0.849842</td>\n",
       "      <td>0.729654</td>\n",
       "      <td>1.000000</td>\n",
       "    </tr>\n",
       "  </tbody>\n",
       "</table>\n",
       "</div>"
      ],
      "text/plain": [
       "            Edad      Peso    Altura\n",
       "Edad    1.000000 -0.529641 -0.849842\n",
       "Peso   -0.529641  1.000000  0.729654\n",
       "Altura -0.849842  0.729654  1.000000"
      ]
     },
     "execution_count": 227,
     "metadata": {},
     "output_type": "execute_result"
    }
   ],
   "source": [
    "matcorr_5 = tabla_5.corr()\n",
    "matcorr_5"
   ]
  },
  {
   "cell_type": "code",
   "execution_count": 228,
   "metadata": {},
   "outputs": [
    {
     "data": {
      "text/plain": [
       "Text(0.5,1,'Matriz de Correlacion - Mapa de Calor')"
      ]
     },
     "execution_count": 228,
     "metadata": {},
     "output_type": "execute_result"
    },
    {
     "data": {
      "image/png": "[encoded data removed]",
      "text/plain": [
       "<Figure size 288x216 with 2 Axes>"
      ]
     },
     "metadata": {
      "needs_background": "light"
     },
     "output_type": "display_data"
    }
   ],
   "source": [
    "# Representar la matriz de correllacion mediante un mapa de calor\n",
    "\n",
    "import matplotlib.pyplot as plt\n",
    "import seaborn as sns\n",
    "%matplotlib inline\n",
    "\n",
    "f, ax = plt.subplots(1, figsize = (4,3))\n",
    "sns.heatmap(matcorr_5, vmax=1, square =False, annot = True, fmt ='.1f')\n",
    "ax.set_title('Matriz de Correlacion - Mapa de Calor')"
   ]
  },
  {
   "cell_type": "code",
   "execution_count": 229,
   "metadata": {},
   "outputs": [
    {
     "data": {
      "text/html": [
       "<div>\n",
       "<style scoped>\n",
       "    .dataframe tbody tr th:only-of-type {\n",
       "        vertical-align: middle;\n",
       "    }\n",
       "\n",
       "    .dataframe tbody tr th {\n",
       "        vertical-align: top;\n",
       "    }\n",
       "\n",
       "    .dataframe thead th {\n",
       "        text-align: right;\n",
       "    }\n",
       "</style>\n",
       "<table border=\"1\" class=\"dataframe\">\n",
       "  <thead>\n",
       "    <tr style=\"text-align: right;\">\n",
       "      <th></th>\n",
       "      <th>Edad</th>\n",
       "      <th>Peso</th>\n",
       "      <th>Altura</th>\n",
       "    </tr>\n",
       "  </thead>\n",
       "  <tbody>\n",
       "    <tr>\n",
       "      <th>Edad</th>\n",
       "      <td>5.866667</td>\n",
       "      <td>-2.4</td>\n",
       "      <td>-6.333333</td>\n",
       "    </tr>\n",
       "    <tr>\n",
       "      <th>Peso</th>\n",
       "      <td>-2.400000</td>\n",
       "      <td>3.5</td>\n",
       "      <td>4.200000</td>\n",
       "    </tr>\n",
       "    <tr>\n",
       "      <th>Altura</th>\n",
       "      <td>-6.333333</td>\n",
       "      <td>4.2</td>\n",
       "      <td>9.466667</td>\n",
       "    </tr>\n",
       "  </tbody>\n",
       "</table>\n",
       "</div>"
      ],
      "text/plain": [
       "            Edad  Peso    Altura\n",
       "Edad    5.866667  -2.4 -6.333333\n",
       "Peso   -2.400000   3.5  4.200000\n",
       "Altura -6.333333   4.2  9.466667"
      ]
     },
     "execution_count": 229,
     "metadata": {},
     "output_type": "execute_result"
    }
   ],
   "source": [
    "matcov_5 = tabla_5.cov()\n",
    "matcov_5  # calcular la covarianza del DF"
   ]
  },
  {
   "cell_type": "code",
   "execution_count": 230,
   "metadata": {},
   "outputs": [
    {
     "data": {
      "text/plain": [
       "Text(0,0.5,'Peso')"
      ]
     },
     "execution_count": 230,
     "metadata": {},
     "output_type": "execute_result"
    },
    {
     "data": {
      "image/png": "[encoded data removed]",
      "text/plain": [
       "<Figure size 432x288 with 1 Axes>"
      ]
     },
     "metadata": {
      "needs_background": "light"
     },
     "output_type": "display_data"
    }
   ],
   "source": [
    "# Representacion de la covarianza\n",
    "tabla_5.plot(kind='scatter', x='Altura', y='Peso');\n",
    "plt.xlabel('Altura')\n",
    "plt.ylabel('Peso')"
   ]
  },
  {
   "cell_type": "code",
   "execution_count": 231,
   "metadata": {},
   "outputs": [
    {
     "data": {
      "text/plain": [
       "-0.8498418170203593"
      ]
     },
     "execution_count": 231,
     "metadata": {},
     "output_type": "execute_result"
    }
   ],
   "source": [
    "# Calcular la correlacion ENTRE 2 SERIES o un PAR DE COLUMNAS\n",
    "CorrSeries = tabla_5['Edad'].corr(tabla_5['Altura'])\n",
    "CorrSeries"
   ]
  },
  {
   "cell_type": "markdown",
   "metadata": {},
   "source": [
    "## Acceso y actualizacion de los datos"
   ]
  },
  {
   "cell_type": "markdown",
   "metadata": {},
   "source": [
    "Acceder a los __datos__ contenidos en una __SERIE o un DATAFRAME__ y para realizar su actualizacion."
   ]
  },
  {
   "cell_type": "code",
   "execution_count": 232,
   "metadata": {},
   "outputs": [],
   "source": [
    "# Trabajar con datos\n",
    "import numpy as np\n",
    "import pandas as pd\n",
    "\n",
    "# Visualizacion\n",
    "import matplotlib.pyplot as plt\n",
    "%matplotlib inline"
   ]
  },
  {
   "cell_type": "markdown",
   "metadata": {},
   "source": [
    "### Acceso a los datos"
   ]
  },
  {
   "cell_type": "markdown",
   "metadata": {},
   "source": [
    "__Acceder a las columas__ : '.' o notación de [nombre de la columna]  --> RESULTADO: TIPO SERIE"
   ]
  },
  {
   "cell_type": "code",
   "execution_count": 233,
   "metadata": {},
   "outputs": [
    {
     "data": {
      "text/html": [
       "<div>\n",
       "<style scoped>\n",
       "    .dataframe tbody tr th:only-of-type {\n",
       "        vertical-align: middle;\n",
       "    }\n",
       "\n",
       "    .dataframe tbody tr th {\n",
       "        vertical-align: top;\n",
       "    }\n",
       "\n",
       "    .dataframe thead th {\n",
       "        text-align: right;\n",
       "    }\n",
       "</style>\n",
       "<table border=\"1\" class=\"dataframe\">\n",
       "  <thead>\n",
       "    <tr style=\"text-align: right;\">\n",
       "      <th></th>\n",
       "      <th>Desc</th>\n",
       "      <th>2004</th>\n",
       "      <th>2005</th>\n",
       "      <th>2006</th>\n",
       "      <th>Tipo</th>\n",
       "    </tr>\n",
       "  </thead>\n",
       "  <tbody>\n",
       "    <tr>\n",
       "      <th>EE</th>\n",
       "      <td>Estonia</td>\n",
       "      <td>8.40</td>\n",
       "      <td>7.70</td>\n",
       "      <td>6.70</td>\n",
       "      <td>A</td>\n",
       "    </tr>\n",
       "    <tr>\n",
       "      <th>IE</th>\n",
       "      <td>Ireland</td>\n",
       "      <td>193.50</td>\n",
       "      <td>227.76</td>\n",
       "      <td>221.05</td>\n",
       "      <td>B</td>\n",
       "    </tr>\n",
       "    <tr>\n",
       "      <th>EL</th>\n",
       "      <td>Greece</td>\n",
       "      <td>1.40</td>\n",
       "      <td>1.60</td>\n",
       "      <td>1.50</td>\n",
       "      <td>A</td>\n",
       "    </tr>\n",
       "    <tr>\n",
       "      <th>ES</th>\n",
       "      <td>Spain</td>\n",
       "      <td>50.52</td>\n",
       "      <td>58.90</td>\n",
       "      <td>46.72</td>\n",
       "      <td>C</td>\n",
       "    </tr>\n",
       "    <tr>\n",
       "      <th>FR</th>\n",
       "      <td>France</td>\n",
       "      <td>415.09</td>\n",
       "      <td>423.10</td>\n",
       "      <td>400.52</td>\n",
       "      <td>A</td>\n",
       "    </tr>\n",
       "  </tbody>\n",
       "</table>\n",
       "</div>"
      ],
      "text/plain": [
       "       Desc    2004    2005    2006 Tipo\n",
       "EE  Estonia    8.40    7.70    6.70    A\n",
       "IE  Ireland  193.50  227.76  221.05    B\n",
       "EL   Greece    1.40    1.60    1.50    A\n",
       "ES    Spain   50.52   58.90   46.72    C\n",
       "FR   France  415.09  423.10  400.52    A"
      ]
     },
     "execution_count": 233,
     "metadata": {},
     "output_type": "execute_result"
    }
   ],
   "source": [
    "tabla3"
   ]
  },
  {
   "cell_type": "code",
   "execution_count": 234,
   "metadata": {},
   "outputs": [
    {
     "data": {
      "text/plain": [
       "EE    Estonia\n",
       "IE    Ireland\n",
       "EL     Greece\n",
       "ES      Spain\n",
       "FR     France\n",
       "Name: Desc, dtype: object"
      ]
     },
     "execution_count": 234,
     "metadata": {},
     "output_type": "execute_result"
    }
   ],
   "source": [
    "tabla3.Desc  # Devuelve de un DF una columna con los elementos que hay dentro en forma de SERIE"
   ]
  },
  {
   "cell_type": "markdown",
   "metadata": {},
   "source": [
    "##### Seleccion por ETIQUETA -loc  - NOMBRES-"
   ]
  },
  {
   "cell_type": "markdown",
   "metadata": {},
   "source": [
    "Permite __recuperar PARTES del DF__ indicando el nombre de las __FILAS y COLUMNAS__ que queremos seleccionar (indicando las etiquetas de cada uno de los indices)"
   ]
  },
  {
   "cell_type": "code",
   "execution_count": 235,
   "metadata": {},
   "outputs": [
    {
     "data": {
      "text/html": [
       "<div>\n",
       "<style scoped>\n",
       "    .dataframe tbody tr th:only-of-type {\n",
       "        vertical-align: middle;\n",
       "    }\n",
       "\n",
       "    .dataframe tbody tr th {\n",
       "        vertical-align: top;\n",
       "    }\n",
       "\n",
       "    .dataframe thead th {\n",
       "        text-align: right;\n",
       "    }\n",
       "</style>\n",
       "<table border=\"1\" class=\"dataframe\">\n",
       "  <thead>\n",
       "    <tr style=\"text-align: right;\">\n",
       "      <th></th>\n",
       "      <th>Desc</th>\n",
       "      <th>2004</th>\n",
       "      <th>2005</th>\n",
       "      <th>2006</th>\n",
       "      <th>Tipo</th>\n",
       "    </tr>\n",
       "  </thead>\n",
       "  <tbody>\n",
       "    <tr>\n",
       "      <th>IE</th>\n",
       "      <td>Ireland</td>\n",
       "      <td>193.50</td>\n",
       "      <td>227.76</td>\n",
       "      <td>221.05</td>\n",
       "      <td>B</td>\n",
       "    </tr>\n",
       "    <tr>\n",
       "      <th>EL</th>\n",
       "      <td>Greece</td>\n",
       "      <td>1.40</td>\n",
       "      <td>1.60</td>\n",
       "      <td>1.50</td>\n",
       "      <td>A</td>\n",
       "    </tr>\n",
       "    <tr>\n",
       "      <th>ES</th>\n",
       "      <td>Spain</td>\n",
       "      <td>50.52</td>\n",
       "      <td>58.90</td>\n",
       "      <td>46.72</td>\n",
       "      <td>C</td>\n",
       "    </tr>\n",
       "  </tbody>\n",
       "</table>\n",
       "</div>"
      ],
      "text/plain": [
       "       Desc    2004    2005    2006 Tipo\n",
       "IE  Ireland  193.50  227.76  221.05    B\n",
       "EL   Greece    1.40    1.60    1.50    A\n",
       "ES    Spain   50.52   58.90   46.72    C"
      ]
     },
     "execution_count": 235,
     "metadata": {},
     "output_type": "execute_result"
    }
   ],
   "source": [
    "# Recuperar los datos de paises IE y ES\n",
    "\n",
    "tabla3.loc['IE':'ES']  # coger datos desde x a Y a partir de los datos de FILAS"
   ]
  },
  {
   "cell_type": "code",
   "execution_count": 236,
   "metadata": {},
   "outputs": [
    {
     "data": {
      "text/html": [
       "<div>\n",
       "<style scoped>\n",
       "    .dataframe tbody tr th:only-of-type {\n",
       "        vertical-align: middle;\n",
       "    }\n",
       "\n",
       "    .dataframe tbody tr th {\n",
       "        vertical-align: top;\n",
       "    }\n",
       "\n",
       "    .dataframe thead th {\n",
       "        text-align: right;\n",
       "    }\n",
       "</style>\n",
       "<table border=\"1\" class=\"dataframe\">\n",
       "  <thead>\n",
       "    <tr style=\"text-align: right;\">\n",
       "      <th></th>\n",
       "      <th>2004</th>\n",
       "      <th>2005</th>\n",
       "    </tr>\n",
       "  </thead>\n",
       "  <tbody>\n",
       "    <tr>\n",
       "      <th>IE</th>\n",
       "      <td>193.50</td>\n",
       "      <td>227.76</td>\n",
       "    </tr>\n",
       "    <tr>\n",
       "      <th>EL</th>\n",
       "      <td>1.40</td>\n",
       "      <td>1.60</td>\n",
       "    </tr>\n",
       "    <tr>\n",
       "      <th>ES</th>\n",
       "      <td>50.52</td>\n",
       "      <td>58.90</td>\n",
       "    </tr>\n",
       "  </tbody>\n",
       "</table>\n",
       "</div>"
      ],
      "text/plain": [
       "      2004    2005\n",
       "IE  193.50  227.76\n",
       "EL    1.40    1.60\n",
       "ES   50.52   58.90"
      ]
     },
     "execution_count": 236,
     "metadata": {},
     "output_type": "execute_result"
    }
   ],
   "source": [
    "# Recuperar los datos de columnas segun datos de fila : 2004 y 2005 de los paises correspondientes a filas IE y ES\n",
    "\n",
    "result = tabla3.loc['IE': 'ES', ['2004', '2005']]  # IMPORTANTE\n",
    "result"
   ]
  },
  {
   "cell_type": "code",
   "execution_count": 237,
   "metadata": {},
   "outputs": [
    {
     "data": {
      "text/html": [
       "<div>\n",
       "<style scoped>\n",
       "    .dataframe tbody tr th:only-of-type {\n",
       "        vertical-align: middle;\n",
       "    }\n",
       "\n",
       "    .dataframe tbody tr th {\n",
       "        vertical-align: top;\n",
       "    }\n",
       "\n",
       "    .dataframe thead th {\n",
       "        text-align: right;\n",
       "    }\n",
       "</style>\n",
       "<table border=\"1\" class=\"dataframe\">\n",
       "  <thead>\n",
       "    <tr style=\"text-align: right;\">\n",
       "      <th></th>\n",
       "      <th>2004</th>\n",
       "    </tr>\n",
       "  </thead>\n",
       "  <tbody>\n",
       "    <tr>\n",
       "      <th>IE</th>\n",
       "      <td>193.50</td>\n",
       "    </tr>\n",
       "    <tr>\n",
       "      <th>ES</th>\n",
       "      <td>50.52</td>\n",
       "    </tr>\n",
       "  </tbody>\n",
       "</table>\n",
       "</div>"
      ],
      "text/plain": [
       "      2004\n",
       "IE  193.50\n",
       "ES   50.52"
      ]
     },
     "execution_count": 237,
     "metadata": {},
     "output_type": "execute_result"
    }
   ],
   "source": [
    "# Seleccionar una columna de datos de 2 filas \n",
    "result = tabla3.loc[['IE', 'ES'], ['2004']]\n",
    "result  # Queremos la produccion de 2 paises en años 2004 y 2006"
   ]
  },
  {
   "cell_type": "code",
   "execution_count": 238,
   "metadata": {},
   "outputs": [
    {
     "data": {
      "text/plain": [
       "221.05"
      ]
     },
     "execution_count": 238,
     "metadata": {},
     "output_type": "execute_result"
    }
   ],
   "source": [
    "tabla3.loc['IE', '2006']  # seleccionar UN VALOR ESCALAR (que no devuelva un df sino un valor)  \n",
    "\n",
    "# esto corresponde a la produccion de mantequilla en 2006 en IE"
   ]
  },
  {
   "cell_type": "markdown",
   "metadata": {},
   "source": [
    "##### Seleccion por POSICION -iloc  - NUMERO -"
   ]
  },
  {
   "cell_type": "markdown",
   "metadata": {},
   "source": [
    "Recuperara __PARTES__ del DF indexando filas y columnas con VALORES de tipo __INT__ comenzando desde el __0__."
   ]
  },
  {
   "cell_type": "code",
   "execution_count": 239,
   "metadata": {},
   "outputs": [
    {
     "data": {
      "text/plain": [
       "Desc    Estonia\n",
       "2004        8.4\n",
       "2005        7.7\n",
       "2006        6.7\n",
       "Tipo          A\n",
       "Name: EE, dtype: object"
      ]
     },
     "execution_count": 239,
     "metadata": {},
     "output_type": "execute_result"
    }
   ],
   "source": [
    "# Recuperar la primera fila del DF: devuelve los valores de las columnas con los datos de la primera fila\n",
    "tabla3.iloc[0]\n",
    "\n",
    "# Resultado: SERIE que coincide con valor de FILA SELECCIONADA"
   ]
  },
  {
   "cell_type": "code",
   "execution_count": 240,
   "metadata": {},
   "outputs": [
    {
     "data": {
      "text/html": [
       "<div>\n",
       "<style scoped>\n",
       "    .dataframe tbody tr th:only-of-type {\n",
       "        vertical-align: middle;\n",
       "    }\n",
       "\n",
       "    .dataframe tbody tr th {\n",
       "        vertical-align: top;\n",
       "    }\n",
       "\n",
       "    .dataframe thead th {\n",
       "        text-align: right;\n",
       "    }\n",
       "</style>\n",
       "<table border=\"1\" class=\"dataframe\">\n",
       "  <thead>\n",
       "    <tr style=\"text-align: right;\">\n",
       "      <th></th>\n",
       "      <th>Desc</th>\n",
       "      <th>Tipo</th>\n",
       "    </tr>\n",
       "  </thead>\n",
       "  <tbody>\n",
       "    <tr>\n",
       "      <th>EE</th>\n",
       "      <td>Estonia</td>\n",
       "      <td>A</td>\n",
       "    </tr>\n",
       "    <tr>\n",
       "      <th>IE</th>\n",
       "      <td>Ireland</td>\n",
       "      <td>B</td>\n",
       "    </tr>\n",
       "    <tr>\n",
       "      <th>EL</th>\n",
       "      <td>Greece</td>\n",
       "      <td>A</td>\n",
       "    </tr>\n",
       "  </tbody>\n",
       "</table>\n",
       "</div>"
      ],
      "text/plain": [
       "       Desc Tipo\n",
       "EE  Estonia    A\n",
       "IE  Ireland    B\n",
       "EL   Greece    A"
      ]
     },
     "execution_count": 240,
     "metadata": {},
     "output_type": "execute_result"
    }
   ],
   "source": [
    "# Recuperar las 3 primeras filas por una parte y la 1 y ultima columa: recuperar numero de filas y numero de columnas\n",
    "tabla3.iloc[:3,[0,-1]] "
   ]
  },
  {
   "cell_type": "code",
   "execution_count": 241,
   "metadata": {},
   "outputs": [
    {
     "data": {
      "text/html": [
       "<div>\n",
       "<style scoped>\n",
       "    .dataframe tbody tr th:only-of-type {\n",
       "        vertical-align: middle;\n",
       "    }\n",
       "\n",
       "    .dataframe tbody tr th {\n",
       "        vertical-align: top;\n",
       "    }\n",
       "\n",
       "    .dataframe thead th {\n",
       "        text-align: right;\n",
       "    }\n",
       "</style>\n",
       "<table border=\"1\" class=\"dataframe\">\n",
       "  <thead>\n",
       "    <tr style=\"text-align: right;\">\n",
       "      <th></th>\n",
       "      <th>Desc</th>\n",
       "      <th>2004</th>\n",
       "      <th>2005</th>\n",
       "      <th>2006</th>\n",
       "      <th>Tipo</th>\n",
       "    </tr>\n",
       "  </thead>\n",
       "  <tbody>\n",
       "    <tr>\n",
       "      <th>EE</th>\n",
       "      <td>Estonia</td>\n",
       "      <td>8.4</td>\n",
       "      <td>7.70</td>\n",
       "      <td>6.70</td>\n",
       "      <td>A</td>\n",
       "    </tr>\n",
       "    <tr>\n",
       "      <th>IE</th>\n",
       "      <td>Ireland</td>\n",
       "      <td>193.5</td>\n",
       "      <td>227.76</td>\n",
       "      <td>221.05</td>\n",
       "      <td>B</td>\n",
       "    </tr>\n",
       "    <tr>\n",
       "      <th>EL</th>\n",
       "      <td>Greece</td>\n",
       "      <td>1.4</td>\n",
       "      <td>1.60</td>\n",
       "      <td>1.50</td>\n",
       "      <td>A</td>\n",
       "    </tr>\n",
       "  </tbody>\n",
       "</table>\n",
       "</div>"
      ],
      "text/plain": [
       "       Desc   2004    2005    2006 Tipo\n",
       "EE  Estonia    8.4    7.70    6.70    A\n",
       "IE  Ireland  193.5  227.76  221.05    B\n",
       "EL   Greece    1.4    1.60    1.50    A"
      ]
     },
     "execution_count": 241,
     "metadata": {},
     "output_type": "execute_result"
    }
   ],
   "source": [
    "tabla3.head(3)  # devuelve las 3 primeras filas del df para observar, se utilia cuando los datos son muy largos"
   ]
  },
  {
   "cell_type": "code",
   "execution_count": 242,
   "metadata": {},
   "outputs": [
    {
     "data": {
      "text/html": [
       "<div>\n",
       "<style scoped>\n",
       "    .dataframe tbody tr th:only-of-type {\n",
       "        vertical-align: middle;\n",
       "    }\n",
       "\n",
       "    .dataframe tbody tr th {\n",
       "        vertical-align: top;\n",
       "    }\n",
       "\n",
       "    .dataframe thead th {\n",
       "        text-align: right;\n",
       "    }\n",
       "</style>\n",
       "<table border=\"1\" class=\"dataframe\">\n",
       "  <thead>\n",
       "    <tr style=\"text-align: right;\">\n",
       "      <th></th>\n",
       "      <th>Desc</th>\n",
       "      <th>2004</th>\n",
       "      <th>2005</th>\n",
       "      <th>2006</th>\n",
       "      <th>Tipo</th>\n",
       "    </tr>\n",
       "  </thead>\n",
       "  <tbody>\n",
       "    <tr>\n",
       "      <th>EE</th>\n",
       "      <td>Estonia</td>\n",
       "      <td>8.40</td>\n",
       "      <td>7.70</td>\n",
       "      <td>6.70</td>\n",
       "      <td>A</td>\n",
       "    </tr>\n",
       "    <tr>\n",
       "      <th>IE</th>\n",
       "      <td>Ireland</td>\n",
       "      <td>193.50</td>\n",
       "      <td>227.76</td>\n",
       "      <td>221.05</td>\n",
       "      <td>B</td>\n",
       "    </tr>\n",
       "    <tr>\n",
       "      <th>EL</th>\n",
       "      <td>Greece</td>\n",
       "      <td>1.40</td>\n",
       "      <td>1.60</td>\n",
       "      <td>1.50</td>\n",
       "      <td>A</td>\n",
       "    </tr>\n",
       "    <tr>\n",
       "      <th>ES</th>\n",
       "      <td>Spain</td>\n",
       "      <td>50.52</td>\n",
       "      <td>58.90</td>\n",
       "      <td>46.72</td>\n",
       "      <td>C</td>\n",
       "    </tr>\n",
       "    <tr>\n",
       "      <th>FR</th>\n",
       "      <td>France</td>\n",
       "      <td>415.09</td>\n",
       "      <td>423.10</td>\n",
       "      <td>400.52</td>\n",
       "      <td>A</td>\n",
       "    </tr>\n",
       "  </tbody>\n",
       "</table>\n",
       "</div>"
      ],
      "text/plain": [
       "       Desc    2004    2005    2006 Tipo\n",
       "EE  Estonia    8.40    7.70    6.70    A\n",
       "IE  Ireland  193.50  227.76  221.05    B\n",
       "EL   Greece    1.40    1.60    1.50    A\n",
       "ES    Spain   50.52   58.90   46.72    C\n",
       "FR   France  415.09  423.10  400.52    A"
      ]
     },
     "execution_count": 242,
     "metadata": {},
     "output_type": "execute_result"
    }
   ],
   "source": [
    "tabla3.tail(100)  # devuelve los 100 ultimos valores"
   ]
  },
  {
   "cell_type": "code",
   "execution_count": 243,
   "metadata": {},
   "outputs": [
    {
     "data": {
      "text/html": [
       "<div>\n",
       "<style scoped>\n",
       "    .dataframe tbody tr th:only-of-type {\n",
       "        vertical-align: middle;\n",
       "    }\n",
       "\n",
       "    .dataframe tbody tr th {\n",
       "        vertical-align: top;\n",
       "    }\n",
       "\n",
       "    .dataframe thead th {\n",
       "        text-align: right;\n",
       "    }\n",
       "</style>\n",
       "<table border=\"1\" class=\"dataframe\">\n",
       "  <thead>\n",
       "    <tr style=\"text-align: right;\">\n",
       "      <th></th>\n",
       "      <th>Valor</th>\n",
       "    </tr>\n",
       "  </thead>\n",
       "  <tbody>\n",
       "    <tr>\n",
       "      <th>Murcia</th>\n",
       "      <td>10.7</td>\n",
       "    </tr>\n",
       "    <tr>\n",
       "      <th>Cantabria</th>\n",
       "      <td>7.5</td>\n",
       "    </tr>\n",
       "    <tr>\n",
       "      <th>Galicia</th>\n",
       "      <td>7.1</td>\n",
       "    </tr>\n",
       "    <tr>\n",
       "      <th>Melilla</th>\n",
       "      <td>17.8</td>\n",
       "    </tr>\n",
       "    <tr>\n",
       "      <th>Canarias</th>\n",
       "      <td>7.9</td>\n",
       "    </tr>\n",
       "  </tbody>\n",
       "</table>\n",
       "</div>"
      ],
      "text/plain": [
       "           Valor\n",
       "Murcia      10.7\n",
       "Cantabria    7.5\n",
       "Galicia      7.1\n",
       "Melilla     17.8\n",
       "Canarias     7.9"
      ]
     },
     "execution_count": 243,
     "metadata": {},
     "output_type": "execute_result"
    }
   ],
   "source": [
    "# Seleccionar partes de un DF mediante el uso de filtros o como se aplicaba con los arrays de NUMPY\n",
    "\n",
    "tabla2= pd.DataFrame([10.7, 7.5, 7.1, 17.8, 7.9],\n",
    "                    columns = ['Valor'],\n",
    "                    index = ['Murcia', 'Cantabria', 'Galicia', 'Melilla', 'Canarias'])\n",
    "tabla2"
   ]
  },
  {
   "cell_type": "code",
   "execution_count": 244,
   "metadata": {},
   "outputs": [
    {
     "data": {
      "text/plain": [
       "Murcia       False\n",
       "Cantabria     True\n",
       "Galicia       True\n",
       "Melilla      False\n",
       "Canarias      True\n",
       "Name: Valor, dtype: bool"
      ]
     },
     "execution_count": 244,
     "metadata": {},
     "output_type": "execute_result"
    }
   ],
   "source": [
    "tabla2.Valor < 10  # De la columna VALOR queremos los datos que cumplan la condicion de ser menores que 10"
   ]
  },
  {
   "cell_type": "code",
   "execution_count": 245,
   "metadata": {},
   "outputs": [
    {
     "data": {
      "text/html": [
       "<div>\n",
       "<style scoped>\n",
       "    .dataframe tbody tr th:only-of-type {\n",
       "        vertical-align: middle;\n",
       "    }\n",
       "\n",
       "    .dataframe tbody tr th {\n",
       "        vertical-align: top;\n",
       "    }\n",
       "\n",
       "    .dataframe thead th {\n",
       "        text-align: right;\n",
       "    }\n",
       "</style>\n",
       "<table border=\"1\" class=\"dataframe\">\n",
       "  <thead>\n",
       "    <tr style=\"text-align: right;\">\n",
       "      <th></th>\n",
       "      <th>Valor</th>\n",
       "    </tr>\n",
       "  </thead>\n",
       "  <tbody>\n",
       "    <tr>\n",
       "      <th>Cantabria</th>\n",
       "      <td>7.5</td>\n",
       "    </tr>\n",
       "    <tr>\n",
       "      <th>Galicia</th>\n",
       "      <td>7.1</td>\n",
       "    </tr>\n",
       "    <tr>\n",
       "      <th>Canarias</th>\n",
       "      <td>7.9</td>\n",
       "    </tr>\n",
       "  </tbody>\n",
       "</table>\n",
       "</div>"
      ],
      "text/plain": [
       "           Valor\n",
       "Cantabria    7.5\n",
       "Galicia      7.1\n",
       "Canarias     7.9"
      ]
     },
     "execution_count": 245,
     "metadata": {},
     "output_type": "execute_result"
    }
   ],
   "source": [
    "tabla2[tabla2.Valor < 10]  # Aplicamos un filtro con condicion para que enseñe determinados valores"
   ]
  },
  {
   "cell_type": "markdown",
   "metadata": {},
   "source": [
    "### Actualización de datos de un DF"
   ]
  },
  {
   "cell_type": "markdown",
   "metadata": {},
   "source": [
    "A veces, los datos que analizamos __no contienen toda la informacion necesaria__ o no estan dentro del __formato__ adecuado.\n",
    "- SOLUCION: __modificar los valores del df__, borrar columnas, crear columnas con nuevos valores o incluso columnas cuyos valores se calcular a partir de valores de otras columnas."
   ]
  },
  {
   "cell_type": "markdown",
   "metadata": {},
   "source": [
    "##### Modificando valores de un DF"
   ]
  },
  {
   "cell_type": "code",
   "execution_count": 246,
   "metadata": {},
   "outputs": [],
   "source": [
    "# A partir de un valor concreto o un ARRAY de valores\n",
    "\n",
    "tabla3.Tipo = 'D' # creamos una columna nueva llamada Tipo con valores equivalentes a D"
   ]
  },
  {
   "cell_type": "code",
   "execution_count": 247,
   "metadata": {},
   "outputs": [],
   "source": [
    "tabla3['nueva'] = 'P' # creamos una columna nueva llamada nueva con valores equivalentes a P"
   ]
  },
  {
   "cell_type": "code",
   "execution_count": 248,
   "metadata": {},
   "outputs": [
    {
     "data": {
      "text/html": [
       "<div>\n",
       "<style scoped>\n",
       "    .dataframe tbody tr th:only-of-type {\n",
       "        vertical-align: middle;\n",
       "    }\n",
       "\n",
       "    .dataframe tbody tr th {\n",
       "        vertical-align: top;\n",
       "    }\n",
       "\n",
       "    .dataframe thead th {\n",
       "        text-align: right;\n",
       "    }\n",
       "</style>\n",
       "<table border=\"1\" class=\"dataframe\">\n",
       "  <thead>\n",
       "    <tr style=\"text-align: right;\">\n",
       "      <th></th>\n",
       "      <th>Desc</th>\n",
       "      <th>2004</th>\n",
       "      <th>2005</th>\n",
       "      <th>2006</th>\n",
       "      <th>Tipo</th>\n",
       "      <th>nueva</th>\n",
       "    </tr>\n",
       "  </thead>\n",
       "  <tbody>\n",
       "    <tr>\n",
       "      <th>EE</th>\n",
       "      <td>Estonia</td>\n",
       "      <td>8.40</td>\n",
       "      <td>7.70</td>\n",
       "      <td>6.70</td>\n",
       "      <td>D</td>\n",
       "      <td>P</td>\n",
       "    </tr>\n",
       "    <tr>\n",
       "      <th>IE</th>\n",
       "      <td>Ireland</td>\n",
       "      <td>193.50</td>\n",
       "      <td>227.76</td>\n",
       "      <td>221.05</td>\n",
       "      <td>D</td>\n",
       "      <td>P</td>\n",
       "    </tr>\n",
       "    <tr>\n",
       "      <th>EL</th>\n",
       "      <td>Greece</td>\n",
       "      <td>1.40</td>\n",
       "      <td>1.60</td>\n",
       "      <td>1.50</td>\n",
       "      <td>D</td>\n",
       "      <td>P</td>\n",
       "    </tr>\n",
       "    <tr>\n",
       "      <th>ES</th>\n",
       "      <td>Spain</td>\n",
       "      <td>50.52</td>\n",
       "      <td>58.90</td>\n",
       "      <td>46.72</td>\n",
       "      <td>D</td>\n",
       "      <td>P</td>\n",
       "    </tr>\n",
       "    <tr>\n",
       "      <th>FR</th>\n",
       "      <td>France</td>\n",
       "      <td>415.09</td>\n",
       "      <td>423.10</td>\n",
       "      <td>400.52</td>\n",
       "      <td>D</td>\n",
       "      <td>P</td>\n",
       "    </tr>\n",
       "  </tbody>\n",
       "</table>\n",
       "</div>"
      ],
      "text/plain": [
       "       Desc    2004    2005    2006 Tipo nueva\n",
       "EE  Estonia    8.40    7.70    6.70    D     P\n",
       "IE  Ireland  193.50  227.76  221.05    D     P\n",
       "EL   Greece    1.40    1.60    1.50    D     P\n",
       "ES    Spain   50.52   58.90   46.72    D     P\n",
       "FR   France  415.09  423.10  400.52    D     P"
      ]
     },
     "execution_count": 248,
     "metadata": {},
     "output_type": "execute_result"
    }
   ],
   "source": [
    "tabla3"
   ]
  },
  {
   "cell_type": "code",
   "execution_count": 249,
   "metadata": {},
   "outputs": [
    {
     "data": {
      "text/html": [
       "<div>\n",
       "<style scoped>\n",
       "    .dataframe tbody tr th:only-of-type {\n",
       "        vertical-align: middle;\n",
       "    }\n",
       "\n",
       "    .dataframe tbody tr th {\n",
       "        vertical-align: top;\n",
       "    }\n",
       "\n",
       "    .dataframe thead th {\n",
       "        text-align: right;\n",
       "    }\n",
       "</style>\n",
       "<table border=\"1\" class=\"dataframe\">\n",
       "  <thead>\n",
       "    <tr style=\"text-align: right;\">\n",
       "      <th></th>\n",
       "      <th>Desc</th>\n",
       "      <th>2004</th>\n",
       "      <th>2005</th>\n",
       "      <th>2006</th>\n",
       "      <th>Tipo</th>\n",
       "      <th>nueva</th>\n",
       "    </tr>\n",
       "  </thead>\n",
       "  <tbody>\n",
       "    <tr>\n",
       "      <th>EE</th>\n",
       "      <td>Estonia</td>\n",
       "      <td>8.40</td>\n",
       "      <td>7.70</td>\n",
       "      <td>6.70</td>\n",
       "      <td>D</td>\n",
       "      <td>P</td>\n",
       "    </tr>\n",
       "    <tr>\n",
       "      <th>IE</th>\n",
       "      <td>Ireland</td>\n",
       "      <td>193.50</td>\n",
       "      <td>227.76</td>\n",
       "      <td>221.05</td>\n",
       "      <td>D</td>\n",
       "      <td>P</td>\n",
       "    </tr>\n",
       "    <tr>\n",
       "      <th>EL</th>\n",
       "      <td>Greece</td>\n",
       "      <td>1.40</td>\n",
       "      <td>1.60</td>\n",
       "      <td>1.50</td>\n",
       "      <td>D</td>\n",
       "      <td>P</td>\n",
       "    </tr>\n",
       "    <tr>\n",
       "      <th>ES</th>\n",
       "      <td>Spain</td>\n",
       "      <td>50.52</td>\n",
       "      <td>58.90</td>\n",
       "      <td>46.72</td>\n",
       "      <td>E</td>\n",
       "      <td>P</td>\n",
       "    </tr>\n",
       "    <tr>\n",
       "      <th>FR</th>\n",
       "      <td>France</td>\n",
       "      <td>415.09</td>\n",
       "      <td>423.10</td>\n",
       "      <td>400.52</td>\n",
       "      <td>F</td>\n",
       "      <td>P</td>\n",
       "    </tr>\n",
       "  </tbody>\n",
       "</table>\n",
       "</div>"
      ],
      "text/plain": [
       "       Desc    2004    2005    2006 Tipo nueva\n",
       "EE  Estonia    8.40    7.70    6.70    D     P\n",
       "IE  Ireland  193.50  227.76  221.05    D     P\n",
       "EL   Greece    1.40    1.60    1.50    D     P\n",
       "ES    Spain   50.52   58.90   46.72    E     P\n",
       "FR   France  415.09  423.10  400.52    F     P"
      ]
     },
     "execution_count": 249,
     "metadata": {},
     "output_type": "execute_result"
    }
   ],
   "source": [
    "tabla3.Tipo = ['D', 'D', 'D', 'E', 'F']  # cambiamos los valores que hay dentro del df a partir de una columna\n",
    "tabla3"
   ]
  },
  {
   "cell_type": "markdown",
   "metadata": {},
   "source": [
    "##### map"
   ]
  },
  {
   "cell_type": "markdown",
   "metadata": {},
   "source": [
    "Modificar el __valor de una columna__ aplicando una __FUNCION DE TRANSFORMACION__. "
   ]
  },
  {
   "cell_type": "code",
   "execution_count": 250,
   "metadata": {},
   "outputs": [
    {
     "data": {
      "text/html": [
       "<div>\n",
       "<style scoped>\n",
       "    .dataframe tbody tr th:only-of-type {\n",
       "        vertical-align: middle;\n",
       "    }\n",
       "\n",
       "    .dataframe tbody tr th {\n",
       "        vertical-align: top;\n",
       "    }\n",
       "\n",
       "    .dataframe thead th {\n",
       "        text-align: right;\n",
       "    }\n",
       "</style>\n",
       "<table border=\"1\" class=\"dataframe\">\n",
       "  <thead>\n",
       "    <tr style=\"text-align: right;\">\n",
       "      <th></th>\n",
       "      <th>Desc</th>\n",
       "      <th>2004</th>\n",
       "      <th>2005</th>\n",
       "      <th>2006</th>\n",
       "      <th>Tipo</th>\n",
       "      <th>nueva</th>\n",
       "    </tr>\n",
       "  </thead>\n",
       "  <tbody>\n",
       "    <tr>\n",
       "      <th>EE</th>\n",
       "      <td>ESTONIA</td>\n",
       "      <td>8.40</td>\n",
       "      <td>7.70</td>\n",
       "      <td>6.70</td>\n",
       "      <td>D</td>\n",
       "      <td>P</td>\n",
       "    </tr>\n",
       "    <tr>\n",
       "      <th>IE</th>\n",
       "      <td>IRELAND</td>\n",
       "      <td>193.50</td>\n",
       "      <td>227.76</td>\n",
       "      <td>221.05</td>\n",
       "      <td>D</td>\n",
       "      <td>P</td>\n",
       "    </tr>\n",
       "    <tr>\n",
       "      <th>EL</th>\n",
       "      <td>GREECE</td>\n",
       "      <td>1.40</td>\n",
       "      <td>1.60</td>\n",
       "      <td>1.50</td>\n",
       "      <td>D</td>\n",
       "      <td>P</td>\n",
       "    </tr>\n",
       "    <tr>\n",
       "      <th>ES</th>\n",
       "      <td>SPAIN</td>\n",
       "      <td>50.52</td>\n",
       "      <td>58.90</td>\n",
       "      <td>46.72</td>\n",
       "      <td>E</td>\n",
       "      <td>P</td>\n",
       "    </tr>\n",
       "    <tr>\n",
       "      <th>FR</th>\n",
       "      <td>FRANCE</td>\n",
       "      <td>415.09</td>\n",
       "      <td>423.10</td>\n",
       "      <td>400.52</td>\n",
       "      <td>F</td>\n",
       "      <td>P</td>\n",
       "    </tr>\n",
       "  </tbody>\n",
       "</table>\n",
       "</div>"
      ],
      "text/plain": [
       "       Desc    2004    2005    2006 Tipo nueva\n",
       "EE  ESTONIA    8.40    7.70    6.70    D     P\n",
       "IE  IRELAND  193.50  227.76  221.05    D     P\n",
       "EL   GREECE    1.40    1.60    1.50    D     P\n",
       "ES    SPAIN   50.52   58.90   46.72    E     P\n",
       "FR   FRANCE  415.09  423.10  400.52    F     P"
      ]
     },
     "execution_count": 250,
     "metadata": {},
     "output_type": "execute_result"
    }
   ],
   "source": [
    "# Transformar los valores de la columna Desc a MAYUSCULAS\n",
    "tabla3.Desc = tabla3.Desc.map(str.upper)  # Poner todos los valores en MAYUSCULAS con MAP\n",
    "tabla3"
   ]
  },
  {
   "cell_type": "markdown",
   "metadata": {},
   "source": [
    "##### applymap"
   ]
  },
  {
   "cell_type": "markdown",
   "metadata": {},
   "source": [
    "La funcion __map__ aplica la funcion __lambda__ a CADA UNO DE LOS VALORES DE LA COLUMNA. \n",
    "\n",
    "Si queremos modificar todos los datos de tipo (`numerico`) del DF de forma que __TENGAN UN UNICO DECIMAL__, usamos applymap junto con lambda:"
   ]
  },
  {
   "cell_type": "code",
   "execution_count": 251,
   "metadata": {},
   "outputs": [
    {
     "data": {
      "text/html": [
       "<div>\n",
       "<style scoped>\n",
       "    .dataframe tbody tr th:only-of-type {\n",
       "        vertical-align: middle;\n",
       "    }\n",
       "\n",
       "    .dataframe tbody tr th {\n",
       "        vertical-align: top;\n",
       "    }\n",
       "\n",
       "    .dataframe thead th {\n",
       "        text-align: right;\n",
       "    }\n",
       "</style>\n",
       "<table border=\"1\" class=\"dataframe\">\n",
       "  <thead>\n",
       "    <tr style=\"text-align: right;\">\n",
       "      <th></th>\n",
       "      <th>Desc</th>\n",
       "      <th>2004</th>\n",
       "      <th>2005</th>\n",
       "      <th>2006</th>\n",
       "      <th>Tipo</th>\n",
       "      <th>nueva</th>\n",
       "    </tr>\n",
       "  </thead>\n",
       "  <tbody>\n",
       "    <tr>\n",
       "      <th>EE</th>\n",
       "      <td>ESTONIA</td>\n",
       "      <td>8.4</td>\n",
       "      <td>7.7</td>\n",
       "      <td>6.7</td>\n",
       "      <td>D</td>\n",
       "      <td>P</td>\n",
       "    </tr>\n",
       "    <tr>\n",
       "      <th>IE</th>\n",
       "      <td>IRELAND</td>\n",
       "      <td>193.5</td>\n",
       "      <td>227.8</td>\n",
       "      <td>221.1</td>\n",
       "      <td>D</td>\n",
       "      <td>P</td>\n",
       "    </tr>\n",
       "    <tr>\n",
       "      <th>EL</th>\n",
       "      <td>GREECE</td>\n",
       "      <td>1.4</td>\n",
       "      <td>1.6</td>\n",
       "      <td>1.5</td>\n",
       "      <td>D</td>\n",
       "      <td>P</td>\n",
       "    </tr>\n",
       "    <tr>\n",
       "      <th>ES</th>\n",
       "      <td>SPAIN</td>\n",
       "      <td>50.5</td>\n",
       "      <td>58.9</td>\n",
       "      <td>46.7</td>\n",
       "      <td>E</td>\n",
       "      <td>P</td>\n",
       "    </tr>\n",
       "    <tr>\n",
       "      <th>FR</th>\n",
       "      <td>FRANCE</td>\n",
       "      <td>415.1</td>\n",
       "      <td>423.1</td>\n",
       "      <td>400.5</td>\n",
       "      <td>F</td>\n",
       "      <td>P</td>\n",
       "    </tr>\n",
       "  </tbody>\n",
       "</table>\n",
       "</div>"
      ],
      "text/plain": [
       "       Desc   2004   2005   2006 Tipo nueva\n",
       "EE  ESTONIA    8.4    7.7    6.7    D     P\n",
       "IE  IRELAND  193.5  227.8  221.1    D     P\n",
       "EL   GREECE    1.4    1.6    1.5    D     P\n",
       "ES    SPAIN   50.5   58.9   46.7    E     P\n",
       "FR   FRANCE  415.1  423.1  400.5    F     P"
      ]
     },
     "execution_count": 251,
     "metadata": {},
     "output_type": "execute_result"
    }
   ],
   "source": [
    "tabla3 = tabla3.applymap(lambda x : round(x,1) if type(x) == float else x)  # poner un decimal en el DATAFRAME\n",
    "tabla3"
   ]
  },
  {
   "cell_type": "markdown",
   "metadata": {},
   "source": [
    "### Eliminar columnas en un DF"
   ]
  },
  {
   "cell_type": "markdown",
   "metadata": {},
   "source": [
    "##### pop, drop"
   ]
  },
  {
   "cell_type": "markdown",
   "metadata": {},
   "source": [
    "1. METODO __pop__ de clase DF : ELIMINA __UNA COLUMNA ESPECIFICADA__ y devuelve la columna con un __OBJETO DE TIPO SERIE__.\n",
    "> Este metodo modifica el DF \n",
    "\n",
    "2. METODO __drop__ : BORRA TANTO __FILAS COMO COLUMNAS__ PEROOOOO devuelve una copia del df.\n",
    "> Este metodo NO modifica el DF"
   ]
  },
  {
   "cell_type": "code",
   "execution_count": 252,
   "metadata": {},
   "outputs": [
    {
     "data": {
      "text/plain": [
       "EE    D\n",
       "IE    D\n",
       "EL    D\n",
       "ES    E\n",
       "FR    F\n",
       "Name: Tipo, dtype: object"
      ]
     },
     "execution_count": 252,
     "metadata": {},
     "output_type": "execute_result"
    }
   ],
   "source": [
    "# Eliminar la columna Tipo y devuelve una SERIE, luego miramos la tabla 3\n",
    "columna_tipo = tabla3.pop('Tipo')\n",
    "columna_tipo"
   ]
  },
  {
   "cell_type": "code",
   "execution_count": 253,
   "metadata": {},
   "outputs": [
    {
     "data": {
      "text/html": [
       "<div>\n",
       "<style scoped>\n",
       "    .dataframe tbody tr th:only-of-type {\n",
       "        vertical-align: middle;\n",
       "    }\n",
       "\n",
       "    .dataframe tbody tr th {\n",
       "        vertical-align: top;\n",
       "    }\n",
       "\n",
       "    .dataframe thead th {\n",
       "        text-align: right;\n",
       "    }\n",
       "</style>\n",
       "<table border=\"1\" class=\"dataframe\">\n",
       "  <thead>\n",
       "    <tr style=\"text-align: right;\">\n",
       "      <th></th>\n",
       "      <th>Desc</th>\n",
       "      <th>2004</th>\n",
       "      <th>2005</th>\n",
       "      <th>2006</th>\n",
       "      <th>nueva</th>\n",
       "    </tr>\n",
       "  </thead>\n",
       "  <tbody>\n",
       "    <tr>\n",
       "      <th>EE</th>\n",
       "      <td>ESTONIA</td>\n",
       "      <td>8.4</td>\n",
       "      <td>7.7</td>\n",
       "      <td>6.7</td>\n",
       "      <td>P</td>\n",
       "    </tr>\n",
       "    <tr>\n",
       "      <th>IE</th>\n",
       "      <td>IRELAND</td>\n",
       "      <td>193.5</td>\n",
       "      <td>227.8</td>\n",
       "      <td>221.1</td>\n",
       "      <td>P</td>\n",
       "    </tr>\n",
       "    <tr>\n",
       "      <th>EL</th>\n",
       "      <td>GREECE</td>\n",
       "      <td>1.4</td>\n",
       "      <td>1.6</td>\n",
       "      <td>1.5</td>\n",
       "      <td>P</td>\n",
       "    </tr>\n",
       "    <tr>\n",
       "      <th>ES</th>\n",
       "      <td>SPAIN</td>\n",
       "      <td>50.5</td>\n",
       "      <td>58.9</td>\n",
       "      <td>46.7</td>\n",
       "      <td>P</td>\n",
       "    </tr>\n",
       "    <tr>\n",
       "      <th>FR</th>\n",
       "      <td>FRANCE</td>\n",
       "      <td>415.1</td>\n",
       "      <td>423.1</td>\n",
       "      <td>400.5</td>\n",
       "      <td>P</td>\n",
       "    </tr>\n",
       "  </tbody>\n",
       "</table>\n",
       "</div>"
      ],
      "text/plain": [
       "       Desc   2004   2005   2006 nueva\n",
       "EE  ESTONIA    8.4    7.7    6.7     P\n",
       "IE  IRELAND  193.5  227.8  221.1     P\n",
       "EL   GREECE    1.4    1.6    1.5     P\n",
       "ES    SPAIN   50.5   58.9   46.7     P\n",
       "FR   FRANCE  415.1  423.1  400.5     P"
      ]
     },
     "execution_count": 253,
     "metadata": {},
     "output_type": "execute_result"
    }
   ],
   "source": [
    "tabla3  # ya no esta la columna tipo en el df"
   ]
  },
  {
   "cell_type": "code",
   "execution_count": 254,
   "metadata": {},
   "outputs": [
    {
     "data": {
      "text/plain": [
       "pandas.core.series.Series"
      ]
     },
     "execution_count": 254,
     "metadata": {},
     "output_type": "execute_result"
    }
   ],
   "source": [
    "type(columna_tipo)"
   ]
  },
  {
   "cell_type": "code",
   "execution_count": 255,
   "metadata": {},
   "outputs": [
    {
     "data": {
      "text/html": [
       "<div>\n",
       "<style scoped>\n",
       "    .dataframe tbody tr th:only-of-type {\n",
       "        vertical-align: middle;\n",
       "    }\n",
       "\n",
       "    .dataframe tbody tr th {\n",
       "        vertical-align: top;\n",
       "    }\n",
       "\n",
       "    .dataframe thead th {\n",
       "        text-align: right;\n",
       "    }\n",
       "</style>\n",
       "<table border=\"1\" class=\"dataframe\">\n",
       "  <thead>\n",
       "    <tr style=\"text-align: right;\">\n",
       "      <th></th>\n",
       "      <th>Desc</th>\n",
       "      <th>2004</th>\n",
       "      <th>2005</th>\n",
       "      <th>2006</th>\n",
       "      <th>nueva</th>\n",
       "    </tr>\n",
       "  </thead>\n",
       "  <tbody>\n",
       "    <tr>\n",
       "      <th>EE</th>\n",
       "      <td>ESTONIA</td>\n",
       "      <td>8.4</td>\n",
       "      <td>7.7</td>\n",
       "      <td>6.7</td>\n",
       "      <td>P</td>\n",
       "    </tr>\n",
       "    <tr>\n",
       "      <th>EL</th>\n",
       "      <td>GREECE</td>\n",
       "      <td>1.4</td>\n",
       "      <td>1.6</td>\n",
       "      <td>1.5</td>\n",
       "      <td>P</td>\n",
       "    </tr>\n",
       "    <tr>\n",
       "      <th>ES</th>\n",
       "      <td>SPAIN</td>\n",
       "      <td>50.5</td>\n",
       "      <td>58.9</td>\n",
       "      <td>46.7</td>\n",
       "      <td>P</td>\n",
       "    </tr>\n",
       "  </tbody>\n",
       "</table>\n",
       "</div>"
      ],
      "text/plain": [
       "       Desc  2004  2005  2006 nueva\n",
       "EE  ESTONIA   8.4   7.7   6.7     P\n",
       "EL   GREECE   1.4   1.6   1.5     P\n",
       "ES    SPAIN  50.5  58.9  46.7     P"
      ]
     },
     "execution_count": 255,
     "metadata": {},
     "output_type": "execute_result"
    }
   ],
   "source": [
    "# Con drop: eliminamos tanto filas como columnas: UTILIZAR EL METODO AXIS\n",
    "    # lo guardamos en un nuevo DF que es una copia\n",
    "nuevo_df = tabla3.drop(['IE', 'FR'])  # estamos eliminando 2 filas\n",
    "nuevo_df "
   ]
  },
  {
   "cell_type": "code",
   "execution_count": 257,
   "metadata": {},
   "outputs": [
    {
     "data": {
      "text/html": [
       "<div>\n",
       "<style scoped>\n",
       "    .dataframe tbody tr th:only-of-type {\n",
       "        vertical-align: middle;\n",
       "    }\n",
       "\n",
       "    .dataframe tbody tr th {\n",
       "        vertical-align: top;\n",
       "    }\n",
       "\n",
       "    .dataframe thead th {\n",
       "        text-align: right;\n",
       "    }\n",
       "</style>\n",
       "<table border=\"1\" class=\"dataframe\">\n",
       "  <thead>\n",
       "    <tr style=\"text-align: right;\">\n",
       "      <th></th>\n",
       "      <th>2004</th>\n",
       "      <th>2005</th>\n",
       "      <th>2006</th>\n",
       "      <th>nueva</th>\n",
       "    </tr>\n",
       "  </thead>\n",
       "  <tbody>\n",
       "    <tr>\n",
       "      <th>EE</th>\n",
       "      <td>8.4</td>\n",
       "      <td>7.7</td>\n",
       "      <td>6.7</td>\n",
       "      <td>P</td>\n",
       "    </tr>\n",
       "    <tr>\n",
       "      <th>IE</th>\n",
       "      <td>193.5</td>\n",
       "      <td>227.8</td>\n",
       "      <td>221.1</td>\n",
       "      <td>P</td>\n",
       "    </tr>\n",
       "    <tr>\n",
       "      <th>EL</th>\n",
       "      <td>1.4</td>\n",
       "      <td>1.6</td>\n",
       "      <td>1.5</td>\n",
       "      <td>P</td>\n",
       "    </tr>\n",
       "    <tr>\n",
       "      <th>ES</th>\n",
       "      <td>50.5</td>\n",
       "      <td>58.9</td>\n",
       "      <td>46.7</td>\n",
       "      <td>P</td>\n",
       "    </tr>\n",
       "    <tr>\n",
       "      <th>FR</th>\n",
       "      <td>415.1</td>\n",
       "      <td>423.1</td>\n",
       "      <td>400.5</td>\n",
       "      <td>P</td>\n",
       "    </tr>\n",
       "  </tbody>\n",
       "</table>\n",
       "</div>"
      ],
      "text/plain": [
       "     2004   2005   2006 nueva\n",
       "EE    8.4    7.7    6.7     P\n",
       "IE  193.5  227.8  221.1     P\n",
       "EL    1.4    1.6    1.5     P\n",
       "ES   50.5   58.9   46.7     P\n",
       "FR  415.1  423.1  400.5     P"
      ]
     },
     "execution_count": 257,
     "metadata": {},
     "output_type": "execute_result"
    }
   ],
   "source": [
    "tabla3.drop('Desc', axis=1, inplace=True)\n",
    "tabla3  # hemos eliminado de las columnas una entera"
   ]
  },
  {
   "cell_type": "markdown",
   "metadata": {},
   "source": [
    "### Insertar datos en un DF"
   ]
  },
  {
   "cell_type": "markdown",
   "metadata": {},
   "source": [
    "Para añadir __NUEVAS COLUMNAS al DF__ (calculadas o no) podemos usar la notacion de los [nombre de la nueva columna]."
   ]
  },
  {
   "cell_type": "code",
   "execution_count": 258,
   "metadata": {},
   "outputs": [
    {
     "data": {
      "text/html": [
       "<div>\n",
       "<style scoped>\n",
       "    .dataframe tbody tr th:only-of-type {\n",
       "        vertical-align: middle;\n",
       "    }\n",
       "\n",
       "    .dataframe tbody tr th {\n",
       "        vertical-align: top;\n",
       "    }\n",
       "\n",
       "    .dataframe thead th {\n",
       "        text-align: right;\n",
       "    }\n",
       "</style>\n",
       "<table border=\"1\" class=\"dataframe\">\n",
       "  <thead>\n",
       "    <tr style=\"text-align: right;\">\n",
       "      <th></th>\n",
       "      <th>2004</th>\n",
       "      <th>2005</th>\n",
       "      <th>2006</th>\n",
       "      <th>nueva</th>\n",
       "      <th>Unidad</th>\n",
       "    </tr>\n",
       "  </thead>\n",
       "  <tbody>\n",
       "    <tr>\n",
       "      <th>EE</th>\n",
       "      <td>8.4</td>\n",
       "      <td>7.7</td>\n",
       "      <td>6.7</td>\n",
       "      <td>P</td>\n",
       "      <td>1000 T</td>\n",
       "    </tr>\n",
       "    <tr>\n",
       "      <th>IE</th>\n",
       "      <td>193.5</td>\n",
       "      <td>227.8</td>\n",
       "      <td>221.1</td>\n",
       "      <td>P</td>\n",
       "      <td>1000 T</td>\n",
       "    </tr>\n",
       "    <tr>\n",
       "      <th>EL</th>\n",
       "      <td>1.4</td>\n",
       "      <td>1.6</td>\n",
       "      <td>1.5</td>\n",
       "      <td>P</td>\n",
       "      <td>1000 T</td>\n",
       "    </tr>\n",
       "    <tr>\n",
       "      <th>ES</th>\n",
       "      <td>50.5</td>\n",
       "      <td>58.9</td>\n",
       "      <td>46.7</td>\n",
       "      <td>P</td>\n",
       "      <td>1000 T</td>\n",
       "    </tr>\n",
       "    <tr>\n",
       "      <th>FR</th>\n",
       "      <td>415.1</td>\n",
       "      <td>423.1</td>\n",
       "      <td>400.5</td>\n",
       "      <td>P</td>\n",
       "      <td>1000 T</td>\n",
       "    </tr>\n",
       "  </tbody>\n",
       "</table>\n",
       "</div>"
      ],
      "text/plain": [
       "     2004   2005   2006 nueva  Unidad\n",
       "EE    8.4    7.7    6.7     P  1000 T\n",
       "IE  193.5  227.8  221.1     P  1000 T\n",
       "EL    1.4    1.6    1.5     P  1000 T\n",
       "ES   50.5   58.9   46.7     P  1000 T\n",
       "FR  415.1  423.1  400.5     P  1000 T"
      ]
     },
     "execution_count": 258,
     "metadata": {},
     "output_type": "execute_result"
    }
   ],
   "source": [
    "tabla3['Unidad'] = '1000 T'\n",
    "tabla3"
   ]
  },
  {
   "cell_type": "markdown",
   "metadata": {},
   "source": [
    "Para crear una __COLUMNA NUEVA CALCULADA A PARTIR DE OTRAS COLUMNAS DEL DF__"
   ]
  },
  {
   "cell_type": "code",
   "execution_count": 259,
   "metadata": {},
   "outputs": [],
   "source": [
    "# Crear la columna de totales"
   ]
  },
  {
   "cell_type": "code",
   "execution_count": 260,
   "metadata": {},
   "outputs": [
    {
     "data": {
      "text/html": [
       "<div>\n",
       "<style scoped>\n",
       "    .dataframe tbody tr th:only-of-type {\n",
       "        vertical-align: middle;\n",
       "    }\n",
       "\n",
       "    .dataframe tbody tr th {\n",
       "        vertical-align: top;\n",
       "    }\n",
       "\n",
       "    .dataframe thead th {\n",
       "        text-align: right;\n",
       "    }\n",
       "</style>\n",
       "<table border=\"1\" class=\"dataframe\">\n",
       "  <thead>\n",
       "    <tr style=\"text-align: right;\">\n",
       "      <th></th>\n",
       "      <th>2004</th>\n",
       "      <th>2005</th>\n",
       "      <th>2006</th>\n",
       "      <th>nueva</th>\n",
       "      <th>Unidad</th>\n",
       "      <th>Total</th>\n",
       "    </tr>\n",
       "  </thead>\n",
       "  <tbody>\n",
       "    <tr>\n",
       "      <th>EE</th>\n",
       "      <td>8.4</td>\n",
       "      <td>7.7</td>\n",
       "      <td>6.7</td>\n",
       "      <td>P</td>\n",
       "      <td>1000 T</td>\n",
       "      <td>22.8</td>\n",
       "    </tr>\n",
       "    <tr>\n",
       "      <th>IE</th>\n",
       "      <td>193.5</td>\n",
       "      <td>227.8</td>\n",
       "      <td>221.1</td>\n",
       "      <td>P</td>\n",
       "      <td>1000 T</td>\n",
       "      <td>642.4</td>\n",
       "    </tr>\n",
       "    <tr>\n",
       "      <th>EL</th>\n",
       "      <td>1.4</td>\n",
       "      <td>1.6</td>\n",
       "      <td>1.5</td>\n",
       "      <td>P</td>\n",
       "      <td>1000 T</td>\n",
       "      <td>4.5</td>\n",
       "    </tr>\n",
       "    <tr>\n",
       "      <th>ES</th>\n",
       "      <td>50.5</td>\n",
       "      <td>58.9</td>\n",
       "      <td>46.7</td>\n",
       "      <td>P</td>\n",
       "      <td>1000 T</td>\n",
       "      <td>156.1</td>\n",
       "    </tr>\n",
       "    <tr>\n",
       "      <th>FR</th>\n",
       "      <td>415.1</td>\n",
       "      <td>423.1</td>\n",
       "      <td>400.5</td>\n",
       "      <td>P</td>\n",
       "      <td>1000 T</td>\n",
       "      <td>1238.7</td>\n",
       "    </tr>\n",
       "  </tbody>\n",
       "</table>\n",
       "</div>"
      ],
      "text/plain": [
       "     2004   2005   2006 nueva  Unidad   Total\n",
       "EE    8.4    7.7    6.7     P  1000 T    22.8\n",
       "IE  193.5  227.8  221.1     P  1000 T   642.4\n",
       "EL    1.4    1.6    1.5     P  1000 T     4.5\n",
       "ES   50.5   58.9   46.7     P  1000 T   156.1\n",
       "FR  415.1  423.1  400.5     P  1000 T  1238.7"
      ]
     },
     "execution_count": 260,
     "metadata": {},
     "output_type": "execute_result"
    }
   ],
   "source": [
    "tabla3['Total'] = tabla3['2004'] + tabla3['2005'] + tabla3['2006']\n",
    "tabla3"
   ]
  },
  {
   "cell_type": "markdown",
   "metadata": {},
   "source": [
    "Otra forma de __AÑADIR INFORMACION AL DF__ es mediante __INSERT__ \n",
    "- Para insertar __UNA COLUMNA__ que __HEMOS ELIMINADO ANTERIORMENTE CON UNA POSICION__ escribimos:"
   ]
  },
  {
   "cell_type": "code",
   "execution_count": 261,
   "metadata": {},
   "outputs": [
    {
     "data": {
      "text/html": [
       "<div>\n",
       "<style scoped>\n",
       "    .dataframe tbody tr th:only-of-type {\n",
       "        vertical-align: middle;\n",
       "    }\n",
       "\n",
       "    .dataframe tbody tr th {\n",
       "        vertical-align: top;\n",
       "    }\n",
       "\n",
       "    .dataframe thead th {\n",
       "        text-align: right;\n",
       "    }\n",
       "</style>\n",
       "<table border=\"1\" class=\"dataframe\">\n",
       "  <thead>\n",
       "    <tr style=\"text-align: right;\">\n",
       "      <th></th>\n",
       "      <th>2004</th>\n",
       "      <th>2005</th>\n",
       "      <th>Tipo</th>\n",
       "      <th>2006</th>\n",
       "      <th>nueva</th>\n",
       "      <th>Unidad</th>\n",
       "      <th>Total</th>\n",
       "    </tr>\n",
       "  </thead>\n",
       "  <tbody>\n",
       "    <tr>\n",
       "      <th>EE</th>\n",
       "      <td>8.4</td>\n",
       "      <td>7.7</td>\n",
       "      <td>D</td>\n",
       "      <td>6.7</td>\n",
       "      <td>P</td>\n",
       "      <td>1000 T</td>\n",
       "      <td>22.8</td>\n",
       "    </tr>\n",
       "    <tr>\n",
       "      <th>IE</th>\n",
       "      <td>193.5</td>\n",
       "      <td>227.8</td>\n",
       "      <td>D</td>\n",
       "      <td>221.1</td>\n",
       "      <td>P</td>\n",
       "      <td>1000 T</td>\n",
       "      <td>642.4</td>\n",
       "    </tr>\n",
       "    <tr>\n",
       "      <th>EL</th>\n",
       "      <td>1.4</td>\n",
       "      <td>1.6</td>\n",
       "      <td>D</td>\n",
       "      <td>1.5</td>\n",
       "      <td>P</td>\n",
       "      <td>1000 T</td>\n",
       "      <td>4.5</td>\n",
       "    </tr>\n",
       "    <tr>\n",
       "      <th>ES</th>\n",
       "      <td>50.5</td>\n",
       "      <td>58.9</td>\n",
       "      <td>E</td>\n",
       "      <td>46.7</td>\n",
       "      <td>P</td>\n",
       "      <td>1000 T</td>\n",
       "      <td>156.1</td>\n",
       "    </tr>\n",
       "    <tr>\n",
       "      <th>FR</th>\n",
       "      <td>415.1</td>\n",
       "      <td>423.1</td>\n",
       "      <td>F</td>\n",
       "      <td>400.5</td>\n",
       "      <td>P</td>\n",
       "      <td>1000 T</td>\n",
       "      <td>1238.7</td>\n",
       "    </tr>\n",
       "  </tbody>\n",
       "</table>\n",
       "</div>"
      ],
      "text/plain": [
       "     2004   2005 Tipo   2006 nueva  Unidad   Total\n",
       "EE    8.4    7.7    D    6.7     P  1000 T    22.8\n",
       "IE  193.5  227.8    D  221.1     P  1000 T   642.4\n",
       "EL    1.4    1.6    D    1.5     P  1000 T     4.5\n",
       "ES   50.5   58.9    E   46.7     P  1000 T   156.1\n",
       "FR  415.1  423.1    F  400.5     P  1000 T  1238.7"
      ]
     },
     "execution_count": 261,
     "metadata": {},
     "output_type": "execute_result"
    }
   ],
   "source": [
    "# Insertar una nueva columna en la segunda posicion\n",
    "\n",
    "tabla3.insert(2, 'Tipo', columna_tipo)\n",
    "tabla3  # insertar una nueva columna en la posicion 2 que se llame Tipo con los datos de columna_tipo"
   ]
  },
  {
   "cell_type": "markdown",
   "metadata": {},
   "source": [
    "## Preparacion y Limpieza de los Datos"
   ]
  },
  {
   "cell_type": "markdown",
   "metadata": {},
   "source": [
    "La mayor parte en analisis de datos se invierte en la preparacion de datos. \n",
    "- Se necesita un __determinado formato__ y a veces no cumplen nuestros __requisitos__\n",
    "- Es necesario proceder a la limpieza, transformacion, procesamiento..."
   ]
  },
  {
   "cell_type": "code",
   "execution_count": 51,
   "metadata": {},
   "outputs": [],
   "source": [
    "# Importacion de librerias en limpieza de datos\n",
    "\n",
    "import numpy as np\n",
    "import pandas as pd\n",
    "\n",
    "import matplotlib as mpl\n",
    "import matplotlib.pyplot as plt\n",
    "\n",
    "%matplotlib inline  # esto implica que las graficas estaran incluidas en nuestro notebook seguido del codigo"
   ]
  },
  {
   "cell_type": "markdown",
   "metadata": {},
   "source": [
    "### Eliminacion de duplicados :\n",
    "- __Cuidado : 'Grandes Cantidades de datos'__\n",
    "- Método duplicated de la clase DataFrame: permite identificar FILAS repetidas\n",
    "    - Resultado: __Serie con resultados de tipo BOOLEANOS: cada uno asociado a una FILA__\n",
    "    \n",
    "- __True__: YA EXISTE una fila anterior en el DF con los mismo valores (la primera aparicion no se considera repetida)\n",
    "- __False__: NO EXISTE una fila anterior con valores repetidos."
   ]
  },
  {
   "cell_type": "code",
   "execution_count": 52,
   "metadata": {},
   "outputs": [
    {
     "data": {
      "text/html": [
       "<div>\n",
       "<style scoped>\n",
       "    .dataframe tbody tr th:only-of-type {\n",
       "        vertical-align: middle;\n",
       "    }\n",
       "\n",
       "    .dataframe tbody tr th {\n",
       "        vertical-align: top;\n",
       "    }\n",
       "\n",
       "    .dataframe thead th {\n",
       "        text-align: right;\n",
       "    }\n",
       "</style>\n",
       "<table border=\"1\" class=\"dataframe\">\n",
       "  <thead>\n",
       "    <tr style=\"text-align: right;\">\n",
       "      <th></th>\n",
       "      <th>Nombre</th>\n",
       "      <th>Millas Cuadradas</th>\n",
       "    </tr>\n",
       "  </thead>\n",
       "  <tbody>\n",
       "    <tr>\n",
       "      <th>0</th>\n",
       "      <td>Africa</td>\n",
       "      <td>11506</td>\n",
       "    </tr>\n",
       "    <tr>\n",
       "      <th>1</th>\n",
       "      <td>Africa</td>\n",
       "      <td>11506</td>\n",
       "    </tr>\n",
       "    <tr>\n",
       "      <th>2</th>\n",
       "      <td>Antartica</td>\n",
       "      <td>5500</td>\n",
       "    </tr>\n",
       "    <tr>\n",
       "      <th>3</th>\n",
       "      <td>Antartica</td>\n",
       "      <td>5500</td>\n",
       "    </tr>\n",
       "    <tr>\n",
       "      <th>4</th>\n",
       "      <td>Africa</td>\n",
       "      <td>11506</td>\n",
       "    </tr>\n",
       "    <tr>\n",
       "      <th>5</th>\n",
       "      <td>Banks</td>\n",
       "      <td>23</td>\n",
       "    </tr>\n",
       "    <tr>\n",
       "      <th>6</th>\n",
       "      <td>Africa</td>\n",
       "      <td>10000</td>\n",
       "    </tr>\n",
       "  </tbody>\n",
       "</table>\n",
       "</div>"
      ],
      "text/plain": [
       "      Nombre  Millas Cuadradas\n",
       "0     Africa             11506\n",
       "1     Africa             11506\n",
       "2  Antartica              5500\n",
       "3  Antartica              5500\n",
       "4     Africa             11506\n",
       "5      Banks                23\n",
       "6     Africa             10000"
      ]
     },
     "execution_count": 52,
     "metadata": {},
     "output_type": "execute_result"
    }
   ],
   "source": [
    "t = pd.DataFrame([['Africa', 11506], \n",
    "                 ['Africa', 11506], \n",
    "                 ['Antartica', 5500],\n",
    "                 ['Antartica', 5500],\n",
    "                 ['Africa', 11506],\n",
    "                 ['Banks', 23],\n",
    "                 ['Africa', 10000]], columns = ['Nombre', 'Millas Cuadradas'])\n",
    "t"
   ]
  },
  {
   "cell_type": "code",
   "execution_count": 53,
   "metadata": {},
   "outputs": [
    {
     "data": {
      "text/plain": [
       "0    False\n",
       "1     True\n",
       "2    False\n",
       "3     True\n",
       "4     True\n",
       "5    False\n",
       "6    False\n",
       "dtype: bool"
      ]
     },
     "execution_count": 53,
     "metadata": {},
     "output_type": "execute_result"
    }
   ],
   "source": [
    "t.duplicated()  # Aquellos que devuelven True indican que el valor ya sale ANTES\n",
    "\n",
    "# se utiliza como filtro para obtener un DF con las filas repetidas"
   ]
  },
  {
   "cell_type": "code",
   "execution_count": 54,
   "metadata": {},
   "outputs": [
    {
     "data": {
      "text/html": [
       "<div>\n",
       "<style scoped>\n",
       "    .dataframe tbody tr th:only-of-type {\n",
       "        vertical-align: middle;\n",
       "    }\n",
       "\n",
       "    .dataframe tbody tr th {\n",
       "        vertical-align: top;\n",
       "    }\n",
       "\n",
       "    .dataframe thead th {\n",
       "        text-align: right;\n",
       "    }\n",
       "</style>\n",
       "<table border=\"1\" class=\"dataframe\">\n",
       "  <thead>\n",
       "    <tr style=\"text-align: right;\">\n",
       "      <th></th>\n",
       "      <th>Nombre</th>\n",
       "      <th>Millas Cuadradas</th>\n",
       "    </tr>\n",
       "  </thead>\n",
       "  <tbody>\n",
       "    <tr>\n",
       "      <th>1</th>\n",
       "      <td>Africa</td>\n",
       "      <td>11506</td>\n",
       "    </tr>\n",
       "    <tr>\n",
       "      <th>3</th>\n",
       "      <td>Antartica</td>\n",
       "      <td>5500</td>\n",
       "    </tr>\n",
       "    <tr>\n",
       "      <th>4</th>\n",
       "      <td>Africa</td>\n",
       "      <td>11506</td>\n",
       "    </tr>\n",
       "  </tbody>\n",
       "</table>\n",
       "</div>"
      ],
      "text/plain": [
       "      Nombre  Millas Cuadradas\n",
       "1     Africa             11506\n",
       "3  Antartica              5500\n",
       "4     Africa             11506"
      ]
     },
     "execution_count": 54,
     "metadata": {},
     "output_type": "execute_result"
    }
   ],
   "source": [
    "t[t.duplicated()]  # devuelve los valores DUPLICADOS"
   ]
  },
  {
   "cell_type": "code",
   "execution_count": 55,
   "metadata": {},
   "outputs": [
    {
     "data": {
      "text/html": [
       "<div>\n",
       "<style scoped>\n",
       "    .dataframe tbody tr th:only-of-type {\n",
       "        vertical-align: middle;\n",
       "    }\n",
       "\n",
       "    .dataframe tbody tr th {\n",
       "        vertical-align: top;\n",
       "    }\n",
       "\n",
       "    .dataframe thead th {\n",
       "        text-align: right;\n",
       "    }\n",
       "</style>\n",
       "<table border=\"1\" class=\"dataframe\">\n",
       "  <thead>\n",
       "    <tr style=\"text-align: right;\">\n",
       "      <th></th>\n",
       "      <th>Nombre</th>\n",
       "      <th>Millas Cuadradas</th>\n",
       "    </tr>\n",
       "  </thead>\n",
       "  <tbody>\n",
       "    <tr>\n",
       "      <th>0</th>\n",
       "      <td>Africa</td>\n",
       "      <td>11506</td>\n",
       "    </tr>\n",
       "    <tr>\n",
       "      <th>2</th>\n",
       "      <td>Antartica</td>\n",
       "      <td>5500</td>\n",
       "    </tr>\n",
       "    <tr>\n",
       "      <th>5</th>\n",
       "      <td>Banks</td>\n",
       "      <td>23</td>\n",
       "    </tr>\n",
       "    <tr>\n",
       "      <th>6</th>\n",
       "      <td>Africa</td>\n",
       "      <td>10000</td>\n",
       "    </tr>\n",
       "  </tbody>\n",
       "</table>\n",
       "</div>"
      ],
      "text/plain": [
       "      Nombre  Millas Cuadradas\n",
       "0     Africa             11506\n",
       "2  Antartica              5500\n",
       "5      Banks                23\n",
       "6     Africa             10000"
      ]
     },
     "execution_count": 55,
     "metadata": {},
     "output_type": "execute_result"
    }
   ],
   "source": [
    "# Para eliminar las filas repetidas de un df utilizamos el metodo: drop_duplicates de la clase DF\n",
    "t.drop_duplicates()"
   ]
  },
  {
   "cell_type": "code",
   "execution_count": 56,
   "metadata": {},
   "outputs": [
    {
     "data": {
      "text/html": [
       "<div>\n",
       "<style scoped>\n",
       "    .dataframe tbody tr th:only-of-type {\n",
       "        vertical-align: middle;\n",
       "    }\n",
       "\n",
       "    .dataframe tbody tr th {\n",
       "        vertical-align: top;\n",
       "    }\n",
       "\n",
       "    .dataframe thead th {\n",
       "        text-align: right;\n",
       "    }\n",
       "</style>\n",
       "<table border=\"1\" class=\"dataframe\">\n",
       "  <thead>\n",
       "    <tr style=\"text-align: right;\">\n",
       "      <th></th>\n",
       "      <th>Nombre</th>\n",
       "      <th>Millas Cuadradas</th>\n",
       "    </tr>\n",
       "  </thead>\n",
       "  <tbody>\n",
       "    <tr>\n",
       "      <th>0</th>\n",
       "      <td>Africa</td>\n",
       "      <td>11506</td>\n",
       "    </tr>\n",
       "    <tr>\n",
       "      <th>2</th>\n",
       "      <td>Antartica</td>\n",
       "      <td>5500</td>\n",
       "    </tr>\n",
       "    <tr>\n",
       "      <th>5</th>\n",
       "      <td>Banks</td>\n",
       "      <td>23</td>\n",
       "    </tr>\n",
       "  </tbody>\n",
       "</table>\n",
       "</div>"
      ],
      "text/plain": [
       "      Nombre  Millas Cuadradas\n",
       "0     Africa             11506\n",
       "2  Antartica              5500\n",
       "5      Banks                23"
      ]
     },
     "execution_count": 56,
     "metadata": {},
     "output_type": "execute_result"
    }
   ],
   "source": [
    "# Nos puede interesar eliminar filas si se repiten los valores de un subconjunto de columnas \n",
    "    # indicar dicho subconjunto de columnas con el argumento subset\n",
    "t.drop_duplicates(subset=['Nombre'])  # elimina las filas en los que en la columna NOMBRE se repitan los valores"
   ]
  },
  {
   "cell_type": "markdown",
   "metadata": {},
   "source": [
    "Se mantiene por defecto primero la __primera FILA__ y se elimina el resto de __FILAS REPETIDAS__. Con el argumento __keep__ con valor __last__ se eliminan todas las filas REPETIDAS excepto la __ULTIMA APARICION__"
   ]
  },
  {
   "cell_type": "code",
   "execution_count": 57,
   "metadata": {},
   "outputs": [
    {
     "data": {
      "text/html": [
       "<div>\n",
       "<style scoped>\n",
       "    .dataframe tbody tr th:only-of-type {\n",
       "        vertical-align: middle;\n",
       "    }\n",
       "\n",
       "    .dataframe tbody tr th {\n",
       "        vertical-align: top;\n",
       "    }\n",
       "\n",
       "    .dataframe thead th {\n",
       "        text-align: right;\n",
       "    }\n",
       "</style>\n",
       "<table border=\"1\" class=\"dataframe\">\n",
       "  <thead>\n",
       "    <tr style=\"text-align: right;\">\n",
       "      <th></th>\n",
       "      <th>Nombre</th>\n",
       "      <th>Millas Cuadradas</th>\n",
       "    </tr>\n",
       "  </thead>\n",
       "  <tbody>\n",
       "    <tr>\n",
       "      <th>3</th>\n",
       "      <td>Antartica</td>\n",
       "      <td>5500</td>\n",
       "    </tr>\n",
       "    <tr>\n",
       "      <th>5</th>\n",
       "      <td>Banks</td>\n",
       "      <td>23</td>\n",
       "    </tr>\n",
       "    <tr>\n",
       "      <th>6</th>\n",
       "      <td>Africa</td>\n",
       "      <td>10000</td>\n",
       "    </tr>\n",
       "  </tbody>\n",
       "</table>\n",
       "</div>"
      ],
      "text/plain": [
       "      Nombre  Millas Cuadradas\n",
       "3  Antartica              5500\n",
       "5      Banks                23\n",
       "6     Africa             10000"
      ]
     },
     "execution_count": 57,
     "metadata": {},
     "output_type": "execute_result"
    }
   ],
   "source": [
    "t.drop_duplicates(subset=['Nombre'], keep= 'last')  # Si queremos dejar el ultimo duplicado de la fila en vez del primero"
   ]
  },
  {
   "cell_type": "markdown",
   "metadata": {},
   "source": [
    "### Aplicacion de funciones"
   ]
  },
  {
   "cell_type": "markdown",
   "metadata": {},
   "source": [
    "#### Funciones elemento a elemento"
   ]
  },
  {
   "cell_type": "markdown",
   "metadata": {},
   "source": [
    "- Pandas esta construida SOBRE NumPy por tanto las funciones de esta ultima se extienden y se adaptan a Pandas.\n",
    "- Funciones que se aplican a cad uno de los valores de la estructura\n",
    "    - Ya sea: __Series, DF o ndarray__"
   ]
  },
  {
   "cell_type": "code",
   "execution_count": 60,
   "metadata": {},
   "outputs": [
    {
     "data": {
      "text/html": [
       "<div>\n",
       "<style scoped>\n",
       "    .dataframe tbody tr th:only-of-type {\n",
       "        vertical-align: middle;\n",
       "    }\n",
       "\n",
       "    .dataframe tbody tr th {\n",
       "        vertical-align: top;\n",
       "    }\n",
       "\n",
       "    .dataframe thead th {\n",
       "        text-align: right;\n",
       "    }\n",
       "</style>\n",
       "<table border=\"1\" class=\"dataframe\">\n",
       "  <thead>\n",
       "    <tr style=\"text-align: right;\">\n",
       "      <th></th>\n",
       "      <th>2004</th>\n",
       "      <th>2005</th>\n",
       "      <th>2006</th>\n",
       "    </tr>\n",
       "  </thead>\n",
       "  <tbody>\n",
       "    <tr>\n",
       "      <th>Estonia</th>\n",
       "      <td>8</td>\n",
       "      <td>7</td>\n",
       "      <td>6</td>\n",
       "    </tr>\n",
       "    <tr>\n",
       "      <th>Ireland</th>\n",
       "      <td>2</td>\n",
       "      <td>4</td>\n",
       "      <td>16</td>\n",
       "    </tr>\n",
       "    <tr>\n",
       "      <th>Greece</th>\n",
       "      <td>10</td>\n",
       "      <td>20</td>\n",
       "      <td>30</td>\n",
       "    </tr>\n",
       "    <tr>\n",
       "      <th>Spain</th>\n",
       "      <td>4</td>\n",
       "      <td>2</td>\n",
       "      <td>5</td>\n",
       "    </tr>\n",
       "  </tbody>\n",
       "</table>\n",
       "</div>"
      ],
      "text/plain": [
       "         2004  2005  2006\n",
       "Estonia     8     7     6\n",
       "Ireland     2     4    16\n",
       "Greece     10    20    30\n",
       "Spain       4     2     5"
      ]
     },
     "execution_count": 60,
     "metadata": {},
     "output_type": "execute_result"
    }
   ],
   "source": [
    "datos = [(8, 7, 6),\n",
    "        (2,4,16), \n",
    "        (10,20,30),\n",
    "        (4,2,5)]\n",
    "tablad = pd.DataFrame(datos, columns= ['2004', '2005', '2006'],\n",
    "                     index = ['Estonia', 'Ireland', 'Greece', 'Spain'])\n",
    "tablad"
   ]
  },
  {
   "cell_type": "code",
   "execution_count": 61,
   "metadata": {},
   "outputs": [
    {
     "data": {
      "text/html": [
       "<div>\n",
       "<style scoped>\n",
       "    .dataframe tbody tr th:only-of-type {\n",
       "        vertical-align: middle;\n",
       "    }\n",
       "\n",
       "    .dataframe tbody tr th {\n",
       "        vertical-align: top;\n",
       "    }\n",
       "\n",
       "    .dataframe thead th {\n",
       "        text-align: right;\n",
       "    }\n",
       "</style>\n",
       "<table border=\"1\" class=\"dataframe\">\n",
       "  <thead>\n",
       "    <tr style=\"text-align: right;\">\n",
       "      <th></th>\n",
       "      <th>2004</th>\n",
       "      <th>2005</th>\n",
       "      <th>2006</th>\n",
       "    </tr>\n",
       "  </thead>\n",
       "  <tbody>\n",
       "    <tr>\n",
       "      <th>Estonia</th>\n",
       "      <td>64</td>\n",
       "      <td>49</td>\n",
       "      <td>36</td>\n",
       "    </tr>\n",
       "    <tr>\n",
       "      <th>Ireland</th>\n",
       "      <td>4</td>\n",
       "      <td>16</td>\n",
       "      <td>256</td>\n",
       "    </tr>\n",
       "    <tr>\n",
       "      <th>Greece</th>\n",
       "      <td>100</td>\n",
       "      <td>400</td>\n",
       "      <td>900</td>\n",
       "    </tr>\n",
       "    <tr>\n",
       "      <th>Spain</th>\n",
       "      <td>16</td>\n",
       "      <td>4</td>\n",
       "      <td>25</td>\n",
       "    </tr>\n",
       "  </tbody>\n",
       "</table>\n",
       "</div>"
      ],
      "text/plain": [
       "         2004  2005  2006\n",
       "Estonia    64    49    36\n",
       "Ireland     4    16   256\n",
       "Greece    100   400   900\n",
       "Spain      16     4    25"
      ]
     },
     "execution_count": 61,
     "metadata": {},
     "output_type": "execute_result"
    }
   ],
   "source": [
    "# Calcular el CUADRADO de cada uno de los valores del DF : np.square de Numpy\n",
    "np.square(tablad)"
   ]
  },
  {
   "cell_type": "markdown",
   "metadata": {},
   "source": [
    "Tambien se pueden aplicar FUNCIONES que definamos como usuarios\n",
    "- En el caso de tipo 'Series' es necesario utilizar el método __map__ para APLICAR FUNCIONES DE USUARIO\n"
   ]
  },
  {
   "cell_type": "code",
   "execution_count": 62,
   "metadata": {},
   "outputs": [
    {
     "data": {
      "text/plain": [
       "EE    2\n",
       "IR    4\n",
       "GR    6\n",
       "ES    8\n",
       "dtype: int64"
      ]
     },
     "execution_count": 62,
     "metadata": {},
     "output_type": "execute_result"
    }
   ],
   "source": [
    "seriemia = pd.Series([2,4,6,8], index = ['EE', 'IR', 'GR', 'ES'])\n",
    "seriemia"
   ]
  },
  {
   "cell_type": "code",
   "execution_count": 63,
   "metadata": {},
   "outputs": [],
   "source": [
    "funcion_1 = lambda x: x**2 - 2"
   ]
  },
  {
   "cell_type": "code",
   "execution_count": 65,
   "metadata": {},
   "outputs": [
    {
     "data": {
      "text/plain": [
       "EE     2\n",
       "IR    14\n",
       "GR    34\n",
       "ES    62\n",
       "dtype: int64"
      ]
     },
     "execution_count": 65,
     "metadata": {},
     "output_type": "execute_result"
    }
   ],
   "source": [
    "seriemia.map(funcion_1)  # aplicamos una funcion definida en lambda a una SERIE con MAP"
   ]
  },
  {
   "cell_type": "code",
   "execution_count": 67,
   "metadata": {},
   "outputs": [
    {
     "data": {
      "text/html": [
       "<div>\n",
       "<style scoped>\n",
       "    .dataframe tbody tr th:only-of-type {\n",
       "        vertical-align: middle;\n",
       "    }\n",
       "\n",
       "    .dataframe tbody tr th {\n",
       "        vertical-align: top;\n",
       "    }\n",
       "\n",
       "    .dataframe thead th {\n",
       "        text-align: right;\n",
       "    }\n",
       "</style>\n",
       "<table border=\"1\" class=\"dataframe\">\n",
       "  <thead>\n",
       "    <tr style=\"text-align: right;\">\n",
       "      <th></th>\n",
       "      <th>2004</th>\n",
       "      <th>2005</th>\n",
       "      <th>2006</th>\n",
       "    </tr>\n",
       "  </thead>\n",
       "  <tbody>\n",
       "    <tr>\n",
       "      <th>Estonia</th>\n",
       "      <td>62</td>\n",
       "      <td>47</td>\n",
       "      <td>34</td>\n",
       "    </tr>\n",
       "    <tr>\n",
       "      <th>Ireland</th>\n",
       "      <td>2</td>\n",
       "      <td>14</td>\n",
       "      <td>254</td>\n",
       "    </tr>\n",
       "    <tr>\n",
       "      <th>Greece</th>\n",
       "      <td>98</td>\n",
       "      <td>398</td>\n",
       "      <td>898</td>\n",
       "    </tr>\n",
       "    <tr>\n",
       "      <th>Spain</th>\n",
       "      <td>14</td>\n",
       "      <td>2</td>\n",
       "      <td>23</td>\n",
       "    </tr>\n",
       "  </tbody>\n",
       "</table>\n",
       "</div>"
      ],
      "text/plain": [
       "         2004  2005  2006\n",
       "Estonia    62    47    34\n",
       "Ireland     2    14   254\n",
       "Greece     98   398   898\n",
       "Spain      14     2    23"
      ]
     },
     "execution_count": 67,
     "metadata": {},
     "output_type": "execute_result"
    }
   ],
   "source": [
    "tablad.applymap(funcion_1)\n",
    "# aplicamos una funcion definida lambda a un DF con APPLYMAP"
   ]
  },
  {
   "cell_type": "code",
   "execution_count": 69,
   "metadata": {},
   "outputs": [],
   "source": [
    "# Creamos otra funcion que multiplique por 10 con una condicion : valores menores que 100\n",
    "\n",
    "funcion_2 = lambda x: x * 10 if x < 10 else x"
   ]
  },
  {
   "cell_type": "code",
   "execution_count": 70,
   "metadata": {},
   "outputs": [
    {
     "data": {
      "text/html": [
       "<div>\n",
       "<style scoped>\n",
       "    .dataframe tbody tr th:only-of-type {\n",
       "        vertical-align: middle;\n",
       "    }\n",
       "\n",
       "    .dataframe tbody tr th {\n",
       "        vertical-align: top;\n",
       "    }\n",
       "\n",
       "    .dataframe thead th {\n",
       "        text-align: right;\n",
       "    }\n",
       "</style>\n",
       "<table border=\"1\" class=\"dataframe\">\n",
       "  <thead>\n",
       "    <tr style=\"text-align: right;\">\n",
       "      <th></th>\n",
       "      <th>2004</th>\n",
       "      <th>2005</th>\n",
       "      <th>2006</th>\n",
       "      <th>Nueva</th>\n",
       "    </tr>\n",
       "  </thead>\n",
       "  <tbody>\n",
       "    <tr>\n",
       "      <th>Estonia</th>\n",
       "      <td>8</td>\n",
       "      <td>7</td>\n",
       "      <td>6</td>\n",
       "      <td>80</td>\n",
       "    </tr>\n",
       "    <tr>\n",
       "      <th>Ireland</th>\n",
       "      <td>2</td>\n",
       "      <td>4</td>\n",
       "      <td>16</td>\n",
       "      <td>20</td>\n",
       "    </tr>\n",
       "    <tr>\n",
       "      <th>Greece</th>\n",
       "      <td>10</td>\n",
       "      <td>20</td>\n",
       "      <td>30</td>\n",
       "      <td>10</td>\n",
       "    </tr>\n",
       "    <tr>\n",
       "      <th>Spain</th>\n",
       "      <td>4</td>\n",
       "      <td>2</td>\n",
       "      <td>5</td>\n",
       "      <td>40</td>\n",
       "    </tr>\n",
       "  </tbody>\n",
       "</table>\n",
       "</div>"
      ],
      "text/plain": [
       "         2004  2005  2006  Nueva\n",
       "Estonia     8     7     6     80\n",
       "Ireland     2     4    16     20\n",
       "Greece     10    20    30     10\n",
       "Spain       4     2     5     40"
      ]
     },
     "execution_count": 70,
     "metadata": {},
     "output_type": "execute_result"
    }
   ],
   "source": [
    "# Funciones para CREAR nuevas COLUMNAS en un DF con DATOS de otra COLUMNA\n",
    "    # Columna nueva con funcion\n",
    "\n",
    "tablad['Nueva'] = tablad['2004'].map(funcion_2)  # al ser una serie le aplicamos una funcion nueva\n",
    "tablad"
   ]
  },
  {
   "cell_type": "markdown",
   "metadata": {},
   "source": [
    "> __applymap__: se aplica a cada elemento de un __DATAFRAME__\n",
    "> __map__: se aplica a cada elemento de una __SERIE__"
   ]
  },
  {
   "cell_type": "markdown",
   "metadata": {},
   "source": [
    "### Funciones aplicables a lineas o columnas"
   ]
  },
  {
   "cell_type": "markdown",
   "metadata": {},
   "source": [
    "Con el metodo __apply__ de la clase __DF__ se aplican funciones creadas por nosotros tanto a __FILAS__ como a __COLUMNAS__ de un df"
   ]
  },
  {
   "cell_type": "code",
   "execution_count": 71,
   "metadata": {},
   "outputs": [],
   "source": [
    "funcion_3 = lambda x: x.sum() - x.min()"
   ]
  },
  {
   "cell_type": "code",
   "execution_count": 72,
   "metadata": {},
   "outputs": [
    {
     "data": {
      "text/html": [
       "<div>\n",
       "<style scoped>\n",
       "    .dataframe tbody tr th:only-of-type {\n",
       "        vertical-align: middle;\n",
       "    }\n",
       "\n",
       "    .dataframe tbody tr th {\n",
       "        vertical-align: top;\n",
       "    }\n",
       "\n",
       "    .dataframe thead th {\n",
       "        text-align: right;\n",
       "    }\n",
       "</style>\n",
       "<table border=\"1\" class=\"dataframe\">\n",
       "  <thead>\n",
       "    <tr style=\"text-align: right;\">\n",
       "      <th></th>\n",
       "      <th>A</th>\n",
       "      <th>B</th>\n",
       "      <th>C</th>\n",
       "    </tr>\n",
       "  </thead>\n",
       "  <tbody>\n",
       "    <tr>\n",
       "      <th>P1</th>\n",
       "      <td>10</td>\n",
       "      <td>20</td>\n",
       "      <td>30</td>\n",
       "    </tr>\n",
       "    <tr>\n",
       "      <th>P2</th>\n",
       "      <td>40</td>\n",
       "      <td>10</td>\n",
       "      <td>60</td>\n",
       "    </tr>\n",
       "    <tr>\n",
       "      <th>P3</th>\n",
       "      <td>70</td>\n",
       "      <td>80</td>\n",
       "      <td>10</td>\n",
       "    </tr>\n",
       "  </tbody>\n",
       "</table>\n",
       "</div>"
      ],
      "text/plain": [
       "     A   B   C\n",
       "P1  10  20  30\n",
       "P2  40  10  60\n",
       "P3  70  80  10"
      ]
     },
     "execution_count": 72,
     "metadata": {},
     "output_type": "execute_result"
    }
   ],
   "source": [
    "t = pd.DataFrame([[10, 20, 30],\n",
    "                 [40, 10, 60],\n",
    "                 [70, 80, 10]],\n",
    "                index = ['P1', 'P2', 'P3'],\n",
    "                columns = ['A', 'B', 'C'])\n",
    "t"
   ]
  },
  {
   "cell_type": "code",
   "execution_count": 74,
   "metadata": {},
   "outputs": [
    {
     "data": {
      "text/plain": [
       "A    110\n",
       "B    100\n",
       "C     90\n",
       "dtype: int64"
      ]
     },
     "execution_count": 74,
     "metadata": {},
     "output_type": "execute_result"
    }
   ],
   "source": [
    "t.apply(funcion_3)  # aplicamos la funcion creada a nuestro df y \n",
    "# se aplica a cada columna: devuelve valores de las columnas con la funcion aplicada\n",
    "\n",
    "# Resultado: SERIE : etiquetas indices de columnas del DF"
   ]
  },
  {
   "cell_type": "code",
   "execution_count": 76,
   "metadata": {},
   "outputs": [
    {
     "data": {
      "text/plain": [
       "P1     50\n",
       "P2    100\n",
       "P3    150\n",
       "dtype: int64"
      ]
     },
     "execution_count": 76,
     "metadata": {},
     "output_type": "execute_result"
    }
   ],
   "source": [
    "# Ahora con axis para aplicar la funcion del df a las filas\n",
    "\n",
    "t.apply(funcion_3, axis=1)  # aplicamos la funcion a filas"
   ]
  },
  {
   "cell_type": "markdown",
   "metadata": {},
   "source": [
    "### Grupos y operaciones de agregacion"
   ]
  },
  {
   "cell_type": "markdown",
   "metadata": {},
   "source": [
    "__Despues de importar datos y procesarlos__, una de las tareas mas habituales el la agrupacion de datos __por alguna caracteristica__ oara realizar operaciones sobre cada uno de los grupos obtenidos. \n",
    "- Se realiza en un unico paso: __GROUPBY__ de DF : similar a group by en SQL\n",
    "\n",
    "#### La operacion GROUP BY\n",
    "1. Los datos se dividen en grupos basados en caracteristicas\n",
    "    - Ej: es posible hacer __grupos por filas__ (axis = 0) o __por columnas__ (axis = 1)\n",
    "2. Tras crear los grupos se puede realizar __alguna operacion__ \n",
    "    - Ej: operaciones __De agregacion__ u\n",
    "    - operaciones de __transformacion__ (a cada uno de los grupos y se __obtiene una SERIE para cada grupo__\n",
    "3. Se aplica la funcion (o predefinida en el paquete o creada por el usuario) a __cada uno de los grupos__\n",
    "4. Resultado: __VALOR__ para __cada uno de los grupos__ \n"
   ]
  },
  {
   "cell_type": "code",
   "execution_count": null,
   "metadata": {},
   "outputs": [],
   "source": [
    "import numpy as np\n",
    "import pandas as pd"
   ]
  },
  {
   "cell_type": "code",
   "execution_count": 77,
   "metadata": {},
   "outputs": [],
   "source": [
    "datos =[['Chile', 'South America', 'Dutch', 35],\n",
    "        ['Burundi', 'Africa', 'French',2],\n",
    "        ['China', 'Asia', 'Dutch', 62],\n",
    "        ['Cuba', 'North America', 'Dutch', 40],\n",
    "        ['Andorra', 'Europe', 'French', 6],\n",
    "        ['China', 'Asia', 'Greek', 2],\n",
    "        ['Burundi', 'Africa', 'French', 1],\n",
    "        ['Belgium', 'Europe', 'Dutch', 50],\n",
    "        ['Belgium', 'Europe', 'French', 32],\n",
    "        ['Cuba', 'North America', 'Greek', 3]]"
   ]
  },
  {
   "cell_type": "code",
   "execution_count": 78,
   "metadata": {},
   "outputs": [
    {
     "data": {
      "text/html": [
       "<div>\n",
       "<style scoped>\n",
       "    .dataframe tbody tr th:only-of-type {\n",
       "        vertical-align: middle;\n",
       "    }\n",
       "\n",
       "    .dataframe tbody tr th {\n",
       "        vertical-align: top;\n",
       "    }\n",
       "\n",
       "    .dataframe thead th {\n",
       "        text-align: right;\n",
       "    }\n",
       "</style>\n",
       "<table border=\"1\" class=\"dataframe\">\n",
       "  <thead>\n",
       "    <tr style=\"text-align: right;\">\n",
       "      <th></th>\n",
       "      <th>País</th>\n",
       "      <th>Continente</th>\n",
       "      <th>Idioma</th>\n",
       "      <th>Poblacion %</th>\n",
       "    </tr>\n",
       "  </thead>\n",
       "  <tbody>\n",
       "    <tr>\n",
       "      <th>0</th>\n",
       "      <td>Chile</td>\n",
       "      <td>South America</td>\n",
       "      <td>Dutch</td>\n",
       "      <td>35</td>\n",
       "    </tr>\n",
       "    <tr>\n",
       "      <th>1</th>\n",
       "      <td>Burundi</td>\n",
       "      <td>Africa</td>\n",
       "      <td>French</td>\n",
       "      <td>2</td>\n",
       "    </tr>\n",
       "    <tr>\n",
       "      <th>2</th>\n",
       "      <td>China</td>\n",
       "      <td>Asia</td>\n",
       "      <td>Dutch</td>\n",
       "      <td>62</td>\n",
       "    </tr>\n",
       "    <tr>\n",
       "      <th>3</th>\n",
       "      <td>Cuba</td>\n",
       "      <td>North America</td>\n",
       "      <td>Dutch</td>\n",
       "      <td>40</td>\n",
       "    </tr>\n",
       "    <tr>\n",
       "      <th>4</th>\n",
       "      <td>Andorra</td>\n",
       "      <td>Europe</td>\n",
       "      <td>French</td>\n",
       "      <td>6</td>\n",
       "    </tr>\n",
       "    <tr>\n",
       "      <th>5</th>\n",
       "      <td>China</td>\n",
       "      <td>Asia</td>\n",
       "      <td>Greek</td>\n",
       "      <td>2</td>\n",
       "    </tr>\n",
       "    <tr>\n",
       "      <th>6</th>\n",
       "      <td>Burundi</td>\n",
       "      <td>Africa</td>\n",
       "      <td>French</td>\n",
       "      <td>1</td>\n",
       "    </tr>\n",
       "    <tr>\n",
       "      <th>7</th>\n",
       "      <td>Belgium</td>\n",
       "      <td>Europe</td>\n",
       "      <td>Dutch</td>\n",
       "      <td>50</td>\n",
       "    </tr>\n",
       "    <tr>\n",
       "      <th>8</th>\n",
       "      <td>Belgium</td>\n",
       "      <td>Europe</td>\n",
       "      <td>French</td>\n",
       "      <td>32</td>\n",
       "    </tr>\n",
       "    <tr>\n",
       "      <th>9</th>\n",
       "      <td>Cuba</td>\n",
       "      <td>North America</td>\n",
       "      <td>Greek</td>\n",
       "      <td>3</td>\n",
       "    </tr>\n",
       "  </tbody>\n",
       "</table>\n",
       "</div>"
      ],
      "text/plain": [
       "      País     Continente  Idioma  Poblacion %\n",
       "0    Chile  South America   Dutch           35\n",
       "1  Burundi         Africa  French            2\n",
       "2    China           Asia   Dutch           62\n",
       "3     Cuba  North America   Dutch           40\n",
       "4  Andorra         Europe  French            6\n",
       "5    China           Asia   Greek            2\n",
       "6  Burundi         Africa  French            1\n",
       "7  Belgium         Europe   Dutch           50\n",
       "8  Belgium         Europe  French           32\n",
       "9     Cuba  North America   Greek            3"
      ]
     },
     "execution_count": 78,
     "metadata": {},
     "output_type": "execute_result"
    }
   ],
   "source": [
    "t = pd.DataFrame(datos, columns=['País', 'Continente', 'Idioma', 'Poblacion %'])  # el n de col depende de los datos en cada lista\n",
    "t"
   ]
  },
  {
   "cell_type": "markdown",
   "metadata": {},
   "source": [
    "Queremos conocer el __NUMERO__ de idiomas que se habla en cada pais\n",
    "- 1. se hacen grupos como paises y se cuentan el numero de tuplas de cada grupo\n",
    "    - con groupby columna 'País'"
   ]
  },
  {
   "cell_type": "code",
   "execution_count": 79,
   "metadata": {},
   "outputs": [
    {
     "data": {
      "text/plain": [
       "<pandas.core.groupby.groupby.DataFrameGroupBy object at 0x1a18debcc0>"
      ]
     },
     "execution_count": 79,
     "metadata": {},
     "output_type": "execute_result"
    }
   ],
   "source": [
    "g = t.groupby(['País'])\n",
    "g  # es un OBJETO de tipo group by que tienen una serie de propiedades"
   ]
  },
  {
   "cell_type": "code",
   "execution_count": 80,
   "metadata": {},
   "outputs": [
    {
     "data": {
      "text/plain": [
       "{'Andorra': Int64Index([4], dtype='int64'),\n",
       " 'Belgium': Int64Index([7, 8], dtype='int64'),\n",
       " 'Burundi': Int64Index([1, 6], dtype='int64'),\n",
       " 'Chile': Int64Index([0], dtype='int64'),\n",
       " 'China': Int64Index([2, 5], dtype='int64'),\n",
       " 'Cuba': Int64Index([3, 9], dtype='int64')}"
      ]
     },
     "execution_count": 80,
     "metadata": {},
     "output_type": "execute_result"
    }
   ],
   "source": [
    "g.groups  # propiedades de los objetos groupby"
   ]
  },
  {
   "cell_type": "code",
   "execution_count": 81,
   "metadata": {},
   "outputs": [
    {
     "data": {
      "text/plain": [
       "6"
      ]
     },
     "execution_count": 81,
     "metadata": {},
     "output_type": "execute_result"
    }
   ],
   "source": [
    "g.ngroups  # india el numero de grupos en los que se ha dividido el dataframe ORIGINAL\n",
    "\n",
    "# aunque contamos lo de arriba y tambien lo sabemos"
   ]
  },
  {
   "cell_type": "markdown",
   "metadata": {},
   "source": [
    "El método __size__ : de la clase GroupBy devuelve como resultado __UNA SERIE__ \n",
    "- El __indice__ esta formado por los nombres de cada grupo y los valores asociados que se corresponden con el tamaño del grupo"
   ]
  },
  {
   "cell_type": "code",
   "execution_count": 82,
   "metadata": {},
   "outputs": [
    {
     "data": {
      "text/plain": [
       "País\n",
       "Andorra    1\n",
       "Belgium    2\n",
       "Burundi    2\n",
       "Chile      1\n",
       "China      2\n",
       "Cuba       2\n",
       "dtype: int64"
      ]
     },
     "execution_count": 82,
     "metadata": {},
     "output_type": "execute_result"
    }
   ],
   "source": [
    "g.size()  # sobre el dataframe agrupado\n",
    "\n",
    "# Belgica tiene 2 valores mientras que Andorra tiene solo un valor "
   ]
  },
  {
   "cell_type": "code",
   "execution_count": 83,
   "metadata": {},
   "outputs": [
    {
     "data": {
      "text/html": [
       "<div>\n",
       "<style scoped>\n",
       "    .dataframe tbody tr th:only-of-type {\n",
       "        vertical-align: middle;\n",
       "    }\n",
       "\n",
       "    .dataframe tbody tr th {\n",
       "        vertical-align: top;\n",
       "    }\n",
       "\n",
       "    .dataframe thead th {\n",
       "        text-align: right;\n",
       "    }\n",
       "</style>\n",
       "<table border=\"1\" class=\"dataframe\">\n",
       "  <thead>\n",
       "    <tr style=\"text-align: right;\">\n",
       "      <th></th>\n",
       "      <th>País</th>\n",
       "      <th>Continente</th>\n",
       "      <th>Idioma</th>\n",
       "      <th>Poblacion %</th>\n",
       "    </tr>\n",
       "  </thead>\n",
       "  <tbody>\n",
       "    <tr>\n",
       "      <th>0</th>\n",
       "      <td>Chile</td>\n",
       "      <td>South America</td>\n",
       "      <td>Dutch</td>\n",
       "      <td>35</td>\n",
       "    </tr>\n",
       "    <tr>\n",
       "      <th>1</th>\n",
       "      <td>Burundi</td>\n",
       "      <td>Africa</td>\n",
       "      <td>French</td>\n",
       "      <td>2</td>\n",
       "    </tr>\n",
       "    <tr>\n",
       "      <th>2</th>\n",
       "      <td>China</td>\n",
       "      <td>Asia</td>\n",
       "      <td>Dutch</td>\n",
       "      <td>62</td>\n",
       "    </tr>\n",
       "    <tr>\n",
       "      <th>3</th>\n",
       "      <td>Cuba</td>\n",
       "      <td>North America</td>\n",
       "      <td>Dutch</td>\n",
       "      <td>40</td>\n",
       "    </tr>\n",
       "    <tr>\n",
       "      <th>4</th>\n",
       "      <td>Andorra</td>\n",
       "      <td>Europe</td>\n",
       "      <td>French</td>\n",
       "      <td>6</td>\n",
       "    </tr>\n",
       "    <tr>\n",
       "      <th>5</th>\n",
       "      <td>China</td>\n",
       "      <td>Asia</td>\n",
       "      <td>Greek</td>\n",
       "      <td>2</td>\n",
       "    </tr>\n",
       "    <tr>\n",
       "      <th>6</th>\n",
       "      <td>Burundi</td>\n",
       "      <td>Africa</td>\n",
       "      <td>French</td>\n",
       "      <td>1</td>\n",
       "    </tr>\n",
       "    <tr>\n",
       "      <th>7</th>\n",
       "      <td>Belgium</td>\n",
       "      <td>Europe</td>\n",
       "      <td>Dutch</td>\n",
       "      <td>50</td>\n",
       "    </tr>\n",
       "    <tr>\n",
       "      <th>8</th>\n",
       "      <td>Belgium</td>\n",
       "      <td>Europe</td>\n",
       "      <td>French</td>\n",
       "      <td>32</td>\n",
       "    </tr>\n",
       "    <tr>\n",
       "      <th>9</th>\n",
       "      <td>Cuba</td>\n",
       "      <td>North America</td>\n",
       "      <td>Greek</td>\n",
       "      <td>3</td>\n",
       "    </tr>\n",
       "  </tbody>\n",
       "</table>\n",
       "</div>"
      ],
      "text/plain": [
       "      País     Continente  Idioma  Poblacion %\n",
       "0    Chile  South America   Dutch           35\n",
       "1  Burundi         Africa  French            2\n",
       "2    China           Asia   Dutch           62\n",
       "3     Cuba  North America   Dutch           40\n",
       "4  Andorra         Europe  French            6\n",
       "5    China           Asia   Greek            2\n",
       "6  Burundi         Africa  French            1\n",
       "7  Belgium         Europe   Dutch           50\n",
       "8  Belgium         Europe  French           32\n",
       "9     Cuba  North America   Greek            3"
      ]
     },
     "execution_count": 83,
     "metadata": {},
     "output_type": "execute_result"
    }
   ],
   "source": [
    "# Mostramos el DF para seguir operando\n",
    "t  # lo mas normal: groupby y luego una operacion de agregacion "
   ]
  },
  {
   "cell_type": "code",
   "execution_count": 84,
   "metadata": {},
   "outputs": [
    {
     "data": {
      "text/plain": [
       "País\n",
       "Andorra    1\n",
       "Belgium    2\n",
       "Burundi    2\n",
       "Chile      1\n",
       "China      2\n",
       "Cuba       2\n",
       "Name: Idioma, dtype: int64"
      ]
     },
     "execution_count": 84,
     "metadata": {},
     "output_type": "execute_result"
    }
   ],
   "source": [
    "# Ahora hacemos otro groupby\n",
    "t.groupby(['País']).Idioma.count()  # Es decir de cada pais, contar los idiomas que se asocian\n",
    "\n",
    "# En Andorra se habla 1, en Belgica se hablan 2"
   ]
  },
  {
   "cell_type": "code",
   "execution_count": 85,
   "metadata": {},
   "outputs": [
    {
     "data": {
      "text/plain": [
       "Idioma\n",
       "Dutch     4\n",
       "French    4\n",
       "Greek     2\n",
       "Name: País, dtype: int64"
      ]
     },
     "execution_count": 85,
     "metadata": {},
     "output_type": "execute_result"
    }
   ],
   "source": [
    "# Agrupar los datos por idioma y aplicar la funcion de agregacion count() = numero de paises\n",
    "t.groupby(['Idioma']).País.count()  # Numero de paises asociados a cada idioma"
   ]
  },
  {
   "cell_type": "markdown",
   "metadata": {},
   "source": [
    "El resultado: \n",
    "- __SERIE__ donde las etiquetas del indice son valores del __campo agrupacion__\n",
    "- Tenemos un fichero __csv__ con informacion de una coleccion de envios\n",
    "    - Conocemos la FECHA DE ENTREGA de cada uno, la categoria, el importe, el peso del paquete y un indicador de si es urgente o no."
   ]
  },
  {
   "cell_type": "code",
   "execution_count": 89,
   "metadata": {},
   "outputs": [
    {
     "name": "stdout",
     "output_type": "stream",
     "text": [
      "/Users/martadivasson/Desktop/EXAMENES\n"
     ]
    }
   ],
   "source": [
    "import os\n",
    "print (os.getcwd())  # obtenemos el directorio de trabajo\n",
    "\n",
    "# como ya esta en el directorio solo pongo un salto y el nombre del CSV"
   ]
  },
  {
   "cell_type": "code",
   "execution_count": 91,
   "metadata": {},
   "outputs": [
    {
     "data": {
      "text/html": [
       "<div>\n",
       "<style scoped>\n",
       "    .dataframe tbody tr th:only-of-type {\n",
       "        vertical-align: middle;\n",
       "    }\n",
       "\n",
       "    .dataframe tbody tr th {\n",
       "        vertical-align: top;\n",
       "    }\n",
       "\n",
       "    .dataframe thead th {\n",
       "        text-align: right;\n",
       "    }\n",
       "</style>\n",
       "<table border=\"1\" class=\"dataframe\">\n",
       "  <thead>\n",
       "    <tr style=\"text-align: right;\">\n",
       "      <th></th>\n",
       "      <th>Categoria</th>\n",
       "      <th>Importe</th>\n",
       "      <th>Peso</th>\n",
       "      <th>Urgente</th>\n",
       "    </tr>\n",
       "  </thead>\n",
       "  <tbody>\n",
       "    <tr>\n",
       "      <th>2006-06-20</th>\n",
       "      <td>P</td>\n",
       "      <td>0.90</td>\n",
       "      <td>0.99</td>\n",
       "      <td>Si</td>\n",
       "    </tr>\n",
       "    <tr>\n",
       "      <th>2006-10-17</th>\n",
       "      <td>P</td>\n",
       "      <td>4.40</td>\n",
       "      <td>0.20</td>\n",
       "      <td>Si</td>\n",
       "    </tr>\n",
       "    <tr>\n",
       "      <th>2006-06-23</th>\n",
       "      <td>M</td>\n",
       "      <td>0.10</td>\n",
       "      <td>2.70</td>\n",
       "      <td>Si</td>\n",
       "    </tr>\n",
       "    <tr>\n",
       "      <th>2006-06-24</th>\n",
       "      <td>M</td>\n",
       "      <td>2.70</td>\n",
       "      <td>1.50</td>\n",
       "      <td>Si</td>\n",
       "    </tr>\n",
       "    <tr>\n",
       "      <th>2006-06-27</th>\n",
       "      <td>M</td>\n",
       "      <td>2.80</td>\n",
       "      <td>0.34</td>\n",
       "      <td>Si</td>\n",
       "    </tr>\n",
       "    <tr>\n",
       "      <th>2006-06-25</th>\n",
       "      <td>G</td>\n",
       "      <td>0.70</td>\n",
       "      <td>1.32</td>\n",
       "      <td>Si</td>\n",
       "    </tr>\n",
       "    <tr>\n",
       "      <th>2006-06-21</th>\n",
       "      <td>P</td>\n",
       "      <td>0.40</td>\n",
       "      <td>0.21</td>\n",
       "      <td>No</td>\n",
       "    </tr>\n",
       "    <tr>\n",
       "      <th>2006-12-14</th>\n",
       "      <td>P</td>\n",
       "      <td>0.80</td>\n",
       "      <td>0.12</td>\n",
       "      <td>No</td>\n",
       "    </tr>\n",
       "    <tr>\n",
       "      <th>2006-06-22</th>\n",
       "      <td>G</td>\n",
       "      <td>4.20</td>\n",
       "      <td>0.40</td>\n",
       "      <td>No</td>\n",
       "    </tr>\n",
       "    <tr>\n",
       "      <th>2006-10-29</th>\n",
       "      <td>G</td>\n",
       "      <td>4.99</td>\n",
       "      <td>0.34</td>\n",
       "      <td>No</td>\n",
       "    </tr>\n",
       "    <tr>\n",
       "      <th>2006-06-26</th>\n",
       "      <td>G</td>\n",
       "      <td>2.99</td>\n",
       "      <td>1.10</td>\n",
       "      <td>No</td>\n",
       "    </tr>\n",
       "  </tbody>\n",
       "</table>\n",
       "</div>"
      ],
      "text/plain": [
       "           Categoria  Importe  Peso Urgente\n",
       "2006-06-20         P     0.90  0.99      Si\n",
       "2006-10-17         P     4.40  0.20      Si\n",
       "2006-06-23         M     0.10  2.70      Si\n",
       "2006-06-24         M     2.70  1.50      Si\n",
       "2006-06-27         M     2.80  0.34      Si\n",
       "2006-06-25         G     0.70  1.32      Si\n",
       "2006-06-21         P     0.40  0.21      No\n",
       "2006-12-14         P     0.80  0.12      No\n",
       "2006-06-22         G     4.20  0.40      No\n",
       "2006-10-29         G     4.99  0.34      No\n",
       "2006-06-26         G     2.99  1.10      No"
      ]
     },
     "execution_count": 91,
     "metadata": {},
     "output_type": "execute_result"
    }
   ],
   "source": [
    "fact = pd.read_csv(\"./envios.csv\", index_col=[0], parse_dates=[0])\n",
    "fact"
   ]
  },
  {
   "cell_type": "markdown",
   "metadata": {},
   "source": [
    "1. conocer la media del Importe para __CADA CATEGORIA__\n",
    "    - __agrupar__ por la columna categoria\n",
    "    - __seleccionar por la columna__ importe \n",
    "    -  Aplicar el __metodo mean__ que calcula la media"
   ]
  },
  {
   "cell_type": "code",
   "execution_count": 92,
   "metadata": {},
   "outputs": [
    {
     "data": {
      "text/html": [
       "<div>\n",
       "<style scoped>\n",
       "    .dataframe tbody tr th:only-of-type {\n",
       "        vertical-align: middle;\n",
       "    }\n",
       "\n",
       "    .dataframe tbody tr th {\n",
       "        vertical-align: top;\n",
       "    }\n",
       "\n",
       "    .dataframe thead th {\n",
       "        text-align: right;\n",
       "    }\n",
       "</style>\n",
       "<table border=\"1\" class=\"dataframe\">\n",
       "  <thead>\n",
       "    <tr style=\"text-align: right;\">\n",
       "      <th></th>\n",
       "      <th>Importe</th>\n",
       "      <th>Peso</th>\n",
       "    </tr>\n",
       "    <tr>\n",
       "      <th>Categoria</th>\n",
       "      <th></th>\n",
       "      <th></th>\n",
       "    </tr>\n",
       "  </thead>\n",
       "  <tbody>\n",
       "    <tr>\n",
       "      <th>G</th>\n",
       "      <td>3.220000</td>\n",
       "      <td>0.790000</td>\n",
       "    </tr>\n",
       "    <tr>\n",
       "      <th>M</th>\n",
       "      <td>1.866667</td>\n",
       "      <td>1.513333</td>\n",
       "    </tr>\n",
       "    <tr>\n",
       "      <th>P</th>\n",
       "      <td>1.625000</td>\n",
       "      <td>0.380000</td>\n",
       "    </tr>\n",
       "  </tbody>\n",
       "</table>\n",
       "</div>"
      ],
      "text/plain": [
       "            Importe      Peso\n",
       "Categoria                    \n",
       "G          3.220000  0.790000\n",
       "M          1.866667  1.513333\n",
       "P          1.625000  0.380000"
      ]
     },
     "execution_count": 92,
     "metadata": {},
     "output_type": "execute_result"
    }
   ],
   "source": [
    "fact.groupby(['Categoria']).mean()  # la media para cada elemento de categoria"
   ]
  },
  {
   "cell_type": "code",
   "execution_count": 95,
   "metadata": {},
   "outputs": [
    {
     "data": {
      "text/plain": [
       "Categoria  Urgente\n",
       "G          No         4.060000\n",
       "           Si         0.700000\n",
       "M          Si         1.866667\n",
       "P          No         0.600000\n",
       "           Si         2.650000\n",
       "Name: Importe, dtype: float64"
      ]
     },
     "execution_count": 95,
     "metadata": {},
     "output_type": "execute_result"
    }
   ],
   "source": [
    "# Calcular ahora la MEDIA del IMPORTE para CADA CATEGORIA\n",
    "fact.groupby(['Categoria', 'Urgente']).Importe.mean()  # agrupamos por los valores de la col urgente"
   ]
  },
  {
   "cell_type": "markdown",
   "metadata": {},
   "source": [
    "Resultado: Una serie con indice __jerarquico__ \n",
    "- con la funcion __unstack__ : obtenemos el resultado de un dataframe con indie jerarquico para el indice de las columnas"
   ]
  },
  {
   "cell_type": "code",
   "execution_count": 97,
   "metadata": {},
   "outputs": [
    {
     "data": {
      "text/html": [
       "<div>\n",
       "<style scoped>\n",
       "    .dataframe tbody tr th:only-of-type {\n",
       "        vertical-align: middle;\n",
       "    }\n",
       "\n",
       "    .dataframe tbody tr th {\n",
       "        vertical-align: top;\n",
       "    }\n",
       "\n",
       "    .dataframe thead th {\n",
       "        text-align: right;\n",
       "    }\n",
       "</style>\n",
       "<table border=\"1\" class=\"dataframe\">\n",
       "  <thead>\n",
       "    <tr style=\"text-align: right;\">\n",
       "      <th>Urgente</th>\n",
       "      <th>No</th>\n",
       "      <th>Si</th>\n",
       "    </tr>\n",
       "    <tr>\n",
       "      <th>Categoria</th>\n",
       "      <th></th>\n",
       "      <th></th>\n",
       "    </tr>\n",
       "  </thead>\n",
       "  <tbody>\n",
       "    <tr>\n",
       "      <th>G</th>\n",
       "      <td>4.06</td>\n",
       "      <td>0.700000</td>\n",
       "    </tr>\n",
       "    <tr>\n",
       "      <th>M</th>\n",
       "      <td>NaN</td>\n",
       "      <td>1.866667</td>\n",
       "    </tr>\n",
       "    <tr>\n",
       "      <th>P</th>\n",
       "      <td>0.60</td>\n",
       "      <td>2.650000</td>\n",
       "    </tr>\n",
       "  </tbody>\n",
       "</table>\n",
       "</div>"
      ],
      "text/plain": [
       "Urgente      No        Si\n",
       "Categoria                \n",
       "G          4.06  0.700000\n",
       "M           NaN  1.866667\n",
       "P          0.60  2.650000"
      ]
     },
     "execution_count": 97,
     "metadata": {},
     "output_type": "execute_result"
    }
   ],
   "source": [
    "fact.groupby(['Categoria', 'Urgente']).Importe.mean().unstack()  # obtenemos lo de arriba pero con indices de columnas"
   ]
  },
  {
   "cell_type": "markdown",
   "metadata": {},
   "source": [
    "#### Agrupando con funciones\n",
    "- Es posible aplicar una __funcion__ a cada uno de los valores del INDICE y agrupar los datos en vase al __valor devuelto por una funcion__"
   ]
  },
  {
   "cell_type": "code",
   "execution_count": 98,
   "metadata": {},
   "outputs": [
    {
     "data": {
      "text/html": [
       "<div>\n",
       "<style scoped>\n",
       "    .dataframe tbody tr th:only-of-type {\n",
       "        vertical-align: middle;\n",
       "    }\n",
       "\n",
       "    .dataframe tbody tr th {\n",
       "        vertical-align: top;\n",
       "    }\n",
       "\n",
       "    .dataframe thead th {\n",
       "        text-align: right;\n",
       "    }\n",
       "</style>\n",
       "<table border=\"1\" class=\"dataframe\">\n",
       "  <thead>\n",
       "    <tr style=\"text-align: right;\">\n",
       "      <th></th>\n",
       "      <th>Categoria</th>\n",
       "      <th>Importe</th>\n",
       "      <th>Peso</th>\n",
       "      <th>Urgente</th>\n",
       "    </tr>\n",
       "  </thead>\n",
       "  <tbody>\n",
       "    <tr>\n",
       "      <th>2006-06-20</th>\n",
       "      <td>P</td>\n",
       "      <td>0.90</td>\n",
       "      <td>0.99</td>\n",
       "      <td>Si</td>\n",
       "    </tr>\n",
       "    <tr>\n",
       "      <th>2006-10-17</th>\n",
       "      <td>P</td>\n",
       "      <td>4.40</td>\n",
       "      <td>0.20</td>\n",
       "      <td>Si</td>\n",
       "    </tr>\n",
       "    <tr>\n",
       "      <th>2006-06-23</th>\n",
       "      <td>M</td>\n",
       "      <td>0.10</td>\n",
       "      <td>2.70</td>\n",
       "      <td>Si</td>\n",
       "    </tr>\n",
       "    <tr>\n",
       "      <th>2006-06-24</th>\n",
       "      <td>M</td>\n",
       "      <td>2.70</td>\n",
       "      <td>1.50</td>\n",
       "      <td>Si</td>\n",
       "    </tr>\n",
       "    <tr>\n",
       "      <th>2006-06-27</th>\n",
       "      <td>M</td>\n",
       "      <td>2.80</td>\n",
       "      <td>0.34</td>\n",
       "      <td>Si</td>\n",
       "    </tr>\n",
       "    <tr>\n",
       "      <th>2006-06-25</th>\n",
       "      <td>G</td>\n",
       "      <td>0.70</td>\n",
       "      <td>1.32</td>\n",
       "      <td>Si</td>\n",
       "    </tr>\n",
       "    <tr>\n",
       "      <th>2006-06-21</th>\n",
       "      <td>P</td>\n",
       "      <td>0.40</td>\n",
       "      <td>0.21</td>\n",
       "      <td>No</td>\n",
       "    </tr>\n",
       "    <tr>\n",
       "      <th>2006-12-14</th>\n",
       "      <td>P</td>\n",
       "      <td>0.80</td>\n",
       "      <td>0.12</td>\n",
       "      <td>No</td>\n",
       "    </tr>\n",
       "    <tr>\n",
       "      <th>2006-06-22</th>\n",
       "      <td>G</td>\n",
       "      <td>4.20</td>\n",
       "      <td>0.40</td>\n",
       "      <td>No</td>\n",
       "    </tr>\n",
       "    <tr>\n",
       "      <th>2006-10-29</th>\n",
       "      <td>G</td>\n",
       "      <td>4.99</td>\n",
       "      <td>0.34</td>\n",
       "      <td>No</td>\n",
       "    </tr>\n",
       "    <tr>\n",
       "      <th>2006-06-26</th>\n",
       "      <td>G</td>\n",
       "      <td>2.99</td>\n",
       "      <td>1.10</td>\n",
       "      <td>No</td>\n",
       "    </tr>\n",
       "  </tbody>\n",
       "</table>\n",
       "</div>"
      ],
      "text/plain": [
       "           Categoria  Importe  Peso Urgente\n",
       "2006-06-20         P     0.90  0.99      Si\n",
       "2006-10-17         P     4.40  0.20      Si\n",
       "2006-06-23         M     0.10  2.70      Si\n",
       "2006-06-24         M     2.70  1.50      Si\n",
       "2006-06-27         M     2.80  0.34      Si\n",
       "2006-06-25         G     0.70  1.32      Si\n",
       "2006-06-21         P     0.40  0.21      No\n",
       "2006-12-14         P     0.80  0.12      No\n",
       "2006-06-22         G     4.20  0.40      No\n",
       "2006-10-29         G     4.99  0.34      No\n",
       "2006-06-26         G     2.99  1.10      No"
      ]
     },
     "execution_count": 98,
     "metadata": {},
     "output_type": "execute_result"
    }
   ],
   "source": [
    "fact"
   ]
  },
  {
   "cell_type": "code",
   "execution_count": 99,
   "metadata": {},
   "outputs": [],
   "source": [
    "# Conocer el importe TOTAL facturado en CADA DIA de la semana (importe el lunes, importe el martes..)\n",
    "    # Usar la funcion calcular_dia: obtener el dia de la semana (valor num entre 0 y 6)"
   ]
  },
  {
   "cell_type": "code",
   "execution_count": 100,
   "metadata": {},
   "outputs": [],
   "source": [
    "from datetime import date  # libreria date para trabajar con fechas"
   ]
  },
  {
   "cell_type": "code",
   "execution_count": 101,
   "metadata": {},
   "outputs": [],
   "source": [
    "def calcular_dia(f):\n",
    "    return f.weekday()"
   ]
  },
  {
   "cell_type": "code",
   "execution_count": 102,
   "metadata": {},
   "outputs": [
    {
     "data": {
      "text/plain": [
       "0"
      ]
     },
     "execution_count": 102,
     "metadata": {},
     "output_type": "execute_result"
    }
   ],
   "source": [
    "calcular_dia(date(2006,6,26))  # este es el valor de una fecha del indice \n",
    "# corresponde al lunes"
   ]
  },
  {
   "cell_type": "code",
   "execution_count": 104,
   "metadata": {},
   "outputs": [
    {
     "data": {
      "text/plain": [
       "7"
      ]
     },
     "execution_count": 104,
     "metadata": {},
     "output_type": "execute_result"
    }
   ],
   "source": [
    "# A groupby le aplicamos una funcion\n",
    "\n",
    "r = fact.groupby(calcular_dia)\n",
    "r.ngroups  # tipo groupby de tamaño 7"
   ]
  },
  {
   "cell_type": "code",
   "execution_count": 105,
   "metadata": {},
   "outputs": [
    {
     "name": "stdout",
     "output_type": "stream",
     "text": [
      "0\n",
      "           Categoria  Importe  Peso Urgente\n",
      "2006-06-26         G     2.99   1.1      No\n",
      "1\n",
      "           Categoria  Importe  Peso Urgente\n",
      "2006-06-20         P      0.9  0.99      Si\n",
      "2006-10-17         P      4.4  0.20      Si\n",
      "2006-06-27         M      2.8  0.34      Si\n",
      "2\n",
      "           Categoria  Importe  Peso Urgente\n",
      "2006-06-21         P      0.4  0.21      No\n",
      "3\n",
      "           Categoria  Importe  Peso Urgente\n",
      "2006-12-14         P      0.8  0.12      No\n",
      "2006-06-22         G      4.2  0.40      No\n",
      "4\n",
      "           Categoria  Importe  Peso Urgente\n",
      "2006-06-23         M      0.1   2.7      Si\n",
      "5\n",
      "           Categoria  Importe  Peso Urgente\n",
      "2006-06-24         M      2.7   1.5      Si\n",
      "6\n",
      "           Categoria  Importe  Peso Urgente\n",
      "2006-06-25         G     0.70  1.32      Si\n",
      "2006-10-29         G     4.99  0.34      No\n"
     ]
    }
   ],
   "source": [
    "for(dia, contenido) in r:\n",
    "    print(dia)\n",
    "    print(contenido)"
   ]
  },
  {
   "cell_type": "code",
   "execution_count": 106,
   "metadata": {},
   "outputs": [
    {
     "data": {
      "text/plain": [
       "0    2.99\n",
       "1    8.10\n",
       "2    0.40\n",
       "3    5.00\n",
       "4    0.10\n",
       "5    2.70\n",
       "6    5.69\n",
       "Name: Importe, dtype: float64"
      ]
     },
     "execution_count": 106,
     "metadata": {},
     "output_type": "execute_result"
    }
   ],
   "source": [
    "fact.groupby(calcular_dia).Importe.sum()  # importe TOTAL de CADA GRUPO\n",
    "# con la funcion de agregacion sum a la col"
   ]
  },
  {
   "cell_type": "markdown",
   "metadata": {},
   "source": [
    "#### Agrupando por indice"
   ]
  },
  {
   "cell_type": "markdown",
   "metadata": {},
   "source": [
    "A veces queremos agrupar por otros valores que no sean los de las columnas. El argumento axis del metodo groupby permite indicar si una agruoacion de seralizzar por __ETIQUETAS EN EL INDICE (axis = 0),__ por los valores del __COLUMNAS (axis = 1)__.\n",
    "- Con el argumento __level__ indicamos el nivel del indice por el que se quiere agrupar"
   ]
  },
  {
   "cell_type": "code",
   "execution_count": 108,
   "metadata": {},
   "outputs": [
    {
     "data": {
      "text/html": [
       "<div>\n",
       "<style scoped>\n",
       "    .dataframe tbody tr th:only-of-type {\n",
       "        vertical-align: middle;\n",
       "    }\n",
       "\n",
       "    .dataframe tbody tr th {\n",
       "        vertical-align: top;\n",
       "    }\n",
       "\n",
       "    .dataframe thead th {\n",
       "        text-align: right;\n",
       "    }\n",
       "</style>\n",
       "<table border=\"1\" class=\"dataframe\">\n",
       "  <thead>\n",
       "    <tr style=\"text-align: right;\">\n",
       "      <th></th>\n",
       "      <th>Producto</th>\n",
       "      <th>Cantidad</th>\n",
       "      <th>Precio</th>\n",
       "    </tr>\n",
       "  </thead>\n",
       "  <tbody>\n",
       "    <tr>\n",
       "      <th>101</th>\n",
       "      <td>p1</td>\n",
       "      <td>2.0</td>\n",
       "      <td>1.0</td>\n",
       "    </tr>\n",
       "    <tr>\n",
       "      <th>101</th>\n",
       "      <td>p2</td>\n",
       "      <td>3.0</td>\n",
       "      <td>3.0</td>\n",
       "    </tr>\n",
       "    <tr>\n",
       "      <th>102</th>\n",
       "      <td>p3</td>\n",
       "      <td>4.0</td>\n",
       "      <td>2.0</td>\n",
       "    </tr>\n",
       "    <tr>\n",
       "      <th>102</th>\n",
       "      <td>p3</td>\n",
       "      <td>1.0</td>\n",
       "      <td>1.0</td>\n",
       "    </tr>\n",
       "    <tr>\n",
       "      <th>103</th>\n",
       "      <td>p2</td>\n",
       "      <td>2.0</td>\n",
       "      <td>4.0</td>\n",
       "    </tr>\n",
       "    <tr>\n",
       "      <th>103</th>\n",
       "      <td>p4</td>\n",
       "      <td>5.0</td>\n",
       "      <td>2.0</td>\n",
       "    </tr>\n",
       "    <tr>\n",
       "      <th>103</th>\n",
       "      <td>p2</td>\n",
       "      <td>1.0</td>\n",
       "      <td>3.0</td>\n",
       "    </tr>\n",
       "  </tbody>\n",
       "</table>\n",
       "</div>"
      ],
      "text/plain": [
       "    Producto  Cantidad  Precio\n",
       "101       p1       2.0     1.0\n",
       "101       p2       3.0     3.0\n",
       "102       p3       4.0     2.0\n",
       "102       p3       1.0     1.0\n",
       "103       p2       2.0     4.0\n",
       "103       p4       5.0     2.0\n",
       "103       p2       1.0     3.0"
      ]
     },
     "execution_count": 108,
     "metadata": {},
     "output_type": "execute_result"
    }
   ],
   "source": [
    "datos = {'Producto': ['p1', 'p2', 'p3', 'p3', 'p2', 'p4', 'p2'],\n",
    "         'Cantidad': [2.0, 3.0, 4.0, 1.0, 2.0, 5.0, 1.0], \n",
    "         'Precio' : [1.0, 3.0, 2.0, 1.0, 4.0, 2.0, 3.0]}\n",
    "pedidos = pd.DataFrame(datos, \n",
    "                      columns = ['Producto', 'Cantidad', 'Precio'],\n",
    "                      index = ['101', '101', '102', '102', '103', '103', '103'])\n",
    "pedidos\n",
    "\n",
    "# el codigo de pedido corresponde a las etiquetas del indice de las filas\n",
    "    # calcular el precio medio de cada pedido"
   ]
  },
  {
   "cell_type": "code",
   "execution_count": 110,
   "metadata": {},
   "outputs": [
    {
     "data": {
      "text/plain": [
       "101    2.0\n",
       "102    1.5\n",
       "103    3.0\n",
       "Name: Precio, dtype: float64"
      ]
     },
     "execution_count": 110,
     "metadata": {},
     "output_type": "execute_result"
    }
   ],
   "source": [
    "pedidos.groupby(axis = 0, level = 0).Precio.mean()  # agrupamos a nivel de indice de FILAS e indicamos el nivel \n",
    "# posteriormente aplicamos la media con mean a la COLUMNA precio"
   ]
  },
  {
   "cell_type": "markdown",
   "metadata": {},
   "source": [
    "### Funciones de agregacion"
   ]
  },
  {
   "cell_type": "markdown",
   "metadata": {},
   "source": [
    "Una vez que tenemos los datos divididos en grupos, llevamos a cabo __operaciones de agregacion__ (mean, sum, count...)\n",
    "- Permiten operar con un resultado que de un __unico valor por grupo__ \n",
    "- Podemos definir funciones de usuario e utilizarlas tambien con __agg__"
   ]
  },
  {
   "cell_type": "code",
   "execution_count": 111,
   "metadata": {},
   "outputs": [],
   "source": [
    "# Ej: Calcular el precio total de cada pedido - precio del producto mas barato"
   ]
  },
  {
   "cell_type": "code",
   "execution_count": 112,
   "metadata": {},
   "outputs": [
    {
     "data": {
      "text/html": [
       "<div>\n",
       "<style scoped>\n",
       "    .dataframe tbody tr th:only-of-type {\n",
       "        vertical-align: middle;\n",
       "    }\n",
       "\n",
       "    .dataframe tbody tr th {\n",
       "        vertical-align: top;\n",
       "    }\n",
       "\n",
       "    .dataframe thead th {\n",
       "        text-align: right;\n",
       "    }\n",
       "</style>\n",
       "<table border=\"1\" class=\"dataframe\">\n",
       "  <thead>\n",
       "    <tr style=\"text-align: right;\">\n",
       "      <th></th>\n",
       "      <th>Producto</th>\n",
       "      <th>Cantidad</th>\n",
       "      <th>Precio</th>\n",
       "    </tr>\n",
       "  </thead>\n",
       "  <tbody>\n",
       "    <tr>\n",
       "      <th>101</th>\n",
       "      <td>p1</td>\n",
       "      <td>2.0</td>\n",
       "      <td>1.0</td>\n",
       "    </tr>\n",
       "    <tr>\n",
       "      <th>101</th>\n",
       "      <td>p2</td>\n",
       "      <td>3.0</td>\n",
       "      <td>3.0</td>\n",
       "    </tr>\n",
       "    <tr>\n",
       "      <th>102</th>\n",
       "      <td>p3</td>\n",
       "      <td>4.0</td>\n",
       "      <td>2.0</td>\n",
       "    </tr>\n",
       "    <tr>\n",
       "      <th>102</th>\n",
       "      <td>p3</td>\n",
       "      <td>1.0</td>\n",
       "      <td>1.0</td>\n",
       "    </tr>\n",
       "    <tr>\n",
       "      <th>103</th>\n",
       "      <td>p2</td>\n",
       "      <td>2.0</td>\n",
       "      <td>4.0</td>\n",
       "    </tr>\n",
       "    <tr>\n",
       "      <th>103</th>\n",
       "      <td>p4</td>\n",
       "      <td>5.0</td>\n",
       "      <td>2.0</td>\n",
       "    </tr>\n",
       "    <tr>\n",
       "      <th>103</th>\n",
       "      <td>p2</td>\n",
       "      <td>1.0</td>\n",
       "      <td>3.0</td>\n",
       "    </tr>\n",
       "  </tbody>\n",
       "</table>\n",
       "</div>"
      ],
      "text/plain": [
       "    Producto  Cantidad  Precio\n",
       "101       p1       2.0     1.0\n",
       "101       p2       3.0     3.0\n",
       "102       p3       4.0     2.0\n",
       "102       p3       1.0     1.0\n",
       "103       p2       2.0     4.0\n",
       "103       p4       5.0     2.0\n",
       "103       p2       1.0     3.0"
      ]
     },
     "execution_count": 112,
     "metadata": {},
     "output_type": "execute_result"
    }
   ],
   "source": [
    "pedidos"
   ]
  },
  {
   "cell_type": "code",
   "execution_count": 113,
   "metadata": {},
   "outputs": [],
   "source": [
    "# Definimos la funcion que calcula\n",
    "def total_desc(datos):  # esto se hace sobre los datos antes de convertirlo a un df\n",
    "    minimo = datos.min()\n",
    "    total = datos.sum()- minimo\n",
    "    return total\n",
    "\n",
    "# LA FUNCION RECIBE COMO ARGUMENTO UNA SERIE "
   ]
  },
  {
   "cell_type": "code",
   "execution_count": 114,
   "metadata": {},
   "outputs": [
    {
     "data": {
      "text/plain": [
       "101    3.0\n",
       "102    2.0\n",
       "103    7.0\n",
       "Name: Precio, dtype: float64"
      ]
     },
     "execution_count": 114,
     "metadata": {},
     "output_type": "execute_result"
    }
   ],
   "source": [
    "# aplicamos la dfuncion como ARGUMENTO de agg a la col PRECIO de cada uno de los grupos\n",
    "\n",
    "totales_descuento = pedidos.groupby(level = 0, axis = 0).Precio.agg(total_desc)  # para aplicar la funcion agg\n",
    "totales_descuento"
   ]
  },
  {
   "cell_type": "markdown",
   "metadata": {},
   "source": [
    "La funcion __agg__ admite una lista de __funciones de agregacion__ como ARGUMENTO\n",
    "- Como resultado obtenemos un objeto de tipo DF con tantas columnas como funciones de agregacion en la __LISTA__"
   ]
  },
  {
   "cell_type": "code",
   "execution_count": 115,
   "metadata": {},
   "outputs": [
    {
     "data": {
      "text/html": [
       "<div>\n",
       "<style scoped>\n",
       "    .dataframe tbody tr th:only-of-type {\n",
       "        vertical-align: middle;\n",
       "    }\n",
       "\n",
       "    .dataframe tbody tr th {\n",
       "        vertical-align: top;\n",
       "    }\n",
       "\n",
       "    .dataframe thead th {\n",
       "        text-align: right;\n",
       "    }\n",
       "</style>\n",
       "<table border=\"1\" class=\"dataframe\">\n",
       "  <thead>\n",
       "    <tr style=\"text-align: right;\">\n",
       "      <th></th>\n",
       "      <th>sum</th>\n",
       "      <th>total_desc</th>\n",
       "    </tr>\n",
       "  </thead>\n",
       "  <tbody>\n",
       "    <tr>\n",
       "      <th>101</th>\n",
       "      <td>4.0</td>\n",
       "      <td>3.0</td>\n",
       "    </tr>\n",
       "    <tr>\n",
       "      <th>102</th>\n",
       "      <td>3.0</td>\n",
       "      <td>2.0</td>\n",
       "    </tr>\n",
       "    <tr>\n",
       "      <th>103</th>\n",
       "      <td>9.0</td>\n",
       "      <td>7.0</td>\n",
       "    </tr>\n",
       "  </tbody>\n",
       "</table>\n",
       "</div>"
      ],
      "text/plain": [
       "     sum  total_desc\n",
       "101  4.0         3.0\n",
       "102  3.0         2.0\n",
       "103  9.0         7.0"
      ]
     },
     "execution_count": 115,
     "metadata": {},
     "output_type": "execute_result"
    }
   ],
   "source": [
    "resumen = pedidos.groupby(axis=0, level=0).Precio.agg([sum, total_desc])\n",
    "resumen"
   ]
  },
  {
   "cell_type": "markdown",
   "metadata": {},
   "source": [
    "## Combinar DataFrames (DF)"
   ]
  },
  {
   "cell_type": "markdown",
   "metadata": {},
   "source": [
    "Cuando la informacion está distribuida en __VARIOS DF__ antes de analizarlos hay que __COMBINARLOS__ para crear nuevos __DF__ con toda la info necesaria. \n",
    "\n",
    "Herramientas para combinar DF:\n",
    "\n",
    "##### 1. Combinar tablas al estilo del ALGEBRA RELACIONAL"
   ]
  },
  {
   "cell_type": "markdown",
   "metadata": {},
   "source": [
    "Con la funcion (`pd.merge`) se pueden combinar __FILAS__ de 2 DF a partir del valor de __UNA O VARIAS COLUMNAS__\n",
    "(Es como __join__ al estilo algebra relacional__\n",
    "\n",
    "- Las __COLUMNAS DE COMBINACION__ se indican mediante una __LISTA__ en el argumento (`on`) de la funcion.\n",
    "- En el argumento (`how`) de pd.merge indicamos el tipo de combinacion que queremos hacer : (`left, right, outer, inner`) \n",
    " > RESULTADO: NUEVO DATAFRAME (DF)"
   ]
  },
  {
   "cell_type": "code",
   "execution_count": null,
   "metadata": {},
   "outputs": [],
   "source": [
    "# Ej: \n",
    "# 1. Toda la info de la cantidad de PRODUCCION de ciertos productos de paises europeos \n",
    "# 2. Toda la info de esos PRODUCTOS"
   ]
  },
  {
   "cell_type": "code",
   "execution_count": 263,
   "metadata": {},
   "outputs": [],
   "source": [
    "import pandas as pd "
   ]
  },
  {
   "cell_type": "code",
   "execution_count": 264,
   "metadata": {},
   "outputs": [],
   "source": [
    "# Con datos en forma de diccionario los conviertes a dataframe\n",
    "\n",
    "d1 ={'País' : ['Estonia','Estonia', 'Ireland', 'Spain'],\n",
    "     'Cantidad' : [  8.4,  6.7 ,    227,  58.9 ] , \n",
    "     'Producto' : ['A', 'B', 'A', 'Z'] }\n",
    "     \n",
    "d2 ={'Producto' : ['A', 'B', 'C'],\n",
    "     'Descripción' : [  'Leche',  'Cereales',   'Aceite' ] }"
   ]
  },
  {
   "cell_type": "code",
   "execution_count": 266,
   "metadata": {},
   "outputs": [
    {
     "data": {
      "text/html": [
       "<div>\n",
       "<style scoped>\n",
       "    .dataframe tbody tr th:only-of-type {\n",
       "        vertical-align: middle;\n",
       "    }\n",
       "\n",
       "    .dataframe tbody tr th {\n",
       "        vertical-align: top;\n",
       "    }\n",
       "\n",
       "    .dataframe thead th {\n",
       "        text-align: right;\n",
       "    }\n",
       "</style>\n",
       "<table border=\"1\" class=\"dataframe\">\n",
       "  <thead>\n",
       "    <tr style=\"text-align: right;\">\n",
       "      <th></th>\n",
       "      <th>País</th>\n",
       "      <th>Cantidad</th>\n",
       "      <th>Producto</th>\n",
       "    </tr>\n",
       "  </thead>\n",
       "  <tbody>\n",
       "    <tr>\n",
       "      <th>0</th>\n",
       "      <td>Estonia</td>\n",
       "      <td>8.4</td>\n",
       "      <td>A</td>\n",
       "    </tr>\n",
       "    <tr>\n",
       "      <th>1</th>\n",
       "      <td>Estonia</td>\n",
       "      <td>6.7</td>\n",
       "      <td>B</td>\n",
       "    </tr>\n",
       "    <tr>\n",
       "      <th>2</th>\n",
       "      <td>Ireland</td>\n",
       "      <td>227.0</td>\n",
       "      <td>A</td>\n",
       "    </tr>\n",
       "    <tr>\n",
       "      <th>3</th>\n",
       "      <td>Spain</td>\n",
       "      <td>58.9</td>\n",
       "      <td>Z</td>\n",
       "    </tr>\n",
       "  </tbody>\n",
       "</table>\n",
       "</div>"
      ],
      "text/plain": [
       "      País  Cantidad Producto\n",
       "0  Estonia       8.4        A\n",
       "1  Estonia       6.7        B\n",
       "2  Ireland     227.0        A\n",
       "3    Spain      58.9        Z"
      ]
     },
     "execution_count": 266,
     "metadata": {},
     "output_type": "execute_result"
    }
   ],
   "source": [
    "t1 = pd.DataFrame(d1)  # convierto los datos en un DF\n",
    "t1"
   ]
  },
  {
   "cell_type": "code",
   "execution_count": 268,
   "metadata": {},
   "outputs": [
    {
     "data": {
      "text/html": [
       "<div>\n",
       "<style scoped>\n",
       "    .dataframe tbody tr th:only-of-type {\n",
       "        vertical-align: middle;\n",
       "    }\n",
       "\n",
       "    .dataframe tbody tr th {\n",
       "        vertical-align: top;\n",
       "    }\n",
       "\n",
       "    .dataframe thead th {\n",
       "        text-align: right;\n",
       "    }\n",
       "</style>\n",
       "<table border=\"1\" class=\"dataframe\">\n",
       "  <thead>\n",
       "    <tr style=\"text-align: right;\">\n",
       "      <th></th>\n",
       "      <th>Producto</th>\n",
       "      <th>Descripción</th>\n",
       "    </tr>\n",
       "  </thead>\n",
       "  <tbody>\n",
       "    <tr>\n",
       "      <th>0</th>\n",
       "      <td>A</td>\n",
       "      <td>Leche</td>\n",
       "    </tr>\n",
       "    <tr>\n",
       "      <th>1</th>\n",
       "      <td>B</td>\n",
       "      <td>Cereales</td>\n",
       "    </tr>\n",
       "    <tr>\n",
       "      <th>2</th>\n",
       "      <td>C</td>\n",
       "      <td>Aceite</td>\n",
       "    </tr>\n",
       "  </tbody>\n",
       "</table>\n",
       "</div>"
      ],
      "text/plain": [
       "  Producto Descripción\n",
       "0        A       Leche\n",
       "1        B    Cereales\n",
       "2        C      Aceite"
      ]
     },
     "execution_count": 268,
     "metadata": {},
     "output_type": "execute_result"
    }
   ],
   "source": [
    "t2 = pd.DataFrame(d2)\n",
    "t2"
   ]
  },
  {
   "cell_type": "markdown",
   "metadata": {},
   "source": [
    "> Observar los DF: tienen una columna con el mismo nombre, lo cual hacen que podamos combinar por ese DATO"
   ]
  },
  {
   "cell_type": "code",
   "execution_count": 269,
   "metadata": {},
   "outputs": [
    {
     "data": {
      "text/html": [
       "<div>\n",
       "<style scoped>\n",
       "    .dataframe tbody tr th:only-of-type {\n",
       "        vertical-align: middle;\n",
       "    }\n",
       "\n",
       "    .dataframe tbody tr th {\n",
       "        vertical-align: top;\n",
       "    }\n",
       "\n",
       "    .dataframe thead th {\n",
       "        text-align: right;\n",
       "    }\n",
       "</style>\n",
       "<table border=\"1\" class=\"dataframe\">\n",
       "  <thead>\n",
       "    <tr style=\"text-align: right;\">\n",
       "      <th></th>\n",
       "      <th>País</th>\n",
       "      <th>Cantidad</th>\n",
       "      <th>Producto</th>\n",
       "      <th>Descripción</th>\n",
       "    </tr>\n",
       "  </thead>\n",
       "  <tbody>\n",
       "    <tr>\n",
       "      <th>0</th>\n",
       "      <td>Estonia</td>\n",
       "      <td>8.4</td>\n",
       "      <td>A</td>\n",
       "      <td>Leche</td>\n",
       "    </tr>\n",
       "    <tr>\n",
       "      <th>1</th>\n",
       "      <td>Ireland</td>\n",
       "      <td>227.0</td>\n",
       "      <td>A</td>\n",
       "      <td>Leche</td>\n",
       "    </tr>\n",
       "    <tr>\n",
       "      <th>2</th>\n",
       "      <td>Estonia</td>\n",
       "      <td>6.7</td>\n",
       "      <td>B</td>\n",
       "      <td>Cereales</td>\n",
       "    </tr>\n",
       "  </tbody>\n",
       "</table>\n",
       "</div>"
      ],
      "text/plain": [
       "      País  Cantidad Producto Descripción\n",
       "0  Estonia       8.4        A       Leche\n",
       "1  Ireland     227.0        A       Leche\n",
       "2  Estonia       6.7        B    Cereales"
      ]
     },
     "execution_count": 269,
     "metadata": {},
     "output_type": "execute_result"
    }
   ],
   "source": [
    "# Con la funcion pd.merge: combinamos 2 df usando CAMPOS DE COMBINACION columna que tienen igual : PRODUCTO\n",
    "\n",
    "combine = pd.merge(t1, t2, on= ['Producto'])  # por defecto HACE UN INNER JOIN \n",
    "combine\n",
    "\n",
    "# Inner: combina los DF devolviendo UNICAMENTE AQUELLAS FILAS que tienen valores IDENTICOS en las COLUMNAS que comparan"
   ]
  },
  {
   "cell_type": "code",
   "execution_count": 270,
   "metadata": {},
   "outputs": [
    {
     "data": {
      "text/html": [
       "<div>\n",
       "<style scoped>\n",
       "    .dataframe tbody tr th:only-of-type {\n",
       "        vertical-align: middle;\n",
       "    }\n",
       "\n",
       "    .dataframe tbody tr th {\n",
       "        vertical-align: top;\n",
       "    }\n",
       "\n",
       "    .dataframe thead th {\n",
       "        text-align: right;\n",
       "    }\n",
       "</style>\n",
       "<table border=\"1\" class=\"dataframe\">\n",
       "  <thead>\n",
       "    <tr style=\"text-align: right;\">\n",
       "      <th></th>\n",
       "      <th>País</th>\n",
       "      <th>Cantidad</th>\n",
       "      <th>Producto</th>\n",
       "      <th>Descripción</th>\n",
       "    </tr>\n",
       "  </thead>\n",
       "  <tbody>\n",
       "    <tr>\n",
       "      <th>0</th>\n",
       "      <td>Estonia</td>\n",
       "      <td>8.4</td>\n",
       "      <td>A</td>\n",
       "      <td>Leche</td>\n",
       "    </tr>\n",
       "    <tr>\n",
       "      <th>1</th>\n",
       "      <td>Ireland</td>\n",
       "      <td>227.0</td>\n",
       "      <td>A</td>\n",
       "      <td>Leche</td>\n",
       "    </tr>\n",
       "    <tr>\n",
       "      <th>2</th>\n",
       "      <td>Estonia</td>\n",
       "      <td>6.7</td>\n",
       "      <td>B</td>\n",
       "      <td>Cereales</td>\n",
       "    </tr>\n",
       "  </tbody>\n",
       "</table>\n",
       "</div>"
      ],
      "text/plain": [
       "      País  Cantidad Producto Descripción\n",
       "0  Estonia       8.4        A       Leche\n",
       "1  Ireland     227.0        A       Leche\n",
       "2  Estonia       6.7        B    Cereales"
      ]
     },
     "execution_count": 270,
     "metadata": {},
     "output_type": "execute_result"
    }
   ],
   "source": [
    "combine = pd.merge(t1, t2, on=['Producto'], how='inner')  # es la misma tabla combinada que arriba\n",
    "combine\n",
    "\n",
    "# aqui desaparecen z y c"
   ]
  },
  {
   "cell_type": "code",
   "execution_count": 271,
   "metadata": {},
   "outputs": [
    {
     "data": {
      "text/html": [
       "<div>\n",
       "<style scoped>\n",
       "    .dataframe tbody tr th:only-of-type {\n",
       "        vertical-align: middle;\n",
       "    }\n",
       "\n",
       "    .dataframe tbody tr th {\n",
       "        vertical-align: top;\n",
       "    }\n",
       "\n",
       "    .dataframe thead th {\n",
       "        text-align: right;\n",
       "    }\n",
       "</style>\n",
       "<table border=\"1\" class=\"dataframe\">\n",
       "  <thead>\n",
       "    <tr style=\"text-align: right;\">\n",
       "      <th></th>\n",
       "      <th>País</th>\n",
       "      <th>Cantidad</th>\n",
       "      <th>Producto</th>\n",
       "      <th>Descripción</th>\n",
       "    </tr>\n",
       "  </thead>\n",
       "  <tbody>\n",
       "    <tr>\n",
       "      <th>0</th>\n",
       "      <td>Estonia</td>\n",
       "      <td>8.4</td>\n",
       "      <td>A</td>\n",
       "      <td>Leche</td>\n",
       "    </tr>\n",
       "    <tr>\n",
       "      <th>1</th>\n",
       "      <td>Estonia</td>\n",
       "      <td>6.7</td>\n",
       "      <td>B</td>\n",
       "      <td>Cereales</td>\n",
       "    </tr>\n",
       "    <tr>\n",
       "      <th>2</th>\n",
       "      <td>Ireland</td>\n",
       "      <td>227.0</td>\n",
       "      <td>A</td>\n",
       "      <td>Leche</td>\n",
       "    </tr>\n",
       "    <tr>\n",
       "      <th>3</th>\n",
       "      <td>Spain</td>\n",
       "      <td>58.9</td>\n",
       "      <td>Z</td>\n",
       "      <td>NaN</td>\n",
       "    </tr>\n",
       "  </tbody>\n",
       "</table>\n",
       "</div>"
      ],
      "text/plain": [
       "      País  Cantidad Producto Descripción\n",
       "0  Estonia       8.4        A       Leche\n",
       "1  Estonia       6.7        B    Cereales\n",
       "2  Ireland     227.0        A       Leche\n",
       "3    Spain      58.9        Z         NaN"
      ]
     },
     "execution_count": 271,
     "metadata": {},
     "output_type": "execute_result"
    }
   ],
   "source": [
    "combine = pd.merge(t1, t2, on=['Producto'], how='left')\n",
    "combine\n",
    "\n",
    "# left: devuelve TODAS las columnas resultantes de la combinacion y todas las FILAS del DF DE LA IZQUIERDA tengan\n",
    "    # o no correspondencia con las filas del DF de la DERECHA (las que no tengan correspondencia se rellena con NaN)"
   ]
  },
  {
   "cell_type": "code",
   "execution_count": 273,
   "metadata": {},
   "outputs": [
    {
     "data": {
      "text/html": [
       "<div>\n",
       "<style scoped>\n",
       "    .dataframe tbody tr th:only-of-type {\n",
       "        vertical-align: middle;\n",
       "    }\n",
       "\n",
       "    .dataframe tbody tr th {\n",
       "        vertical-align: top;\n",
       "    }\n",
       "\n",
       "    .dataframe thead th {\n",
       "        text-align: right;\n",
       "    }\n",
       "</style>\n",
       "<table border=\"1\" class=\"dataframe\">\n",
       "  <thead>\n",
       "    <tr style=\"text-align: right;\">\n",
       "      <th></th>\n",
       "      <th>País</th>\n",
       "      <th>Cantidad</th>\n",
       "      <th>Producto</th>\n",
       "      <th>Descripción</th>\n",
       "    </tr>\n",
       "  </thead>\n",
       "  <tbody>\n",
       "    <tr>\n",
       "      <th>0</th>\n",
       "      <td>Estonia</td>\n",
       "      <td>8.4</td>\n",
       "      <td>A</td>\n",
       "      <td>Leche</td>\n",
       "    </tr>\n",
       "    <tr>\n",
       "      <th>1</th>\n",
       "      <td>Ireland</td>\n",
       "      <td>227.0</td>\n",
       "      <td>A</td>\n",
       "      <td>Leche</td>\n",
       "    </tr>\n",
       "    <tr>\n",
       "      <th>2</th>\n",
       "      <td>Estonia</td>\n",
       "      <td>6.7</td>\n",
       "      <td>B</td>\n",
       "      <td>Cereales</td>\n",
       "    </tr>\n",
       "    <tr>\n",
       "      <th>3</th>\n",
       "      <td>NaN</td>\n",
       "      <td>NaN</td>\n",
       "      <td>C</td>\n",
       "      <td>Aceite</td>\n",
       "    </tr>\n",
       "  </tbody>\n",
       "</table>\n",
       "</div>"
      ],
      "text/plain": [
       "      País  Cantidad Producto Descripción\n",
       "0  Estonia       8.4        A       Leche\n",
       "1  Ireland     227.0        A       Leche\n",
       "2  Estonia       6.7        B    Cereales\n",
       "3      NaN       NaN        C      Aceite"
      ]
     },
     "execution_count": 273,
     "metadata": {},
     "output_type": "execute_result"
    }
   ],
   "source": [
    "combine = pd.merge(t1, t2, on=['Producto'], how='right')\n",
    "combine\n",
    "\n",
    "#right: devuelve todas las COLUMNAS juntas y las flas del DF de la DERECHA tengan o no correspondencia con la izq\n",
    "    # rellena con NAN aquellas que no tengan correspondencia conla tabla de la derecha"
   ]
  },
  {
   "cell_type": "code",
   "execution_count": 274,
   "metadata": {},
   "outputs": [
    {
     "data": {
      "text/html": [
       "<div>\n",
       "<style scoped>\n",
       "    .dataframe tbody tr th:only-of-type {\n",
       "        vertical-align: middle;\n",
       "    }\n",
       "\n",
       "    .dataframe tbody tr th {\n",
       "        vertical-align: top;\n",
       "    }\n",
       "\n",
       "    .dataframe thead th {\n",
       "        text-align: right;\n",
       "    }\n",
       "</style>\n",
       "<table border=\"1\" class=\"dataframe\">\n",
       "  <thead>\n",
       "    <tr style=\"text-align: right;\">\n",
       "      <th></th>\n",
       "      <th>País</th>\n",
       "      <th>Cantidad</th>\n",
       "      <th>Producto</th>\n",
       "      <th>Descripción</th>\n",
       "    </tr>\n",
       "  </thead>\n",
       "  <tbody>\n",
       "    <tr>\n",
       "      <th>0</th>\n",
       "      <td>Estonia</td>\n",
       "      <td>8.4</td>\n",
       "      <td>A</td>\n",
       "      <td>Leche</td>\n",
       "    </tr>\n",
       "    <tr>\n",
       "      <th>1</th>\n",
       "      <td>Ireland</td>\n",
       "      <td>227.0</td>\n",
       "      <td>A</td>\n",
       "      <td>Leche</td>\n",
       "    </tr>\n",
       "    <tr>\n",
       "      <th>2</th>\n",
       "      <td>Estonia</td>\n",
       "      <td>6.7</td>\n",
       "      <td>B</td>\n",
       "      <td>Cereales</td>\n",
       "    </tr>\n",
       "    <tr>\n",
       "      <th>3</th>\n",
       "      <td>Spain</td>\n",
       "      <td>58.9</td>\n",
       "      <td>Z</td>\n",
       "      <td>NaN</td>\n",
       "    </tr>\n",
       "    <tr>\n",
       "      <th>4</th>\n",
       "      <td>NaN</td>\n",
       "      <td>NaN</td>\n",
       "      <td>C</td>\n",
       "      <td>Aceite</td>\n",
       "    </tr>\n",
       "  </tbody>\n",
       "</table>\n",
       "</div>"
      ],
      "text/plain": [
       "      País  Cantidad Producto Descripción\n",
       "0  Estonia       8.4        A       Leche\n",
       "1  Ireland     227.0        A       Leche\n",
       "2  Estonia       6.7        B    Cereales\n",
       "3    Spain      58.9        Z         NaN\n",
       "4      NaN       NaN        C      Aceite"
      ]
     },
     "execution_count": 274,
     "metadata": {},
     "output_type": "execute_result"
    }
   ],
   "source": [
    "combine = pd.merge(t1, t2, on=['Producto'], how='outer')\n",
    "combine\n",
    "\n",
    "# Combina los 2 df devolviendo la union de las filas devueltas por RIGHT y por LEFT y rellenando con NaN las no corresp"
   ]
  },
  {
   "cell_type": "markdown",
   "metadata": {},
   "source": [
    "IMPORTANTE: __para poder combinar 2 DF__ es necesario que las COLUMNAS que se combinen se __LLAMEN IGUAL__"
   ]
  },
  {
   "cell_type": "code",
   "execution_count": 275,
   "metadata": {},
   "outputs": [
    {
     "data": {
      "text/html": [
       "<div>\n",
       "<style scoped>\n",
       "    .dataframe tbody tr th:only-of-type {\n",
       "        vertical-align: middle;\n",
       "    }\n",
       "\n",
       "    .dataframe tbody tr th {\n",
       "        vertical-align: top;\n",
       "    }\n",
       "\n",
       "    .dataframe thead th {\n",
       "        text-align: right;\n",
       "    }\n",
       "</style>\n",
       "<table border=\"1\" class=\"dataframe\">\n",
       "  <thead>\n",
       "    <tr style=\"text-align: right;\">\n",
       "      <th></th>\n",
       "      <th>Id.Producto</th>\n",
       "      <th>Descripción</th>\n",
       "    </tr>\n",
       "  </thead>\n",
       "  <tbody>\n",
       "    <tr>\n",
       "      <th>0</th>\n",
       "      <td>A</td>\n",
       "      <td>Leche</td>\n",
       "    </tr>\n",
       "    <tr>\n",
       "      <th>1</th>\n",
       "      <td>B</td>\n",
       "      <td>Cereales</td>\n",
       "    </tr>\n",
       "    <tr>\n",
       "      <th>2</th>\n",
       "      <td>C</td>\n",
       "      <td>Aceite</td>\n",
       "    </tr>\n",
       "  </tbody>\n",
       "</table>\n",
       "</div>"
      ],
      "text/plain": [
       "  Id.Producto Descripción\n",
       "0           A       Leche\n",
       "1           B    Cereales\n",
       "2           C      Aceite"
      ]
     },
     "execution_count": 275,
     "metadata": {},
     "output_type": "execute_result"
    }
   ],
   "source": [
    "d3 ={'Id.Producto' : ['A', 'B', 'C'],\n",
    "     'Descripción' : [  'Leche',  'Cereales',   'Aceite' ] }\n",
    "t3 = pd.DataFrame( d3 )\n",
    "t3"
   ]
  },
  {
   "cell_type": "code",
   "execution_count": 276,
   "metadata": {},
   "outputs": [
    {
     "data": {
      "text/html": [
       "<div>\n",
       "<style scoped>\n",
       "    .dataframe tbody tr th:only-of-type {\n",
       "        vertical-align: middle;\n",
       "    }\n",
       "\n",
       "    .dataframe tbody tr th {\n",
       "        vertical-align: top;\n",
       "    }\n",
       "\n",
       "    .dataframe thead th {\n",
       "        text-align: right;\n",
       "    }\n",
       "</style>\n",
       "<table border=\"1\" class=\"dataframe\">\n",
       "  <thead>\n",
       "    <tr style=\"text-align: right;\">\n",
       "      <th></th>\n",
       "      <th>País</th>\n",
       "      <th>Cantidad</th>\n",
       "      <th>Producto</th>\n",
       "      <th>Id.Producto</th>\n",
       "      <th>Descripción</th>\n",
       "    </tr>\n",
       "  </thead>\n",
       "  <tbody>\n",
       "    <tr>\n",
       "      <th>0</th>\n",
       "      <td>Estonia</td>\n",
       "      <td>8.4</td>\n",
       "      <td>A</td>\n",
       "      <td>A</td>\n",
       "      <td>Leche</td>\n",
       "    </tr>\n",
       "    <tr>\n",
       "      <th>1</th>\n",
       "      <td>Ireland</td>\n",
       "      <td>227.0</td>\n",
       "      <td>A</td>\n",
       "      <td>A</td>\n",
       "      <td>Leche</td>\n",
       "    </tr>\n",
       "    <tr>\n",
       "      <th>2</th>\n",
       "      <td>Estonia</td>\n",
       "      <td>6.7</td>\n",
       "      <td>B</td>\n",
       "      <td>B</td>\n",
       "      <td>Cereales</td>\n",
       "    </tr>\n",
       "  </tbody>\n",
       "</table>\n",
       "</div>"
      ],
      "text/plain": [
       "      País  Cantidad Producto Id.Producto Descripción\n",
       "0  Estonia       8.4        A           A       Leche\n",
       "1  Ireland     227.0        A           A       Leche\n",
       "2  Estonia       6.7        B           B    Cereales"
      ]
     },
     "execution_count": 276,
     "metadata": {},
     "output_type": "execute_result"
    }
   ],
   "source": [
    "# COMBINAR POR COLUMNAS DE DISTINTO NOMBRE: RIGHT_ON Y LEFT_ON\n",
    "combine = pd.merge(t1,t3, left_on= 'Producto', right_on='Id.Producto')\n",
    "combine  # los resultados de las 2 son los mismos pero con columna de diferente nombre"
   ]
  },
  {
   "cell_type": "markdown",
   "metadata": {},
   "source": [
    "### Combinar sobre INDICES"
   ]
  },
  {
   "cell_type": "markdown",
   "metadata": {},
   "source": [
    "A veces, el valor por el que queremos combinar se encuentra en el INDICE"
   ]
  },
  {
   "cell_type": "code",
   "execution_count": 277,
   "metadata": {},
   "outputs": [
    {
     "data": {
      "text/html": [
       "<div>\n",
       "<style scoped>\n",
       "    .dataframe tbody tr th:only-of-type {\n",
       "        vertical-align: middle;\n",
       "    }\n",
       "\n",
       "    .dataframe tbody tr th {\n",
       "        vertical-align: top;\n",
       "    }\n",
       "\n",
       "    .dataframe thead th {\n",
       "        text-align: right;\n",
       "    }\n",
       "</style>\n",
       "<table border=\"1\" class=\"dataframe\">\n",
       "  <thead>\n",
       "    <tr style=\"text-align: right;\">\n",
       "      <th></th>\n",
       "      <th>Densidad 2005</th>\n",
       "      <th>Densidad 2015</th>\n",
       "    </tr>\n",
       "  </thead>\n",
       "  <tbody>\n",
       "    <tr>\n",
       "      <th>ES</th>\n",
       "      <td>92</td>\n",
       "      <td>89</td>\n",
       "    </tr>\n",
       "    <tr>\n",
       "      <th>AL</th>\n",
       "      <td>230</td>\n",
       "      <td>231</td>\n",
       "    </tr>\n",
       "    <tr>\n",
       "      <th>IT</th>\n",
       "      <td>201</td>\n",
       "      <td>193</td>\n",
       "    </tr>\n",
       "    <tr>\n",
       "      <th>CH</th>\n",
       "      <td>144</td>\n",
       "      <td>137</td>\n",
       "    </tr>\n",
       "  </tbody>\n",
       "</table>\n",
       "</div>"
      ],
      "text/plain": [
       "    Densidad 2005  Densidad 2015\n",
       "ES             92             89\n",
       "AL            230            231\n",
       "IT            201            193\n",
       "CH            144            137"
      ]
     },
     "execution_count": 277,
     "metadata": {},
     "output_type": "execute_result"
    }
   ],
   "source": [
    "# DOS NUEVOS DF CON MISMOS INDICES\n",
    "t4 = pd.DataFrame( data = [ (92, 89), \n",
    "                                (230, 231),\n",
    "                                (201 , 193),\n",
    "                                (144, 137)                                ],\n",
    "                       columns =  [ 'Densidad 2005', 'Densidad 2015'], \n",
    "                       index = [ 'ES', 'AL', 'IT', 'CH'])\n",
    "t4"
   ]
  },
  {
   "cell_type": "code",
   "execution_count": 278,
   "metadata": {},
   "outputs": [
    {
     "data": {
      "text/html": [
       "<div>\n",
       "<style scoped>\n",
       "    .dataframe tbody tr th:only-of-type {\n",
       "        vertical-align: middle;\n",
       "    }\n",
       "\n",
       "    .dataframe tbody tr th {\n",
       "        vertical-align: top;\n",
       "    }\n",
       "\n",
       "    .dataframe thead th {\n",
       "        text-align: right;\n",
       "    }\n",
       "</style>\n",
       "<table border=\"1\" class=\"dataframe\">\n",
       "  <thead>\n",
       "    <tr style=\"text-align: right;\">\n",
       "      <th></th>\n",
       "      <th>País</th>\n",
       "      <th>Pob 2015</th>\n",
       "    </tr>\n",
       "  </thead>\n",
       "  <tbody>\n",
       "    <tr>\n",
       "      <th>ES</th>\n",
       "      <td>España</td>\n",
       "      <td>46449</td>\n",
       "    </tr>\n",
       "    <tr>\n",
       "      <th>AL</th>\n",
       "      <td>Alemania</td>\n",
       "      <td>81197</td>\n",
       "    </tr>\n",
       "    <tr>\n",
       "      <th>JP</th>\n",
       "      <td>Japón</td>\n",
       "      <td>127120</td>\n",
       "    </tr>\n",
       "  </tbody>\n",
       "</table>\n",
       "</div>"
      ],
      "text/plain": [
       "        País  Pob 2015\n",
       "ES    España     46449\n",
       "AL  Alemania     81197\n",
       "JP     Japón    127120"
      ]
     },
     "execution_count": 278,
     "metadata": {},
     "output_type": "execute_result"
    }
   ],
   "source": [
    "t5 = pd.DataFrame( data = [ ('España', 46449), \n",
    "                                ('Alemania',81197),\n",
    "                                          ('Japón',127120) ],\n",
    "                       columns =  ['País', 'Pob 2015'], \n",
    "                       index = [ 'ES', 'AL', 'JP'])\n",
    "t5"
   ]
  },
  {
   "cell_type": "code",
   "execution_count": 279,
   "metadata": {},
   "outputs": [
    {
     "data": {
      "text/html": [
       "<div>\n",
       "<style scoped>\n",
       "    .dataframe tbody tr th:only-of-type {\n",
       "        vertical-align: middle;\n",
       "    }\n",
       "\n",
       "    .dataframe tbody tr th {\n",
       "        vertical-align: top;\n",
       "    }\n",
       "\n",
       "    .dataframe thead th {\n",
       "        text-align: right;\n",
       "    }\n",
       "</style>\n",
       "<table border=\"1\" class=\"dataframe\">\n",
       "  <thead>\n",
       "    <tr style=\"text-align: right;\">\n",
       "      <th></th>\n",
       "      <th>Densidad 2005</th>\n",
       "      <th>Densidad 2015</th>\n",
       "      <th>País</th>\n",
       "      <th>Pob 2015</th>\n",
       "    </tr>\n",
       "  </thead>\n",
       "  <tbody>\n",
       "    <tr>\n",
       "      <th>ES</th>\n",
       "      <td>92</td>\n",
       "      <td>89</td>\n",
       "      <td>España</td>\n",
       "      <td>46449.0</td>\n",
       "    </tr>\n",
       "    <tr>\n",
       "      <th>AL</th>\n",
       "      <td>230</td>\n",
       "      <td>231</td>\n",
       "      <td>Alemania</td>\n",
       "      <td>81197.0</td>\n",
       "    </tr>\n",
       "    <tr>\n",
       "      <th>IT</th>\n",
       "      <td>201</td>\n",
       "      <td>193</td>\n",
       "      <td>NaN</td>\n",
       "      <td>NaN</td>\n",
       "    </tr>\n",
       "    <tr>\n",
       "      <th>CH</th>\n",
       "      <td>144</td>\n",
       "      <td>137</td>\n",
       "      <td>NaN</td>\n",
       "      <td>NaN</td>\n",
       "    </tr>\n",
       "  </tbody>\n",
       "</table>\n",
       "</div>"
      ],
      "text/plain": [
       "    Densidad 2005  Densidad 2015      País  Pob 2015\n",
       "ES             92             89    España   46449.0\n",
       "AL            230            231  Alemania   81197.0\n",
       "IT            201            193       NaN       NaN\n",
       "CH            144            137       NaN       NaN"
      ]
     },
     "execution_count": 279,
     "metadata": {},
     "output_type": "execute_result"
    }
   ],
   "source": [
    "# COMBINAR AMBOS DF usando el INDICE : LEFT_INDEX y RIGHT_INDEX\n",
    "\n",
    "combine = pd.merge(t4, t5, how = 'left', left_index= True, right_index=True)\n",
    "combine  # devuelve valores NaN en aquellos que no salen en el left "
   ]
  },
  {
   "cell_type": "code",
   "execution_count": 281,
   "metadata": {},
   "outputs": [
    {
     "data": {
      "text/html": [
       "<div>\n",
       "<style scoped>\n",
       "    .dataframe tbody tr th:only-of-type {\n",
       "        vertical-align: middle;\n",
       "    }\n",
       "\n",
       "    .dataframe tbody tr th {\n",
       "        vertical-align: top;\n",
       "    }\n",
       "\n",
       "    .dataframe thead th {\n",
       "        text-align: right;\n",
       "    }\n",
       "</style>\n",
       "<table border=\"1\" class=\"dataframe\">\n",
       "  <thead>\n",
       "    <tr style=\"text-align: right;\">\n",
       "      <th></th>\n",
       "      <th>País</th>\n",
       "      <th>Código</th>\n",
       "      <th>Pob 2015</th>\n",
       "    </tr>\n",
       "  </thead>\n",
       "  <tbody>\n",
       "    <tr>\n",
       "      <th>0</th>\n",
       "      <td>España</td>\n",
       "      <td>ES</td>\n",
       "      <td>46449</td>\n",
       "    </tr>\n",
       "    <tr>\n",
       "      <th>1</th>\n",
       "      <td>Alemania</td>\n",
       "      <td>AL</td>\n",
       "      <td>81197</td>\n",
       "    </tr>\n",
       "    <tr>\n",
       "      <th>2</th>\n",
       "      <td>Japón</td>\n",
       "      <td>JP</td>\n",
       "      <td>127120</td>\n",
       "    </tr>\n",
       "  </tbody>\n",
       "</table>\n",
       "</div>"
      ],
      "text/plain": [
       "       País Código  Pob 2015\n",
       "0    España     ES     46449\n",
       "1  Alemania     AL     81197\n",
       "2     Japón     JP    127120"
      ]
     },
     "execution_count": 281,
     "metadata": {},
     "output_type": "execute_result"
    }
   ],
   "source": [
    "# COMBINAR DF: POR UNA COLUMNA Y UN VALOR DE INDICE\n",
    "t6 = pd.DataFrame( data = [ ('España', 'ES', 46449), \n",
    "                            ('Alemania', 'AL' , 81197),\n",
    "                            ('Japón', 'JP', 127120) ],\n",
    "                       columns =  ['País', 'Código', 'Pob 2015'])\n",
    "t6"
   ]
  },
  {
   "cell_type": "code",
   "execution_count": 282,
   "metadata": {},
   "outputs": [
    {
     "data": {
      "text/html": [
       "<div>\n",
       "<style scoped>\n",
       "    .dataframe tbody tr th:only-of-type {\n",
       "        vertical-align: middle;\n",
       "    }\n",
       "\n",
       "    .dataframe tbody tr th {\n",
       "        vertical-align: top;\n",
       "    }\n",
       "\n",
       "    .dataframe thead th {\n",
       "        text-align: right;\n",
       "    }\n",
       "</style>\n",
       "<table border=\"1\" class=\"dataframe\">\n",
       "  <thead>\n",
       "    <tr style=\"text-align: right;\">\n",
       "      <th></th>\n",
       "      <th>Densidad 2005</th>\n",
       "      <th>Densidad 2015</th>\n",
       "    </tr>\n",
       "  </thead>\n",
       "  <tbody>\n",
       "    <tr>\n",
       "      <th>ES</th>\n",
       "      <td>92</td>\n",
       "      <td>89</td>\n",
       "    </tr>\n",
       "    <tr>\n",
       "      <th>AL</th>\n",
       "      <td>230</td>\n",
       "      <td>231</td>\n",
       "    </tr>\n",
       "    <tr>\n",
       "      <th>IT</th>\n",
       "      <td>201</td>\n",
       "      <td>193</td>\n",
       "    </tr>\n",
       "    <tr>\n",
       "      <th>CH</th>\n",
       "      <td>144</td>\n",
       "      <td>137</td>\n",
       "    </tr>\n",
       "  </tbody>\n",
       "</table>\n",
       "</div>"
      ],
      "text/plain": [
       "    Densidad 2005  Densidad 2015\n",
       "ES             92             89\n",
       "AL            230            231\n",
       "IT            201            193\n",
       "CH            144            137"
      ]
     },
     "execution_count": 282,
     "metadata": {},
     "output_type": "execute_result"
    }
   ],
   "source": [
    "t4"
   ]
  },
  {
   "cell_type": "code",
   "execution_count": 285,
   "metadata": {},
   "outputs": [
    {
     "data": {
      "text/html": [
       "<div>\n",
       "<style scoped>\n",
       "    .dataframe tbody tr th:only-of-type {\n",
       "        vertical-align: middle;\n",
       "    }\n",
       "\n",
       "    .dataframe tbody tr th {\n",
       "        vertical-align: top;\n",
       "    }\n",
       "\n",
       "    .dataframe thead th {\n",
       "        text-align: right;\n",
       "    }\n",
       "</style>\n",
       "<table border=\"1\" class=\"dataframe\">\n",
       "  <thead>\n",
       "    <tr style=\"text-align: right;\">\n",
       "      <th></th>\n",
       "      <th>País</th>\n",
       "      <th>Código</th>\n",
       "      <th>Pob 2015</th>\n",
       "      <th>Densidad 2005</th>\n",
       "      <th>Densidad 2015</th>\n",
       "    </tr>\n",
       "  </thead>\n",
       "  <tbody>\n",
       "    <tr>\n",
       "      <th>0</th>\n",
       "      <td>España</td>\n",
       "      <td>ES</td>\n",
       "      <td>46449</td>\n",
       "      <td>92.0</td>\n",
       "      <td>89.0</td>\n",
       "    </tr>\n",
       "    <tr>\n",
       "      <th>1</th>\n",
       "      <td>Alemania</td>\n",
       "      <td>AL</td>\n",
       "      <td>81197</td>\n",
       "      <td>230.0</td>\n",
       "      <td>231.0</td>\n",
       "    </tr>\n",
       "    <tr>\n",
       "      <th>2</th>\n",
       "      <td>Japón</td>\n",
       "      <td>JP</td>\n",
       "      <td>127120</td>\n",
       "      <td>NaN</td>\n",
       "      <td>NaN</td>\n",
       "    </tr>\n",
       "  </tbody>\n",
       "</table>\n",
       "</div>"
      ],
      "text/plain": [
       "       País Código  Pob 2015  Densidad 2005  Densidad 2015\n",
       "0    España     ES     46449           92.0           89.0\n",
       "1  Alemania     AL     81197          230.0          231.0\n",
       "2     Japón     JP    127120            NaN            NaN"
      ]
     },
     "execution_count": 285,
     "metadata": {},
     "output_type": "execute_result"
    }
   ],
   "source": [
    "combine = pd.merge(t6, t4, how = 'left', left_on= 'Código', right_index= True)\n",
    "combine  # dentro de una columna los valores que correspondan al indice de la otra"
   ]
  },
  {
   "cell_type": "code",
   "execution_count": 286,
   "metadata": {},
   "outputs": [
    {
     "data": {
      "text/html": [
       "<div>\n",
       "<style scoped>\n",
       "    .dataframe tbody tr th:only-of-type {\n",
       "        vertical-align: middle;\n",
       "    }\n",
       "\n",
       "    .dataframe tbody tr th {\n",
       "        vertical-align: top;\n",
       "    }\n",
       "\n",
       "    .dataframe thead th {\n",
       "        text-align: right;\n",
       "    }\n",
       "</style>\n",
       "<table border=\"1\" class=\"dataframe\">\n",
       "  <thead>\n",
       "    <tr style=\"text-align: right;\">\n",
       "      <th></th>\n",
       "      <th>Densidad 2005</th>\n",
       "      <th>Densidad 2015</th>\n",
       "    </tr>\n",
       "  </thead>\n",
       "  <tbody>\n",
       "    <tr>\n",
       "      <th>ES</th>\n",
       "      <td>92</td>\n",
       "      <td>89</td>\n",
       "    </tr>\n",
       "    <tr>\n",
       "      <th>AL</th>\n",
       "      <td>230</td>\n",
       "      <td>231</td>\n",
       "    </tr>\n",
       "    <tr>\n",
       "      <th>IT</th>\n",
       "      <td>201</td>\n",
       "      <td>193</td>\n",
       "    </tr>\n",
       "    <tr>\n",
       "      <th>CH</th>\n",
       "      <td>144</td>\n",
       "      <td>137</td>\n",
       "    </tr>\n",
       "  </tbody>\n",
       "</table>\n",
       "</div>"
      ],
      "text/plain": [
       "    Densidad 2005  Densidad 2015\n",
       "ES             92             89\n",
       "AL            230            231\n",
       "IT            201            193\n",
       "CH            144            137"
      ]
     },
     "execution_count": 286,
     "metadata": {},
     "output_type": "execute_result"
    }
   ],
   "source": [
    "t4"
   ]
  },
  {
   "cell_type": "code",
   "execution_count": 287,
   "metadata": {},
   "outputs": [
    {
     "data": {
      "text/html": [
       "<div>\n",
       "<style scoped>\n",
       "    .dataframe tbody tr th:only-of-type {\n",
       "        vertical-align: middle;\n",
       "    }\n",
       "\n",
       "    .dataframe tbody tr th {\n",
       "        vertical-align: top;\n",
       "    }\n",
       "\n",
       "    .dataframe thead th {\n",
       "        text-align: right;\n",
       "    }\n",
       "</style>\n",
       "<table border=\"1\" class=\"dataframe\">\n",
       "  <thead>\n",
       "    <tr style=\"text-align: right;\">\n",
       "      <th></th>\n",
       "      <th>País</th>\n",
       "      <th>Pob 2015</th>\n",
       "    </tr>\n",
       "  </thead>\n",
       "  <tbody>\n",
       "    <tr>\n",
       "      <th>ES</th>\n",
       "      <td>España</td>\n",
       "      <td>46449</td>\n",
       "    </tr>\n",
       "    <tr>\n",
       "      <th>AL</th>\n",
       "      <td>Alemania</td>\n",
       "      <td>81197</td>\n",
       "    </tr>\n",
       "    <tr>\n",
       "      <th>JP</th>\n",
       "      <td>Japón</td>\n",
       "      <td>127120</td>\n",
       "    </tr>\n",
       "  </tbody>\n",
       "</table>\n",
       "</div>"
      ],
      "text/plain": [
       "        País  Pob 2015\n",
       "ES    España     46449\n",
       "AL  Alemania     81197\n",
       "JP     Japón    127120"
      ]
     },
     "execution_count": 287,
     "metadata": {},
     "output_type": "execute_result"
    }
   ],
   "source": [
    "t5"
   ]
  },
  {
   "cell_type": "code",
   "execution_count": 288,
   "metadata": {},
   "outputs": [],
   "source": [
    "# Vemos que no hay columnas con el mismo nombre"
   ]
  },
  {
   "cell_type": "markdown",
   "metadata": {},
   "source": [
    "COMBINACION POR INDICES: mejor con __join__ de DF \n",
    "> Unico requisito :ambos no tengan columnas con mismo nombre"
   ]
  },
  {
   "cell_type": "code",
   "execution_count": 289,
   "metadata": {},
   "outputs": [
    {
     "data": {
      "text/html": [
       "<div>\n",
       "<style scoped>\n",
       "    .dataframe tbody tr th:only-of-type {\n",
       "        vertical-align: middle;\n",
       "    }\n",
       "\n",
       "    .dataframe tbody tr th {\n",
       "        vertical-align: top;\n",
       "    }\n",
       "\n",
       "    .dataframe thead th {\n",
       "        text-align: right;\n",
       "    }\n",
       "</style>\n",
       "<table border=\"1\" class=\"dataframe\">\n",
       "  <thead>\n",
       "    <tr style=\"text-align: right;\">\n",
       "      <th></th>\n",
       "      <th>Densidad 2005</th>\n",
       "      <th>Densidad 2015</th>\n",
       "      <th>País</th>\n",
       "    </tr>\n",
       "  </thead>\n",
       "  <tbody>\n",
       "    <tr>\n",
       "      <th>ES</th>\n",
       "      <td>92</td>\n",
       "      <td>89</td>\n",
       "      <td>España</td>\n",
       "    </tr>\n",
       "    <tr>\n",
       "      <th>AL</th>\n",
       "      <td>230</td>\n",
       "      <td>231</td>\n",
       "      <td>Alemania</td>\n",
       "    </tr>\n",
       "    <tr>\n",
       "      <th>IT</th>\n",
       "      <td>201</td>\n",
       "      <td>193</td>\n",
       "      <td>NaN</td>\n",
       "    </tr>\n",
       "    <tr>\n",
       "      <th>CH</th>\n",
       "      <td>144</td>\n",
       "      <td>137</td>\n",
       "      <td>NaN</td>\n",
       "    </tr>\n",
       "  </tbody>\n",
       "</table>\n",
       "</div>"
      ],
      "text/plain": [
       "    Densidad 2005  Densidad 2015      País\n",
       "ES             92             89    España\n",
       "AL            230            231  Alemania\n",
       "IT            201            193       NaN\n",
       "CH            144            137       NaN"
      ]
     },
     "execution_count": 289,
     "metadata": {},
     "output_type": "execute_result"
    }
   ],
   "source": [
    "t4.join(t5.loc[:,'País'])  # unimos ambos df, dejamos todas las filas del indice (mismos datos) y unimos por País"
   ]
  },
  {
   "cell_type": "markdown",
   "metadata": {},
   "source": [
    "### Concatenar en base a un EJE"
   ]
  },
  {
   "cell_type": "markdown",
   "metadata": {},
   "source": [
    "Con (`pd.concat de panda`) se pueden __CONSTRUIR NUEVOS OBJETOS__ de tipo __SERIES O DF__ en base a unos __EJES__. \n",
    "> NUMPY: Con funciones hstack y vstack podemos __APILAR ARRAYS en HORIZONTAL y en VERTICAL__. \n",
    "\n",
    "> PANDAS: tener en cuenta las __ETIQUETAS__ (para filas y para columnas)"
   ]
  },
  {
   "cell_type": "markdown",
   "metadata": {},
   "source": [
    "##### Concatenar SERIES"
   ]
  },
  {
   "cell_type": "code",
   "execution_count": 290,
   "metadata": {},
   "outputs": [
    {
     "data": {
      "text/plain": [
       "ES     89\n",
       "AL    231\n",
       "JP    336\n",
       "dtype: int64"
      ]
     },
     "execution_count": 290,
     "metadata": {},
     "output_type": "execute_result"
    }
   ],
   "source": [
    "# pd.concat para series o para DF.\n",
    "    # Ejemplo 1: Tenemos 2 series\n",
    "    \n",
    "s1 = pd.Series([89, 231, 336],\n",
    "              index = ['ES', 'AL', 'JP'])\n",
    "s1"
   ]
  },
  {
   "cell_type": "code",
   "execution_count": 291,
   "metadata": {},
   "outputs": [
    {
     "data": {
      "text/plain": [
       "IT    201\n",
       "CH    144\n",
       "dtype: int64"
      ]
     },
     "execution_count": 291,
     "metadata": {},
     "output_type": "execute_result"
    }
   ],
   "source": [
    "s2 = pd.Series([201, 144],\n",
    "              index = ['IT', 'CH'])\n",
    "s2"
   ]
  },
  {
   "cell_type": "code",
   "execution_count": 293,
   "metadata": {},
   "outputs": [
    {
     "data": {
      "text/plain": [
       "ES     89\n",
       "AL    231\n",
       "JP    336\n",
       "IT    201\n",
       "CH    144\n",
       "dtype: int64"
      ]
     },
     "execution_count": 293,
     "metadata": {},
     "output_type": "execute_result"
    }
   ],
   "source": [
    "# Utilizamos pd.concat: APILAR VERTICALMENTE los INDICES y los VALORES  con axis = 0\n",
    "result = pd.concat([s1, s2], axis= 0)  # axis 0 es mediante INDICES\n",
    "result"
   ]
  },
  {
   "cell_type": "code",
   "execution_count": 296,
   "metadata": {},
   "outputs": [
    {
     "data": {
      "text/html": [
       "<div>\n",
       "<style scoped>\n",
       "    .dataframe tbody tr th:only-of-type {\n",
       "        vertical-align: middle;\n",
       "    }\n",
       "\n",
       "    .dataframe tbody tr th {\n",
       "        vertical-align: top;\n",
       "    }\n",
       "\n",
       "    .dataframe thead th {\n",
       "        text-align: right;\n",
       "    }\n",
       "</style>\n",
       "<table border=\"1\" class=\"dataframe\">\n",
       "  <thead>\n",
       "    <tr style=\"text-align: right;\">\n",
       "      <th></th>\n",
       "      <th>0</th>\n",
       "      <th>1</th>\n",
       "    </tr>\n",
       "  </thead>\n",
       "  <tbody>\n",
       "    <tr>\n",
       "      <th>ES</th>\n",
       "      <td>89.0</td>\n",
       "      <td>NaN</td>\n",
       "    </tr>\n",
       "    <tr>\n",
       "      <th>AL</th>\n",
       "      <td>231.0</td>\n",
       "      <td>NaN</td>\n",
       "    </tr>\n",
       "    <tr>\n",
       "      <th>JP</th>\n",
       "      <td>336.0</td>\n",
       "      <td>NaN</td>\n",
       "    </tr>\n",
       "    <tr>\n",
       "      <th>IT</th>\n",
       "      <td>NaN</td>\n",
       "      <td>201.0</td>\n",
       "    </tr>\n",
       "    <tr>\n",
       "      <th>CH</th>\n",
       "      <td>NaN</td>\n",
       "      <td>144.0</td>\n",
       "    </tr>\n",
       "  </tbody>\n",
       "</table>\n",
       "</div>"
      ],
      "text/plain": [
       "        0      1\n",
       "ES   89.0    NaN\n",
       "AL  231.0    NaN\n",
       "JP  336.0    NaN\n",
       "IT    NaN  201.0\n",
       "CH    NaN  144.0"
      ]
     },
     "execution_count": 296,
     "metadata": {},
     "output_type": "execute_result"
    }
   ],
   "source": [
    "# pd.concat para APILAR HORIZONTALMENTE con axis = 1\n",
    "result = pd.concat([s1, s2], axis=1, sort=False)\n",
    "result\n",
    "\n",
    "# EN AMBOS SE PRODUCE UNION DE INDICES"
   ]
  },
  {
   "cell_type": "markdown",
   "metadata": {},
   "source": [
    "##### Concatenar DF"
   ]
  },
  {
   "cell_type": "code",
   "execution_count": 297,
   "metadata": {},
   "outputs": [],
   "source": [
    "d1 ={'País' : ['Estonia', 'Irlanda', 'Epaña'],\n",
    "     'Cantidad' : [  8.4,   227,  58.9 ] }\n",
    "     \n",
    "d2 ={'Producto' : ['A', 'B'],\n",
    "     'Descripción' : [  'Leche',  'Cereales',  ] }\n",
    "\n",
    "df1 = pd.DataFrame(d1, index = ['ES', 'IR', 'SP']) \n",
    "df2 = pd.DataFrame(d2, index = ['ES', 'IR']) "
   ]
  },
  {
   "cell_type": "code",
   "execution_count": 298,
   "metadata": {},
   "outputs": [
    {
     "data": {
      "text/html": [
       "<div>\n",
       "<style scoped>\n",
       "    .dataframe tbody tr th:only-of-type {\n",
       "        vertical-align: middle;\n",
       "    }\n",
       "\n",
       "    .dataframe tbody tr th {\n",
       "        vertical-align: top;\n",
       "    }\n",
       "\n",
       "    .dataframe thead th {\n",
       "        text-align: right;\n",
       "    }\n",
       "</style>\n",
       "<table border=\"1\" class=\"dataframe\">\n",
       "  <thead>\n",
       "    <tr style=\"text-align: right;\">\n",
       "      <th></th>\n",
       "      <th>País</th>\n",
       "      <th>Cantidad</th>\n",
       "    </tr>\n",
       "  </thead>\n",
       "  <tbody>\n",
       "    <tr>\n",
       "      <th>ES</th>\n",
       "      <td>Estonia</td>\n",
       "      <td>8.4</td>\n",
       "    </tr>\n",
       "    <tr>\n",
       "      <th>IR</th>\n",
       "      <td>Irlanda</td>\n",
       "      <td>227.0</td>\n",
       "    </tr>\n",
       "    <tr>\n",
       "      <th>SP</th>\n",
       "      <td>Epaña</td>\n",
       "      <td>58.9</td>\n",
       "    </tr>\n",
       "  </tbody>\n",
       "</table>\n",
       "</div>"
      ],
      "text/plain": [
       "       País  Cantidad\n",
       "ES  Estonia       8.4\n",
       "IR  Irlanda     227.0\n",
       "SP    Epaña      58.9"
      ]
     },
     "execution_count": 298,
     "metadata": {},
     "output_type": "execute_result"
    }
   ],
   "source": [
    "df1"
   ]
  },
  {
   "cell_type": "code",
   "execution_count": 299,
   "metadata": {},
   "outputs": [
    {
     "data": {
      "text/html": [
       "<div>\n",
       "<style scoped>\n",
       "    .dataframe tbody tr th:only-of-type {\n",
       "        vertical-align: middle;\n",
       "    }\n",
       "\n",
       "    .dataframe tbody tr th {\n",
       "        vertical-align: top;\n",
       "    }\n",
       "\n",
       "    .dataframe thead th {\n",
       "        text-align: right;\n",
       "    }\n",
       "</style>\n",
       "<table border=\"1\" class=\"dataframe\">\n",
       "  <thead>\n",
       "    <tr style=\"text-align: right;\">\n",
       "      <th></th>\n",
       "      <th>Producto</th>\n",
       "      <th>Descripción</th>\n",
       "    </tr>\n",
       "  </thead>\n",
       "  <tbody>\n",
       "    <tr>\n",
       "      <th>ES</th>\n",
       "      <td>A</td>\n",
       "      <td>Leche</td>\n",
       "    </tr>\n",
       "    <tr>\n",
       "      <th>IR</th>\n",
       "      <td>B</td>\n",
       "      <td>Cereales</td>\n",
       "    </tr>\n",
       "  </tbody>\n",
       "</table>\n",
       "</div>"
      ],
      "text/plain": [
       "   Producto Descripción\n",
       "ES        A       Leche\n",
       "IR        B    Cereales"
      ]
     },
     "execution_count": 299,
     "metadata": {},
     "output_type": "execute_result"
    }
   ],
   "source": [
    "df2"
   ]
  },
  {
   "cell_type": "code",
   "execution_count": 300,
   "metadata": {},
   "outputs": [
    {
     "data": {
      "text/html": [
       "<div>\n",
       "<style scoped>\n",
       "    .dataframe tbody tr th:only-of-type {\n",
       "        vertical-align: middle;\n",
       "    }\n",
       "\n",
       "    .dataframe tbody tr th {\n",
       "        vertical-align: top;\n",
       "    }\n",
       "\n",
       "    .dataframe thead th {\n",
       "        text-align: right;\n",
       "    }\n",
       "</style>\n",
       "<table border=\"1\" class=\"dataframe\">\n",
       "  <thead>\n",
       "    <tr style=\"text-align: right;\">\n",
       "      <th></th>\n",
       "      <th>País</th>\n",
       "      <th>Cantidad</th>\n",
       "      <th>Producto</th>\n",
       "      <th>Descripción</th>\n",
       "    </tr>\n",
       "  </thead>\n",
       "  <tbody>\n",
       "    <tr>\n",
       "      <th>ES</th>\n",
       "      <td>Estonia</td>\n",
       "      <td>8.4</td>\n",
       "      <td>A</td>\n",
       "      <td>Leche</td>\n",
       "    </tr>\n",
       "    <tr>\n",
       "      <th>IR</th>\n",
       "      <td>Irlanda</td>\n",
       "      <td>227.0</td>\n",
       "      <td>B</td>\n",
       "      <td>Cereales</td>\n",
       "    </tr>\n",
       "    <tr>\n",
       "      <th>SP</th>\n",
       "      <td>Epaña</td>\n",
       "      <td>58.9</td>\n",
       "      <td>NaN</td>\n",
       "      <td>NaN</td>\n",
       "    </tr>\n",
       "  </tbody>\n",
       "</table>\n",
       "</div>"
      ],
      "text/plain": [
       "       País  Cantidad Producto Descripción\n",
       "ES  Estonia       8.4        A       Leche\n",
       "IR  Irlanda     227.0        B    Cereales\n",
       "SP    Epaña      58.9      NaN         NaN"
      ]
     },
     "execution_count": 300,
     "metadata": {},
     "output_type": "execute_result"
    }
   ],
   "source": [
    "# APILAR DF HORIZONTALMENTE\n",
    "resul = pd.concat([df1, df2], axis = 1, sort=False)\n",
    "resul\n",
    "\n",
    "# se coje todo el indice que tengan en comun y se ponen las columnas de los 2"
   ]
  },
  {
   "cell_type": "code",
   "execution_count": 301,
   "metadata": {},
   "outputs": [
    {
     "data": {
      "text/html": [
       "<div>\n",
       "<style scoped>\n",
       "    .dataframe tbody tr th:only-of-type {\n",
       "        vertical-align: middle;\n",
       "    }\n",
       "\n",
       "    .dataframe tbody tr th {\n",
       "        vertical-align: top;\n",
       "    }\n",
       "\n",
       "    .dataframe thead th {\n",
       "        text-align: right;\n",
       "    }\n",
       "</style>\n",
       "<table border=\"1\" class=\"dataframe\">\n",
       "  <thead>\n",
       "    <tr style=\"text-align: right;\">\n",
       "      <th></th>\n",
       "      <th>País</th>\n",
       "      <th>Cantidad</th>\n",
       "      <th>Producto</th>\n",
       "      <th>Descripción</th>\n",
       "    </tr>\n",
       "  </thead>\n",
       "  <tbody>\n",
       "    <tr>\n",
       "      <th>ES</th>\n",
       "      <td>Estonia</td>\n",
       "      <td>8.4</td>\n",
       "      <td>NaN</td>\n",
       "      <td>NaN</td>\n",
       "    </tr>\n",
       "    <tr>\n",
       "      <th>IR</th>\n",
       "      <td>Irlanda</td>\n",
       "      <td>227.0</td>\n",
       "      <td>NaN</td>\n",
       "      <td>NaN</td>\n",
       "    </tr>\n",
       "    <tr>\n",
       "      <th>SP</th>\n",
       "      <td>Epaña</td>\n",
       "      <td>58.9</td>\n",
       "      <td>NaN</td>\n",
       "      <td>NaN</td>\n",
       "    </tr>\n",
       "    <tr>\n",
       "      <th>ES</th>\n",
       "      <td>NaN</td>\n",
       "      <td>NaN</td>\n",
       "      <td>A</td>\n",
       "      <td>Leche</td>\n",
       "    </tr>\n",
       "    <tr>\n",
       "      <th>IR</th>\n",
       "      <td>NaN</td>\n",
       "      <td>NaN</td>\n",
       "      <td>B</td>\n",
       "      <td>Cereales</td>\n",
       "    </tr>\n",
       "  </tbody>\n",
       "</table>\n",
       "</div>"
      ],
      "text/plain": [
       "       País  Cantidad Producto Descripción\n",
       "ES  Estonia       8.4      NaN         NaN\n",
       "IR  Irlanda     227.0      NaN         NaN\n",
       "SP    Epaña      58.9      NaN         NaN\n",
       "ES      NaN       NaN        A       Leche\n",
       "IR      NaN       NaN        B    Cereales"
      ]
     },
     "execution_count": 301,
     "metadata": {},
     "output_type": "execute_result"
    }
   ],
   "source": [
    "# APILAR DF VERTICALMENTE\n",
    "result = pd.concat([df1, df2], axis = 0, sort=False)\n",
    "result\n",
    "# se ponen los valores del primer indice y seguidos de los del segundo indice y todas las columnas"
   ]
  },
  {
   "cell_type": "markdown",
   "metadata": {},
   "source": [
    "ARGUMENTO __IGNORE_INDEX__ permite APILAR DF ignorando el valor de los indices"
   ]
  },
  {
   "cell_type": "code",
   "execution_count": 302,
   "metadata": {},
   "outputs": [
    {
     "data": {
      "text/html": [
       "<div>\n",
       "<style scoped>\n",
       "    .dataframe tbody tr th:only-of-type {\n",
       "        vertical-align: middle;\n",
       "    }\n",
       "\n",
       "    .dataframe tbody tr th {\n",
       "        vertical-align: top;\n",
       "    }\n",
       "\n",
       "    .dataframe thead th {\n",
       "        text-align: right;\n",
       "    }\n",
       "</style>\n",
       "<table border=\"1\" class=\"dataframe\">\n",
       "  <thead>\n",
       "    <tr style=\"text-align: right;\">\n",
       "      <th></th>\n",
       "      <th>País</th>\n",
       "      <th>Cantidad</th>\n",
       "      <th>Producto</th>\n",
       "      <th>Descripción</th>\n",
       "    </tr>\n",
       "  </thead>\n",
       "  <tbody>\n",
       "    <tr>\n",
       "      <th>0</th>\n",
       "      <td>Estonia</td>\n",
       "      <td>8.4</td>\n",
       "      <td>NaN</td>\n",
       "      <td>NaN</td>\n",
       "    </tr>\n",
       "    <tr>\n",
       "      <th>1</th>\n",
       "      <td>Irlanda</td>\n",
       "      <td>227.0</td>\n",
       "      <td>NaN</td>\n",
       "      <td>NaN</td>\n",
       "    </tr>\n",
       "    <tr>\n",
       "      <th>2</th>\n",
       "      <td>Epaña</td>\n",
       "      <td>58.9</td>\n",
       "      <td>NaN</td>\n",
       "      <td>NaN</td>\n",
       "    </tr>\n",
       "    <tr>\n",
       "      <th>3</th>\n",
       "      <td>NaN</td>\n",
       "      <td>NaN</td>\n",
       "      <td>A</td>\n",
       "      <td>Leche</td>\n",
       "    </tr>\n",
       "    <tr>\n",
       "      <th>4</th>\n",
       "      <td>NaN</td>\n",
       "      <td>NaN</td>\n",
       "      <td>B</td>\n",
       "      <td>Cereales</td>\n",
       "    </tr>\n",
       "  </tbody>\n",
       "</table>\n",
       "</div>"
      ],
      "text/plain": [
       "      País  Cantidad Producto Descripción\n",
       "0  Estonia       8.4      NaN         NaN\n",
       "1  Irlanda     227.0      NaN         NaN\n",
       "2    Epaña      58.9      NaN         NaN\n",
       "3      NaN       NaN        A       Leche\n",
       "4      NaN       NaN        B    Cereales"
      ]
     },
     "execution_count": 302,
     "metadata": {},
     "output_type": "execute_result"
    }
   ],
   "source": [
    "result = pd.concat([df1, df2], axis = 0, ignore_index= True, sort= False)\n",
    "result  # le da otros valores a los indices pero es una apilacion VERTICAL"
   ]
  },
  {
   "cell_type": "markdown",
   "metadata": {},
   "source": [
    "## Importar y exportar FICHEROS con PANDAS"
   ]
  },
  {
   "cell_type": "markdown",
   "metadata": {},
   "source": [
    "- Leer y almacenar datos en distintos formatos (ficheros o BBDD) \n",
    "    - Funciones de lecgtura de datos de tipo DF (sencilla y flexible)\n"
   ]
  },
  {
   "cell_type": "code",
   "execution_count": 303,
   "metadata": {},
   "outputs": [],
   "source": [
    "import pandas as pd\n",
    "import numpy as np"
   ]
  },
  {
   "cell_type": "markdown",
   "metadata": {},
   "source": [
    " ### Ficheros de texto o CSV"
   ]
  },
  {
   "cell_type": "markdown",
   "metadata": {},
   "source": [
    "1. Datos en ficheros de texto y representados en __forma de tabla__\n",
    "\n",
    "- Formato __MÁS POPULAR__ es : __CSV__ : valores de cada una de las filas estan __SEPARADOS POR LA COMA__\n",
    "- Tbb los valores de fila estan separados por otro simbolos (tabulador o espacio) - __TXT__\n",
    "\n",
    "__FUNCIONES__ mas utilizadads para __LEER DE FORMA FLEXIBLE FICHEROS DE TEXTO PLANO__\n",
    "- (`pd.read_csv y pd.read_table`)\n",
    "\n",
    "\n",
    "La __ESCRITURA DE LOS DATOS CONTENIDOS EN UN DF o una SERIE__ se hace mediante el metodo (`to_csv`) de las clases SERIES Y DF\n"
   ]
  },
  {
   "cell_type": "markdown",
   "metadata": {},
   "source": [
    "##### Lectura de ficheros de texto o CSV"
   ]
  },
  {
   "cell_type": "code",
   "execution_count": 306,
   "metadata": {},
   "outputs": [
    {
     "data": {
      "text/html": [
       "<div>\n",
       "<style scoped>\n",
       "    .dataframe tbody tr th:only-of-type {\n",
       "        vertical-align: middle;\n",
       "    }\n",
       "\n",
       "    .dataframe tbody tr th {\n",
       "        vertical-align: top;\n",
       "    }\n",
       "\n",
       "    .dataframe thead th {\n",
       "        text-align: right;\n",
       "    }\n",
       "</style>\n",
       "<table border=\"1\" class=\"dataframe\">\n",
       "  <thead>\n",
       "    <tr style=\"text-align: right;\">\n",
       "      <th></th>\n",
       "      <th>Especie</th>\n",
       "      <th>Peso cuerpo</th>\n",
       "      <th>Peso cerebro</th>\n",
       "    </tr>\n",
       "  </thead>\n",
       "  <tbody>\n",
       "    <tr>\n",
       "      <th>0</th>\n",
       "      <td>Big brown bat</td>\n",
       "      <td>0.023</td>\n",
       "      <td>0.3</td>\n",
       "    </tr>\n",
       "    <tr>\n",
       "      <th>1</th>\n",
       "      <td>Mouse</td>\n",
       "      <td>0.023</td>\n",
       "      <td>0.4</td>\n",
       "    </tr>\n",
       "    <tr>\n",
       "      <th>2</th>\n",
       "      <td>Ground squirrel</td>\n",
       "      <td>0.101</td>\n",
       "      <td>4.0</td>\n",
       "    </tr>\n",
       "    <tr>\n",
       "      <th>3</th>\n",
       "      <td>Tree shrew</td>\n",
       "      <td>0.104</td>\n",
       "      <td>2.5</td>\n",
       "    </tr>\n",
       "    <tr>\n",
       "      <th>4</th>\n",
       "      <td>Golden hamster</td>\n",
       "      <td>0.120</td>\n",
       "      <td>1.0</td>\n",
       "    </tr>\n",
       "    <tr>\n",
       "      <th>5</th>\n",
       "      <td>Mole</td>\n",
       "      <td>0.122</td>\n",
       "      <td>3.0</td>\n",
       "    </tr>\n",
       "    <tr>\n",
       "      <th>6</th>\n",
       "      <td>Galago</td>\n",
       "      <td>0.200</td>\n",
       "      <td>5.0</td>\n",
       "    </tr>\n",
       "    <tr>\n",
       "      <th>7</th>\n",
       "      <td>Rat</td>\n",
       "      <td>0.280</td>\n",
       "      <td>1.9</td>\n",
       "    </tr>\n",
       "  </tbody>\n",
       "</table>\n",
       "</div>"
      ],
      "text/plain": [
       "           Especie  Peso cuerpo  Peso cerebro\n",
       "0    Big brown bat        0.023           0.3\n",
       "1            Mouse        0.023           0.4\n",
       "2  Ground squirrel        0.101           4.0\n",
       "3       Tree shrew        0.104           2.5\n",
       "4   Golden hamster        0.120           1.0\n",
       "5             Mole        0.122           3.0\n",
       "6           Galago        0.200           5.0\n",
       "7              Rat        0.280           1.9"
      ]
     },
     "execution_count": 306,
     "metadata": {},
     "output_type": "execute_result"
    }
   ],
   "source": [
    "animales = pd.read_csv('./animals1.csv')  # crea objeto de tipo DF a partir de los datos contenidos en fichero en formato CSV\n",
    "animales  # IMPORTANTE"
   ]
  },
  {
   "cell_type": "markdown",
   "metadata": {},
   "source": [
    "La ___creacion__ de df a partir de un fichero CSV es sencilla ya que son ficheros de __texto__ y podemos utilizar la funcion (`pd.read_table`) para __CREAR DF__ indicando el separador de los __VALORES__ de cada una de las filas en el argumento (`delimiter`)."
   ]
  },
  {
   "cell_type": "code",
   "execution_count": 307,
   "metadata": {},
   "outputs": [
    {
     "data": {
      "text/html": [
       "<div>\n",
       "<style scoped>\n",
       "    .dataframe tbody tr th:only-of-type {\n",
       "        vertical-align: middle;\n",
       "    }\n",
       "\n",
       "    .dataframe tbody tr th {\n",
       "        vertical-align: top;\n",
       "    }\n",
       "\n",
       "    .dataframe thead th {\n",
       "        text-align: right;\n",
       "    }\n",
       "</style>\n",
       "<table border=\"1\" class=\"dataframe\">\n",
       "  <thead>\n",
       "    <tr style=\"text-align: right;\">\n",
       "      <th></th>\n",
       "      <th>Especie</th>\n",
       "      <th>Peso cuerpo</th>\n",
       "      <th>Peso cerebro</th>\n",
       "    </tr>\n",
       "  </thead>\n",
       "  <tbody>\n",
       "    <tr>\n",
       "      <th>0</th>\n",
       "      <td>Big brown bat</td>\n",
       "      <td>0.023</td>\n",
       "      <td>0.3</td>\n",
       "    </tr>\n",
       "    <tr>\n",
       "      <th>1</th>\n",
       "      <td>Mouse</td>\n",
       "      <td>0.023</td>\n",
       "      <td>0.4</td>\n",
       "    </tr>\n",
       "    <tr>\n",
       "      <th>2</th>\n",
       "      <td>Ground squirrel</td>\n",
       "      <td>0.101</td>\n",
       "      <td>4.0</td>\n",
       "    </tr>\n",
       "    <tr>\n",
       "      <th>3</th>\n",
       "      <td>Tree shrew</td>\n",
       "      <td>0.104</td>\n",
       "      <td>2.5</td>\n",
       "    </tr>\n",
       "    <tr>\n",
       "      <th>4</th>\n",
       "      <td>Golden hamster</td>\n",
       "      <td>0.120</td>\n",
       "      <td>1.0</td>\n",
       "    </tr>\n",
       "    <tr>\n",
       "      <th>5</th>\n",
       "      <td>Mole</td>\n",
       "      <td>0.122</td>\n",
       "      <td>3.0</td>\n",
       "    </tr>\n",
       "    <tr>\n",
       "      <th>6</th>\n",
       "      <td>Galago</td>\n",
       "      <td>0.200</td>\n",
       "      <td>5.0</td>\n",
       "    </tr>\n",
       "    <tr>\n",
       "      <th>7</th>\n",
       "      <td>Rat</td>\n",
       "      <td>0.280</td>\n",
       "      <td>1.9</td>\n",
       "    </tr>\n",
       "  </tbody>\n",
       "</table>\n",
       "</div>"
      ],
      "text/plain": [
       "           Especie  Peso cuerpo  Peso cerebro\n",
       "0    Big brown bat        0.023           0.3\n",
       "1            Mouse        0.023           0.4\n",
       "2  Ground squirrel        0.101           4.0\n",
       "3       Tree shrew        0.104           2.5\n",
       "4   Golden hamster        0.120           1.0\n",
       "5             Mole        0.122           3.0\n",
       "6           Galago        0.200           5.0\n",
       "7              Rat        0.280           1.9"
      ]
     },
     "execution_count": 307,
     "metadata": {},
     "output_type": "execute_result"
    }
   ],
   "source": [
    "animales = pd.read_table('./animals1.csv', delimiter = ',')  # queremos leer una tabla como un CSV  y le ponemos la ,\n",
    "animales "
   ]
  },
  {
   "cell_type": "markdown",
   "metadata": {},
   "source": [
    "Cuando en los datos no hay informacion del __NOMBRE DE LAS COLUMNAS__ (es decir, los datos aparecen en la 1 fila del fichero) lo ponemos indicar con (`header`) (la ausencia de cabeceras).\n",
    " - Es decir, tenemos que no salen Especie, Peso Cuerpo, Peso Cerebro en animals2.csv"
   ]
  },
  {
   "cell_type": "code",
   "execution_count": 308,
   "metadata": {},
   "outputs": [
    {
     "data": {
      "text/html": [
       "<div>\n",
       "<style scoped>\n",
       "    .dataframe tbody tr th:only-of-type {\n",
       "        vertical-align: middle;\n",
       "    }\n",
       "\n",
       "    .dataframe tbody tr th {\n",
       "        vertical-align: top;\n",
       "    }\n",
       "\n",
       "    .dataframe thead th {\n",
       "        text-align: right;\n",
       "    }\n",
       "</style>\n",
       "<table border=\"1\" class=\"dataframe\">\n",
       "  <thead>\n",
       "    <tr style=\"text-align: right;\">\n",
       "      <th></th>\n",
       "      <th>0</th>\n",
       "      <th>1</th>\n",
       "      <th>2</th>\n",
       "    </tr>\n",
       "  </thead>\n",
       "  <tbody>\n",
       "    <tr>\n",
       "      <th>0</th>\n",
       "      <td>Big brown bat</td>\n",
       "      <td>0.023</td>\n",
       "      <td>0.3</td>\n",
       "    </tr>\n",
       "    <tr>\n",
       "      <th>1</th>\n",
       "      <td>Mouse</td>\n",
       "      <td>0.023</td>\n",
       "      <td>0.4</td>\n",
       "    </tr>\n",
       "    <tr>\n",
       "      <th>2</th>\n",
       "      <td>Ground squirrel</td>\n",
       "      <td>0.101</td>\n",
       "      <td>4.0</td>\n",
       "    </tr>\n",
       "    <tr>\n",
       "      <th>3</th>\n",
       "      <td>Tree shrew</td>\n",
       "      <td>0.104</td>\n",
       "      <td>2.5</td>\n",
       "    </tr>\n",
       "    <tr>\n",
       "      <th>4</th>\n",
       "      <td>Golden hamster</td>\n",
       "      <td>0.120</td>\n",
       "      <td>1.0</td>\n",
       "    </tr>\n",
       "    <tr>\n",
       "      <th>5</th>\n",
       "      <td>Mole</td>\n",
       "      <td>0.122</td>\n",
       "      <td>3.0</td>\n",
       "    </tr>\n",
       "    <tr>\n",
       "      <th>6</th>\n",
       "      <td>Galago</td>\n",
       "      <td>0.200</td>\n",
       "      <td>5.0</td>\n",
       "    </tr>\n",
       "    <tr>\n",
       "      <th>7</th>\n",
       "      <td>Rat</td>\n",
       "      <td>0.280</td>\n",
       "      <td>1.9</td>\n",
       "    </tr>\n",
       "  </tbody>\n",
       "</table>\n",
       "</div>"
      ],
      "text/plain": [
       "                 0      1    2\n",
       "0    Big brown bat  0.023  0.3\n",
       "1            Mouse  0.023  0.4\n",
       "2  Ground squirrel  0.101  4.0\n",
       "3       Tree shrew  0.104  2.5\n",
       "4   Golden hamster  0.120  1.0\n",
       "5             Mole  0.122  3.0\n",
       "6           Galago  0.200  5.0\n",
       "7              Rat  0.280  1.9"
      ]
     },
     "execution_count": 308,
     "metadata": {},
     "output_type": "execute_result"
    }
   ],
   "source": [
    "# Las columnas del DF se indexan automaticamente con valores de tipo int empezando con el 0\n",
    "\n",
    "animales = pd.read_csv('./Animals2.csv', header = None)\n",
    "animales  # queremos que tenga filas y columnas"
   ]
  },
  {
   "cell_type": "code",
   "execution_count": 310,
   "metadata": {},
   "outputs": [
    {
     "data": {
      "text/html": [
       "<div>\n",
       "<style scoped>\n",
       "    .dataframe tbody tr th:only-of-type {\n",
       "        vertical-align: middle;\n",
       "    }\n",
       "\n",
       "    .dataframe tbody tr th {\n",
       "        vertical-align: top;\n",
       "    }\n",
       "\n",
       "    .dataframe thead th {\n",
       "        text-align: right;\n",
       "    }\n",
       "</style>\n",
       "<table border=\"1\" class=\"dataframe\">\n",
       "  <thead>\n",
       "    <tr style=\"text-align: right;\">\n",
       "      <th></th>\n",
       "      <th>Especie</th>\n",
       "      <th>Peso Cuerpo</th>\n",
       "      <th>Peso cerebro</th>\n",
       "    </tr>\n",
       "  </thead>\n",
       "  <tbody>\n",
       "    <tr>\n",
       "      <th>0</th>\n",
       "      <td>Big brown bat</td>\n",
       "      <td>0.023</td>\n",
       "      <td>0.3</td>\n",
       "    </tr>\n",
       "    <tr>\n",
       "      <th>1</th>\n",
       "      <td>Mouse</td>\n",
       "      <td>0.023</td>\n",
       "      <td>0.4</td>\n",
       "    </tr>\n",
       "    <tr>\n",
       "      <th>2</th>\n",
       "      <td>Ground squirrel</td>\n",
       "      <td>0.101</td>\n",
       "      <td>4.0</td>\n",
       "    </tr>\n",
       "    <tr>\n",
       "      <th>3</th>\n",
       "      <td>Tree shrew</td>\n",
       "      <td>0.104</td>\n",
       "      <td>2.5</td>\n",
       "    </tr>\n",
       "    <tr>\n",
       "      <th>4</th>\n",
       "      <td>Golden hamster</td>\n",
       "      <td>0.120</td>\n",
       "      <td>1.0</td>\n",
       "    </tr>\n",
       "    <tr>\n",
       "      <th>5</th>\n",
       "      <td>Mole</td>\n",
       "      <td>0.122</td>\n",
       "      <td>3.0</td>\n",
       "    </tr>\n",
       "    <tr>\n",
       "      <th>6</th>\n",
       "      <td>Galago</td>\n",
       "      <td>0.200</td>\n",
       "      <td>5.0</td>\n",
       "    </tr>\n",
       "    <tr>\n",
       "      <th>7</th>\n",
       "      <td>Rat</td>\n",
       "      <td>0.280</td>\n",
       "      <td>1.9</td>\n",
       "    </tr>\n",
       "  </tbody>\n",
       "</table>\n",
       "</div>"
      ],
      "text/plain": [
       "           Especie  Peso Cuerpo  Peso cerebro\n",
       "0    Big brown bat        0.023           0.3\n",
       "1            Mouse        0.023           0.4\n",
       "2  Ground squirrel        0.101           4.0\n",
       "3       Tree shrew        0.104           2.5\n",
       "4   Golden hamster        0.120           1.0\n",
       "5             Mole        0.122           3.0\n",
       "6           Galago        0.200           5.0\n",
       "7              Rat        0.280           1.9"
      ]
     },
     "execution_count": 310,
     "metadata": {},
     "output_type": "execute_result"
    }
   ],
   "source": [
    "animales = pd.read_csv('./Animals2.csv',\n",
    "                      header = None, \n",
    "                      names = ['Especie', 'Peso Cuerpo', 'Peso cerebro'])  # asignamos nombres a las columnas en la lectura\n",
    "animales"
   ]
  },
  {
   "cell_type": "markdown",
   "metadata": {},
   "source": [
    "Si las primeras filas del archivo __no se corresponden con los datos__ propiamente dichos, sino que APORTAN una __Descripcion__ de los datos que contiene:"
   ]
  },
  {
   "cell_type": "code",
   "execution_count": 311,
   "metadata": {},
   "outputs": [
    {
     "data": {
      "text/html": [
       "<div>\n",
       "<style scoped>\n",
       "    .dataframe tbody tr th:only-of-type {\n",
       "        vertical-align: middle;\n",
       "    }\n",
       "\n",
       "    .dataframe tbody tr th {\n",
       "        vertical-align: top;\n",
       "    }\n",
       "\n",
       "    .dataframe thead th {\n",
       "        text-align: right;\n",
       "    }\n",
       "</style>\n",
       "<table border=\"1\" class=\"dataframe\">\n",
       "  <thead>\n",
       "    <tr style=\"text-align: right;\">\n",
       "      <th></th>\n",
       "      <th>Extreno</th>\n",
       "      <th>Nombre</th>\n",
       "      <th>Cat</th>\n",
       "    </tr>\n",
       "  </thead>\n",
       "  <tbody>\n",
       "    <tr>\n",
       "      <th>0</th>\n",
       "      <td>1982</td>\n",
       "      <td>E.T. the ExtraTerrestrial</td>\n",
       "      <td>Fantasy</td>\n",
       "    </tr>\n",
       "    <tr>\n",
       "      <th>1</th>\n",
       "      <td>1982</td>\n",
       "      <td>Poltergeist</td>\n",
       "      <td>Horror</td>\n",
       "    </tr>\n",
       "    <tr>\n",
       "      <th>2</th>\n",
       "      <td>1992</td>\n",
       "      <td>Alien</td>\n",
       "      <td>Action</td>\n",
       "    </tr>\n",
       "    <tr>\n",
       "      <th>3</th>\n",
       "      <td>1992</td>\n",
       "      <td>The Crying Game</td>\n",
       "      <td>War</td>\n",
       "    </tr>\n",
       "    <tr>\n",
       "      <th>4</th>\n",
       "      <td>1995</td>\n",
       "      <td>Toy Story</td>\n",
       "      <td>Animation</td>\n",
       "    </tr>\n",
       "    <tr>\n",
       "      <th>5</th>\n",
       "      <td>1995</td>\n",
       "      <td>GoldenEye</td>\n",
       "      <td>Action</td>\n",
       "    </tr>\n",
       "    <tr>\n",
       "      <th>6</th>\n",
       "      <td>1995</td>\n",
       "      <td>Four Rooms</td>\n",
       "      <td>Thriller</td>\n",
       "    </tr>\n",
       "  </tbody>\n",
       "</table>\n",
       "</div>"
      ],
      "text/plain": [
       "   Extreno                     Nombre        Cat\n",
       "0     1982  E.T. the ExtraTerrestrial    Fantasy\n",
       "1     1982                Poltergeist     Horror\n",
       "2     1992                      Alien     Action\n",
       "3     1992            The Crying Game        War\n",
       "4     1995                  Toy Story  Animation\n",
       "5     1995                  GoldenEye     Action\n",
       "6     1995                 Four Rooms   Thriller"
      ]
     },
     "execution_count": 311,
     "metadata": {},
     "output_type": "execute_result"
    }
   ],
   "source": [
    "# El argumento skiprows puede OMITIR la LECTURA de un determinado numero de FILAS al comienzo del fichero\n",
    "\n",
    "peliculas = pd.read_csv('./peliculas.csv', skiprows= 6)\n",
    "peliculas  # nos saltamos las 6 primeras lineas que no son datos sino una descripcion del csv"
   ]
  },
  {
   "cell_type": "markdown",
   "metadata": {},
   "source": [
    "__CREAR OBJETOS__ de tipo DF donde los __VALORES DE LAS COLUMNAS__ en el fichero se van a convertir en el __INDICE__, utilizamos (`index_col`)"
   ]
  },
  {
   "cell_type": "code",
   "execution_count": 312,
   "metadata": {},
   "outputs": [
    {
     "data": {
      "text/html": [
       "<div>\n",
       "<style scoped>\n",
       "    .dataframe tbody tr th:only-of-type {\n",
       "        vertical-align: middle;\n",
       "    }\n",
       "\n",
       "    .dataframe tbody tr th {\n",
       "        vertical-align: top;\n",
       "    }\n",
       "\n",
       "    .dataframe thead th {\n",
       "        text-align: right;\n",
       "    }\n",
       "</style>\n",
       "<table border=\"1\" class=\"dataframe\">\n",
       "  <thead>\n",
       "    <tr style=\"text-align: right;\">\n",
       "      <th></th>\n",
       "      <th>Nombre</th>\n",
       "      <th>Cat</th>\n",
       "    </tr>\n",
       "    <tr>\n",
       "      <th>Extreno</th>\n",
       "      <th></th>\n",
       "      <th></th>\n",
       "    </tr>\n",
       "  </thead>\n",
       "  <tbody>\n",
       "    <tr>\n",
       "      <th>1982</th>\n",
       "      <td>E.T. the ExtraTerrestrial</td>\n",
       "      <td>Fantasy</td>\n",
       "    </tr>\n",
       "    <tr>\n",
       "      <th>1982</th>\n",
       "      <td>Poltergeist</td>\n",
       "      <td>Horror</td>\n",
       "    </tr>\n",
       "    <tr>\n",
       "      <th>1992</th>\n",
       "      <td>Alien</td>\n",
       "      <td>Action</td>\n",
       "    </tr>\n",
       "    <tr>\n",
       "      <th>1992</th>\n",
       "      <td>The Crying Game</td>\n",
       "      <td>War</td>\n",
       "    </tr>\n",
       "    <tr>\n",
       "      <th>1995</th>\n",
       "      <td>Toy Story</td>\n",
       "      <td>Animation</td>\n",
       "    </tr>\n",
       "    <tr>\n",
       "      <th>1995</th>\n",
       "      <td>GoldenEye</td>\n",
       "      <td>Action</td>\n",
       "    </tr>\n",
       "    <tr>\n",
       "      <th>1995</th>\n",
       "      <td>Four Rooms</td>\n",
       "      <td>Thriller</td>\n",
       "    </tr>\n",
       "  </tbody>\n",
       "</table>\n",
       "</div>"
      ],
      "text/plain": [
       "                            Nombre        Cat\n",
       "Extreno                                      \n",
       "1982     E.T. the ExtraTerrestrial    Fantasy\n",
       "1982                   Poltergeist     Horror\n",
       "1992                         Alien     Action\n",
       "1992               The Crying Game        War\n",
       "1995                     Toy Story  Animation\n",
       "1995                     GoldenEye     Action\n",
       "1995                    Four Rooms   Thriller"
      ]
     },
     "execution_count": 312,
     "metadata": {},
     "output_type": "execute_result"
    }
   ],
   "source": [
    "peliculas = pd.read_csv('./peliculas.csv', \n",
    "                       skiprows = 6, \n",
    "                       index_col = ['Extreno'])\n",
    "peliculas  # la columna se desplaza convirtiendose en el indice"
   ]
  },
  {
   "cell_type": "code",
   "execution_count": 313,
   "metadata": {},
   "outputs": [
    {
     "data": {
      "text/html": [
       "<div>\n",
       "<style scoped>\n",
       "    .dataframe tbody tr th:only-of-type {\n",
       "        vertical-align: middle;\n",
       "    }\n",
       "\n",
       "    .dataframe tbody tr th {\n",
       "        vertical-align: top;\n",
       "    }\n",
       "\n",
       "    .dataframe thead th {\n",
       "        text-align: right;\n",
       "    }\n",
       "</style>\n",
       "<table border=\"1\" class=\"dataframe\">\n",
       "  <thead>\n",
       "    <tr style=\"text-align: right;\">\n",
       "      <th></th>\n",
       "      <th>Nombre</th>\n",
       "      <th>Cat</th>\n",
       "    </tr>\n",
       "    <tr>\n",
       "      <th>Extreno</th>\n",
       "      <th></th>\n",
       "      <th></th>\n",
       "    </tr>\n",
       "  </thead>\n",
       "  <tbody>\n",
       "    <tr>\n",
       "      <th>1995</th>\n",
       "      <td>Toy Story</td>\n",
       "      <td>Animation</td>\n",
       "    </tr>\n",
       "    <tr>\n",
       "      <th>1995</th>\n",
       "      <td>GoldenEye</td>\n",
       "      <td>Action</td>\n",
       "    </tr>\n",
       "    <tr>\n",
       "      <th>1995</th>\n",
       "      <td>Four Rooms</td>\n",
       "      <td>Thriller</td>\n",
       "    </tr>\n",
       "  </tbody>\n",
       "</table>\n",
       "</div>"
      ],
      "text/plain": [
       "             Nombre        Cat\n",
       "Extreno                       \n",
       "1995      Toy Story  Animation\n",
       "1995      GoldenEye     Action\n",
       "1995     Four Rooms   Thriller"
      ]
     },
     "execution_count": 313,
     "metadata": {},
     "output_type": "execute_result"
    }
   ],
   "source": [
    "peliculas.loc[1995]  # nos muestra todos los datos del indice que corresponden al dato"
   ]
  },
  {
   "cell_type": "markdown",
   "metadata": {},
   "source": [
    "CREAR __DF__ con __MULTI INDICES__ a partir de los datos contenidos en un fichero. \n",
    "- Con el argumento `index col` con la lista de columnas en el fichero que serán los indices del DF"
   ]
  },
  {
   "cell_type": "code",
   "execution_count": 314,
   "metadata": {},
   "outputs": [
    {
     "data": {
      "text/html": [
       "<div>\n",
       "<style scoped>\n",
       "    .dataframe tbody tr th:only-of-type {\n",
       "        vertical-align: middle;\n",
       "    }\n",
       "\n",
       "    .dataframe tbody tr th {\n",
       "        vertical-align: top;\n",
       "    }\n",
       "\n",
       "    .dataframe thead th {\n",
       "        text-align: right;\n",
       "    }\n",
       "</style>\n",
       "<table border=\"1\" class=\"dataframe\">\n",
       "  <thead>\n",
       "    <tr style=\"text-align: right;\">\n",
       "      <th></th>\n",
       "      <th></th>\n",
       "      <th>Cat</th>\n",
       "    </tr>\n",
       "    <tr>\n",
       "      <th>Extreno</th>\n",
       "      <th>Nombre</th>\n",
       "      <th></th>\n",
       "    </tr>\n",
       "  </thead>\n",
       "  <tbody>\n",
       "    <tr>\n",
       "      <th rowspan=\"2\" valign=\"top\">1982</th>\n",
       "      <th>E.T. the ExtraTerrestrial</th>\n",
       "      <td>Fantasy</td>\n",
       "    </tr>\n",
       "    <tr>\n",
       "      <th>Poltergeist</th>\n",
       "      <td>Horror</td>\n",
       "    </tr>\n",
       "    <tr>\n",
       "      <th rowspan=\"2\" valign=\"top\">1992</th>\n",
       "      <th>Alien</th>\n",
       "      <td>Action</td>\n",
       "    </tr>\n",
       "    <tr>\n",
       "      <th>The Crying Game</th>\n",
       "      <td>War</td>\n",
       "    </tr>\n",
       "    <tr>\n",
       "      <th rowspan=\"3\" valign=\"top\">1995</th>\n",
       "      <th>Toy Story</th>\n",
       "      <td>Animation</td>\n",
       "    </tr>\n",
       "    <tr>\n",
       "      <th>GoldenEye</th>\n",
       "      <td>Action</td>\n",
       "    </tr>\n",
       "    <tr>\n",
       "      <th>Four Rooms</th>\n",
       "      <td>Thriller</td>\n",
       "    </tr>\n",
       "  </tbody>\n",
       "</table>\n",
       "</div>"
      ],
      "text/plain": [
       "                                         Cat\n",
       "Extreno Nombre                              \n",
       "1982    E.T. the ExtraTerrestrial    Fantasy\n",
       "        Poltergeist                   Horror\n",
       "1992    Alien                         Action\n",
       "        The Crying Game                  War\n",
       "1995    Toy Story                  Animation\n",
       "        GoldenEye                     Action\n",
       "        Four Rooms                  Thriller"
      ]
     },
     "execution_count": 314,
     "metadata": {},
     "output_type": "execute_result"
    }
   ],
   "source": [
    "peliculas = pd.read_csv('./peliculas.csv', \n",
    "                       skiprows = 6, \n",
    "                       index_col = [0, 1])  # multi indice o mas de un indice\n",
    "peliculas "
   ]
  },
  {
   "cell_type": "markdown",
   "metadata": {},
   "source": [
    "Cuando los ficheros de datos que vamos a procesar son __muy grandes__ se puede hacer una __LECTURA POR PARTES__\n",
    "1. Se procesa solo una PARTE de los datos\n",
    "- Argumento: nrows permite que procesemos __numero deterinado de filas del fichero__\n",
    "- argumento: skiprows : indicar las filas q no queremos procesar"
   ]
  },
  {
   "cell_type": "code",
   "execution_count": 315,
   "metadata": {},
   "outputs": [
    {
     "data": {
      "text/html": [
       "<div>\n",
       "<style scoped>\n",
       "    .dataframe tbody tr th:only-of-type {\n",
       "        vertical-align: middle;\n",
       "    }\n",
       "\n",
       "    .dataframe tbody tr th {\n",
       "        vertical-align: top;\n",
       "    }\n",
       "\n",
       "    .dataframe thead th {\n",
       "        text-align: right;\n",
       "    }\n",
       "</style>\n",
       "<table border=\"1\" class=\"dataframe\">\n",
       "  <thead>\n",
       "    <tr style=\"text-align: right;\">\n",
       "      <th></th>\n",
       "      <th>Extreno</th>\n",
       "      <th>Nombre</th>\n",
       "      <th>Cat</th>\n",
       "    </tr>\n",
       "  </thead>\n",
       "  <tbody>\n",
       "    <tr>\n",
       "      <th>0</th>\n",
       "      <td>1982</td>\n",
       "      <td>E.T. the ExtraTerrestrial</td>\n",
       "      <td>Fantasy</td>\n",
       "    </tr>\n",
       "    <tr>\n",
       "      <th>1</th>\n",
       "      <td>1982</td>\n",
       "      <td>Poltergeist</td>\n",
       "      <td>Horror</td>\n",
       "    </tr>\n",
       "  </tbody>\n",
       "</table>\n",
       "</div>"
      ],
      "text/plain": [
       "   Extreno                     Nombre      Cat\n",
       "0     1982  E.T. the ExtraTerrestrial  Fantasy\n",
       "1     1982                Poltergeist   Horror"
      ]
     },
     "execution_count": 315,
     "metadata": {},
     "output_type": "execute_result"
    }
   ],
   "source": [
    "peliculas = pd.read_csv('./peliculas.csv', \n",
    "                       skiprows = 6, \n",
    "                       index_col = ['Extreno'])\n",
    "peliculas "
   ]
  },
  {
   "cell_type": "markdown",
   "metadata": {},
   "source": [
    "Leer el fichero __completo en trozos__ con `chunksize` para especificar el __numero de filas__  que compone cada TROZO."
   ]
  },
  {
   "cell_type": "code",
   "execution_count": 316,
   "metadata": {},
   "outputs": [
    {
     "name": "stdout",
     "output_type": "stream",
     "text": [
      "3 144\n",
      "3 130\n",
      "1 94\n"
     ]
    }
   ],
   "source": [
    "trozos = pd.read_csv('./peliculas2.csv', \n",
    "                       chunksize = 3)\n",
    "for t in trozos:\n",
    "    print(len(t), t.Minutos.max())\n",
    "# Se realiza una LECTURA en porciones de 3 dilas, excepto la ultima que tiene 1 fila\n",
    "# Con el for iteramos sobre cada trozo y los procesamos"
   ]
  },
  {
   "cell_type": "markdown",
   "metadata": {},
   "source": [
    "##### Escritura de datos en ficheros CSV\n",
    "- Los datos almacenados en las estructuras de PANDAS ya sean SERIES o DF pueden ser almacenados en FICHEROS\n",
    "- Operacion habitual despues del procesamiento de datos, limpieza..."
   ]
  },
  {
   "cell_type": "code",
   "execution_count": 318,
   "metadata": {},
   "outputs": [
    {
     "data": {
      "text/html": [
       "<div>\n",
       "<style scoped>\n",
       "    .dataframe tbody tr th:only-of-type {\n",
       "        vertical-align: middle;\n",
       "    }\n",
       "\n",
       "    .dataframe tbody tr th {\n",
       "        vertical-align: top;\n",
       "    }\n",
       "\n",
       "    .dataframe thead th {\n",
       "        text-align: right;\n",
       "    }\n",
       "</style>\n",
       "<table border=\"1\" class=\"dataframe\">\n",
       "  <thead>\n",
       "    <tr style=\"text-align: right;\">\n",
       "      <th></th>\n",
       "      <th>Nombre</th>\n",
       "      <th>Minutos</th>\n",
       "    </tr>\n",
       "    <tr>\n",
       "      <th>Extreno</th>\n",
       "      <th></th>\n",
       "      <th></th>\n",
       "    </tr>\n",
       "  </thead>\n",
       "  <tbody>\n",
       "    <tr>\n",
       "      <th>1982</th>\n",
       "      <td>E.T. the ExtraTerrestrial</td>\n",
       "      <td>114</td>\n",
       "    </tr>\n",
       "    <tr>\n",
       "      <th>1982</th>\n",
       "      <td>Poltergeist</td>\n",
       "      <td>91</td>\n",
       "    </tr>\n",
       "    <tr>\n",
       "      <th>1992</th>\n",
       "      <td>Alien</td>\n",
       "      <td>144</td>\n",
       "    </tr>\n",
       "    <tr>\n",
       "      <th>1992</th>\n",
       "      <td>The Crying Game</td>\n",
       "      <td>113</td>\n",
       "    </tr>\n",
       "    <tr>\n",
       "      <th>1995</th>\n",
       "      <td>Toy Story</td>\n",
       "      <td>81</td>\n",
       "    </tr>\n",
       "    <tr>\n",
       "      <th>1995</th>\n",
       "      <td>GoldenEye</td>\n",
       "      <td>130</td>\n",
       "    </tr>\n",
       "    <tr>\n",
       "      <th>1995</th>\n",
       "      <td>Four Rooms</td>\n",
       "      <td>94</td>\n",
       "    </tr>\n",
       "  </tbody>\n",
       "</table>\n",
       "</div>"
      ],
      "text/plain": [
       "                            Nombre  Minutos\n",
       "Extreno                                    \n",
       "1982     E.T. the ExtraTerrestrial      114\n",
       "1982                   Poltergeist       91\n",
       "1992                         Alien      144\n",
       "1992               The Crying Game      113\n",
       "1995                     Toy Story       81\n",
       "1995                     GoldenEye      130\n",
       "1995                    Four Rooms       94"
      ]
     },
     "execution_count": 318,
     "metadata": {},
     "output_type": "execute_result"
    }
   ],
   "source": [
    "# Escribir los datos incluidos en un DF en un fichero CSV con to_csv con el nombre del fichero como argumento\n",
    "peliculas = pd.read_csv('./peliculas2.csv', index_col= ['Extreno'])\n",
    "peliculas"
   ]
  },
  {
   "cell_type": "code",
   "execution_count": 320,
   "metadata": {},
   "outputs": [],
   "source": [
    "peliculas.to_csv('./datos.csv')  # El indice y las columnas del DF se escriben en el fichero"
   ]
  },
  {
   "cell_type": "code",
   "execution_count": 321,
   "metadata": {},
   "outputs": [],
   "source": [
    "peliculas.to_csv('./datos.csv', header=True, index = False)  # quita Exreno del CSV"
   ]
  },
  {
   "cell_type": "markdown",
   "metadata": {},
   "source": [
    "##### Ficheros en formato MICROSOFT EXCEL"
   ]
  },
  {
   "cell_type": "markdown",
   "metadata": {},
   "source": [
    "Forma habitual para __guardar datos en forma tabular__ medaiante hojas de calculo en un libro o fichero Excel. \n",
    "- (`pd.read_excel`) para realiar LECTURA DE DATOS y crear DF\n",
    "- (`to_excel`) de la clase DF permite escribir los DATOS en una hoja de CALCULO EXCEL."
   ]
  },
  {
   "cell_type": "markdown",
   "metadata": {},
   "source": [
    "##### Lectura de ficheros EXCEL"
   ]
  },
  {
   "cell_type": "markdown",
   "metadata": {},
   "source": [
    "pd.read_excel : crear OBJETOS de tipo DF a partir de datos en ficheros: .xls, .xlsx. "
   ]
  },
  {
   "cell_type": "markdown",
   "metadata": {},
   "source": [
    "La funcion pd.real_excel lee los __datos de la 1 HOJA__ dentro del libro, pero tbb se puede __indicar de otra hoja: sheetname__"
   ]
  },
  {
   "cell_type": "code",
   "execution_count": 325,
   "metadata": {},
   "outputs": [
    {
     "data": {
      "text/html": [
       "<div>\n",
       "<style scoped>\n",
       "    .dataframe tbody tr th:only-of-type {\n",
       "        vertical-align: middle;\n",
       "    }\n",
       "\n",
       "    .dataframe tbody tr th {\n",
       "        vertical-align: top;\n",
       "    }\n",
       "\n",
       "    .dataframe thead th {\n",
       "        text-align: right;\n",
       "    }\n",
       "</style>\n",
       "<table border=\"1\" class=\"dataframe\">\n",
       "  <thead>\n",
       "    <tr style=\"text-align: right;\">\n",
       "      <th></th>\n",
       "      <th>CODCLI</th>\n",
       "      <th>NOMCLI</th>\n",
       "      <th>SEXO</th>\n",
       "    </tr>\n",
       "  </thead>\n",
       "  <tbody>\n",
       "    <tr>\n",
       "      <th>0</th>\n",
       "      <td>CLI-0001</td>\n",
       "      <td>ROSA ELVIRA</td>\n",
       "      <td>F</td>\n",
       "    </tr>\n",
       "    <tr>\n",
       "      <th>1</th>\n",
       "      <td>CLI-0003</td>\n",
       "      <td>MIGUEL ANGEL</td>\n",
       "      <td>M</td>\n",
       "    </tr>\n",
       "    <tr>\n",
       "      <th>2</th>\n",
       "      <td>CLI-0004</td>\n",
       "      <td>ANA MARIA</td>\n",
       "      <td>F</td>\n",
       "    </tr>\n",
       "    <tr>\n",
       "      <th>3</th>\n",
       "      <td>CLI-0013</td>\n",
       "      <td>BRIGGITTE</td>\n",
       "      <td>F</td>\n",
       "    </tr>\n",
       "    <tr>\n",
       "      <th>4</th>\n",
       "      <td>CLI-0018</td>\n",
       "      <td>SAULO ANDRE</td>\n",
       "      <td>M</td>\n",
       "    </tr>\n",
       "    <tr>\n",
       "      <th>5</th>\n",
       "      <td>CLI-0020</td>\n",
       "      <td>MONICA</td>\n",
       "      <td>F</td>\n",
       "    </tr>\n",
       "  </tbody>\n",
       "</table>\n",
       "</div>"
      ],
      "text/plain": [
       "     CODCLI        NOMCLI SEXO\n",
       "0  CLI-0001   ROSA ELVIRA    F\n",
       "1  CLI-0003  MIGUEL ANGEL    M\n",
       "2  CLI-0004     ANA MARIA    F\n",
       "3  CLI-0013    BRIGGITTE     F\n",
       "4  CLI-0018   SAULO ANDRE    M\n",
       "5  CLI-0020        MONICA    F"
      ]
     },
     "execution_count": 325,
     "metadata": {},
     "output_type": "execute_result"
    }
   ],
   "source": [
    "dfexcel = pd.read_excel('./clientes.xlsx')\n",
    "dfexcel"
   ]
  },
  {
   "cell_type": "code",
   "execution_count": 326,
   "metadata": {},
   "outputs": [
    {
     "data": {
      "text/html": [
       "<div>\n",
       "<style scoped>\n",
       "    .dataframe tbody tr th:only-of-type {\n",
       "        vertical-align: middle;\n",
       "    }\n",
       "\n",
       "    .dataframe tbody tr th {\n",
       "        vertical-align: top;\n",
       "    }\n",
       "\n",
       "    .dataframe thead th {\n",
       "        text-align: right;\n",
       "    }\n",
       "</style>\n",
       "<table border=\"1\" class=\"dataframe\">\n",
       "  <thead>\n",
       "    <tr style=\"text-align: right;\">\n",
       "      <th></th>\n",
       "      <th>CODCLI</th>\n",
       "      <th>EUROS</th>\n",
       "      <th>MAX</th>\n",
       "    </tr>\n",
       "  </thead>\n",
       "  <tbody>\n",
       "    <tr>\n",
       "      <th>0</th>\n",
       "      <td>CLI-0001</td>\n",
       "      <td>89574</td>\n",
       "      <td>100000</td>\n",
       "    </tr>\n",
       "    <tr>\n",
       "      <th>1</th>\n",
       "      <td>CLI-0019</td>\n",
       "      <td>68752</td>\n",
       "      <td>80000</td>\n",
       "    </tr>\n",
       "    <tr>\n",
       "      <th>2</th>\n",
       "      <td>CLI-0020</td>\n",
       "      <td>63014</td>\n",
       "      <td>70000</td>\n",
       "    </tr>\n",
       "  </tbody>\n",
       "</table>\n",
       "</div>"
      ],
      "text/plain": [
       "     CODCLI  EUROS     MAX\n",
       "0  CLI-0001  89574  100000\n",
       "1  CLI-0019  68752   80000\n",
       "2  CLI-0020  63014   70000"
      ]
     },
     "execution_count": 326,
     "metadata": {},
     "output_type": "execute_result"
    }
   ],
   "source": [
    "dfexcel2 = pd.read_excel('./clientes.xlsx', sheet_name= \"Hoja2\")\n",
    "dfexcel2"
   ]
  },
  {
   "cell_type": "markdown",
   "metadata": {},
   "source": [
    "La funcion __pd.read_excel__ es tan flexible como la de CSV para ficheros de texto\n",
    "- se pueden __SALTAR CABECERAS__\n",
    "- __LEER UN NUMN DET DE FILAS__\n",
    "- __LEER SOLO ALGUNAS COLUMNAS__ \n",
    "-- Siempre depende de los argumentos que se utilicen\n",
    "\n",
    "1. Aplicamos una funcion de conversion (`funtitle`) a los valores contenidos en una columna de la 1 HOJA"
   ]
  },
  {
   "cell_type": "code",
   "execution_count": 327,
   "metadata": {},
   "outputs": [
    {
     "data": {
      "text/html": [
       "<div>\n",
       "<style scoped>\n",
       "    .dataframe tbody tr th:only-of-type {\n",
       "        vertical-align: middle;\n",
       "    }\n",
       "\n",
       "    .dataframe tbody tr th {\n",
       "        vertical-align: top;\n",
       "    }\n",
       "\n",
       "    .dataframe thead th {\n",
       "        text-align: right;\n",
       "    }\n",
       "</style>\n",
       "<table border=\"1\" class=\"dataframe\">\n",
       "  <thead>\n",
       "    <tr style=\"text-align: right;\">\n",
       "      <th></th>\n",
       "      <th>CODCLI</th>\n",
       "      <th>NOMCLI</th>\n",
       "      <th>SEXO</th>\n",
       "    </tr>\n",
       "  </thead>\n",
       "  <tbody>\n",
       "    <tr>\n",
       "      <th>0</th>\n",
       "      <td>CLI-0001</td>\n",
       "      <td>Rosa Elvira</td>\n",
       "      <td>F</td>\n",
       "    </tr>\n",
       "    <tr>\n",
       "      <th>1</th>\n",
       "      <td>CLI-0003</td>\n",
       "      <td>Miguel Angel</td>\n",
       "      <td>M</td>\n",
       "    </tr>\n",
       "    <tr>\n",
       "      <th>2</th>\n",
       "      <td>CLI-0004</td>\n",
       "      <td>Ana Maria</td>\n",
       "      <td>F</td>\n",
       "    </tr>\n",
       "    <tr>\n",
       "      <th>3</th>\n",
       "      <td>CLI-0013</td>\n",
       "      <td>Briggitte</td>\n",
       "      <td>F</td>\n",
       "    </tr>\n",
       "    <tr>\n",
       "      <th>4</th>\n",
       "      <td>CLI-0018</td>\n",
       "      <td>Saulo Andre</td>\n",
       "      <td>M</td>\n",
       "    </tr>\n",
       "    <tr>\n",
       "      <th>5</th>\n",
       "      <td>CLI-0020</td>\n",
       "      <td>Monica</td>\n",
       "      <td>F</td>\n",
       "    </tr>\n",
       "  </tbody>\n",
       "</table>\n",
       "</div>"
      ],
      "text/plain": [
       "     CODCLI        NOMCLI SEXO\n",
       "0  CLI-0001   Rosa Elvira    F\n",
       "1  CLI-0003  Miguel Angel    M\n",
       "2  CLI-0004     Ana Maria    F\n",
       "3  CLI-0013    Briggitte     F\n",
       "4  CLI-0018   Saulo Andre    M\n",
       "5  CLI-0020        Monica    F"
      ]
     },
     "execution_count": 327,
     "metadata": {},
     "output_type": "execute_result"
    }
   ],
   "source": [
    "# LEER FICHEROS EXCEL HACIENDO CONVERSION DE CONTENIDO O DATOS\n",
    "\n",
    "def funtitle(cadena):\n",
    "    return cadena.title()  # definimos una funcion con cadena titulo, lo ponemos como titulo conlas 1 en mayusc\n",
    "\n",
    "dfexcel = pd.read_excel('./clientes.xlsx',\n",
    "                       converters = {'NOMCLI': funtitle})\n",
    "dfexcel"
   ]
  },
  {
   "cell_type": "code",
   "execution_count": 328,
   "metadata": {},
   "outputs": [
    {
     "data": {
      "text/html": [
       "<div>\n",
       "<style scoped>\n",
       "    .dataframe tbody tr th:only-of-type {\n",
       "        vertical-align: middle;\n",
       "    }\n",
       "\n",
       "    .dataframe tbody tr th {\n",
       "        vertical-align: top;\n",
       "    }\n",
       "\n",
       "    .dataframe thead th {\n",
       "        text-align: right;\n",
       "    }\n",
       "</style>\n",
       "<table border=\"1\" class=\"dataframe\">\n",
       "  <thead>\n",
       "    <tr style=\"text-align: right;\">\n",
       "      <th></th>\n",
       "      <th>CODCLI</th>\n",
       "      <th>NOMCLI</th>\n",
       "      <th>SEXO</th>\n",
       "    </tr>\n",
       "  </thead>\n",
       "  <tbody>\n",
       "    <tr>\n",
       "      <th>0</th>\n",
       "      <td>CLI-0001</td>\n",
       "      <td>Rosa Elvira</td>\n",
       "      <td>F</td>\n",
       "    </tr>\n",
       "    <tr>\n",
       "      <th>1</th>\n",
       "      <td>CLI-0003</td>\n",
       "      <td>Miguel Angel</td>\n",
       "      <td>M</td>\n",
       "    </tr>\n",
       "    <tr>\n",
       "      <th>2</th>\n",
       "      <td>CLI-0004</td>\n",
       "      <td>Ana Maria</td>\n",
       "      <td>F</td>\n",
       "    </tr>\n",
       "    <tr>\n",
       "      <th>3</th>\n",
       "      <td>CLI-0013</td>\n",
       "      <td>Briggitte</td>\n",
       "      <td>F</td>\n",
       "    </tr>\n",
       "    <tr>\n",
       "      <th>4</th>\n",
       "      <td>CLI-0018</td>\n",
       "      <td>Saulo Andre</td>\n",
       "      <td>M</td>\n",
       "    </tr>\n",
       "    <tr>\n",
       "      <th>5</th>\n",
       "      <td>CLI-0020</td>\n",
       "      <td>Monica</td>\n",
       "      <td>F</td>\n",
       "    </tr>\n",
       "  </tbody>\n",
       "</table>\n",
       "</div>"
      ],
      "text/plain": [
       "     CODCLI        NOMCLI SEXO\n",
       "0  CLI-0001   Rosa Elvira    F\n",
       "1  CLI-0003  Miguel Angel    M\n",
       "2  CLI-0004     Ana Maria    F\n",
       "3  CLI-0013    Briggitte     F\n",
       "4  CLI-0018   Saulo Andre    M\n",
       "5  CLI-0020        Monica    F"
      ]
     },
     "execution_count": 328,
     "metadata": {},
     "output_type": "execute_result"
    }
   ],
   "source": [
    "# si hacemos eso utilizando funciones ANONIMAS o creadas por el usuario :: ES LO MISMO QUE ARRIBA\n",
    "dfexcel = pd.read_excel('./clientes.xlsx',\n",
    "                       converters = {'NOMCLI': lambda x: x.title()})\n",
    "# converters: recibe un valor como diccionario, con claves: columnas sobre las que se aplica la funcion\n",
    "    # el valor asociado a cada clave es la funcion a aplicar\n",
    "dfexcel"
   ]
  },
  {
   "cell_type": "markdown",
   "metadata": {},
   "source": [
    "El argumento (`na_values`) permite sustuir valores de la __hoja de calculo__ por Nan. \n",
    "- REcibe un diccionario : claves son COLUMNAS a las que se va a aplicar la sustitucio y el valor de cada clave es la LISTA de valores que han de ser sustituidos por NaN."
   ]
  },
  {
   "cell_type": "code",
   "execution_count": 329,
   "metadata": {},
   "outputs": [
    {
     "data": {
      "text/html": [
       "<div>\n",
       "<style scoped>\n",
       "    .dataframe tbody tr th:only-of-type {\n",
       "        vertical-align: middle;\n",
       "    }\n",
       "\n",
       "    .dataframe tbody tr th {\n",
       "        vertical-align: top;\n",
       "    }\n",
       "\n",
       "    .dataframe thead th {\n",
       "        text-align: right;\n",
       "    }\n",
       "</style>\n",
       "<table border=\"1\" class=\"dataframe\">\n",
       "  <thead>\n",
       "    <tr style=\"text-align: right;\">\n",
       "      <th></th>\n",
       "      <th>CODCLI</th>\n",
       "      <th>NOMCLI</th>\n",
       "      <th>SEXO</th>\n",
       "      <th>TLF</th>\n",
       "    </tr>\n",
       "  </thead>\n",
       "  <tbody>\n",
       "    <tr>\n",
       "      <th>0</th>\n",
       "      <td>CLI-0001</td>\n",
       "      <td>ROSA ELVIRA</td>\n",
       "      <td>F</td>\n",
       "      <td>7578</td>\n",
       "    </tr>\n",
       "    <tr>\n",
       "      <th>1</th>\n",
       "      <td>CLI-0003</td>\n",
       "      <td>MIGUEL ANGEL</td>\n",
       "      <td>NaN</td>\n",
       "      <td>-</td>\n",
       "    </tr>\n",
       "    <tr>\n",
       "      <th>2</th>\n",
       "      <td>CLI-0004</td>\n",
       "      <td>ANA MARIA</td>\n",
       "      <td>NaN</td>\n",
       "      <td>-</td>\n",
       "    </tr>\n",
       "    <tr>\n",
       "      <th>3</th>\n",
       "      <td>CLI-0013</td>\n",
       "      <td>BRIGGITTE</td>\n",
       "      <td>F</td>\n",
       "      <td>-</td>\n",
       "    </tr>\n",
       "    <tr>\n",
       "      <th>4</th>\n",
       "      <td>CLI-0018</td>\n",
       "      <td>SAULO ANDRE</td>\n",
       "      <td>M</td>\n",
       "      <td>-</td>\n",
       "    </tr>\n",
       "    <tr>\n",
       "      <th>5</th>\n",
       "      <td>CLI-0020</td>\n",
       "      <td>NaN</td>\n",
       "      <td>F</td>\n",
       "      <td>7600</td>\n",
       "    </tr>\n",
       "  </tbody>\n",
       "</table>\n",
       "</div>"
      ],
      "text/plain": [
       "     CODCLI        NOMCLI SEXO   TLF\n",
       "0  CLI-0001   ROSA ELVIRA    F  7578\n",
       "1  CLI-0003  MIGUEL ANGEL  NaN     -\n",
       "2  CLI-0004     ANA MARIA  NaN     -\n",
       "3  CLI-0013    BRIGGITTE     F     -\n",
       "4  CLI-0018   SAULO ANDRE    M     -\n",
       "5  CLI-0020           NaN    F  7600"
      ]
     },
     "execution_count": 329,
     "metadata": {},
     "output_type": "execute_result"
    }
   ],
   "source": [
    "# Valores Vacios en un EXCEL\n",
    "# La col TLF tiene VALOR  - en aquellas celdas donde no se conoce el dato y SEXO tiene celdas con valor DESCONOCIDO\n",
    "# Obse4rvar la col NOMCLI con CELDA VACIA\n",
    "\n",
    "dfexcel = pd.read_excel('./clientes1.xlsx',\n",
    "                       na_values = {'SEXO' : ['Desconocido'],\n",
    "                                   'TLF': ['_']})\n",
    "dfexcel\n",
    "\n",
    "# Las celdas vacias se transforman en NaN directamente en el DF"
   ]
  },
  {
   "cell_type": "markdown",
   "metadata": {},
   "source": [
    "##### Escritura de ficheros Excel: to_excel"
   ]
  },
  {
   "cell_type": "markdown",
   "metadata": {},
   "source": [
    "Pandas ofrece la opcion: \n",
    "- __ESCRIBIR los DATOS incluidos__ en el DF en una hoja de fichero Excel \n",
    "- to_excel (nombre del fichero)"
   ]
  },
  {
   "cell_type": "code",
   "execution_count": 335,
   "metadata": {},
   "outputs": [
    {
     "name": "stdout",
     "output_type": "stream",
     "text": [
      "Object `to_excel` not found.\n"
     ]
    }
   ],
   "source": [
    "dfexcel.to_excel('clientes4.xlsx', index=False)  # guardo esto como una nueva hoja de calculo exel con otro nombre\n",
    "dfexcel.to_excel('clientes4.xlsx', index=False, na_rep= 0)"
   ]
  },
  {
   "cell_type": "code",
   "execution_count": null,
   "metadata": {},
   "outputs": [],
   "source": [
    "# En el excel los valores NaN pasan a ser celdas VACIAS\n",
    "    # con na_rep se cambia este comportamiento!!!!!"
   ]
  },
  {
   "cell_type": "markdown",
   "metadata": {},
   "source": [
    "(`sheet name`) : asignar un nombre a la hoja de calculo creada dentro del fichero y el argumento (`columns`) para indicear el __subconjunto de columas__ que queremos meter en la hoja de calculo."
   ]
  },
  {
   "cell_type": "code",
   "execution_count": 336,
   "metadata": {},
   "outputs": [],
   "source": [
    "dfexcel.to_excel('clientes5.xlsx', index=False,\n",
    "                sheet_name= 'mis datos', # nombre de la hoja\n",
    "                columns = ['NOMCLI', 'SEXO'],\n",
    "                na_rep = '--')"
   ]
  },
  {
   "cell_type": "markdown",
   "metadata": {},
   "source": [
    "## MÓDULO MATPLOTLIB y NUMPY"
   ]
  },
  {
   "cell_type": "markdown",
   "metadata": {},
   "source": [
    "Librería __Matplotlib__ : visualizacion de datos (libreria grafica)\n",
    "Buscar más ejemplos en http://matplotlib.org/\n",
    "\n",
    "Más en: http://www.iac.es/sieinvens/python-course/source/matplotlib.html"
   ]
  },
  {
   "cell_type": "code",
   "execution_count": 337,
   "metadata": {},
   "outputs": [],
   "source": [
    "# La mayor parte de las funciones gráficas se encuentran en la sublibreria pyplot.\n",
    "import numpy as np  # trabajar con datos\n",
    "import matplotlib.pyplot as plt  # visualizacion de datos\n",
    "%matplotlib inline"
   ]
  },
  {
   "cell_type": "markdown",
   "metadata": {},
   "source": [
    "### La funcion PLOT\n",
    "\n",
    "- Para representar hay que __generar datos primero__ y luego __representarlos__"
   ]
  },
  {
   "cell_type": "code",
   "execution_count": 338,
   "metadata": {},
   "outputs": [],
   "source": [
    "# Generar datos \n",
    "x = np.linspace(start = 0, stop=2*np.pi, num=50)  # llamamos a la x y linspace devuelve un evenly intervalo de numeros\n",
    "y1 = np.sin(x)"
   ]
  },
  {
   "cell_type": "markdown",
   "metadata": {},
   "source": [
    "La funcion __plt.plot__ representa los datos en X y en Y. \n",
    "- Es un gráfico simple con poca informacion.\n",
    "- Luego: titulo de la grafica, etiquetas, leyenda..."
   ]
  },
  {
   "cell_type": "code",
   "execution_count": 339,
   "metadata": {},
   "outputs": [
    {
     "data": {
      "text/plain": [
       "[<matplotlib.lines.Line2D at 0x1a196ee208>]"
      ]
     },
     "execution_count": 339,
     "metadata": {},
     "output_type": "execute_result"
    },
    {
     "data": {
      "image/png": "[encoded data removed]",
      "text/plain": [
       "<Figure size 432x288 with 1 Axes>"
      ]
     },
     "metadata": {
      "needs_background": "light"
     },
     "output_type": "display_data"
    }
   ],
   "source": [
    "plt.plot(x, y1)  # graficamos la x y la y generada en datos"
   ]
  },
  {
   "cell_type": "markdown",
   "metadata": {},
   "source": [
    "Con la funcion __plt.subplots__ integramos __VARIOS GRAFICOS__ en la misma figura como definir las dimensiones de la figura."
   ]
  },
  {
   "cell_type": "code",
   "execution_count": 341,
   "metadata": {},
   "outputs": [
    {
     "data": {
      "image/png": "[encoded data removed]",
      "text/plain": [
       "<Figure size 720x360 with 2 Axes>"
      ]
     },
     "metadata": {
      "needs_background": "light"
     },
     "output_type": "display_data"
    }
   ],
   "source": [
    "# Generamos datos\n",
    "y1 = np.sin(x)\n",
    "y2 = np.cos(x)\n",
    "\n",
    "# Representacion gráfica de los datos\n",
    "fig, (ax1, ax2) = plt.subplots(nrows=1, ncols=2, figsize = (10, 5))\n",
    "ax1.plot(x, y1)\n",
    "ax2.plot(x, y2);"
   ]
  },
  {
   "cell_type": "code",
   "execution_count": 346,
   "metadata": {},
   "outputs": [
    {
     "data": {
      "image/png": "[encoded data removed]",
      "text/plain": [
       "<Figure size 720x360 with 1 Axes>"
      ]
     },
     "metadata": {
      "needs_background": "light"
     },
     "output_type": "display_data"
    }
   ],
   "source": [
    "# Representar 2 graficos en la misma figura o grafico\n",
    "    # si queremos en mismo grafico \n",
    "fig, ax = plt.subplots(nrows = 1 , figsize =(10,5))\n",
    "ax.plot(x, y1)\n",
    "ax.plot(x, y2);  # definimos solo un ax en vez de ax1 y ax2 para que este todo en la misma figura"
   ]
  },
  {
   "cell_type": "markdown",
   "metadata": {},
   "source": [
    "### Opciones de estilo"
   ]
  },
  {
   "cell_type": "markdown",
   "metadata": {},
   "source": [
    "El estilo __por defecto__ de  las graficas es muy simple, pero en Matplotlib se pueden insertar opciones que lo enriquece."
   ]
  },
  {
   "cell_type": "markdown",
   "metadata": {},
   "source": [
    "##### Pintar cuadricula"
   ]
  },
  {
   "cell_type": "code",
   "execution_count": 349,
   "metadata": {},
   "outputs": [
    {
     "data": {
      "image/png": "[encoded data removed]",
      "text/plain": [
       "<Figure size 720x360 with 1 Axes>"
      ]
     },
     "metadata": {
      "needs_background": "light"
     },
     "output_type": "display_data"
    }
   ],
   "source": [
    "fig, ax = plt.subplots(1, figsize = (10, 5))\n",
    "\n",
    "# Opcion estilo: Pintar una CUADRICULA en la grafica\n",
    "ax.grid(True)  # Esto pinta CUADRICULAS\n",
    "\n",
    "ax.plot(x, y1)\n",
    "ax.plot(x, y2);  # IMPORTANTE: poner un punto y coma al final"
   ]
  },
  {
   "cell_type": "markdown",
   "metadata": {},
   "source": [
    "El __METODO AXIS__ devuelve 4 valores que se corresponden con los valores __LIMITES__ de las variables x y la variable z."
   ]
  },
  {
   "cell_type": "markdown",
   "metadata": {},
   "source": [
    "##### Añadiendo etiquetas al gráfico"
   ]
  },
  {
   "cell_type": "code",
   "execution_count": 351,
   "metadata": {},
   "outputs": [
    {
     "data": {
      "image/png": "[encoded data removed]",
      "text/plain": [
       "<Figure size 720x360 with 1 Axes>"
      ]
     },
     "metadata": {
      "needs_background": "light"
     },
     "output_type": "display_data"
    }
   ],
   "source": [
    "# Añadir un titulo y la leyenda (explica la naturaleza de los ejes)\n",
    "\n",
    "fig, ax = plt.subplots(1, figsize = (10, 5))\n",
    "ax.grid(True)  # Esto pinta CUADRICULAS en la grafica\n",
    "\n",
    "ax.plot(x, y1, label = 'seno')   # nombre de la linea que representa al seno\n",
    "ax.plot(x, y2, label = 'coseno')  # nombre de la linea que representa al coseno\n",
    "\n",
    "ax.title.set_text(\"Gráficos con MatPlotLib\")  # titulo del grafico\n",
    "ax.title.set_fontname(\"Times New Roman\")  # tipo de letra \n",
    "ax.title.set_fontsize(20)\n",
    "\n",
    "ax.legend(loc = 3); # Para añadir leyendas utilizamos el metodo legend (su localizacion se puede configurar)"
   ]
  },
  {
   "cell_type": "markdown",
   "metadata": {},
   "source": [
    "__LOCALIZACION DE LA LEYENDA __ \n",
    " - 0(best possible), \n",
    " - 1(upper right)\n",
    " - 2 (upper left)\n",
    " - 3 (lower left)\n",
    " - 4 (lower right)\n",
    " - 5 (right)\n",
    " - 6 (center left)\n",
    " - 7 (center right)\n",
    " - 8 (lower center)\n",
    " - 9 (upper center)\n",
    " - 10 (center)"
   ]
  },
  {
   "cell_type": "code",
   "execution_count": 354,
   "metadata": {},
   "outputs": [
    {
     "data": {
      "image/png": "[encoded data removed]",
      "text/plain": [
       "<Figure size 720x360 with 1 Axes>"
      ]
     },
     "metadata": {
      "needs_background": "light"
     },
     "output_type": "display_data"
    }
   ],
   "source": [
    "# Añadir el nombre a cada uno de sus ejes\n",
    "\n",
    "fig, ax = plt.subplots(1, figsize = (10, 5))\n",
    "ax.grid(True)  # Esto pinta CUADRICULAS en la grafica\n",
    "\n",
    "ax.plot(x, y1, label = 'seno')   # nombre de la linea que representa al seno\n",
    "ax.plot(x, y2, label = 'coseno')  # nombre de la linea que representa al coseno\n",
    "\n",
    "# Escribimos informacion de la naturaleza de los ejes \n",
    "ax.axes.xaxis.set_label_text(\"X Axis\", fontdict={'size': 15, 'color': 'darkred'})\n",
    "ax.axes.yaxis.set_label_text(\"Y Axis\", fontdict={'size' : 15, 'color': 'green'})\n",
    "\n",
    "# Titulo Inicial del Grafico\n",
    "ax.title.set_text(\"Gráficos con MatPlotLib\")  # titulo del grafico\n",
    "ax.title.set_fontname(\"Times New Roman\")  # tipo de letra \n",
    "ax.title.set_fontsize(20)\n",
    "\n",
    "# Leyenda (localizacion leyenda arriba)\n",
    "ax.legend(loc = 3); "
   ]
  },
  {
   "cell_type": "markdown",
   "metadata": {},
   "source": [
    "##### Cambiando el estilo de la presentacion\n",
    "- Por defecto, el metodo __plot__ representa DATOS mediante una linea continua de color azul, pero queremos representar los datos discretos mediante puntos, cambiar opciones de estilo"
   ]
  },
  {
   "cell_type": "code",
   "execution_count": 357,
   "metadata": {},
   "outputs": [
    {
     "data": {
      "image/png": "[encoded data removed]",
      "text/plain": [
       "<Figure size 720x360 with 1 Axes>"
      ]
     },
     "metadata": {
      "needs_background": "light"
     },
     "output_type": "display_data"
    }
   ],
   "source": [
    " # Cambiar el punteado del grafico: de linea continua a puntos y lineas separadas\n",
    "    \n",
    "fig, ax = plt.subplots(1, figsize = (10, 5))\n",
    "ax.grid(True)  # Esto pinta CUADRICULAS en la grafica\n",
    "\n",
    "# Pintar los datos con puntos: ('o') y rojos ('r')\n",
    "ax.plot(x, y1, 'ro', label = 'seno')   # nombre de la linea que representa al seno\n",
    "ax.plot(x, y2, 'c--' ,label = 'coseno')  # nombre de la linea que representa al coseno\n",
    "\n",
    "# Escribimos informacion de la naturaleza de los ejes \n",
    "ax.axes.xaxis.set_label_text(\"X Axis\", fontdict={'size': 15, 'color': 'darkred'})\n",
    "ax.axes.yaxis.set_label_text(\"Y Axis\", fontdict={'size' : 15, 'color': 'green'})\n",
    "\n",
    "# Titulo Inicial del Grafico\n",
    "ax.title.set_text(\"Gráficos con MatPlotLib\")  # titulo del grafico\n",
    "ax.title.set_fontname(\"Times New Roman\")  # tipo de letra \n",
    "ax.title.set_fontsize(20)\n",
    "\n",
    "# Leyenda (localizacion leyenda arriba)\n",
    "ax.legend(loc = 3); "
   ]
  },
  {
   "cell_type": "markdown",
   "metadata": {},
   "source": [
    "__COLORES LINEAS__\n",
    "b : azul, g: verde, r: rojo, c : cyan, m: magenta, y: amarillo, k : negro, w: blanco\n",
    "\n",
    "\n",
    "__CARACTER O ESTILO DE LAS LINEAS__\n",
    "1. -. (dash dot)\n",
    "2. -- (dashed line)\n",
    "3. o (circulo)\n",
    "4. v : triangle down\n",
    "5. > triangle right\n",
    "6. < triangle left\n",
    "7. 1 tri down\n",
    "8. 2 tri up\n",
    "9. 3 tri left\n",
    "10. 4 tri right\n",
    "11. 8 octagon\n",
    "12. s square\n",
    "13. p pentagon\n",
    "14. * star\n",
    "15. h :hexagon1\n",
    "16. H: hexagon2\n",
    "17. + plus\n",
    "18. x : x\n",
    "19. D: diamond\n",
    "20. d: thin diamond"
   ]
  },
  {
   "cell_type": "markdown",
   "metadata": {},
   "source": [
    "##### Representacion de 2 variables : 2 columnas de un NumPy Array\n",
    "- Es posible pasar como parametro al metodo plot un array de 2 dimensiones \n",
    "- Uso de la funcion __standard_normal__ del submodulo random de numpy"
   ]
  },
  {
   "cell_type": "code",
   "execution_count": 360,
   "metadata": {},
   "outputs": [
    {
     "data": {
      "text/plain": [
       "array([[-0.98958516,  1.25596585],\n",
       "       [-1.17184061,  1.18825696],\n",
       "       [-0.35475   ,  1.12665819],\n",
       "       [-0.77615632,  2.5380832 ],\n",
       "       [-0.58195107,  3.19190422],\n",
       "       [-0.06634581,  2.97620044],\n",
       "       [ 0.31205819,  4.10614017],\n",
       "       [-0.5261126 ,  3.09929301],\n",
       "       [-0.65945115,  2.0283189 ],\n",
       "       [-2.07507607,  1.56867633],\n",
       "       [-2.97555009,  1.25282509],\n",
       "       [-1.2332017 ,  2.02673914],\n",
       "       [-1.80225517, -0.20696469],\n",
       "       [-1.30891557,  1.20908928],\n",
       "       [-0.24483063,  1.95238555],\n",
       "       [-1.16069239,  1.77663389],\n",
       "       [-1.17072378,  0.08485356],\n",
       "       [-0.91351217,  1.18646802],\n",
       "       [-2.63613595,  2.48701183],\n",
       "       [ 0.00773078,  1.84266894]])"
      ]
     },
     "execution_count": 360,
     "metadata": {},
     "output_type": "execute_result"
    }
   ],
   "source": [
    "# Generamos 40 numeros aleatorios distribuidos en 20 filas y 2 columnas\n",
    "x = np.arange(20)\n",
    "y = np.random.standard_normal((20, 2))  # 20 filas y 2 columnas = 40 numeros\n",
    "m = y.cumsum(axis = 0)  # Calculo de la suma acumulada de y por COLUMNAS\n",
    "m  # un array de 40 numeros aleatorios "
   ]
  },
  {
   "cell_type": "code",
   "execution_count": 361,
   "metadata": {},
   "outputs": [
    {
     "data": {
      "image/png": "[encoded data removed]",
      "text/plain": [
       "<Figure size 720x360 with 1 Axes>"
      ]
     },
     "metadata": {
      "needs_background": "light"
     },
     "output_type": "display_data"
    }
   ],
   "source": [
    "# Invocacion del metodo plot con el array de 2 dimensiones \n",
    "\n",
    "fig, ax = plt.subplots(1, figsize = (10, 5))  # dibujamos la grafica\n",
    "\n",
    "ax.plot(m)  # graficamos el array\n",
    "\n",
    "ax.title.set_text(\"Suma acumulada (en 2D)\")  # Las graficas cada vez que ejecutemos arriba son dif al ser aleatorios"
   ]
  },
  {
   "cell_type": "markdown",
   "metadata": {},
   "source": [
    "### Subgraficos"
   ]
  },
  {
   "cell_type": "markdown",
   "metadata": {},
   "source": [
    "Cuando hay conjuntos de datos en __diferentes escalas__ entonces al representar graficamente se __pierde informacion visual__. Mostrado enel ejemplo:"
   ]
  },
  {
   "cell_type": "code",
   "execution_count": 362,
   "metadata": {},
   "outputs": [
    {
     "data": {
      "text/plain": [
       "array([[-9.89585164e+01,  1.25596585e+00],\n",
       "       [-1.17184061e+02,  1.18825696e+00],\n",
       "       [-3.54750003e+01,  1.12665819e+00],\n",
       "       [-7.76156315e+01,  2.53808320e+00],\n",
       "       [-5.81951075e+01,  3.19190422e+00],\n",
       "       [-6.63458108e+00,  2.97620044e+00],\n",
       "       [ 3.12058186e+01,  4.10614017e+00],\n",
       "       [-5.26112600e+01,  3.09929301e+00],\n",
       "       [-6.59451152e+01,  2.02831890e+00],\n",
       "       [-2.07507607e+02,  1.56867633e+00],\n",
       "       [-2.97555009e+02,  1.25282509e+00],\n",
       "       [-1.23320170e+02,  2.02673914e+00],\n",
       "       [-1.80225517e+02, -2.06964687e-01],\n",
       "       [-1.30891557e+02,  1.20908928e+00],\n",
       "       [-2.44830626e+01,  1.95238555e+00],\n",
       "       [-1.16069239e+02,  1.77663389e+00],\n",
       "       [-1.17072378e+02,  8.48535557e-02],\n",
       "       [-9.13512172e+01,  1.18646802e+00],\n",
       "       [-2.63613595e+02,  2.48701183e+00],\n",
       "       [ 7.73077540e-01,  1.84266894e+00]])"
      ]
     },
     "execution_count": 362,
     "metadata": {},
     "output_type": "execute_result"
    }
   ],
   "source": [
    "# Vamos a MODIFICAR el ARRAY M\n",
    "m[:, 0] = m[:,0] * 100  # de todas las filas y la primera columna multiplicamos por 100\n",
    "m   # son dos escalas DIFERENTES DIFICILES DE GRAFICAR"
   ]
  },
  {
   "cell_type": "code",
   "execution_count": 364,
   "metadata": {},
   "outputs": [
    {
     "data": {
      "image/png": "[encoded data removed]",
      "text/plain": [
       "<Figure size 720x360 with 1 Axes>"
      ]
     },
     "metadata": {
      "needs_background": "light"
     },
     "output_type": "display_data"
    }
   ],
   "source": [
    "fig, ax = plt.subplots(1, figsize = (10, 5))  # dibujamos la grafica\n",
    "\n",
    "ax.plot(m[:, 0], label ='Columna 0')  # graficamos el array\n",
    "ax.plot(m[:, 1], label = 'Columna 1')\n",
    "\n",
    "plt.grid(True)\n",
    "ax.title.set_text(\"Diferentes escalas\") \n",
    "plt.xlabel('Eje X')\n",
    "plt.ylabel('Eje y')\n",
    "\n",
    "ax.legend(loc = 4);"
   ]
  },
  {
   "cell_type": "markdown",
   "metadata": {},
   "source": [
    "La columna 1 ha perdido __todo el significado visual__ ya quee se han representado en otra escala los de la columna 0.\n",
    "\n",
    "> SOLUCIÓN: representar los dos conjuntos de datos __por separado__\n",
    "\n",
    "1. Creamos una figura y 2 graficos con __plt.subplots__\n",
    "2. Argumentos __nrows y ncols__ con valores 2 y 1 respectivamente\n",
    "3. La funcion __plt.subplots__ devuelve una __tupla con los graficos ax1 y ax2__\n",
    "4. Configuramos el 1 grafico dentro de la figura: __ax1__\n",
    "5. Configuramos el 2 grafico dentro de la figura: __ax2__\n",
    "- Añadimos las opciones que queramos a cada subgrafico\n"
   ]
  },
  {
   "cell_type": "code",
   "execution_count": 372,
   "metadata": {},
   "outputs": [
    {
     "data": {
      "image/png": "[encoded data removed]",
      "text/plain": [
       "<Figure size 720x360 with 2 Axes>"
      ]
     },
     "metadata": {
      "needs_background": "light"
     },
     "output_type": "display_data"
    }
   ],
   "source": [
    "# Cuando hay problema de escala, representar por SEPARADO\n",
    "fig, (ax1, ax2) = plt.subplots(nrows=2, ncols= 1, figsize = (10, 5))  # 1 figura con 2 graficos\n",
    "\n",
    "# Configurar el PRIMER GRAFICO dentro de la FIGURA\n",
    "ax1.plot(m[:, 0], 'm', label ='Columna 0')  # graficamos el array color magenta\n",
    "ax1.set_title('Diferentes Escalas')\n",
    "ax1.grid(True)\n",
    "ax1.set_ylabel('Eje y: escala 2')\n",
    "ax1.legend(loc = 3)\n",
    "\n",
    "\n",
    "# Configurar el SEGUNDO GRAFICO dentro de la FIGURA\n",
    "ax2.plot(m[:, 1], 'c' , label ='Columna 1')  # graficamos el array color cyan\n",
    "ax2.grid(True)\n",
    "ax2.set_xlabel('Eje x')\n",
    "ax2.set_ylabel('Eje y: escala 1')\n",
    "ax2.legend(loc = 2);\n",
    "\n",
    "# Representar los datos con distintos graficos cuando hay problemas de escala"
   ]
  },
  {
   "cell_type": "markdown",
   "metadata": {},
   "source": [
    "2 subgraficos: \n",
    "1. En el segundo: __DIAGRAMA DE BARRAS__ con __bar__ en lugar de __plot__\n"
   ]
  },
  {
   "cell_type": "code",
   "execution_count": 374,
   "metadata": {},
   "outputs": [
    {
     "data": {
      "image/png": "[encoded data removed]",
      "text/plain": [
       "<Figure size 720x360 with 2 Axes>"
      ]
     },
     "metadata": {
      "needs_background": "light"
     },
     "output_type": "display_data"
    }
   ],
   "source": [
    "# Cuando hay problema de escala, representar por SEPARADO\n",
    "fig, (ax1, ax2) = plt.subplots(nrows=2, ncols= 1, figsize = (10, 5))  # 1 figura con 2 graficos\n",
    "\n",
    "# Configurar el PRIMER GRAFICO dentro de la FIGURA\n",
    "ax1.plot(m[:, 0], 'm', label ='rosa')  # graficamos el array color magenta\n",
    "ax1.plot(m[:, 0], 'bo', label ='puntitos')\n",
    "ax1.set_title('Diferentes Escalas')\n",
    "ax1.grid(True)\n",
    "ax1.set_xlabel('Eje x')\n",
    "ax1.set_ylabel('Eje y: escala 2')\n",
    "ax1.legend(loc = 3)\n",
    "\n",
    "\n",
    "# Configurar el SEGUNDO GRAFICO dentro de la FIGURA\n",
    "ax2.bar(x, m[:, 1], label ='Barritas')  # graficamos el array color cyan\n",
    "ax2.grid(True)\n",
    "ax2.set_xlabel('Eje x')\n",
    "ax2.set_ylabel('Eje y: escala 1')\n",
    "ax2.legend(loc = 2);"
   ]
  },
  {
   "cell_type": "markdown",
   "metadata": {},
   "source": [
    "La llamada al metodo __BAR__ tiene como argumentos:\n",
    "1. __x__ : lista de 20 enteros [0,1,...19]\n",
    "2. m[;,1] : 2 columna de m (array de tamaño 20)\n",
    "3. label = 'barritas' : etiqueta\n",
    "\n",
    "La funcion __bar__ tienen MAS ARGUMENTOS opcionales que permiten, cambiar el grosor de las barrs, el color de las barras...."
   ]
  },
  {
   "cell_type": "markdown",
   "metadata": {},
   "source": [
    "### Otros estilos de graficos"
   ]
  },
  {
   "cell_type": "markdown",
   "metadata": {},
   "source": [
    "Con datos financieros se utilizan __graficos de puntos y de lineas__ como hemos visto pero tambien otro tipo de representaciones\n",
    "\n",
    "##### Diagramas de dispersion(scatter):\n",
    "- Utilizado para observar la __relacion entre 2 variables__"
   ]
  },
  {
   "cell_type": "code",
   "execution_count": 376,
   "metadata": {},
   "outputs": [
    {
     "data": {
      "text/plain": [
       "array([[-0.84142738,  1.128252  ],\n",
       "       [-1.18319938,  0.76647638],\n",
       "       [-1.90622516, -0.06165632],\n",
       "       [-0.23246457,  0.13419619],\n",
       "       [-1.84209422, -1.11195471],\n",
       "       [-2.58658627, -2.04535988],\n",
       "       [-1.85952117, -0.56202906],\n",
       "       [-1.79634126,  1.49176464],\n",
       "       [-1.21848609,  2.56026389],\n",
       "       [-1.93571728,  1.83844964]])"
      ]
     },
     "execution_count": 376,
     "metadata": {},
     "output_type": "execute_result"
    }
   ],
   "source": [
    "# Generar datos de forma aleatoria\n",
    "\n",
    "datos = np.random.standard_normal((500, 2))  # 500 filas y 2 columnas (2 variables)\n",
    "datos = datos.cumsum(axis = 0)  # suma acumulada de las filas \n",
    "\n",
    "datos[:10]  # mostramos las 10 primeras filas\n",
    "# tambien con datos.head(10)"
   ]
  },
  {
   "cell_type": "code",
   "execution_count": 377,
   "metadata": {},
   "outputs": [
    {
     "data": {
      "image/png": "[encoded data removed]",
      "text/plain": [
       "<Figure size 720x360 with 1 Axes>"
      ]
     },
     "metadata": {
      "needs_background": "light"
     },
     "output_type": "display_data"
    }
   ],
   "source": [
    "# Creamos un diagrama de dispersion con scatter\n",
    "fig, ax1 = plt.subplots(nrows=1, figsize = (10, 5)) \n",
    "variable1=datos[:,0]  # con los datos de la primera col\n",
    "variable2=datos[:,1]\n",
    "\n",
    "ax1.scatter(variable1, variable2, marker='o')  # puntitos azules\n",
    "ax1.set_title('Diagrama de dispersion')\n",
    "ax1.set_xlabel('Variable 1')\n",
    "ax1.set_ylabel('Variable 2');"
   ]
  },
  {
   "cell_type": "markdown",
   "metadata": {},
   "source": [
    "Con el metodo __scatter__ se puede añadir una __TERCERA DIMENSION__ que sera representada mediante distintos colores.\n",
    "Ej :Array de 500 nums enteros aleatorios en el intervalo [0,3)\n",
    "- __funcion randint__ del modulo random de Numpy\n",
    "    - La funcion __plt.colorbar: representar la barra de colores utilizada"
   ]
  },
  {
   "cell_type": "code",
   "execution_count": 378,
   "metadata": {},
   "outputs": [
    {
     "data": {
      "image/png": "[encoded data removed]",
      "text/plain": [
       "<Figure size 720x360 with 2 Axes>"
      ]
     },
     "metadata": {
      "needs_background": "light"
     },
     "output_type": "display_data"
    }
   ],
   "source": [
    "tercera_variable = np.random.randint(0,3, len(datos))\n",
    "\n",
    "fig, ax1 = plt.subplots(nrows=1, figsize = (10, 5))  \n",
    "sc= ax1.scatter(variable1, variable2, c = tercera_variable, marker='o')  # puntitos azules\n",
    "ax1.set_title('Diagrama de dispersion con barra de colores')\n",
    "ax1.set_xlabel('Variable 1')\n",
    "ax1.set_ylabel('Variable 2')\n",
    "plt.colorbar(sc);"
   ]
  },
  {
   "cell_type": "markdown",
   "metadata": {},
   "source": [
    "### Histogramas"
   ]
  },
  {
   "cell_type": "markdown",
   "metadata": {},
   "source": [
    "Permite representar de forma grafica una __VARIABLE__ en forma de barras\n",
    "- Cada barra es proporcional a la frecuencia de los datos representados\n",
    "\n",
    "- funcion __hist__"
   ]
  },
  {
   "cell_type": "code",
   "execution_count": 379,
   "metadata": {},
   "outputs": [],
   "source": [
    "# Generamos datos de forma aleatoria\n",
    "\n",
    "datos = np.random.standard_normal((100, 2))  # 100 filas y 2 columnas\n",
    "datos = abs(datos * 10)  # valor absoluto de los datos aleatorios"
   ]
  },
  {
   "cell_type": "code",
   "execution_count": 381,
   "metadata": {},
   "outputs": [
    {
     "data": {
      "image/png": "[encoded data removed]",
      "text/plain": [
       "<Figure size 720x360 with 1 Axes>"
      ]
     },
     "metadata": {
      "needs_background": "light"
     },
     "output_type": "display_data"
    }
   ],
   "source": [
    "# Graficamos un histograma \n",
    "fig, ax1 = plt.subplots(nrows=1, figsize = (10, 5))  \n",
    "\n",
    "# Representamos UNA SOLA VARIABLE en el histograma\n",
    "ax1.hist(datos[:,1], label = ['columna 1'], bins  =25)\n",
    "ax1.legend(loc = 0)  # leyenda del histograma\n",
    "\n",
    "ax1.set_title('Histograma')  # titulo del histograma \n",
    "ax1.set_xlabel('Valores')\n",
    "ax1.set_ylabel('Frecuencia');"
   ]
  },
  {
   "cell_type": "markdown",
   "metadata": {},
   "source": [
    "El metodo __hist__ soporta muchas opciones de configuracion\n",
    "- El parametro __bins__ permite indicar el NUMERO DE BARRAS A REPRESENTAR : 25 barras"
   ]
  },
  {
   "cell_type": "code",
   "execution_count": 383,
   "metadata": {},
   "outputs": [
    {
     "data": {
      "image/png": "[encoded data removed]",
      "text/plain": [
       "<Figure size 720x360 with 1 Axes>"
      ]
     },
     "metadata": {
      "needs_background": "light"
     },
     "output_type": "display_data"
    }
   ],
   "source": [
    "# Optamos por 2 VARIABLES en la misma figura cada una con un label\n",
    "\n",
    "# Graficamos un histograma \n",
    "fig, ax1 = plt.subplots(nrows=1, figsize = (10, 5))  \n",
    "\n",
    "# Representamos UNA SOLA VARIABLE en el histograma\n",
    "ax1.hist(datos, label = ['columna 0', 'columna 1'], bins  =25)  # DIF: cojo todos los datos y pongo otro label\n",
    "ax1.legend(loc = 0)  # leyenda del histograma\n",
    "\n",
    "ax1.set_title('Histograma')  # titulo del histograma \n",
    "ax1.set_xlabel('Valores')\n",
    "ax1.set_ylabel('Frecuencia');"
   ]
  },
  {
   "cell_type": "code",
   "execution_count": 386,
   "metadata": {},
   "outputs": [
    {
     "data": {
      "image/png": "[encoded data removed]",
      "text/plain": [
       "<Figure size 720x360 with 1 Axes>"
      ]
     },
     "metadata": {
      "needs_background": "light"
     },
     "output_type": "display_data"
    }
   ],
   "source": [
    "# HISTOGRAMA con barras apiladas en lugar de en PARALELO\n",
    "\n",
    "# Graficamos un histograma \n",
    "fig, ax1 = plt.subplots(nrows=1, figsize = (10, 5))  \n",
    "\n",
    "# Representamos UNA SOLA VARIABLE en el histograma\n",
    "ax1.hist(datos,\n",
    "         label = ['columna 0', 'columna 1'],\n",
    "         color = ['m', 'g'],  # COLORES A LAS VARIABLES\n",
    "         stacked = True,  # VARIABLES APILADAS\n",
    "         bins  =25)\n",
    "ax1.legend(loc = 0)  # leyenda del histograma\n",
    "\n",
    "ax1.set_title('Histograma vertical apilado')  # titulo del histograma \n",
    "ax1.set_xlabel('Valores')\n",
    "ax1.set_ylabel('Frecuencia');"
   ]
  },
  {
   "cell_type": "code",
   "execution_count": 387,
   "metadata": {},
   "outputs": [
    {
     "data": {
      "image/png": "[encoded data removed]",
      "text/plain": [
       "<Figure size 720x360 with 1 Axes>"
      ]
     },
     "metadata": {
      "needs_background": "light"
     },
     "output_type": "display_data"
    }
   ],
   "source": [
    "# MISMOS DATOS APILADOS PERO EN HORIZONTAL\n",
    "\n",
    "# Graficamos un histograma \n",
    "fig, ax1 = plt.subplots(nrows=1, figsize = (10, 5))  \n",
    "\n",
    "# Representamos UNA SOLA VARIABLE en el histograma\n",
    "ax1.hist(datos,\n",
    "         label = ['columna 0', 'columna 1'],\n",
    "         color = ['m', 'g'],  # COLORES A LAS VARIABLES\n",
    "         stacked = True,  # VARIABLES APILADAS\n",
    "         rwidth = 1,\n",
    "         bins  =25,\n",
    "         orientation = 'horizontal')\n",
    "ax1.legend(loc = 0)  # leyenda del histograma\n",
    "\n",
    "ax1.set_title('Histograma horizontal apilado')  # titulo del histograma \n",
    "ax1.set_xlabel('Valores')\n",
    "ax1.set_ylabel('Frecuencia');\n"
   ]
  },
  {
   "cell_type": "markdown",
   "metadata": {},
   "source": [
    "### Diagramas de caja o BOXPLOT"
   ]
  },
  {
   "cell_type": "markdown",
   "metadata": {},
   "source": [
    "Es un gráfico (basado en __CUARTILES__ ) mediante el cual se visualiza una __VARIABLE NUMERICA__\n",
    "- Permite visualizar mucha informacion (distribucion de la muestra, posicion de la mediana, el grado de asimetria, max y min...) \n",
    "- Se hace mediante el __,metodo boxplot__"
   ]
  },
  {
   "cell_type": "code",
   "execution_count": 388,
   "metadata": {},
   "outputs": [
    {
     "data": {
      "image/png": "[encoded data removed]",
      "text/plain": [
       "<Figure size 720x360 with 1 Axes>"
      ]
     },
     "metadata": {
      "needs_background": "light"
     },
     "output_type": "display_data"
    }
   ],
   "source": [
    "# BOXPLOT\n",
    "\n",
    "fig, ax1 = plt.subplots(nrows=1, figsize = (10, 5))  \n",
    "\n",
    "caja = ax1.boxplot(datos[:,1], labels= ['col 1'])\n",
    "\n",
    "ax1.set_title('Diagrama de Caja o Bigotes')\n",
    "ax1.set_xlabel('Representacion de la columna 1 del array datos')\n",
    "ax1.set_ylabel('Valores');"
   ]
  },
  {
   "cell_type": "code",
   "execution_count": 389,
   "metadata": {},
   "outputs": [
    {
     "data": {
      "text/plain": [
       "(array([1.]), array([32.61184829]))"
      ]
     },
     "execution_count": 389,
     "metadata": {},
     "output_type": "execute_result"
    }
   ],
   "source": [
    "o = caja['fliers'][0]\n",
    "o.get_data()  # Esto es para ver donde estan los outliers en un boxplot"
   ]
  },
  {
   "cell_type": "markdown",
   "metadata": {},
   "source": [
    "### Guardar gráficos"
   ]
  },
  {
   "cell_type": "markdown",
   "metadata": {},
   "source": [
    "Con el metodo __savefig__ guardamos los graficos en dif formatos: pdf, png, ps, etc..."
   ]
  },
  {
   "cell_type": "code",
   "execution_count": 390,
   "metadata": {},
   "outputs": [
    {
     "data": {
      "image/png": "[encoded data removed]",
      "text/plain": [
       "<Figure size 720x360 with 1 Axes>"
      ]
     },
     "metadata": {
      "needs_background": "light"
     },
     "output_type": "display_data"
    }
   ],
   "source": [
    "fig, ax = plt.subplots(nrows = 1, figsize = (10, 5))\n",
    "\n",
    "ax.boxplot(datos)   # representamos las 2 variables (las 2 columnas)\n",
    "\n",
    "ax.set_title('BoxPlot')\n",
    "ax.set_xticklabels(['Columna 0', 'Columna 1']);\n",
    "\n",
    "fig.savefig('mi_boxplot.pdf')\n",
    "fig.savefig('mi_boxplot.png')"
   ]
  },
  {
   "cell_type": "code",
   "execution_count": null,
   "metadata": {},
   "outputs": [],
   "source": [
    "--- FIN DE PARTE 2---"
   ]
  },
  {
   "cell_type": "markdown",
   "metadata": {},
   "source": [
    "# Ejercicios"
   ]
  },
  {
   "cell_type": "code",
   "execution_count": null,
   "metadata": {},
   "outputs": [],
   "source": []
  }
 ],
 "metadata": {
  "kernelspec": {
   "display_name": "Python 3",
   "language": "python",
   "name": "python3"
  },
  "language_info": {
   "codemirror_mode": {
    "name": "ipython",
    "version": 3
   },
   "file_extension": ".py",
   "mimetype": "text/x-python",
   "name": "python",
   "nbconvert_exporter": "python",
   "pygments_lexer": "ipython3",
   "version": "3.7.0"
  },
  "nbTranslate": {
   "displayLangs": [
    "*"
   ],
   "hotkey": "alt-t",
   "langInMainMenu": true,
   "sourceLang": "en",
   "targetLang": "fr",
   "useGoogleTranslate": true
  },
  "toc": {
   "base_numbering": 1,
   "nav_menu": {},
   "number_sections": true,
   "sideBar": true,
   "skip_h1_title": false,
   "title_cell": "Table of Contents",
   "title_sidebar": "Contents",
   "toc_cell": false,
   "toc_position": {},
   "toc_section_display": true,
   "toc_window_display": false
  },
  "varInspector": {
   "cols": {
    "lenName": 16,
    "lenType": 16,
    "lenVar": 40
   },
   "kernels_config": {
    "python": {
     "delete_cmd_postfix": "",
     "delete_cmd_prefix": "del ",
     "library": "var_list.py",
     "varRefreshCmd": "print(var_dic_list())"
    },
    "r": {
     "delete_cmd_postfix": ") ",
     "delete_cmd_prefix": "rm(",
     "library": "var_list.r",
     "varRefreshCmd": "cat(var_dic_list()) "
    }
   },
   "types_to_exclude": [
    "module",
    "function",
    "builtin_function_or_method",
    "instance",
    "_Feature"
   ],
   "window_display": false
  }
 },
 "nbformat": 4,
 "nbformat_minor": 2
}
